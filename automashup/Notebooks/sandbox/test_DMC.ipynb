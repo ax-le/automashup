{
 "cells": [
  {
   "cell_type": "markdown",
   "id": "7154cdae",
   "metadata": {},
   "source": [
    "This notebook tests if the DMC models (https://dl4am.github.io/tutorial/landing-page.html) may improve the quality of the mashup. The easy conclusion is that yes, it helps. It should be implemented, why it is not for now."
   ]
  },
  {
   "cell_type": "markdown",
   "metadata": {},
   "source": [
    "Modify sklearn --> scikit-learn in setup.py (in case build failed)"
   ]
  },
  {
   "cell_type": "code",
   "execution_count": null,
   "id": "fa87b67e-8f22-4d00-a803-30ec37eb8a14",
   "metadata": {},
   "outputs": [],
   "source": [
    "import os\n",
    "import glob\n",
    "import torch\n",
    "import torchaudio\n",
    "import numpy as np\n",
    "\n",
    "import IPython\n",
    "import IPython.display as ipd\n",
    "import matplotlib.pyplot as plt\n",
    "import librosa.display\n",
    "\n",
    "%matplotlib inline\n",
    "%load_ext autoreload\n",
    "%autoreload 2"
   ]
  },
  {
   "cell_type": "code",
   "execution_count": null,
   "id": "6bd33d64-861c-4321-b561-21ca92524874",
   "metadata": {},
   "outputs": [],
   "source": [
    "track_dir = \"./test_mix\"\n",
    "track_tech = \"./techniques\"\n",
    "track_ext_tech = \"wav\"\n",
    "track_ext = \"mp3\"\n",
    "\n",
    "# load the input tracks\n",
    "track_filepaths = glob.glob(os.path.join(track_dir, f\"*.{track_ext}\"))\n",
    "track_filepaths = sorted(track_filepaths)\n",
    "\n",
    "track_filepaths_tech = glob.glob(os.path.join(track_tech, f\"*.{track_ext_tech}\"))\n",
    "track_filepaths_tech = sorted(track_filepaths_tech)\n",
    "\n",
    "tracks = []\n",
    "track_names = []\n",
    "for idx, track_filepath in enumerate(track_filepaths):\n",
    "    x, sr1 = torchaudio.load(track_filepath)\n",
    "    start_sample = int(0 * sr1)\n",
    "    end_sample = start_sample + int(40 * sr1)\n",
    "    if \"Vocal\" in track_filepath or \"Bass\" in track_filepath:\n",
    "      x_L = x[0:1, start_sample:end_sample]\n",
    "      #x_L /= x_L.abs().max().clamp(1e-8) # peak normalize\n",
    "      #x_L *= 10 ** (-12/20.0) # set peak to -12 dB\n",
    "      tracks.append(x_L)\n",
    "      track_names.append(os.path.basename(track_filepath))\n",
    "        \n",
    "    else:\n",
    "      x_L = x[0:1, start_sample:end_sample]\n",
    "      x_R = x[1:2, start_sample:end_sample]\n",
    "\n",
    "      #x_L /= x_L.abs().max().clamp(1e-8) # peak normalize\n",
    "      #x_L *= 10 ** (-12/20.0) # set peak to -12 dB\n",
    "\n",
    "      #x_R /= x_R.abs().max().clamp(1e-8) # peak normalize\n",
    "      #x_R *= 10 ** (-12/20.0) # set peak to -12 dB\n",
    "\n",
    "      tracks.append(x_L)\n",
    "      tracks.append(x_R)\n",
    "      track_names.append(os.path.basename(track_filepath) + \"-L\")\n",
    "      track_names.append(os.path.basename(track_filepath) + \"-R\")\n",
    "\n",
    "    plt.figure(figsize=(10, 2))\n",
    "    librosa.display.waveshow(x_L.view(-1).numpy(), sr=sr1, zorder=3)\n",
    "    plt.title(f\"{idx+1} {os.path.basename(track_filepath)}\")\n",
    "    plt.ylim([-1,1])\n",
    "    plt.grid(c=\"lightgray\")\n",
    "    plt.show()\n",
    "    IPython.display.display(ipd.Audio(x_L.view(-1).numpy(), rate=sr1, normalize=True))    \n",
    "\n",
    "# stack tracks into a tensor\n",
    "tracks = torch.stack(tracks, dim=0)\n",
    "tracks = tracks.permute(1, 0, 2)\n",
    "# tracks have shape (1, num_tracks, seq_len)\n",
    "\n",
    "# listen to the input (mono) before mixing\n",
    "input_mix = tracks.sum(dim=1, keepdim=True).clamp(-1, 1)\n",
    "plt.figure(figsize=(10, 2))\n",
    "plt.title(\"Mono Mix\")\n",
    "librosa.display.waveshow(input_mix.view(-1).numpy(), sr=sr1, zorder=3, color=\"tab:orange\")\n",
    "plt.ylim([-1,1])\n",
    "plt.grid(c=\"lightgray\")\n",
    "plt.show()\n",
    "IPython.display.display(ipd.Audio(input_mix.view(-1).numpy(), rate=sr1, normalize=False))\n",
    "\n",
    "for track_filepath in track_filepaths_tech:\n",
    "    x, sr2 = torchaudio.load(track_filepath)\n",
    "    start_sample = int(0 * sr2)\n",
    "    end_sample = start_sample + int(40 * sr2)\n",
    "    x_L = x[0:1, start_sample:end_sample]\n",
    "    plt.figure(figsize=(10, 2))\n",
    "    librosa.display.waveshow(x_L.view(-1).numpy(), sr=sr2, zorder=3, color=\"tab:green\")\n",
    "    plt.title(f\"{os.path.basename(track_filepath)}\")\n",
    "    plt.ylim([-1,1])\n",
    "    plt.grid(c=\"lightgray\")\n",
    "    plt.show()\n",
    "    IPython.display.display(ipd.Audio(x_L.view(-1).numpy(), rate=sr2, normalize=True))   "
   ]
  },
  {
   "cell_type": "code",
   "execution_count": null,
   "metadata": {},
   "outputs": [],
   "source": [
    "!git clone https://github.com/csteinmetz1/automix-toolkit.git\n",
    "!cd automix-toolkit\n",
    "!pip install -e ."
   ]
  },
  {
   "cell_type": "code",
   "execution_count": null,
   "metadata": {},
   "outputs": [],
   "source": [
    "from automix.system import System"
   ]
  },
  {
   "cell_type": "code",
   "execution_count": null,
   "id": "004f2752-a73d-4a0b-b86a-1e9f142af7bd",
   "metadata": {},
   "outputs": [],
   "source": [
    "os.makedirs(\"checkpoints\", exist_ok=True)\n",
    "\n",
    "!wget https://huggingface.co/csteinmetz1/automix-toolkit/resolve/main/medleydb-16-dmc.ckpt\n",
    "!mv medleydb-16-dmc.ckpt checkpoints/medleydb-16-dmc.ckpt"
   ]
  },
  {
   "cell_type": "code",
   "execution_count": null,
   "id": "ab9282a4-8889-43db-97ea-3f9a43917e3e",
   "metadata": {},
   "outputs": [],
   "source": [
    "dmc_ckpt_path = \"checkpoints/medleydb-16-dmc.ckpt\"\n",
    "\n",
    "# load pretrained model\n",
    "medley_dmc_system = System.load_from_checkpoint(dmc_ckpt_path, pretrained_encoder=False, map_location=\"cpu\").eval()"
   ]
  },
  {
   "cell_type": "code",
   "execution_count": null,
   "id": "d5214839-1bda-472a-b01a-a0bb5c3a9209",
   "metadata": {},
   "outputs": [],
   "source": [
    "with torch.no_grad(): # no need to compute gradients\n",
    "    mix = medley_dmc_system.model.block_based_forward(tracks, 262144, 262144//2)\n",
    "#print(mix.shape, params.shape)\n",
    "\n",
    "# view the mix\n",
    "mix /= mix.abs().max()\n",
    "plt.figure(figsize=(10, 2))\n",
    "plt.title(\"Differentiable Mixing Console\")\n",
    "librosa.display.waveshow(mix.view(2,-1).numpy(), sr=sr1, zorder=3)\n",
    "plt.ylim([-1,1])\n",
    "plt.grid(c=\"lightgray\")\n",
    "plt.show()\n",
    "IPython.display.display(ipd.Audio(mix.view(2,-1).numpy(), rate=sr1, normalize=True))"
   ]
  },
  {
   "cell_type": "code",
   "execution_count": null,
   "id": "d6d3f651-43ac-4ff6-b083-dfd1ce0a396e",
   "metadata": {},
   "outputs": [],
   "source": []
  }
 ],
 "metadata": {
  "kernelspec": {
   "display_name": "Python 3 (ipykernel)",
   "language": "python",
   "name": "python3"
  },
  "language_info": {
   "codemirror_mode": {
    "name": "ipython",
    "version": 3
   },
   "file_extension": ".py",
   "mimetype": "text/x-python",
   "name": "python",
   "nbconvert_exporter": "python",
   "pygments_lexer": "ipython3",
   "version": "3.10.12"
  }
 },
 "nbformat": 4,
 "nbformat_minor": 5
}
