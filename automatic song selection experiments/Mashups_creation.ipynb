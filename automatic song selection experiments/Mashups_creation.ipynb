{
 "cells": [
  {
   "cell_type": "markdown",
   "metadata": {
    "id": "JJpmAiNtHo2B"
   },
   "source": [
    "# Development Notebook"
   ]
  },
  {
   "cell_type": "markdown",
   "metadata": {
    "id": "vXcdLXCTaCZQ"
   },
   "source": [
    "##Requirements\n",
    "allin1==1.1.0\n",
    "barfi==0.7.0\n",
    "matplotlib\n",
    "demucs==4.0.1\n",
    "essentia==2.1b6.dev1110\n",
    "librosa==0.9.2\n",
    "matplotlib==3.7.0\n",
    "numpy==1.23.5\n",
    "soundfile==0.12.1\n",
    "streamlit\n",
    "torch==2.0\n",
    "pandas\n",
    "pymusickit\n",
    "streamlit-on-Hover-tabs\n",
    "pydub\n",
    "soundfile\n",
    "pyrubberband\n",
    "pyloudnorm"
   ]
  },
  {
   "cell_type": "markdown",
   "metadata": {
    "id": "uotmb6qRHo2D"
   },
   "source": [
    "This notebook is made for experimenting purpose, in order to make new mashup technics you can add in the automashup-app/mashup.py file."
   ]
  },
  {
   "cell_type": "markdown",
   "metadata": {
    "id": "qxJw3JUuHo2D"
   },
   "source": [
    "The aim is to create new mashup technics within the /automashup-app/mashup.py file. Then, if you use the same model as the other functions, it's gonna be easy to add it in the app"
   ]
  },
  {
   "cell_type": "markdown",
   "metadata": {
    "id": "HMZsS4JpHo2E"
   },
   "source": [
    "## Example of a working mashup Method"
   ]
  },
  {
   "cell_type": "markdown",
   "metadata": {
    "id": "x8NFNHJcHo2E"
   },
   "source": [
    "The following cells are an example of a mashup method. You may copy and paste the following example at the end of the file to make your own method. Here we assume the tracks are already separated and analyzed so you just have to run the following cell, not to modify it (unless you want to try with other songs for instance)."
   ]
  },
  {
   "cell_type": "markdown",
   "metadata": {
    "id": "MinleqY2Ho2F"
   },
   "source": [
    "## Preprocess a song"
   ]
  },
  {
   "cell_type": "markdown",
   "metadata": {
    "id": "FD75WJCGHo2F"
   },
   "source": [
    "Before applying our mashup methods, we'll be getting some data out of the song we want to use."
   ]
  },
  {
   "cell_type": "markdown",
   "metadata": {
    "id": "XAj0Y8OCHo2F"
   },
   "source": [
    "For this notebook to be interesting, we suggest you to preprocess two songs first"
   ]
  },
  {
   "cell_type": "markdown",
   "metadata": {
    "id": "0usmQ3UepkVg"
   },
   "source": [
    "## Load folders and files"
   ]
  },
  {
   "cell_type": "code",
   "execution_count": 1,
   "metadata": {},
   "outputs": [
    {
     "name": "stdout",
     "output_type": "stream",
     "text": [
      "/home/leami/myenv/bin/python\n"
     ]
    }
   ],
   "source": [
    "import sys\n",
    "print(sys.executable)\n"
   ]
  },
  {
   "cell_type": "code",
   "execution_count": 2,
   "metadata": {},
   "outputs": [
    {
     "name": "stdout",
     "output_type": "stream",
     "text": [
      "Name: pyrubberband\n",
      "Version: 0.4.0\n",
      "Summary: Python module to wrap rubberband\n",
      "Home-page: http://github.com/bmcfee/pyrubberband\n",
      "Author: Brian McFee\n",
      "Author-email: brian.mcfee@nyu.edu\n",
      "License: ISC\n",
      "Location: /home/leami/myenv/lib/python3.12/site-packages\n",
      "Requires: numpy, soundfile\n",
      "Required-by: \n",
      "0.4.0\n"
     ]
    }
   ],
   "source": [
    "!pip show pyrubberband\n",
    "import pyrubberband as pyrb\n",
    "print(pyrb.__version__)\n"
   ]
  },
  {
   "cell_type": "code",
   "execution_count": 3,
   "metadata": {
    "colab": {
     "base_uri": "https://localhost:8080/"
    },
    "id": "MumbaLWtHo2F",
    "outputId": "0816a0ae-b729-47b3-ba66-20f98a4cb0bb"
   },
   "outputs": [
    {
     "name": "stdout",
     "output_type": "stream",
     "text": [
      "Requirement already satisfied: pydub in /home/leami/myenv/lib/python3.12/site-packages (0.25.1)\n",
      "Requirement already satisfied: pyrubberband in /home/leami/myenv/lib/python3.12/site-packages (0.4.0)\n",
      "Requirement already satisfied: numpy>=1.0 in /home/leami/myenv/lib/python3.12/site-packages (from pyrubberband) (2.1.0)\n",
      "Requirement already satisfied: soundfile>=0.12.1 in /home/leami/myenv/lib/python3.12/site-packages (from pyrubberband) (0.13.1)\n",
      "Requirement already satisfied: cffi>=1.0 in /home/leami/myenv/lib/python3.12/site-packages (from soundfile>=0.12.1->pyrubberband) (1.17.1)\n",
      "Requirement already satisfied: pycparser in /home/leami/myenv/lib/python3.12/site-packages (from cffi>=1.0->soundfile>=0.12.1->pyrubberband) (2.22)\n",
      "Requirement already satisfied: pyloudnorm in /home/leami/myenv/lib/python3.12/site-packages (0.1.1)\n",
      "Requirement already satisfied: scipy>=1.0.1 in /home/leami/myenv/lib/python3.12/site-packages (from pyloudnorm) (1.15.1)\n",
      "Requirement already satisfied: numpy>=1.14.2 in /home/leami/myenv/lib/python3.12/site-packages (from pyloudnorm) (2.1.0)\n",
      "Requirement already satisfied: future>=0.16.0 in /home/leami/myenv/lib/python3.12/site-packages (from pyloudnorm) (1.0.0)\n"
     ]
    }
   ],
   "source": [
    "\n",
    "!pip install pydub\n",
    "!pip install pyrubberband\n",
    "!pip install pyloudnorm"
   ]
  },
  {
   "cell_type": "markdown",
   "metadata": {
    "id": "i8b1wgUEZgBG"
   },
   "source": [
    "##Utils"
   ]
  },
  {
   "cell_type": "code",
   "execution_count": 4,
   "metadata": {
    "id": "fSZAFmWWMnvS"
   },
   "outputs": [],
   "source": [
    "import numpy as np\n",
    "import os\n",
    "import shutil\n",
    "import math\n",
    "import json\n",
    "\n",
    "from collections import OrderedDict\n",
    "from pydub import AudioSegment\n",
    "from pydub.playback import play\n",
    "\n",
    "### Here are some useful functions used in other parts of the project\n",
    "\n",
    "\n",
    "def increase_array_size(arr, new_size):\n",
    "    if len(arr) < new_size:\n",
    "        # Create a new array with the new size\n",
    "        increased_arr = np.zeros(new_size)\n",
    "        # Copy elements from the original array to the new array\n",
    "        increased_arr[:len(arr)] = arr\n",
    "        return increased_arr\n",
    "    else:\n",
    "        return arr\n",
    "\n",
    "\n",
    "import os\n",
    "\n",
    "def get_path(track_name, type):\n",
    "    # returns the path of a song\n",
    "    # It can return the whole track or just a separated part of it,\n",
    "    # depending on the type, which should be one of the following :\n",
    "    # 'entire', 'bass', 'drums', 'vocals', 'other'\n",
    "\n",
    "    # Extract the filename without extension\n",
    "    track_name_no_ext = os.path.splitext(track_name)[0]\n",
    "\n",
    "    if type == 'entire':\n",
    "        if os.path.exists('./musiques/' + track_name):\n",
    "            path = './musiques/' + track_name\n",
    "        else:\n",
    "            path = './musiques/' + track_name_no_ext + '.wav' # Check for .wav if .mp3 is not found\n",
    "            if not os.path.exists(path):\n",
    "                path = './musiques/' + track_name_no_ext + '.mp3' # Check for .mp3 if .wav is not found\n",
    "    else:\n",
    "        path = './processed/separated/htdemucs/' + track_name_no_ext + '/' + type + '.wav'\n",
    "        if not os.path.exists(path):\n",
    "            path = './processed/separated/htdemucs/' + track_name_no_ext + '/' + type + '.mp3'\n",
    "            if not os.path.exists(path): # Check for common extension mismatches\n",
    "                path = './processed/separated/htdemucs/' + track_name_no_ext + '/' + type + '.wav'\n",
    "                if not os.path.exists(path):\n",
    "                    path = './processed/separated/htdemucs/' + track_name_no_ext + '/' + type + '.mp3'\n",
    "    assert(os.path.exists(path)), f\"File not found: {path}\" # Added a more informative error message\n",
    "    return path\n",
    "\n",
    "\n",
    "def remove_track(track_name):\n",
    "    # function to remove a track and all the files that concern it.\n",
    "    struct_path = \"./processed/struct/\" + track_name + \".json\"\n",
    "    folder_path = \"./processed/separated/htdemucs/\" + track_name + \"/\"\n",
    "    os.remove(struct_path)\n",
    "    shutil.rmtree(folder_path)\n",
    "\n",
    "\n",
    "def extract_filename(file_path):\n",
    "    # Extract filename from a given path\n",
    "    filename = os.path.basename(file_path)\n",
    "    filename_without_extension, _ = os.path.splitext(filename)\n",
    "    return filename_without_extension\n",
    "\n",
    "\n",
    "def note_to_frequency(key):\n",
    "    # turn a note with a mode to a frequency\n",
    "    note, mode = key.split(' ', 1)\n",
    "    reference_frequency=440.0\n",
    "    semitone_offsets = {'C': -9, 'C#': -8, 'Db': -8, 'D': -7, 'D#': -6, 'Eb': -6, 'E': -5, 'Fb': -5, 'E#': -4,\n",
    "                        'F': -4, 'F#': -3, 'Gb': -3, 'G': -2, 'G#': -1, 'Ab': -1, 'A': 0, 'A#': 1, 'Bb': 1, 'B': 2, 'Cb': 2, 'B#': 3}\n",
    "    semitone_offset = semitone_offsets[note]\n",
    "    if mode == 'minor':\n",
    "        semitone_offset -= 3\n",
    "    frequency = reference_frequency * 2 ** (semitone_offset / 12)\n",
    "    return frequency\n",
    "\n",
    "\n",
    "\n",
    "\n",
    "def calculate_pitch_shift(source_freq, target_freq):\n",
    "    pitch_shift = 12 * math.log2(target_freq / source_freq)\n",
    "    return pitch_shift\n",
    "\n",
    "\n",
    "def key_from_dict(dict):\n",
    "    # get key from the metadata correlation list\n",
    "    best_key, best_score = \"\", \"\"\n",
    "    for key, score in dict.items():\n",
    "        if best_score==\"\" or best_score<score:\n",
    "            best_key, best_score = key, score\n",
    "    return best_key\n",
    "\n",
    "\n",
    "def closest_index(value, value_list):\n",
    "    # get the index of the closest value of a specific target in a list\n",
    "    closest_index = min(range(len(value_list)), key=lambda i: abs(value_list[i] - value))\n",
    "    return closest_index\n",
    "\n",
    "def get_unique_ordered_list(input_list):\n",
    "    # Use OrderedDict to preserve order while removing duplicates\n",
    "    return list(OrderedDict.fromkeys(input_list))\n",
    "\n",
    "# extracts the start and end times for the selected segment\n",
    "def get_segment_times(segments, selected_label):\n",
    "    for segment in segments:\n",
    "        if segment['label'] == selected_label:\n",
    "            return segment['start'], segment['end']\n",
    "    return 0, 2  # Default to first 2 seconds if segment not found\n",
    "\n",
    "def extract_audio_segment(file_path, start_time, end_time, output_path):\n",
    "    try:\n",
    "        # Load the audio file\n",
    "        audio = AudioSegment.from_file(file_path)\n",
    "        # Extract the segment\n",
    "        segment = audio[start_time * 1000:end_time * 1000]  # pydub works in milliseconds\n",
    "        # Export the segment to a temporary file\n",
    "        segment.export(output_path, format=\"mp3\")\n",
    "        return output_path\n",
    "    except Exception as e:\n",
    "        print(f\"Error extracting audio segment: {e}\")\n",
    "        return None\n",
    "\n",
    "# Function to merge the segments that have the same label and are next to each other\n",
    "def merge_segments(json_path):\n",
    "    with open(json_path, 'r') as f:\n",
    "        data = json.load(f)\n",
    "\n",
    "    merged_segments = []\n",
    "    previous_segment = None\n",
    "\n",
    "    for segment in data.get('segments', []):\n",
    "        if previous_segment and previous_segment['label'] == segment['label']:\n",
    "            # Merge with the previous segment\n",
    "            previous_segment['end'] = segment['end']\n",
    "        else:\n",
    "            # Add the previous segment to the list if it exists\n",
    "            if previous_segment:\n",
    "                merged_segments.append(previous_segment)\n",
    "            # Update the previous segment\n",
    "            previous_segment = segment\n",
    "\n",
    "    # Add the last segment\n",
    "    if previous_segment:\n",
    "        merged_segments.append(previous_segment)\n",
    "\n",
    "    # Update the segments in the data\n",
    "    data['segments'] = merged_segments\n",
    "\n",
    "    # Save the modified data back to the JSON file\n",
    "    with open(json_path, 'w') as f:\n",
    "        json.dump(data, f, indent=2)"
   ]
  },
  {
   "cell_type": "markdown",
   "metadata": {
    "id": "v0F6Vl-PHo2H"
   },
   "source": [
    "### Loading the preprocessed songs as input for mashup"
   ]
  },
  {
   "cell_type": "markdown",
   "metadata": {
    "id": "-rc3XuzLHo2I"
   },
   "source": [
    "Once you preprocessed a song, it will be identified by a song name, which is the name of the file preprocessed, without the extension. For instance, for the song \"./input/song.mp3\", the track name is \"song\""
   ]
  },
  {
   "cell_type": "markdown",
   "metadata": {
    "id": "XZolHaZNHo2I"
   },
   "source": [
    "What we'll be calling a \"track\" is a python Track object with the following attributes :\n",
    "  \n",
    "\n",
    "* 'track_name' : String,\n",
    "* 'audio' : audio of the track, it's a np array it can be only a part of the song (vocals, instru, ...),\n",
    "* 'sr' : the sampling frequency,\n",
    "* 'path' : the path of the original file\n",
    "* 'bpm' : the bpm found by allin1 analysis\n",
    "* 'beats' : beats list determined by allin1 analysis\n",
    "* 'downbeats' : downbeats list determined by allin1 analysis\n",
    "* 'segments' : list of the song's phases with their phase label (verse, chorus, ...)\n",
    "* 'key' : correlation with each key (the highest value will be used as main key)\n",
    "     \n",
    "\n",
    "It's important that **your mashup methods returns the same kind of object !** Also, your method should handle up to 4 different tracks !\n",
    "Especially, metadata should look like this :\n",
    "\n",
    "{\n",
    "  \"path\": \"/home/gaubiche/Documents/MCE/Automashup/AutoMashup/mashup/input/bazard\\u00e9e.mp3\",\n",
    "  \"bpm\": 103,\n",
    "  \"beats\": [\n",
    "    4.06,\n",
    "    4.63,\n",
    "    5.23,\n",
    "    5.81,\n",
    "    ...\n",
    "  ],\n",
    "  \"downbeats\": [\n",
    "    5.23,\n",
    "    7.57,\n",
    "    9.89,\n",
    "    12.23,\n",
    "    14.56,\n",
    "    16.88,\n",
    "    19.21,\n",
    "    21.54,\n",
    "    ...\n",
    "  ],\n",
    "  \"beat_positions\": [\n",
    "    3,\n",
    "    4,\n",
    "    1,\n",
    "    2,\n",
    "    3,\n",
    "    4,\n",
    "    1,\n",
    "    ...\n",
    "  ],\n",
    "  \"segments\": [\n",
    "    {\n",
    "      \"start\": 0.0,\n",
    "      \"end\": 4.06,\n",
    "      \"label\": \"start\"\n",
    "    },\n",
    "    {\n",
    "      \"start\": 4.06,\n",
    "      \"end\": 32.59,\n",
    "      \"label\": \"verse\"\n",
    "    },\n",
    "    {\n",
    "      \"start\": 32.59,\n",
    "      \"end\": 51.21,\n",
    "      \"label\": \"chorus\"\n",
    "    },\n",
    "    ...\n",
    "  ],\n",
    "  \"key\": {\n",
    "    \"C major\": -0.512,\n",
    "    \"C# major\": 0.29,\n",
    "    ...\n",
    "  }\n",
    "}\n",
    "\n",
    "Do not freak out ! Metadatas are created within the analysis (within each track) so you won't have to set everything by hand. However, try to modify the metadatas according to the modification you do to a track to keep them consistent along the process !"
   ]
  },
  {
   "cell_type": "markdown",
   "metadata": {
    "id": "iXUn5LXPZJsc"
   },
   "source": [
    "##Segment\n"
   ]
  },
  {
   "cell_type": "code",
   "execution_count": 5,
   "metadata": {
    "id": "sUxHfaapQLV7"
   },
   "outputs": [],
   "source": [
    "import numpy as np\n",
    "import copy\n",
    "import pyrubberband as pyrb\n",
    "\n",
    "# Define a Track class to represent a part of a track\n",
    "# The aim of this kind of object is to keep together the audio itself,\n",
    "# and the beats\n",
    "\n",
    "class Segment:\n",
    "\n",
    "    transition_time = 0.5 # transition time in seconds\n",
    "\n",
    "    def __init__(self, segment_dict):\n",
    "        # We create a segment from a dict coming from metadata.\n",
    "        # They look like this :\n",
    "        # {\n",
    "        #   \"start\": 0.4,\n",
    "        #   \"end\": 22.82,\n",
    "        #   \"label\": \"verse\"\n",
    "        # }\n",
    "\n",
    "\n",
    "        for key in segment_dict.keys():\n",
    "            setattr(self, key, segment_dict[key])\n",
    "\n",
    "        # We calculate the time in minutes for each segment\n",
    "        self.duration = (self.end - self.start)/60\n",
    "\n",
    "\n",
    "\n",
    "    def link_track(self, track):\n",
    "        # Function to link a segment to a track, must be set whenever\n",
    "        # we create a segment\n",
    "        # it loads all the pieces of information useful for a segment\n",
    "        self.sr = track.sr\n",
    "        beats = track.beats\n",
    "        downbeats = track.downbeats\n",
    "\n",
    "\n",
    "        start_beat = closest_index(self.start, beats)\n",
    "        end_beat = closest_index(self.end, beats)\n",
    "\n",
    "        self.beats = beats[start_beat:end_beat]\n",
    "\n",
    "        if self.beats == []:\n",
    "            self.downbeats = []\n",
    "            self.audio = np.array([])\n",
    "            self.left_transition = np.array([])\n",
    "            self.right_transition = np.array([])\n",
    "\n",
    "        else:\n",
    "            # Make sure the first beat and downbeat starts on zero\n",
    "            self.beats = self.beats - np.repeat(self.beats[0], len(self.beats))\n",
    "\n",
    "            self.downbeats = downbeats - np.repeat(downbeats[0], len(downbeats))\n",
    "            self.downbeats = [downbeat for downbeat in self.downbeats if downbeat in self.beats]\n",
    "            if self.downbeats != []:\n",
    "                self.downbeats = self.downbeats - np.repeat(self.downbeats[0], len(self.downbeats))\n",
    "\n",
    "            self.audio = track.audio[round(self.start*self.sr):round(self.end*self.sr)]\n",
    "\n",
    "            if self.start - self.transition_time > 0 :\n",
    "                self.left_transition = track.audio[round((self.start-self.transition_time)*self.sr):round(self.start*self.sr)]\n",
    "            else :\n",
    "                self.left_transition = track.audio[:round(self.start*self.sr)]\n",
    "            if self.end + self.transition_time < len(track.audio) * self.sr:\n",
    "                self.right_transition = track.audio[round(self.end*self.sr):round((self.end+self.transition_time)*self.sr)]\n",
    "            else :\n",
    "                self.right_transition = track.audio[round(self.end*self.sr):]\n",
    "\n",
    "    def concatenate(self):\n",
    "        # Calculate the seconds to shift the incoming beats to start where the current segment's audio ends.\n",
    "        offset = len(self.audio) / self.sr\n",
    "\n",
    "        # Concatenate the beats array of the current segment\n",
    "        new_beats = self.beats + offset\n",
    "        self.beats = np.concatenate([self.beats, new_beats])\n",
    "\n",
    "        # Concatenate the downbeats array\n",
    "        new_downbeats = self.downbeats + offset\n",
    "        self.downbeats = np.concatenate([self.downbeats, new_downbeats])\n",
    "\n",
    "        # Concatenate the audio data of the two segments\n",
    "        self.audio = np.concatenate((self.audio, self.audio))\n",
    "\n",
    "\n",
    "    def get_audio_beat_fitted(self, beat_number, tempo, duration, sr):\n",
    "        \"\"\"\n",
    "        Adjusts the audio segment to fit a specified number of beats at a given tempo.\n",
    "\n",
    "        Parameters:\n",
    "        - beat_number: The target number of beats for the segment.\n",
    "        - tempo: The target tempo (BPM) for the segment.\n",
    "        - duration: The target segment duration\n",
    "\n",
    "        Returns:\n",
    "        - A new audio segment adjusted to the specified number of beats and tempo.\n",
    "        \"\"\"\n",
    "        try:\n",
    "            # Make a deep copy of the segment to avoid modifying the original\n",
    "            result = copy.deepcopy(self)\n",
    "\n",
    "            if beat_number == 0:\n",
    "                # If beat_number is 0, return an empty segment\n",
    "                result.audio = np.array([])\n",
    "                result.beats = []\n",
    "                result.downbeats = []\n",
    "            else:\n",
    "                # We compare the bpm of the target segment and the current segment.\n",
    "                # If the difference is too big, half or double it\n",
    "                segment_bpm =(len(result.beats)/result.duration)\n",
    "                if tempo / segment_bpm > 1.5:\n",
    "                    tempo /= 2\n",
    "                    beat_number //= 2\n",
    "                    # If we reduce the bpm to half, then the amount of beats as well so the duration stays the same\n",
    "                elif tempo / segment_bpm < 0.75:\n",
    "                    tempo *= 2\n",
    "                    beat_number //= 2\n",
    "                else:\n",
    "                    pass\n",
    "\n",
    "                # We calculate the rate of stretch for the segment.\n",
    "                stretch_rate = tempo / segment_bpm\n",
    "                result.audio = pyrb.time_stretch(result.audio, sr, rate=stretch_rate)\n",
    "\n",
    "                # We concatenate the segment to itself if it's shorter than the target\n",
    "                while len(result.beats) < beat_number:\n",
    "                    print(f\"Concatenating for segment '{result.label}'\")\n",
    "                    result.concatenate()\n",
    "\n",
    "                # Then we cut the amount of beats and downbeats so they end at the same time\n",
    "                result.beats = result.beats[:beat_number]\n",
    "                result.downbeats = [downbeat for downbeat in result.downbeats if downbeat <= result.beats[-1]]\n",
    "\n",
    "                # Then we cut the audio for the same length as the objetive\n",
    "                result.audio = result.audio[:duration]\n",
    "\n",
    "            return result\n",
    "\n",
    "        except Exception as e:\n",
    "            # Handle any exceptions gracefully and print detailed error message\n",
    "            print(f\"Error fitting segment '{self.label}' to {beat_number} beats: {e}\")\n",
    "            raise e  # or return None or handle the error appropriately"
   ]
  },
  {
   "cell_type": "markdown",
   "metadata": {
    "id": "nmmiHJ3-ZTb1"
   },
   "source": [
    "##Track"
   ]
  },
  {
   "cell_type": "code",
   "execution_count": 6,
   "metadata": {},
   "outputs": [
    {
     "name": "stdout",
     "output_type": "stream",
     "text": [
      "Requirement already satisfied: librosa in /home/leami/myenv/lib/python3.12/site-packages (0.10.2.post1)\n",
      "Requirement already satisfied: audioread>=2.1.9 in /home/leami/myenv/lib/python3.12/site-packages (from librosa) (3.0.1)\n",
      "Requirement already satisfied: numpy!=1.22.0,!=1.22.1,!=1.22.2,>=1.20.3 in /home/leami/myenv/lib/python3.12/site-packages (from librosa) (2.1.0)\n",
      "Requirement already satisfied: scipy>=1.2.0 in /home/leami/myenv/lib/python3.12/site-packages (from librosa) (1.15.1)\n",
      "Requirement already satisfied: scikit-learn>=0.20.0 in /home/leami/myenv/lib/python3.12/site-packages (from librosa) (1.6.1)\n",
      "Requirement already satisfied: joblib>=0.14 in /home/leami/myenv/lib/python3.12/site-packages (from librosa) (1.4.2)\n",
      "Requirement already satisfied: decorator>=4.3.0 in /home/leami/myenv/lib/python3.12/site-packages (from librosa) (5.1.1)\n",
      "Requirement already satisfied: numba>=0.51.0 in /home/leami/myenv/lib/python3.12/site-packages (from librosa) (0.61.0)\n",
      "Requirement already satisfied: soundfile>=0.12.1 in /home/leami/myenv/lib/python3.12/site-packages (from librosa) (0.13.1)\n",
      "Requirement already satisfied: pooch>=1.1 in /home/leami/myenv/lib/python3.12/site-packages (from librosa) (1.8.2)\n",
      "Requirement already satisfied: soxr>=0.3.2 in /home/leami/myenv/lib/python3.12/site-packages (from librosa) (0.5.0.post1)\n",
      "Requirement already satisfied: typing-extensions>=4.1.1 in /home/leami/myenv/lib/python3.12/site-packages (from librosa) (4.12.2)\n",
      "Requirement already satisfied: lazy-loader>=0.1 in /home/leami/myenv/lib/python3.12/site-packages (from librosa) (0.4)\n",
      "Requirement already satisfied: msgpack>=1.0 in /home/leami/myenv/lib/python3.12/site-packages (from librosa) (1.1.0)\n",
      "Requirement already satisfied: packaging in /home/leami/myenv/lib/python3.12/site-packages (from lazy-loader>=0.1->librosa) (24.2)\n",
      "Requirement already satisfied: llvmlite<0.45,>=0.44.0dev0 in /home/leami/myenv/lib/python3.12/site-packages (from numba>=0.51.0->librosa) (0.44.0)\n",
      "Requirement already satisfied: platformdirs>=2.5.0 in /home/leami/myenv/lib/python3.12/site-packages (from pooch>=1.1->librosa) (4.3.6)\n",
      "Requirement already satisfied: requests>=2.19.0 in /home/leami/myenv/lib/python3.12/site-packages (from pooch>=1.1->librosa) (2.32.3)\n",
      "Requirement already satisfied: threadpoolctl>=3.1.0 in /home/leami/myenv/lib/python3.12/site-packages (from scikit-learn>=0.20.0->librosa) (3.5.0)\n",
      "Requirement already satisfied: cffi>=1.0 in /home/leami/myenv/lib/python3.12/site-packages (from soundfile>=0.12.1->librosa) (1.17.1)\n",
      "Requirement already satisfied: pycparser in /home/leami/myenv/lib/python3.12/site-packages (from cffi>=1.0->soundfile>=0.12.1->librosa) (2.22)\n",
      "Requirement already satisfied: charset-normalizer<4,>=2 in /home/leami/myenv/lib/python3.12/site-packages (from requests>=2.19.0->pooch>=1.1->librosa) (3.4.1)\n",
      "Requirement already satisfied: idna<4,>=2.5 in /home/leami/myenv/lib/python3.12/site-packages (from requests>=2.19.0->pooch>=1.1->librosa) (3.10)\n",
      "Requirement already satisfied: urllib3<3,>=1.21.1 in /home/leami/myenv/lib/python3.12/site-packages (from requests>=2.19.0->pooch>=1.1->librosa) (2.3.0)\n",
      "Requirement already satisfied: certifi>=2017.4.17 in /home/leami/myenv/lib/python3.12/site-packages (from requests>=2.19.0->pooch>=1.1->librosa) (2025.1.31)\n"
     ]
    }
   ],
   "source": [
    "!pip install librosa"
   ]
  },
  {
   "cell_type": "code",
   "execution_count": 7,
   "metadata": {
    "id": "fRLUgBBSQHHS"
   },
   "outputs": [],
   "source": [
    "import json\n",
    "import librosa\n",
    "import numpy as np\n",
    "import pyrubberband as pyrb\n",
    "\n",
    "\n",
    "\n",
    "# Define a Track class to represent a musical track\n",
    "# This class uses objects of type Segment\n",
    "# The aim of this kind of object is to keep together the audio itself,\n",
    "# the sampling frequency and the metadata coming from allin1 analysis\n",
    "\n",
    "class Track:\n",
    "    transition_time = 1 # transition time in seconds\n",
    "\n",
    "    # Standard constructor\n",
    "    def __init__(self, track_name, audio, metadata, sr):\n",
    "\n",
    "        # Initialize track properties\n",
    "        self.name = track_name\n",
    "        self.audio = audio\n",
    "        self.sr = sr\n",
    "        self.segments = []\n",
    "\n",
    "        # Load track metadatas\n",
    "        for key in metadata.keys():\n",
    "            if key!=\"segments\":\n",
    "                setattr(self, key, metadata[key])\n",
    "            else:\n",
    "                for segment in metadata[\"segments\"]:\n",
    "                    # Create segment objects\n",
    "                    if isinstance(segment, Segment):\n",
    "                        segment_ = segment\n",
    "                    else:\n",
    "                        # we handle the segments as stored in the struct files\n",
    "                        segment_ = Segment(segment)\n",
    "                    segment_.link_track(self)\n",
    "                    self.segments.append(segment_)\n",
    "\n",
    "\n",
    "    def track_from_song(track_name, type):\n",
    "        # Function to create a track from a preprocessed song\n",
    "        # type should be one of the following :\n",
    "        # 'entire', 'bass', 'drums', 'vocals', 'other'\n",
    "        name = track_name + ' - ' + type\n",
    "        audio, sr = librosa.load(get_path(track_name, type), sr=None)\n",
    "        struct_path = f\"./processed/struct/{track_name}.json\"\n",
    "        with open(struct_path, 'r') as file:\n",
    "            metadata = json.load(file)\n",
    "        return Track(name, audio, metadata, sr)\n",
    "\n",
    "    # Must use the key from the voice\n",
    "    def get_key(self):\n",
    "        # Function to retrieve the key of a track\n",
    "        # we use the \"key\" metadata which is a list of correlation\n",
    "        # with each key. We look for the max correlation to get the\n",
    "        # right key\n",
    "        best_key, best_score = \"\", \"\"\n",
    "        for key, score in self.key.items():\n",
    "            if best_score==\"\" or best_score<score:\n",
    "                best_key, best_score = key, score\n",
    "        return best_key\n",
    "\n",
    "\n",
    "    def __repitch(self, semitone_shift):\n",
    "        # Function to repitch a track using a semitone shift\n",
    "        # https://www.youtube.com/watch?v=Y2lUmwB7lzI\n",
    "        shifted_audio = pyrb.pitch_shift(y=self.audio, sr=self.sr, n_steps=semitone_shift)\n",
    "        self.audio = shifted_audio\n",
    "\n",
    "\n",
    "    def pitch_track(self, target_key):\n",
    "        # Function to repitch a track to a target key\n",
    "        target_frequency = note_to_frequency(target_key)\n",
    "        track_frequency = note_to_frequency(self.get_key())\n",
    "        self.__repitch(calculate_pitch_shift(track_frequency, target_frequency))\n",
    "\n",
    "\n",
    "    def add_metronome(self):\n",
    "        # Function to add metronome sounds on the beats according\n",
    "        # to the metadata of the track\n",
    "        # sounds\n",
    "        downbeat_sound_audio, _ = librosa.load(\"../metronome-sounds/block.mp3\")\n",
    "        otherbeat_sound_audio, _ = librosa.load(\"../metronome-sounds/drumstick.mp3\")\n",
    "\n",
    "        # add sound for each beat\n",
    "        for i, beat_frame in enumerate(self.beats):\n",
    "            # if it's a downbeat, use the according sound\n",
    "            clic_sound = downbeat_sound_audio if i % 4 == 0 else otherbeat_sound_audio\n",
    "            clic = increase_array_size(clic_sound, len(self.audio[round(self.sr*beat_frame):]))\n",
    "            # check that we do not get out of the track's bounds\n",
    "            if len(self.audio[round(self.sr*beat_frame):])>=len(clic):\n",
    "                self.audio[round(self.sr*beat_frame):] += clic\n",
    "\n",
    "\n",
    "    def fit_phase(self, target_track):\n",
    "        # Function to align track phases (verse, chorus, bridge, ...)\n",
    "        # to a target track.\n",
    "        # we'll do loops on the track to reach the number of beats targetted\n",
    "        # for each phase\n",
    "        # The challenge for this function is to keep the beats metadata\n",
    "        # updated\n",
    "        audio = np.array([])\n",
    "\n",
    "        # lists of the return track beats and downbeats\n",
    "        # we put 0 for convenience (see beats[-1] after)\n",
    "        beats = [0]\n",
    "        downbeats = [0]\n",
    "\n",
    "\n",
    "        print(f\" ********************** Adjusting the song {self.name}  **********************\")\n",
    "\n",
    "        # List of already found segments\n",
    "        found_segments = {}\n",
    "\n",
    "        # loop over each phase to reproduce\n",
    "        for target_segment in target_track.segments:\n",
    "            i = 0\n",
    "            found_segment = False\n",
    "            current_label = target_segment.label\n",
    "\n",
    "            # Check if we have already found this label before\n",
    "            if current_label in found_segments:\n",
    "                start_index = found_segments[current_label] + 1\n",
    "            else:\n",
    "                start_index = 0\n",
    "\n",
    "            i = start_index\n",
    "\n",
    "            # loop over each segment to find occurrences\n",
    "            while i < len(self.segments):\n",
    "                segment = self.segments[i]\n",
    "                if segment.label == current_label:\n",
    "                    # If this is the first time we find the label or we have moved past the previous index\n",
    "                    if not found_segment or i > found_segments[current_label]:\n",
    "                        found_segment = True\n",
    "                        tempo = round(len(segment.beats) / segment.duration)\n",
    "                        found_segments[current_label] = i\n",
    "                        break\n",
    "                i += 1\n",
    "\n",
    "            # If no segment was found, reuse the last found segment\n",
    "            if not found_segment and current_label in found_segments:\n",
    "                last_found_index = found_segments[current_label]\n",
    "                segment = self.segments[last_found_index]\n",
    "                tempo = round(len(segment.beats) / segment.duration)\n",
    "                found_segment = True\n",
    "\n",
    "            # if we do not find it, we add zeros with the right length\n",
    "            if (not found_segment):\n",
    "                tempo = round(len(target_segment.beats)/target_segment.duration)\n",
    "                try:\n",
    "                    if tempo == 0:\n",
    "                        segment_length = 0\n",
    "                    else:\n",
    "                        segment_length = int((len(target_segment.beats) / (tempo / 60) * self.sr))\n",
    "                    audio = np.concatenate([audio, np.zeros(segment_length)])\n",
    "                    beats += [beats[-1] + (i + 1) / (tempo / 60) for i in range(len(target_segment.beats))]\n",
    "                    downbeats += [downbeats[-1] + (4 * i + 1) / (tempo / 60) for i in range(len(target_segment.beats) // 4)]\n",
    "                except Exception as e:\n",
    "                    print(f\"Error fitting silence. Error: {e}\")\n",
    "            else:\n",
    "                try:\n",
    "                    # if we find it, we make it fit to the desired beat number\n",
    "                    if len(target_segment.beats) > 0:\n",
    "                        target_bpm = len(target_segment.beats)/target_segment.duration\n",
    "\n",
    "                        segment_fitted = segment.get_audio_beat_fitted(len(target_segment.beats), target_bpm, len(target_segment.audio), self.sr)\n",
    "                        audio = np.concatenate([audio, segment_fitted.audio])\n",
    "\n",
    "                        # reset first beat position per segment\n",
    "                        track_sr = target_track.sr\n",
    "                        track_beginning_temporal = target_segment.beats[0]\n",
    "                        track_beginning = track_beginning_temporal * track_sr\n",
    "                        # reset first beat position\n",
    "                        audio = np.array(audio)[round(track_beginning):]\n",
    "\n",
    "                        # we add the new beats to be able to sync after\n",
    "                        beats += [beats[-1] + phase_beat for phase_beat in segment_fitted.beats]\n",
    "                        downbeats += [downbeats[-1] + phase_downbeat for phase_downbeat in segment_fitted.downbeats]\n",
    "                    # If its empty we ignore it\n",
    "                    else: pass\n",
    "\n",
    "                except Exception as e:\n",
    "                    print(f\"Error fitting segment: {segment.label} at {segment.start}, Error: {e}\")\n",
    "                    continue\n",
    "\n",
    "        # we get rid of the first beats added for convenience\n",
    "        beats = beats[1:]\n",
    "        downbeats = downbeats[1:]\n",
    "\n",
    "        self.audio = audio\n",
    "        self.beats = beats\n",
    "        self.downbeats = downbeats\n",
    "\n",
    "    def get_segments(track_name):\n",
    "        # This method should return a list of segments for the given song\n",
    "        track = Track.track_from_song(track_name, 'entire')\n",
    "        return [segment.label for segment in track.segments]\n",
    "\n",
    "    def get_segments_full(track_name):\n",
    "        # This method should return a list of the structure of segments for the given song\n",
    "        track = Track.track_from_song(track_name, 'entire')\n",
    "        return [{'start': segment.start, 'end': segment.end, 'label': segment.label} for segment in track.segments]"
   ]
  },
  {
   "cell_type": "markdown",
   "metadata": {
    "id": "fcEtIXq2S6JW"
   },
   "source": [
    "### MASHUPS"
   ]
  },
  {
   "cell_type": "code",
   "execution_count": 8,
   "metadata": {},
   "outputs": [
    {
     "name": "stdout",
     "output_type": "stream",
     "text": [
      "Found existing installation: numpy 2.1.0\n",
      "Uninstalling numpy-2.1.0:\n",
      "  Successfully uninstalled numpy-2.1.0\n",
      "Collecting numpy==2.1\n",
      "  Using cached numpy-2.1.0-cp312-cp312-manylinux_2_17_x86_64.manylinux2014_x86_64.whl.metadata (60 kB)\n",
      "Using cached numpy-2.1.0-cp312-cp312-manylinux_2_17_x86_64.manylinux2014_x86_64.whl (16.0 MB)\n",
      "Installing collected packages: numpy\n",
      "Successfully installed numpy-2.1.0\n"
     ]
    }
   ],
   "source": [
    "!pip uninstall numpy -y\n",
    "!pip install numpy==2.1\n"
   ]
  },
  {
   "cell_type": "code",
   "execution_count": 9,
   "metadata": {},
   "outputs": [],
   "source": [
    "import numpy as np\n",
    "def dummy_npwarn_decorator_factory():\n",
    "  def npwarn_decorator(x):\n",
    "    return x\n",
    "  return npwarn_decorator\n",
    "np._no_nep50_warning = getattr(np, '_no_nep50_warning', dummy_npwarn_decorator_factory)"
   ]
  },
  {
   "cell_type": "code",
   "execution_count": null,
   "metadata": {
    "id": "mGzK_1cXS35J"
   },
   "outputs": [],
   "source": [
    "import librosa\n",
    "import numpy as np\n",
    "import pyrubberband as pyrb\n",
    "import pyloudnorm as pyln\n",
    "\n",
    "# Mashup Technics\n",
    "# In this file, you may add mashup technics\n",
    "# the input of such a method is a list of up to 4 objects of type Track.\n",
    "# You can modify them without making any copy, it's already done before.\n",
    "\n",
    "def mashup_technic(tracks, phase_fit=False, target_loudness=-14.0):\n",
    "    # Mashup technic with first beat alignment and bpm sync\n",
    "    sr = tracks[0].sr # The first track is used to determine the target bpm\n",
    "    tempo = tracks[0].bpm\n",
    "    main_track_length = len(tracks[0].audio)\n",
    "    beginning_instant = tracks[0].beats[0] # beats metadata\n",
    "    beginning = beginning_instant * sr\n",
    "    mashup = np.zeros(0)\n",
    "    mashup_name = \"\"\n",
    "\n",
    "    # we add each track to the mashup\n",
    "    for track in tracks:\n",
    "        mashup_name += track.name + \" \" # name\n",
    "        track_tempo = track.bpm\n",
    "        if track == tracks[0]:\n",
    "            track_beginning_temporal = track.beats[0]\n",
    "        else:\n",
    "            track_beginning_temporal = track.downbeats[0]\n",
    "        track_sr = track.sr\n",
    "        track_beginning = track_beginning_temporal * track_sr\n",
    "        track_audio = track.audio\n",
    "\n",
    "        # reset first beat position\n",
    "        track_audio_no_offset = np.array(track_audio)[round(track_beginning):]\n",
    "\n",
    "        # Change the bpm if there is no phase fit\n",
    "        if not phase_fit:\n",
    "            track_audio_accelerated = pyrb.time_stretch(track_audio_no_offset, track_sr, rate = tempo / track_tempo)\n",
    "        else:\n",
    "            #bpm is handled in segment.py\n",
    "            track_audio_accelerated = track_audio_no_offset\n",
    "\n",
    "        # add the right number of zeros to align with the main track\n",
    "        final_track_audio = np.concatenate((np.zeros(round(beginning)), track_audio_accelerated))\n",
    "\n",
    "        size = max(len(mashup), len(final_track_audio))\n",
    "        mashup = np.array(mashup)\n",
    "        mashup = (increase_array_size(final_track_audio, size) + increase_array_size(mashup, size))\n",
    "\n",
    "    # Adjust mashup length to be the same as the main track's audio length\n",
    "    if len(mashup) > main_track_length:\n",
    "        mashup = mashup[:main_track_length]\n",
    "    else:\n",
    "        mashup = increase_array_size(mashup, main_track_length)\n",
    "\n",
    "    # Apply LUFS normalization to the mashup\n",
    "    meter = pyln.Meter(sr)  # Create a BS.1770 loudness meter\n",
    "    mashup_loudness = meter.integrated_loudness(mashup)  # Measure the loudness\n",
    "    print(f\"Mashup loudness (before normalization): {mashup_loudness} LUFS\")\n",
    "\n",
    "    # Normalize the mashup to the target loudness (-14 LUFS by deafult)\n",
    "    mashup_normalized = pyln.normalize.loudness(mashup, mashup_loudness, target_loudness)\n",
    "    print(f\"Mashup normalized to {target_loudness} LUFS\")\n",
    "\n",
    "    # we return a modified version of the first track\n",
    "    # doing so, we keep its metadata\n",
    "    tracks[0].audio = mashup\n",
    "\n",
    "    return tracks[0]\n",
    "\n",
    "\n",
    "def mashup_technic_repitch(tracks):\n",
    "    # Mashup technique to change the key by repitch\n",
    "    key = tracks[0].get_key() # target key\n",
    "    for i in range(len(tracks)-1):\n",
    "        tracks[i+1].pitch_track(key) # repitch\n",
    "\n",
    "    return mashup_technic(tracks)\n",
    "\n",
    "\n",
    "def mashup_technic_fit_phase(tracks):\n",
    "    # Mashup technique with phase alignment (i.e., chorus with chorus, verse with verse...)\n",
    "    # Each track's structure is aligned with the first one\n",
    "    for i in range(len(tracks) - 1):\n",
    "        tracks[i + 1].fit_phase(tracks[0])\n",
    "\n",
    "    # Standard mashup method\n",
    "    return mashup_technic(tracks, phase_fit=True)\n",
    "\n",
    "def mashup_technic_fit_phase_repitch(tracks):\n",
    "    # Mashup technique with phase alignment and repitch\n",
    "    # Repitch has to be the last method for it to be effective\n",
    "    key = tracks[0].get_key() # target key\n",
    "    for i in range(len(tracks)-1):\n",
    "        tracks[i + 1].fit_phase(tracks[0]) # phase fit\n",
    "        tracks[i+1].pitch_track(key) # repitch\n",
    "    # Phase fit mashup\n",
    "    return mashup_technic(tracks, phase_fit=True)"
   ]
  },
  {
   "cell_type": "code",
   "execution_count": 16,
   "metadata": {},
   "outputs": [
    {
     "name": "stdout",
     "output_type": "stream",
     "text": [
      "['Bam Bam - Hi-Q.mp3', 'Benji Cossa - New Flowers (Fast 4-track Version).mp3', 'Bessie Smith - My Sweetie Went Away.mp3', 'David Rovics - We Just Want The World.mp3', 'deef - Ein sonniger Tag mit dir.mp3', 'Dragon Or Emperor - Part of Me Says.mp3', 'Grand Mal - Children of Light.mp3', 'Home Blitz - Secret Wave.mp3', 'Josh Woodward - Cien Volando.mp3', 'Los Steaks - Sunday Girls.mp3', 'Mia Doi Todd - I gave you my home.mp3', 'Orange Peels - Grey Holiday.mp3', 'Poland - Lying Machine.mp3', 'Shearer - Itch.mp3', 'Short Hand - Certain Strangers.mp3', 'The Cute Lepers - Young Hearts.mp3', 'The Embarrassment - Patio Set.mp3', 'The J Arthur Keenes Band - The Boring World of Niels Bohr.mp3', 'The Oranges Band - Ride the Nuclear Wave.mp3', 'Wann - Happy Birthday.mp3', 'ZOELEELA - Jewel.mp3']\n",
      "['Bam Bam - Hi-Q', 'Benji Cossa - New Flowers (Fast 4-track Version)', 'Bessie Smith - My Sweetie Went Away', 'David Rovics - We Just Want The World', 'deef - Ein sonniger Tag mit dir', 'Dragon Or Emperor - Part of Me Says', 'Grand Mal - Children of Light', 'Home Blitz - Secret Wave', 'Josh Woodward - Cien Volando', 'Los Steaks - Sunday Girls', 'Mia Doi Todd - I gave you my home', 'Orange Peels - Grey Holiday', 'Poland - Lying Machine', 'Shearer - Itch', 'Short Hand - Certain Strangers', 'The Cute Lepers - Young Hearts', 'The Embarrassment - Patio Set', 'The J Arthur Keenes Band - The Boring World of Niels Bohr', 'The Oranges Band - Ride the Nuclear Wave', 'Wann - Happy Birthday', 'ZOELEELA - Jewel']\n"
     ]
    }
   ],
   "source": [
    "# Mashup with mashup_technic_fit_phase_repitch method on all musics from \n",
    "from os import listdir, path\n",
    "\n",
    "# Liste des fichiers dans le dossier Musiques\n",
    "musiques = listdir(\"./musiques\")\n",
    "print(musiques)\n",
    "musics = []\n",
    "# Boucle pour analyser chaque fichier\n",
    "for i in range(len(musiques)):\n",
    "    fichier = musiques[i]\n",
    "\n",
    "    # On extrait le nom du fichier sans l'extension\n",
    "    nom_sans_extension = path.splitext(fichier)[0]\n",
    "    musics.append(nom_sans_extension)\n",
    "print(musics)\n"
   ]
  },
  {
   "cell_type": "code",
   "execution_count": 17,
   "metadata": {},
   "outputs": [
    {
     "name": "stdout",
     "output_type": "stream",
     "text": [
      "Requirement already satisfied: soundfile in /home/leami/myenv/lib/python3.12/site-packages (0.13.1)\r\n",
      "Requirement already satisfied: cffi>=1.0 in /home/leami/myenv/lib/python3.12/site-packages (from soundfile) (1.17.1)\r\n",
      "Requirement already satisfied: numpy in /home/leami/myenv/lib/python3.12/site-packages (from soundfile) (2.1.0)\r\n",
      "Requirement already satisfied: pycparser in /home/leami/myenv/lib/python3.12/site-packages (from cffi>=1.0->soundfile) (2.22)\r\n"
     ]
    }
   ],
   "source": [
    "!pip install soundfile"
   ]
  },
  {
   "cell_type": "code",
   "execution_count": null,
   "metadata": {
    "scrolled": false
   },
   "outputs": [
    {
     "name": "stdout",
     "output_type": "stream",
     "text": [
      "Song 1: Bam Bam - Hi-Q\n",
      "Song 2: Benji Cossa - New Flowers (Fast 4-track Version)\n",
      "Le fichier Mashups/Bam Bam - Hi-Q_Benji Cossa - New Flowers (Fast 4-track Version).mp3 existe déjà, skipping mashup.\n",
      "Song 1: Bam Bam - Hi-Q\n",
      "Song 2: Bessie Smith - My Sweetie Went Away\n",
      "Le fichier Mashups/Bam Bam - Hi-Q_Bessie Smith - My Sweetie Went Away.mp3 existe déjà, skipping mashup.\n",
      "Song 1: Bam Bam - Hi-Q\n",
      "Song 2: David Rovics - We Just Want The World\n",
      "Le fichier Mashups/Bam Bam - Hi-Q_David Rovics - We Just Want The World.mp3 existe déjà, skipping mashup.\n",
      "Song 1: Bam Bam - Hi-Q\n",
      "Song 2: deef - Ein sonniger Tag mit dir\n",
      "Le fichier Mashups/Bam Bam - Hi-Q_deef - Ein sonniger Tag mit dir.mp3 existe déjà, skipping mashup.\n",
      "Song 1: Bam Bam - Hi-Q\n",
      "Song 2: Dragon Or Emperor - Part of Me Says\n",
      "Le fichier Mashups/Bam Bam - Hi-Q_Dragon Or Emperor - Part of Me Says.mp3 existe déjà, skipping mashup.\n",
      "Song 1: Bam Bam - Hi-Q\n",
      "Song 2: Grand Mal - Children of Light\n",
      "Le fichier Mashups/Bam Bam - Hi-Q_Grand Mal - Children of Light.mp3 existe déjà, skipping mashup.\n",
      "Song 1: Bam Bam - Hi-Q\n",
      "Song 2: Home Blitz - Secret Wave\n",
      "Le fichier Mashups/Bam Bam - Hi-Q_Home Blitz - Secret Wave.mp3 existe déjà, skipping mashup.\n",
      "Song 1: Bam Bam - Hi-Q\n",
      "Song 2: Josh Woodward - Cien Volando\n",
      "Le fichier Mashups/Bam Bam - Hi-Q_Josh Woodward - Cien Volando.mp3 existe déjà, skipping mashup.\n",
      "Song 1: Bam Bam - Hi-Q\n",
      "Song 2: Los Steaks - Sunday Girls\n",
      "Le fichier Mashups/Bam Bam - Hi-Q_Los Steaks - Sunday Girls.mp3 existe déjà, skipping mashup.\n",
      "Song 1: Bam Bam - Hi-Q\n",
      "Song 2: Mia Doi Todd - I gave you my home\n",
      "Le fichier Mashups/Bam Bam - Hi-Q_Mia Doi Todd - I gave you my home.mp3 existe déjà, skipping mashup.\n",
      "Song 1: Bam Bam - Hi-Q\n",
      "Song 2: Orange Peels - Grey Holiday\n",
      "Le fichier Mashups/Bam Bam - Hi-Q_Orange Peels - Grey Holiday.mp3 existe déjà, skipping mashup.\n",
      "Song 1: Bam Bam - Hi-Q\n",
      "Song 2: Poland - Lying Machine\n",
      "Le fichier Mashups/Bam Bam - Hi-Q_Poland - Lying Machine.mp3 existe déjà, skipping mashup.\n",
      "Song 1: Bam Bam - Hi-Q\n",
      "Song 2: Shearer - Itch\n",
      "Le fichier Mashups/Bam Bam - Hi-Q_Shearer - Itch.mp3 existe déjà, skipping mashup.\n",
      "Song 1: Bam Bam - Hi-Q\n",
      "Song 2: Short Hand - Certain Strangers\n",
      "Le fichier Mashups/Bam Bam - Hi-Q_Short Hand - Certain Strangers.mp3 existe déjà, skipping mashup.\n",
      "Song 1: Bam Bam - Hi-Q\n",
      "Song 2: The Cute Lepers - Young Hearts\n",
      "Le fichier Mashups/Bam Bam - Hi-Q_The Cute Lepers - Young Hearts.mp3 existe déjà, skipping mashup.\n",
      "Song 1: Bam Bam - Hi-Q\n",
      "Song 2: The Embarrassment - Patio Set\n",
      "Le fichier Mashups/Bam Bam - Hi-Q_The Embarrassment - Patio Set.mp3 existe déjà, skipping mashup.\n",
      "Song 1: Bam Bam - Hi-Q\n",
      "Song 2: The J Arthur Keenes Band - The Boring World of Niels Bohr\n",
      "Le fichier Mashups/Bam Bam - Hi-Q_The J Arthur Keenes Band - The Boring World of Niels Bohr.mp3 existe déjà, skipping mashup.\n",
      "Song 1: Bam Bam - Hi-Q\n",
      "Song 2: The Oranges Band - Ride the Nuclear Wave\n",
      "Le fichier Mashups/Bam Bam - Hi-Q_The Oranges Band - Ride the Nuclear Wave.mp3 existe déjà, skipping mashup.\n",
      "Song 1: Bam Bam - Hi-Q\n",
      "Song 2: Wann - Happy Birthday\n",
      "Le fichier Mashups/Bam Bam - Hi-Q_Wann - Happy Birthday.mp3 existe déjà, skipping mashup.\n",
      "Song 1: Bam Bam - Hi-Q\n",
      "Song 2: ZOELEELA - Jewel\n",
      "Le fichier Mashups/Bam Bam - Hi-Q_ZOELEELA - Jewel.mp3 existe déjà, skipping mashup.\n",
      "Song 1: Benji Cossa - New Flowers (Fast 4-track Version)\n",
      "Song 2: Bam Bam - Hi-Q\n",
      "Le fichier Mashups/Benji Cossa - New Flowers (Fast 4-track Version)_Bam Bam - Hi-Q.mp3 existe déjà, skipping mashup.\n",
      "Song 1: Benji Cossa - New Flowers (Fast 4-track Version)\n",
      "Song 2: Bessie Smith - My Sweetie Went Away\n",
      "Le fichier Mashups/Benji Cossa - New Flowers (Fast 4-track Version)_Bessie Smith - My Sweetie Went Away.mp3 existe déjà, skipping mashup.\n",
      "Song 1: Benji Cossa - New Flowers (Fast 4-track Version)\n",
      "Song 2: David Rovics - We Just Want The World\n",
      "Le fichier Mashups/Benji Cossa - New Flowers (Fast 4-track Version)_David Rovics - We Just Want The World.mp3 existe déjà, skipping mashup.\n",
      "Song 1: Benji Cossa - New Flowers (Fast 4-track Version)\n",
      "Song 2: deef - Ein sonniger Tag mit dir\n",
      "Le fichier Mashups/Benji Cossa - New Flowers (Fast 4-track Version)_deef - Ein sonniger Tag mit dir.mp3 existe déjà, skipping mashup.\n",
      "Song 1: Benji Cossa - New Flowers (Fast 4-track Version)\n",
      "Song 2: Dragon Or Emperor - Part of Me Says\n",
      "Le fichier Mashups/Benji Cossa - New Flowers (Fast 4-track Version)_Dragon Or Emperor - Part of Me Says.mp3 existe déjà, skipping mashup.\n",
      "Song 1: Benji Cossa - New Flowers (Fast 4-track Version)\n",
      "Song 2: Grand Mal - Children of Light\n",
      "Le fichier Mashups/Benji Cossa - New Flowers (Fast 4-track Version)_Grand Mal - Children of Light.mp3 existe déjà, skipping mashup.\n",
      "Song 1: Benji Cossa - New Flowers (Fast 4-track Version)\n",
      "Song 2: Home Blitz - Secret Wave\n",
      "Le fichier Mashups/Benji Cossa - New Flowers (Fast 4-track Version)_Home Blitz - Secret Wave.mp3 existe déjà, skipping mashup.\n",
      "Song 1: Benji Cossa - New Flowers (Fast 4-track Version)\n",
      "Song 2: Josh Woodward - Cien Volando\n",
      "Le fichier Mashups/Benji Cossa - New Flowers (Fast 4-track Version)_Josh Woodward - Cien Volando.mp3 existe déjà, skipping mashup.\n",
      "Song 1: Benji Cossa - New Flowers (Fast 4-track Version)\n",
      "Song 2: Los Steaks - Sunday Girls\n",
      "Le fichier Mashups/Benji Cossa - New Flowers (Fast 4-track Version)_Los Steaks - Sunday Girls.mp3 existe déjà, skipping mashup.\n",
      "Song 1: Benji Cossa - New Flowers (Fast 4-track Version)\n",
      "Song 2: Mia Doi Todd - I gave you my home\n",
      "Le fichier Mashups/Benji Cossa - New Flowers (Fast 4-track Version)_Mia Doi Todd - I gave you my home.mp3 existe déjà, skipping mashup.\n",
      "Song 1: Benji Cossa - New Flowers (Fast 4-track Version)\n",
      "Song 2: Orange Peels - Grey Holiday\n",
      "Le fichier Mashups/Benji Cossa - New Flowers (Fast 4-track Version)_Orange Peels - Grey Holiday.mp3 existe déjà, skipping mashup.\n",
      "Song 1: Benji Cossa - New Flowers (Fast 4-track Version)\n",
      "Song 2: Poland - Lying Machine\n",
      "Le fichier Mashups/Benji Cossa - New Flowers (Fast 4-track Version)_Poland - Lying Machine.mp3 existe déjà, skipping mashup.\n",
      "Song 1: Benji Cossa - New Flowers (Fast 4-track Version)\n",
      "Song 2: Shearer - Itch\n",
      "Le fichier Mashups/Benji Cossa - New Flowers (Fast 4-track Version)_Shearer - Itch.mp3 existe déjà, skipping mashup.\n",
      "Song 1: Benji Cossa - New Flowers (Fast 4-track Version)\n",
      "Song 2: Short Hand - Certain Strangers\n",
      "Le fichier Mashups/Benji Cossa - New Flowers (Fast 4-track Version)_Short Hand - Certain Strangers.mp3 existe déjà, skipping mashup.\n",
      "Song 1: Benji Cossa - New Flowers (Fast 4-track Version)\n",
      "Song 2: The Cute Lepers - Young Hearts\n",
      "Le fichier Mashups/Benji Cossa - New Flowers (Fast 4-track Version)_The Cute Lepers - Young Hearts.mp3 existe déjà, skipping mashup.\n",
      "Song 1: Benji Cossa - New Flowers (Fast 4-track Version)\n",
      "Song 2: The Embarrassment - Patio Set\n",
      "Le fichier Mashups/Benji Cossa - New Flowers (Fast 4-track Version)_The Embarrassment - Patio Set.mp3 existe déjà, skipping mashup.\n",
      "Song 1: Benji Cossa - New Flowers (Fast 4-track Version)\n",
      "Song 2: The J Arthur Keenes Band - The Boring World of Niels Bohr\n",
      "Le fichier Mashups/Benji Cossa - New Flowers (Fast 4-track Version)_The J Arthur Keenes Band - The Boring World of Niels Bohr.mp3 existe déjà, skipping mashup.\n",
      "Song 1: Benji Cossa - New Flowers (Fast 4-track Version)\n",
      "Song 2: The Oranges Band - Ride the Nuclear Wave\n",
      "Le fichier Mashups/Benji Cossa - New Flowers (Fast 4-track Version)_The Oranges Band - Ride the Nuclear Wave.mp3 existe déjà, skipping mashup.\n",
      "Song 1: Benji Cossa - New Flowers (Fast 4-track Version)\n",
      "Song 2: Wann - Happy Birthday\n",
      "Le fichier Mashups/Benji Cossa - New Flowers (Fast 4-track Version)_Wann - Happy Birthday.mp3 existe déjà, skipping mashup.\n",
      "Song 1: Benji Cossa - New Flowers (Fast 4-track Version)\n",
      "Song 2: ZOELEELA - Jewel\n",
      "Le fichier Mashups/Benji Cossa - New Flowers (Fast 4-track Version)_ZOELEELA - Jewel.mp3 existe déjà, skipping mashup.\n",
      "Song 1: Bessie Smith - My Sweetie Went Away\n",
      "Song 2: Bam Bam - Hi-Q\n",
      "Le fichier Mashups/Bessie Smith - My Sweetie Went Away_Bam Bam - Hi-Q.mp3 existe déjà, skipping mashup.\n",
      "Song 1: Bessie Smith - My Sweetie Went Away\n",
      "Song 2: Benji Cossa - New Flowers (Fast 4-track Version)\n",
      "Le fichier Mashups/Bessie Smith - My Sweetie Went Away_Benji Cossa - New Flowers (Fast 4-track Version).mp3 existe déjà, skipping mashup.\n",
      "Song 1: Bessie Smith - My Sweetie Went Away\n",
      "Song 2: David Rovics - We Just Want The World\n",
      "Le fichier Mashups/Bessie Smith - My Sweetie Went Away_David Rovics - We Just Want The World.mp3 existe déjà, skipping mashup.\n",
      "Song 1: Bessie Smith - My Sweetie Went Away\n",
      "Song 2: deef - Ein sonniger Tag mit dir\n",
      "Le fichier Mashups/Bessie Smith - My Sweetie Went Away_deef - Ein sonniger Tag mit dir.mp3 existe déjà, skipping mashup.\n",
      "Song 1: Bessie Smith - My Sweetie Went Away\n",
      "Song 2: Dragon Or Emperor - Part of Me Says\n",
      "Le fichier Mashups/Bessie Smith - My Sweetie Went Away_Dragon Or Emperor - Part of Me Says.mp3 existe déjà, skipping mashup.\n",
      "Song 1: Bessie Smith - My Sweetie Went Away\n",
      "Song 2: Grand Mal - Children of Light\n",
      "Le fichier Mashups/Bessie Smith - My Sweetie Went Away_Grand Mal - Children of Light.mp3 existe déjà, skipping mashup.\n",
      "Song 1: Bessie Smith - My Sweetie Went Away\n",
      "Song 2: Home Blitz - Secret Wave\n",
      "Le fichier Mashups/Bessie Smith - My Sweetie Went Away_Home Blitz - Secret Wave.mp3 existe déjà, skipping mashup.\n",
      "Song 1: Bessie Smith - My Sweetie Went Away\n",
      "Song 2: Josh Woodward - Cien Volando\n",
      "Le fichier Mashups/Bessie Smith - My Sweetie Went Away_Josh Woodward - Cien Volando.mp3 existe déjà, skipping mashup.\n",
      "Song 1: Bessie Smith - My Sweetie Went Away\n",
      "Song 2: Los Steaks - Sunday Girls\n",
      "Le fichier Mashups/Bessie Smith - My Sweetie Went Away_Los Steaks - Sunday Girls.mp3 existe déjà, skipping mashup.\n",
      "Song 1: Bessie Smith - My Sweetie Went Away\n",
      "Song 2: Mia Doi Todd - I gave you my home\n",
      "Le fichier Mashups/Bessie Smith - My Sweetie Went Away_Mia Doi Todd - I gave you my home.mp3 existe déjà, skipping mashup.\n",
      "Song 1: Bessie Smith - My Sweetie Went Away\n",
      "Song 2: Orange Peels - Grey Holiday\n",
      "Le fichier Mashups/Bessie Smith - My Sweetie Went Away_Orange Peels - Grey Holiday.mp3 existe déjà, skipping mashup.\n",
      "Song 1: Bessie Smith - My Sweetie Went Away\n",
      "Song 2: Poland - Lying Machine\n",
      "Le fichier Mashups/Bessie Smith - My Sweetie Went Away_Poland - Lying Machine.mp3 existe déjà, skipping mashup.\n",
      "Song 1: Bessie Smith - My Sweetie Went Away\n",
      "Song 2: Shearer - Itch\n",
      "Le fichier Mashups/Bessie Smith - My Sweetie Went Away_Shearer - Itch.mp3 existe déjà, skipping mashup.\n",
      "Song 1: Bessie Smith - My Sweetie Went Away\n",
      "Song 2: Short Hand - Certain Strangers\n",
      "Le fichier Mashups/Bessie Smith - My Sweetie Went Away_Short Hand - Certain Strangers.mp3 existe déjà, skipping mashup.\n",
      "Song 1: Bessie Smith - My Sweetie Went Away\n",
      "Song 2: The Cute Lepers - Young Hearts\n",
      "Le fichier Mashups/Bessie Smith - My Sweetie Went Away_The Cute Lepers - Young Hearts.mp3 existe déjà, skipping mashup.\n",
      "Song 1: Bessie Smith - My Sweetie Went Away\n",
      "Song 2: The Embarrassment - Patio Set\n",
      "Le fichier Mashups/Bessie Smith - My Sweetie Went Away_The Embarrassment - Patio Set.mp3 existe déjà, skipping mashup.\n",
      "Song 1: Bessie Smith - My Sweetie Went Away\n",
      "Song 2: The J Arthur Keenes Band - The Boring World of Niels Bohr\n",
      "Le fichier Mashups/Bessie Smith - My Sweetie Went Away_The J Arthur Keenes Band - The Boring World of Niels Bohr.mp3 existe déjà, skipping mashup.\n",
      "Song 1: Bessie Smith - My Sweetie Went Away\n",
      "Song 2: The Oranges Band - Ride the Nuclear Wave\n",
      "Le fichier Mashups/Bessie Smith - My Sweetie Went Away_The Oranges Band - Ride the Nuclear Wave.mp3 existe déjà, skipping mashup.\n",
      "Song 1: Bessie Smith - My Sweetie Went Away\n",
      "Song 2: Wann - Happy Birthday\n",
      "Le fichier Mashups/Bessie Smith - My Sweetie Went Away_Wann - Happy Birthday.mp3 existe déjà, skipping mashup.\n",
      "Song 1: Bessie Smith - My Sweetie Went Away\n",
      "Song 2: ZOELEELA - Jewel\n",
      "Le fichier Mashups/Bessie Smith - My Sweetie Went Away_ZOELEELA - Jewel.mp3 existe déjà, skipping mashup.\n",
      "Song 1: David Rovics - We Just Want The World\n",
      "Song 2: Bam Bam - Hi-Q\n",
      "Le fichier Mashups/David Rovics - We Just Want The World_Bam Bam - Hi-Q.mp3 existe déjà, skipping mashup.\n",
      "Song 1: David Rovics - We Just Want The World\n",
      "Song 2: Benji Cossa - New Flowers (Fast 4-track Version)\n",
      "Le fichier Mashups/David Rovics - We Just Want The World_Benji Cossa - New Flowers (Fast 4-track Version).mp3 existe déjà, skipping mashup.\n",
      "Song 1: David Rovics - We Just Want The World\n",
      "Song 2: Bessie Smith - My Sweetie Went Away\n",
      "Le fichier Mashups/David Rovics - We Just Want The World_Bessie Smith - My Sweetie Went Away.mp3 existe déjà, skipping mashup.\n",
      "Song 1: David Rovics - We Just Want The World\n",
      "Song 2: deef - Ein sonniger Tag mit dir\n",
      "Le fichier Mashups/David Rovics - We Just Want The World_deef - Ein sonniger Tag mit dir.mp3 existe déjà, skipping mashup.\n",
      "Song 1: David Rovics - We Just Want The World\n",
      "Song 2: Dragon Or Emperor - Part of Me Says\n",
      "Le fichier Mashups/David Rovics - We Just Want The World_Dragon Or Emperor - Part of Me Says.mp3 existe déjà, skipping mashup.\n",
      "Song 1: David Rovics - We Just Want The World\n",
      "Song 2: Grand Mal - Children of Light\n",
      "Le fichier Mashups/David Rovics - We Just Want The World_Grand Mal - Children of Light.mp3 existe déjà, skipping mashup.\n",
      "Song 1: David Rovics - We Just Want The World\n",
      "Song 2: Home Blitz - Secret Wave\n",
      "Le fichier Mashups/David Rovics - We Just Want The World_Home Blitz - Secret Wave.mp3 existe déjà, skipping mashup.\n",
      "Song 1: David Rovics - We Just Want The World\n",
      "Song 2: Josh Woodward - Cien Volando\n",
      "Le fichier Mashups/David Rovics - We Just Want The World_Josh Woodward - Cien Volando.mp3 existe déjà, skipping mashup.\n",
      "Song 1: David Rovics - We Just Want The World\n",
      "Song 2: Los Steaks - Sunday Girls\n",
      "Le fichier Mashups/David Rovics - We Just Want The World_Los Steaks - Sunday Girls.mp3 existe déjà, skipping mashup.\n",
      "Song 1: David Rovics - We Just Want The World\n",
      "Song 2: Mia Doi Todd - I gave you my home\n",
      "Le fichier Mashups/David Rovics - We Just Want The World_Mia Doi Todd - I gave you my home.mp3 existe déjà, skipping mashup.\n",
      "Song 1: David Rovics - We Just Want The World\n",
      "Song 2: Orange Peels - Grey Holiday\n",
      "Le fichier Mashups/David Rovics - We Just Want The World_Orange Peels - Grey Holiday.mp3 existe déjà, skipping mashup.\n",
      "Song 1: David Rovics - We Just Want The World\n",
      "Song 2: Poland - Lying Machine\n",
      "Le fichier Mashups/David Rovics - We Just Want The World_Poland - Lying Machine.mp3 existe déjà, skipping mashup.\n",
      "Song 1: David Rovics - We Just Want The World\n",
      "Song 2: Shearer - Itch\n",
      "Le fichier Mashups/David Rovics - We Just Want The World_Shearer - Itch.mp3 existe déjà, skipping mashup.\n",
      "Song 1: David Rovics - We Just Want The World\n",
      "Song 2: Short Hand - Certain Strangers\n",
      "Le fichier Mashups/David Rovics - We Just Want The World_Short Hand - Certain Strangers.mp3 existe déjà, skipping mashup.\n",
      "Song 1: David Rovics - We Just Want The World\n",
      "Song 2: The Cute Lepers - Young Hearts\n",
      "Le fichier Mashups/David Rovics - We Just Want The World_The Cute Lepers - Young Hearts.mp3 existe déjà, skipping mashup.\n",
      "Song 1: David Rovics - We Just Want The World\n",
      "Song 2: The Embarrassment - Patio Set\n",
      "Le fichier Mashups/David Rovics - We Just Want The World_The Embarrassment - Patio Set.mp3 existe déjà, skipping mashup.\n",
      "Song 1: David Rovics - We Just Want The World\n",
      "Song 2: The J Arthur Keenes Band - The Boring World of Niels Bohr\n",
      "Le fichier Mashups/David Rovics - We Just Want The World_The J Arthur Keenes Band - The Boring World of Niels Bohr.mp3 existe déjà, skipping mashup.\n",
      "Song 1: David Rovics - We Just Want The World\n",
      "Song 2: The Oranges Band - Ride the Nuclear Wave\n",
      "Le fichier Mashups/David Rovics - We Just Want The World_The Oranges Band - Ride the Nuclear Wave.mp3 existe déjà, skipping mashup.\n",
      "Song 1: David Rovics - We Just Want The World\n",
      "Song 2: Wann - Happy Birthday\n",
      "Le fichier Mashups/David Rovics - We Just Want The World_Wann - Happy Birthday.mp3 existe déjà, skipping mashup.\n",
      "Song 1: David Rovics - We Just Want The World\n",
      "Song 2: ZOELEELA - Jewel\n",
      "Le fichier Mashups/David Rovics - We Just Want The World_ZOELEELA - Jewel.mp3 existe déjà, skipping mashup.\n",
      "Song 1: deef - Ein sonniger Tag mit dir\n",
      "Song 2: Bam Bam - Hi-Q\n",
      "Le fichier Mashups/deef - Ein sonniger Tag mit dir_Bam Bam - Hi-Q.mp3 existe déjà, skipping mashup.\n",
      "Song 1: deef - Ein sonniger Tag mit dir\n",
      "Song 2: Benji Cossa - New Flowers (Fast 4-track Version)\n",
      "Le fichier Mashups/deef - Ein sonniger Tag mit dir_Benji Cossa - New Flowers (Fast 4-track Version).mp3 existe déjà, skipping mashup.\n",
      "Song 1: deef - Ein sonniger Tag mit dir\n",
      "Song 2: Bessie Smith - My Sweetie Went Away\n",
      "Le fichier Mashups/deef - Ein sonniger Tag mit dir_Bessie Smith - My Sweetie Went Away.mp3 existe déjà, skipping mashup.\n",
      "Song 1: deef - Ein sonniger Tag mit dir\n",
      "Song 2: David Rovics - We Just Want The World\n",
      "Le fichier Mashups/deef - Ein sonniger Tag mit dir_David Rovics - We Just Want The World.mp3 existe déjà, skipping mashup.\n",
      "Song 1: deef - Ein sonniger Tag mit dir\n",
      "Song 2: Dragon Or Emperor - Part of Me Says\n",
      "Le fichier Mashups/deef - Ein sonniger Tag mit dir_Dragon Or Emperor - Part of Me Says.mp3 existe déjà, skipping mashup.\n",
      "Song 1: deef - Ein sonniger Tag mit dir\n",
      "Song 2: Grand Mal - Children of Light\n",
      "Le fichier Mashups/deef - Ein sonniger Tag mit dir_Grand Mal - Children of Light.mp3 existe déjà, skipping mashup.\n",
      "Song 1: deef - Ein sonniger Tag mit dir\n",
      "Song 2: Home Blitz - Secret Wave\n",
      "Le fichier Mashups/deef - Ein sonniger Tag mit dir_Home Blitz - Secret Wave.mp3 existe déjà, skipping mashup.\n",
      "Song 1: deef - Ein sonniger Tag mit dir\n",
      "Song 2: Josh Woodward - Cien Volando\n",
      "Le fichier Mashups/deef - Ein sonniger Tag mit dir_Josh Woodward - Cien Volando.mp3 existe déjà, skipping mashup.\n",
      "Song 1: deef - Ein sonniger Tag mit dir\n",
      "Song 2: Los Steaks - Sunday Girls\n",
      "Le fichier Mashups/deef - Ein sonniger Tag mit dir_Los Steaks - Sunday Girls.mp3 existe déjà, skipping mashup.\n",
      "Song 1: deef - Ein sonniger Tag mit dir\n",
      "Song 2: Mia Doi Todd - I gave you my home\n",
      "Le fichier Mashups/deef - Ein sonniger Tag mit dir_Mia Doi Todd - I gave you my home.mp3 existe déjà, skipping mashup.\n",
      "Song 1: deef - Ein sonniger Tag mit dir\n",
      "Song 2: Orange Peels - Grey Holiday\n",
      "Le fichier Mashups/deef - Ein sonniger Tag mit dir_Orange Peels - Grey Holiday.mp3 existe déjà, skipping mashup.\n",
      "Song 1: deef - Ein sonniger Tag mit dir\n",
      "Song 2: Poland - Lying Machine\n",
      "Le fichier Mashups/deef - Ein sonniger Tag mit dir_Poland - Lying Machine.mp3 existe déjà, skipping mashup.\n",
      "Song 1: deef - Ein sonniger Tag mit dir\n",
      "Song 2: Shearer - Itch\n",
      "Le fichier Mashups/deef - Ein sonniger Tag mit dir_Shearer - Itch.mp3 existe déjà, skipping mashup.\n",
      "Song 1: deef - Ein sonniger Tag mit dir\n",
      "Song 2: Short Hand - Certain Strangers\n",
      "Le fichier Mashups/deef - Ein sonniger Tag mit dir_Short Hand - Certain Strangers.mp3 existe déjà, skipping mashup.\n",
      "Song 1: deef - Ein sonniger Tag mit dir\n",
      "Song 2: The Cute Lepers - Young Hearts\n",
      "Le fichier Mashups/deef - Ein sonniger Tag mit dir_The Cute Lepers - Young Hearts.mp3 existe déjà, skipping mashup.\n",
      "Song 1: deef - Ein sonniger Tag mit dir\n",
      "Song 2: The Embarrassment - Patio Set\n",
      "Le fichier Mashups/deef - Ein sonniger Tag mit dir_The Embarrassment - Patio Set.mp3 existe déjà, skipping mashup.\n",
      "Song 1: deef - Ein sonniger Tag mit dir\n",
      "Song 2: The J Arthur Keenes Band - The Boring World of Niels Bohr\n",
      "Le fichier Mashups/deef - Ein sonniger Tag mit dir_The J Arthur Keenes Band - The Boring World of Niels Bohr.mp3 existe déjà, skipping mashup.\n",
      "Song 1: deef - Ein sonniger Tag mit dir\n",
      "Song 2: The Oranges Band - Ride the Nuclear Wave\n",
      "Le fichier Mashups/deef - Ein sonniger Tag mit dir_The Oranges Band - Ride the Nuclear Wave.mp3 existe déjà, skipping mashup.\n",
      "Song 1: deef - Ein sonniger Tag mit dir\n",
      "Song 2: Wann - Happy Birthday\n",
      "Le fichier Mashups/deef - Ein sonniger Tag mit dir_Wann - Happy Birthday.mp3 existe déjà, skipping mashup.\n",
      "Song 1: deef - Ein sonniger Tag mit dir\n",
      "Song 2: ZOELEELA - Jewel\n",
      "Le fichier Mashups/deef - Ein sonniger Tag mit dir_ZOELEELA - Jewel.mp3 existe déjà, skipping mashup.\n",
      "Song 1: Dragon Or Emperor - Part of Me Says\n",
      "Song 2: Bam Bam - Hi-Q\n",
      "Le fichier Mashups/Dragon Or Emperor - Part of Me Says_Bam Bam - Hi-Q.mp3 existe déjà, skipping mashup.\n",
      "Song 1: Dragon Or Emperor - Part of Me Says\n",
      "Song 2: Benji Cossa - New Flowers (Fast 4-track Version)\n",
      "Le fichier Mashups/Dragon Or Emperor - Part of Me Says_Benji Cossa - New Flowers (Fast 4-track Version).mp3 existe déjà, skipping mashup.\n",
      "Song 1: Dragon Or Emperor - Part of Me Says\n",
      "Song 2: Bessie Smith - My Sweetie Went Away\n",
      "Le fichier Mashups/Dragon Or Emperor - Part of Me Says_Bessie Smith - My Sweetie Went Away.mp3 existe déjà, skipping mashup.\n",
      "Song 1: Dragon Or Emperor - Part of Me Says\n",
      "Song 2: David Rovics - We Just Want The World\n",
      "Le fichier Mashups/Dragon Or Emperor - Part of Me Says_David Rovics - We Just Want The World.mp3 existe déjà, skipping mashup.\n",
      "Song 1: Dragon Or Emperor - Part of Me Says\n",
      "Song 2: deef - Ein sonniger Tag mit dir\n",
      "Le fichier Mashups/Dragon Or Emperor - Part of Me Says_deef - Ein sonniger Tag mit dir.mp3 existe déjà, skipping mashup.\n",
      "Song 1: Dragon Or Emperor - Part of Me Says\n",
      "Song 2: Grand Mal - Children of Light\n",
      "Le fichier Mashups/Dragon Or Emperor - Part of Me Says_Grand Mal - Children of Light.mp3 existe déjà, skipping mashup.\n",
      "Song 1: Dragon Or Emperor - Part of Me Says\n",
      "Song 2: Home Blitz - Secret Wave\n",
      "Le fichier Mashups/Dragon Or Emperor - Part of Me Says_Home Blitz - Secret Wave.mp3 existe déjà, skipping mashup.\n",
      "Song 1: Dragon Or Emperor - Part of Me Says\n",
      "Song 2: Josh Woodward - Cien Volando\n",
      "Le fichier Mashups/Dragon Or Emperor - Part of Me Says_Josh Woodward - Cien Volando.mp3 existe déjà, skipping mashup.\n",
      "Song 1: Dragon Or Emperor - Part of Me Says\n",
      "Song 2: Los Steaks - Sunday Girls\n",
      "Le fichier Mashups/Dragon Or Emperor - Part of Me Says_Los Steaks - Sunday Girls.mp3 existe déjà, skipping mashup.\n",
      "Song 1: Dragon Or Emperor - Part of Me Says\n",
      "Song 2: Mia Doi Todd - I gave you my home\n",
      "Le fichier Mashups/Dragon Or Emperor - Part of Me Says_Mia Doi Todd - I gave you my home.mp3 existe déjà, skipping mashup.\n",
      "Song 1: Dragon Or Emperor - Part of Me Says\n",
      "Song 2: Orange Peels - Grey Holiday\n",
      "Le fichier Mashups/Dragon Or Emperor - Part of Me Says_Orange Peels - Grey Holiday.mp3 existe déjà, skipping mashup.\n",
      "Song 1: Dragon Or Emperor - Part of Me Says\n",
      "Song 2: Poland - Lying Machine\n",
      "Le fichier Mashups/Dragon Or Emperor - Part of Me Says_Poland - Lying Machine.mp3 existe déjà, skipping mashup.\n",
      "Song 1: Dragon Or Emperor - Part of Me Says\n",
      "Song 2: Shearer - Itch\n",
      "Le fichier Mashups/Dragon Or Emperor - Part of Me Says_Shearer - Itch.mp3 existe déjà, skipping mashup.\n",
      "Song 1: Dragon Or Emperor - Part of Me Says\n",
      "Song 2: Short Hand - Certain Strangers\n",
      "Le fichier Mashups/Dragon Or Emperor - Part of Me Says_Short Hand - Certain Strangers.mp3 existe déjà, skipping mashup.\n",
      "Song 1: Dragon Or Emperor - Part of Me Says\n",
      "Song 2: The Cute Lepers - Young Hearts\n",
      "Le fichier Mashups/Dragon Or Emperor - Part of Me Says_The Cute Lepers - Young Hearts.mp3 existe déjà, skipping mashup.\n",
      "Song 1: Dragon Or Emperor - Part of Me Says\n",
      "Song 2: The Embarrassment - Patio Set\n",
      "Le fichier Mashups/Dragon Or Emperor - Part of Me Says_The Embarrassment - Patio Set.mp3 existe déjà, skipping mashup.\n",
      "Song 1: Dragon Or Emperor - Part of Me Says\n",
      "Song 2: The J Arthur Keenes Band - The Boring World of Niels Bohr\n",
      "Le fichier Mashups/Dragon Or Emperor - Part of Me Says_The J Arthur Keenes Band - The Boring World of Niels Bohr.mp3 existe déjà, skipping mashup.\n",
      "Song 1: Dragon Or Emperor - Part of Me Says\n",
      "Song 2: The Oranges Band - Ride the Nuclear Wave\n",
      "Le fichier Mashups/Dragon Or Emperor - Part of Me Says_The Oranges Band - Ride the Nuclear Wave.mp3 existe déjà, skipping mashup.\n",
      "Song 1: Dragon Or Emperor - Part of Me Says\n",
      "Song 2: Wann - Happy Birthday\n",
      "Le fichier Mashups/Dragon Or Emperor - Part of Me Says_Wann - Happy Birthday.mp3 existe déjà, skipping mashup.\n",
      "Song 1: Dragon Or Emperor - Part of Me Says\n",
      "Song 2: ZOELEELA - Jewel\n",
      "Le fichier Mashups/Dragon Or Emperor - Part of Me Says_ZOELEELA - Jewel.mp3 existe déjà, skipping mashup.\n",
      "Song 1: Grand Mal - Children of Light\n",
      "Song 2: Bam Bam - Hi-Q\n",
      "Le fichier Mashups/Grand Mal - Children of Light_Bam Bam - Hi-Q.mp3 existe déjà, skipping mashup.\n",
      "Song 1: Grand Mal - Children of Light\n",
      "Song 2: Benji Cossa - New Flowers (Fast 4-track Version)\n"
     ]
    },
    {
     "name": "stdout",
     "output_type": "stream",
     "text": [
      "Le fichier Mashups/Grand Mal - Children of Light_Benji Cossa - New Flowers (Fast 4-track Version).mp3 existe déjà, skipping mashup.\n",
      "Song 1: Grand Mal - Children of Light\n",
      "Song 2: Bessie Smith - My Sweetie Went Away\n",
      "Le fichier Mashups/Grand Mal - Children of Light_Bessie Smith - My Sweetie Went Away.mp3 existe déjà, skipping mashup.\n",
      "Song 1: Grand Mal - Children of Light\n",
      "Song 2: David Rovics - We Just Want The World\n",
      "Le fichier Mashups/Grand Mal - Children of Light_David Rovics - We Just Want The World.mp3 existe déjà, skipping mashup.\n",
      "Song 1: Grand Mal - Children of Light\n",
      "Song 2: deef - Ein sonniger Tag mit dir\n",
      "Le fichier Mashups/Grand Mal - Children of Light_deef - Ein sonniger Tag mit dir.mp3 existe déjà, skipping mashup.\n",
      "Song 1: Grand Mal - Children of Light\n",
      "Song 2: Dragon Or Emperor - Part of Me Says\n",
      "Le fichier Mashups/Grand Mal - Children of Light_Dragon Or Emperor - Part of Me Says.mp3 existe déjà, skipping mashup.\n",
      "Song 1: Grand Mal - Children of Light\n",
      "Song 2: Home Blitz - Secret Wave\n",
      "Le fichier Mashups/Grand Mal - Children of Light_Home Blitz - Secret Wave.mp3 existe déjà, skipping mashup.\n",
      "Song 1: Grand Mal - Children of Light\n",
      "Song 2: Josh Woodward - Cien Volando\n",
      "Le fichier Mashups/Grand Mal - Children of Light_Josh Woodward - Cien Volando.mp3 existe déjà, skipping mashup.\n",
      "Song 1: Grand Mal - Children of Light\n",
      "Song 2: Los Steaks - Sunday Girls\n",
      "Le fichier Mashups/Grand Mal - Children of Light_Los Steaks - Sunday Girls.mp3 existe déjà, skipping mashup.\n",
      "Song 1: Grand Mal - Children of Light\n",
      "Song 2: Mia Doi Todd - I gave you my home\n",
      " ********************** Adjusting the song Mia Doi Todd - I gave you my home - bass  **********************\n",
      "Concatenating for segment 'chorus'\n",
      "Concatenating for segment 'chorus'\n",
      "Error fitting segment 'outro' to 0 beats: index -1 is out of bounds for axis 0 with size 0\n",
      "Error fitting segment: outro at 159.78, Error: index -1 is out of bounds for axis 0 with size 0\n",
      " ********************** Adjusting the song Mia Doi Todd - I gave you my home - drums  **********************\n",
      "Concatenating for segment 'chorus'\n",
      "Concatenating for segment 'chorus'\n",
      "Error fitting segment 'outro' to 0 beats: index -1 is out of bounds for axis 0 with size 0\n",
      "Error fitting segment: outro at 159.78, Error: index -1 is out of bounds for axis 0 with size 0\n",
      " ********************** Adjusting the song Mia Doi Todd - I gave you my home - other  **********************\n",
      "Concatenating for segment 'chorus'\n",
      "Concatenating for segment 'chorus'\n",
      "Error fitting segment 'outro' to 0 beats: index -1 is out of bounds for axis 0 with size 0\n",
      "Error fitting segment: outro at 159.78, Error: index -1 is out of bounds for axis 0 with size 0\n",
      "Mashup loudness (before normalization): -20.813291368655126 LUFS\n",
      "Mashup normalized to -14.0 LUFS\n"
     ]
    },
    {
     "name": "stderr",
     "output_type": "stream",
     "text": [
      "/home/leami/myenv/lib/python3.12/site-packages/pyloudnorm/normalize.py:62: UserWarning: Possible clipped samples in output.\n",
      "  warnings.warn(\"Possible clipped samples in output.\")\n"
     ]
    },
    {
     "name": "stdout",
     "output_type": "stream",
     "text": [
      "Le fichier a été sauvegardé dans : Mashups/Grand Mal - Children of Light_Mia Doi Todd - I gave you my home.mp3\n",
      "Song 1: Grand Mal - Children of Light\n",
      "Song 2: Orange Peels - Grey Holiday\n",
      " ********************** Adjusting the song Orange Peels - Grey Holiday - bass  **********************\n",
      "Concatenating for segment 'chorus'\n",
      "Concatenating for segment 'chorus'\n",
      "Concatenating for segment 'chorus'\n",
      "Concatenating for segment 'chorus'\n",
      " ********************** Adjusting the song Orange Peels - Grey Holiday - drums  **********************\n",
      "Concatenating for segment 'chorus'\n",
      "Concatenating for segment 'chorus'\n",
      "Concatenating for segment 'chorus'\n",
      "Concatenating for segment 'chorus'\n",
      " ********************** Adjusting the song Orange Peels - Grey Holiday - other  **********************\n",
      "Concatenating for segment 'chorus'\n",
      "Concatenating for segment 'chorus'\n",
      "Concatenating for segment 'chorus'\n",
      "Concatenating for segment 'chorus'\n",
      "Mashup loudness (before normalization): -18.258058621607933 LUFS\n",
      "Mashup normalized to -14.0 LUFS\n"
     ]
    },
    {
     "name": "stderr",
     "output_type": "stream",
     "text": [
      "/home/leami/myenv/lib/python3.12/site-packages/pyloudnorm/normalize.py:62: UserWarning: Possible clipped samples in output.\n",
      "  warnings.warn(\"Possible clipped samples in output.\")\n"
     ]
    },
    {
     "name": "stdout",
     "output_type": "stream",
     "text": [
      "Le fichier a été sauvegardé dans : Mashups/Grand Mal - Children of Light_Orange Peels - Grey Holiday.mp3\n",
      "Song 1: Grand Mal - Children of Light\n",
      "Song 2: Poland - Lying Machine\n",
      " ********************** Adjusting the song Poland - Lying Machine - bass  **********************\n",
      "Concatenating for segment 'chorus'\n",
      "Concatenating for segment 'chorus'\n",
      "Concatenating for segment 'chorus'\n",
      "Concatenating for segment 'chorus'\n",
      "Concatenating for segment 'chorus'\n",
      "Concatenating for segment 'chorus'\n",
      "Concatenating for segment 'chorus'\n",
      "Concatenating for segment 'chorus'\n",
      "Error fitting segment 'outro' to 0 beats: index -1 is out of bounds for axis 0 with size 0\n",
      "Error fitting segment: outro at 162.69, Error: index -1 is out of bounds for axis 0 with size 0\n",
      " ********************** Adjusting the song Poland - Lying Machine - drums  **********************\n",
      "Concatenating for segment 'chorus'\n",
      "Concatenating for segment 'chorus'\n",
      "Concatenating for segment 'chorus'\n",
      "Concatenating for segment 'chorus'\n",
      "Concatenating for segment 'chorus'\n",
      "Concatenating for segment 'chorus'\n",
      "Concatenating for segment 'chorus'\n",
      "Concatenating for segment 'chorus'\n",
      "Error fitting segment 'outro' to 0 beats: index -1 is out of bounds for axis 0 with size 0\n",
      "Error fitting segment: outro at 162.69, Error: index -1 is out of bounds for axis 0 with size 0\n",
      " ********************** Adjusting the song Poland - Lying Machine - other  **********************\n",
      "Concatenating for segment 'chorus'\n",
      "Concatenating for segment 'chorus'\n",
      "Concatenating for segment 'chorus'\n",
      "Concatenating for segment 'chorus'\n",
      "Concatenating for segment 'chorus'\n",
      "Concatenating for segment 'chorus'\n",
      "Concatenating for segment 'chorus'\n",
      "Concatenating for segment 'chorus'\n",
      "Error fitting segment 'outro' to 0 beats: index -1 is out of bounds for axis 0 with size 0\n",
      "Error fitting segment: outro at 162.69, Error: index -1 is out of bounds for axis 0 with size 0\n",
      "Mashup loudness (before normalization): -15.584435273763583 LUFS\n",
      "Mashup normalized to -14.0 LUFS\n"
     ]
    },
    {
     "name": "stderr",
     "output_type": "stream",
     "text": [
      "/home/leami/myenv/lib/python3.12/site-packages/pyloudnorm/normalize.py:62: UserWarning: Possible clipped samples in output.\n",
      "  warnings.warn(\"Possible clipped samples in output.\")\n"
     ]
    },
    {
     "name": "stdout",
     "output_type": "stream",
     "text": [
      "Le fichier a été sauvegardé dans : Mashups/Grand Mal - Children of Light_Poland - Lying Machine.mp3\n",
      "Song 1: Grand Mal - Children of Light\n",
      "Song 2: Shearer - Itch\n",
      " ********************** Adjusting the song Shearer - Itch - bass  **********************\n",
      "Error fitting segment 'verse' to 32 beats: float division by zero\n",
      "Error fitting segment: verse at 0.0, Error: float division by zero\n",
      "Error fitting segment 'outro' to 0 beats: index -1 is out of bounds for axis 0 with size 0\n",
      "Error fitting segment: outro at 162.68, Error: index -1 is out of bounds for axis 0 with size 0\n",
      " ********************** Adjusting the song Shearer - Itch - drums  **********************\n",
      "Error fitting segment 'verse' to 32 beats: float division by zero\n",
      "Error fitting segment: verse at 0.0, Error: float division by zero\n",
      "Error fitting segment 'outro' to 0 beats: index -1 is out of bounds for axis 0 with size 0\n",
      "Error fitting segment: outro at 162.68, Error: index -1 is out of bounds for axis 0 with size 0\n",
      " ********************** Adjusting the song Shearer - Itch - other  **********************\n",
      "Error fitting segment 'verse' to 32 beats: float division by zero\n",
      "Error fitting segment: verse at 0.0, Error: float division by zero\n",
      "Error fitting segment 'outro' to 0 beats: index -1 is out of bounds for axis 0 with size 0\n",
      "Error fitting segment: outro at 162.68, Error: index -1 is out of bounds for axis 0 with size 0\n",
      "Mashup loudness (before normalization): -18.052982340257472 LUFS\n",
      "Mashup normalized to -14.0 LUFS\n"
     ]
    },
    {
     "name": "stderr",
     "output_type": "stream",
     "text": [
      "/home/leami/myenv/lib/python3.12/site-packages/pyloudnorm/normalize.py:62: UserWarning: Possible clipped samples in output.\n",
      "  warnings.warn(\"Possible clipped samples in output.\")\n"
     ]
    },
    {
     "name": "stdout",
     "output_type": "stream",
     "text": [
      "Le fichier a été sauvegardé dans : Mashups/Grand Mal - Children of Light_Shearer - Itch.mp3\n",
      "Song 1: Grand Mal - Children of Light\n",
      "Song 2: Short Hand - Certain Strangers\n",
      " ********************** Adjusting the song Short Hand - Certain Strangers - bass  **********************\n",
      "Concatenating for segment 'chorus'\n",
      "Concatenating for segment 'chorus'\n",
      "Error fitting segment 'outro' to 0 beats: index -1 is out of bounds for axis 0 with size 0\n",
      "Error fitting segment: outro at 148.32, Error: index -1 is out of bounds for axis 0 with size 0\n",
      " ********************** Adjusting the song Short Hand - Certain Strangers - drums  **********************\n",
      "Concatenating for segment 'chorus'\n",
      "Concatenating for segment 'chorus'\n",
      "Error fitting segment 'outro' to 0 beats: index -1 is out of bounds for axis 0 with size 0\n",
      "Error fitting segment: outro at 148.32, Error: index -1 is out of bounds for axis 0 with size 0\n",
      " ********************** Adjusting the song Short Hand - Certain Strangers - other  **********************\n",
      "Concatenating for segment 'chorus'\n",
      "Concatenating for segment 'chorus'\n",
      "Error fitting segment 'outro' to 0 beats: index -1 is out of bounds for axis 0 with size 0\n",
      "Error fitting segment: outro at 148.32, Error: index -1 is out of bounds for axis 0 with size 0\n",
      "Mashup loudness (before normalization): -17.156734268195287 LUFS\n",
      "Mashup normalized to -14.0 LUFS\n"
     ]
    },
    {
     "name": "stderr",
     "output_type": "stream",
     "text": [
      "/home/leami/myenv/lib/python3.12/site-packages/pyloudnorm/normalize.py:62: UserWarning: Possible clipped samples in output.\n",
      "  warnings.warn(\"Possible clipped samples in output.\")\n"
     ]
    },
    {
     "name": "stdout",
     "output_type": "stream",
     "text": [
      "Le fichier a été sauvegardé dans : Mashups/Grand Mal - Children of Light_Short Hand - Certain Strangers.mp3\n",
      "Song 1: Grand Mal - Children of Light\n",
      "Song 2: The Cute Lepers - Young Hearts\n",
      " ********************** Adjusting the song The Cute Lepers - Young Hearts - bass  **********************\n",
      " ********************** Adjusting the song The Cute Lepers - Young Hearts - drums  **********************\n",
      " ********************** Adjusting the song The Cute Lepers - Young Hearts - other  **********************\n",
      "Mashup loudness (before normalization): -15.919882098875519 LUFS\n",
      "Mashup normalized to -14.0 LUFS\n"
     ]
    },
    {
     "name": "stderr",
     "output_type": "stream",
     "text": [
      "/home/leami/myenv/lib/python3.12/site-packages/pyloudnorm/normalize.py:62: UserWarning: Possible clipped samples in output.\n",
      "  warnings.warn(\"Possible clipped samples in output.\")\n"
     ]
    },
    {
     "name": "stdout",
     "output_type": "stream",
     "text": [
      "Le fichier a été sauvegardé dans : Mashups/Grand Mal - Children of Light_The Cute Lepers - Young Hearts.mp3\n",
      "Song 1: Grand Mal - Children of Light\n",
      "Song 2: The Embarrassment - Patio Set\n",
      " ********************** Adjusting the song The Embarrassment - Patio Set - bass  **********************\n",
      "Concatenating for segment 'chorus'\n",
      "Concatenating for segment 'chorus'\n",
      "Concatenating for segment 'chorus'\n",
      "Concatenating for segment 'chorus'\n",
      "Error fitting segment 'outro' to 0 beats: index -1 is out of bounds for axis 0 with size 0\n",
      "Error fitting segment: outro at 177.11, Error: index -1 is out of bounds for axis 0 with size 0\n",
      " ********************** Adjusting the song The Embarrassment - Patio Set - drums  **********************\n",
      "Concatenating for segment 'chorus'\n",
      "Concatenating for segment 'chorus'\n",
      "Concatenating for segment 'chorus'\n",
      "Concatenating for segment 'chorus'\n",
      "Error fitting segment 'outro' to 0 beats: index -1 is out of bounds for axis 0 with size 0\n",
      "Error fitting segment: outro at 177.11, Error: index -1 is out of bounds for axis 0 with size 0\n",
      " ********************** Adjusting the song The Embarrassment - Patio Set - other  **********************\n",
      "Concatenating for segment 'chorus'\n",
      "Concatenating for segment 'chorus'\n",
      "Concatenating for segment 'chorus'\n",
      "Concatenating for segment 'chorus'\n",
      "Error fitting segment 'outro' to 0 beats: index -1 is out of bounds for axis 0 with size 0\n",
      "Error fitting segment: outro at 177.11, Error: index -1 is out of bounds for axis 0 with size 0\n",
      "Mashup loudness (before normalization): -19.401337750810857 LUFS\n",
      "Mashup normalized to -14.0 LUFS\n"
     ]
    },
    {
     "name": "stderr",
     "output_type": "stream",
     "text": [
      "/home/leami/myenv/lib/python3.12/site-packages/pyloudnorm/normalize.py:62: UserWarning: Possible clipped samples in output.\n",
      "  warnings.warn(\"Possible clipped samples in output.\")\n"
     ]
    },
    {
     "name": "stdout",
     "output_type": "stream",
     "text": [
      "Le fichier a été sauvegardé dans : Mashups/Grand Mal - Children of Light_The Embarrassment - Patio Set.mp3\n",
      "Song 1: Grand Mal - Children of Light\n",
      "Song 2: The J Arthur Keenes Band - The Boring World of Niels Bohr\n",
      " ********************** Adjusting the song The J Arthur Keenes Band - The Boring World of Niels Bohr - bass  **********************\n",
      "Concatenating for segment 'chorus'\n",
      "Concatenating for segment 'chorus'\n",
      "Concatenating for segment 'chorus'\n",
      "Concatenating for segment 'chorus'\n",
      "Error fitting segment 'outro' to 0 beats: index -1 is out of bounds for axis 0 with size 0\n",
      "Error fitting segment: outro at 172.83, Error: index -1 is out of bounds for axis 0 with size 0\n",
      " ********************** Adjusting the song The J Arthur Keenes Band - The Boring World of Niels Bohr - drums  **********************\n",
      "Concatenating for segment 'chorus'\n",
      "Concatenating for segment 'chorus'\n",
      "Concatenating for segment 'chorus'\n",
      "Concatenating for segment 'chorus'\n",
      "Error fitting segment 'outro' to 0 beats: index -1 is out of bounds for axis 0 with size 0\n",
      "Error fitting segment: outro at 172.83, Error: index -1 is out of bounds for axis 0 with size 0\n",
      " ********************** Adjusting the song The J Arthur Keenes Band - The Boring World of Niels Bohr - other  **********************\n",
      "Concatenating for segment 'chorus'\n",
      "Concatenating for segment 'chorus'\n",
      "Concatenating for segment 'chorus'\n",
      "Concatenating for segment 'chorus'\n",
      "Error fitting segment 'outro' to 0 beats: index -1 is out of bounds for axis 0 with size 0\n",
      "Error fitting segment: outro at 172.83, Error: index -1 is out of bounds for axis 0 with size 0\n",
      "Mashup loudness (before normalization): -14.5963341121359 LUFS\n",
      "Mashup normalized to -14.0 LUFS\n"
     ]
    },
    {
     "name": "stderr",
     "output_type": "stream",
     "text": [
      "/home/leami/myenv/lib/python3.12/site-packages/pyloudnorm/normalize.py:62: UserWarning: Possible clipped samples in output.\n",
      "  warnings.warn(\"Possible clipped samples in output.\")\n"
     ]
    },
    {
     "name": "stdout",
     "output_type": "stream",
     "text": [
      "Le fichier a été sauvegardé dans : Mashups/Grand Mal - Children of Light_The J Arthur Keenes Band - The Boring World of Niels Bohr.mp3\n",
      "Song 1: Grand Mal - Children of Light\n",
      "Song 2: The Oranges Band - Ride the Nuclear Wave\n",
      " ********************** Adjusting the song The Oranges Band - Ride the Nuclear Wave - bass  **********************\n",
      "Concatenating for segment 'chorus'\n",
      "Concatenating for segment 'chorus'\n",
      "Error fitting segment 'outro' to 0 beats: index -1 is out of bounds for axis 0 with size 0\n",
      "Error fitting segment: outro at 161.12, Error: index -1 is out of bounds for axis 0 with size 0\n",
      " ********************** Adjusting the song The Oranges Band - Ride the Nuclear Wave - drums  **********************\n",
      "Concatenating for segment 'chorus'\n",
      "Concatenating for segment 'chorus'\n",
      "Error fitting segment 'outro' to 0 beats: index -1 is out of bounds for axis 0 with size 0\n",
      "Error fitting segment: outro at 161.12, Error: index -1 is out of bounds for axis 0 with size 0\n",
      " ********************** Adjusting the song The Oranges Band - Ride the Nuclear Wave - other  **********************\n",
      "Concatenating for segment 'chorus'\n",
      "Concatenating for segment 'chorus'\n",
      "Error fitting segment 'outro' to 0 beats: index -1 is out of bounds for axis 0 with size 0\n",
      "Error fitting segment: outro at 161.12, Error: index -1 is out of bounds for axis 0 with size 0\n",
      "Mashup loudness (before normalization): -16.104854382059393 LUFS\n",
      "Mashup normalized to -14.0 LUFS\n"
     ]
    },
    {
     "name": "stderr",
     "output_type": "stream",
     "text": [
      "/home/leami/myenv/lib/python3.12/site-packages/pyloudnorm/normalize.py:62: UserWarning: Possible clipped samples in output.\n",
      "  warnings.warn(\"Possible clipped samples in output.\")\n"
     ]
    },
    {
     "name": "stdout",
     "output_type": "stream",
     "text": [
      "Le fichier a été sauvegardé dans : Mashups/Grand Mal - Children of Light_The Oranges Band - Ride the Nuclear Wave.mp3\n",
      "Song 1: Grand Mal - Children of Light\n",
      "Song 2: Wann - Happy Birthday\n",
      " ********************** Adjusting the song Wann - Happy Birthday - bass  **********************\n",
      "Concatenating for segment 'chorus'\n",
      "Concatenating for segment 'chorus'\n",
      "Concatenating for segment 'chorus'\n",
      "Concatenating for segment 'chorus'\n",
      "Concatenating for segment 'chorus'\n",
      "Concatenating for segment 'chorus'\n",
      "Concatenating for segment 'chorus'\n",
      "Concatenating for segment 'chorus'\n",
      "Concatenating for segment 'chorus'\n",
      "Error fitting segment 'outro' to 1 beats: float division by zero\n",
      "Error fitting segment: outro at 178.24, Error: float division by zero\n",
      " ********************** Adjusting the song Wann - Happy Birthday - drums  **********************\n",
      "Concatenating for segment 'chorus'\n",
      "Concatenating for segment 'chorus'\n",
      "Concatenating for segment 'chorus'\n",
      "Concatenating for segment 'chorus'\n",
      "Concatenating for segment 'chorus'\n",
      "Concatenating for segment 'chorus'\n",
      "Concatenating for segment 'chorus'\n",
      "Concatenating for segment 'chorus'\n",
      "Concatenating for segment 'chorus'\n",
      "Error fitting segment 'outro' to 1 beats: float division by zero\n",
      "Error fitting segment: outro at 178.24, Error: float division by zero\n",
      " ********************** Adjusting the song Wann - Happy Birthday - other  **********************\n",
      "Concatenating for segment 'chorus'\n",
      "Concatenating for segment 'chorus'\n",
      "Concatenating for segment 'chorus'\n",
      "Concatenating for segment 'chorus'\n",
      "Concatenating for segment 'chorus'\n",
      "Concatenating for segment 'chorus'\n",
      "Concatenating for segment 'chorus'\n",
      "Concatenating for segment 'chorus'\n",
      "Concatenating for segment 'chorus'\n",
      "Error fitting segment 'outro' to 1 beats: float division by zero\n",
      "Error fitting segment: outro at 178.24, Error: float division by zero\n",
      "Mashup loudness (before normalization): -18.286834117078985 LUFS\n",
      "Mashup normalized to -14.0 LUFS\n"
     ]
    },
    {
     "name": "stderr",
     "output_type": "stream",
     "text": [
      "/home/leami/myenv/lib/python3.12/site-packages/pyloudnorm/normalize.py:62: UserWarning: Possible clipped samples in output.\n",
      "  warnings.warn(\"Possible clipped samples in output.\")\n"
     ]
    },
    {
     "name": "stdout",
     "output_type": "stream",
     "text": [
      "Le fichier a été sauvegardé dans : Mashups/Grand Mal - Children of Light_Wann - Happy Birthday.mp3\n",
      "Song 1: Grand Mal - Children of Light\n",
      "Song 2: ZOELEELA - Jewel\n",
      " ********************** Adjusting the song ZOELEELA - Jewel - bass  **********************\n",
      "Concatenating for segment 'chorus'\n",
      "Concatenating for segment 'chorus'\n",
      "Concatenating for segment 'chorus'\n",
      "Concatenating for segment 'chorus'\n",
      " ********************** Adjusting the song ZOELEELA - Jewel - drums  **********************\n",
      "Concatenating for segment 'chorus'\n",
      "Concatenating for segment 'chorus'\n",
      "Concatenating for segment 'chorus'\n",
      "Concatenating for segment 'chorus'\n",
      " ********************** Adjusting the song ZOELEELA - Jewel - other  **********************\n",
      "Concatenating for segment 'chorus'\n",
      "Concatenating for segment 'chorus'\n",
      "Concatenating for segment 'chorus'\n",
      "Concatenating for segment 'chorus'\n",
      "Mashup loudness (before normalization): -17.52965670670604 LUFS\n",
      "Mashup normalized to -14.0 LUFS\n"
     ]
    },
    {
     "name": "stderr",
     "output_type": "stream",
     "text": [
      "/home/leami/myenv/lib/python3.12/site-packages/pyloudnorm/normalize.py:62: UserWarning: Possible clipped samples in output.\n",
      "  warnings.warn(\"Possible clipped samples in output.\")\n"
     ]
    },
    {
     "name": "stdout",
     "output_type": "stream",
     "text": [
      "Le fichier a été sauvegardé dans : Mashups/Grand Mal - Children of Light_ZOELEELA - Jewel.mp3\n",
      "Song 1: Home Blitz - Secret Wave\n",
      "Song 2: Bam Bam - Hi-Q\n",
      " ********************** Adjusting the song Bam Bam - Hi-Q - bass  **********************\n",
      "Concatenating for segment 'verse'\n",
      "Concatenating for segment 'verse'\n",
      "Concatenating for segment 'verse'\n",
      "Concatenating for segment 'verse'\n",
      "Concatenating for segment 'verse'\n",
      "Concatenating for segment 'verse'\n",
      "Concatenating for segment 'verse'\n",
      "Concatenating for segment 'chorus'\n",
      "Error fitting segment 'outro' to 40 beats: float division by zero\n",
      "Error fitting segment: outro at 172.22, Error: float division by zero\n",
      " ********************** Adjusting the song Bam Bam - Hi-Q - drums  **********************\n",
      "Concatenating for segment 'verse'\n",
      "Concatenating for segment 'verse'\n",
      "Concatenating for segment 'verse'\n",
      "Concatenating for segment 'verse'\n",
      "Concatenating for segment 'verse'\n",
      "Concatenating for segment 'verse'\n",
      "Concatenating for segment 'verse'\n",
      "Concatenating for segment 'chorus'\n",
      "Error fitting segment 'outro' to 40 beats: float division by zero\n",
      "Error fitting segment: outro at 172.22, Error: float division by zero\n",
      " ********************** Adjusting the song Bam Bam - Hi-Q - other  **********************\n",
      "Concatenating for segment 'verse'\n",
      "Concatenating for segment 'verse'\n",
      "Concatenating for segment 'verse'\n",
      "Concatenating for segment 'verse'\n",
      "Concatenating for segment 'verse'\n",
      "Concatenating for segment 'verse'\n",
      "Concatenating for segment 'verse'\n",
      "Concatenating for segment 'chorus'\n",
      "Error fitting segment 'outro' to 40 beats: float division by zero\n",
      "Error fitting segment: outro at 172.22, Error: float division by zero\n",
      "Mashup loudness (before normalization): -16.050135708733343 LUFS\n",
      "Mashup normalized to -14.0 LUFS\n"
     ]
    },
    {
     "name": "stderr",
     "output_type": "stream",
     "text": [
      "/home/leami/myenv/lib/python3.12/site-packages/pyloudnorm/normalize.py:62: UserWarning: Possible clipped samples in output.\n",
      "  warnings.warn(\"Possible clipped samples in output.\")\n"
     ]
    },
    {
     "name": "stdout",
     "output_type": "stream",
     "text": [
      "Le fichier a été sauvegardé dans : Mashups/Home Blitz - Secret Wave_Bam Bam - Hi-Q.mp3\n",
      "Song 1: Home Blitz - Secret Wave\n",
      "Song 2: Benji Cossa - New Flowers (Fast 4-track Version)\n",
      " ********************** Adjusting the song Benji Cossa - New Flowers (Fast 4-track Version) - bass  **********************\n",
      "Error fitting segment 'verse' to 52 beats: float division by zero\n",
      "Error fitting segment: verse at 0.0, Error: float division by zero\n",
      "Concatenating for segment 'verse'\n",
      "Concatenating for segment 'verse'\n",
      "Concatenating for segment 'verse'\n",
      "Concatenating for segment 'verse'\n",
      "Concatenating for segment 'chorus'\n",
      " ********************** Adjusting the song Benji Cossa - New Flowers (Fast 4-track Version) - drums  **********************\n",
      "Error fitting segment 'verse' to 52 beats: float division by zero\n",
      "Error fitting segment: verse at 0.0, Error: float division by zero\n",
      "Concatenating for segment 'verse'\n",
      "Concatenating for segment 'verse'\n",
      "Concatenating for segment 'verse'\n",
      "Concatenating for segment 'verse'\n",
      "Concatenating for segment 'chorus'\n",
      " ********************** Adjusting the song Benji Cossa - New Flowers (Fast 4-track Version) - other  **********************\n",
      "Error fitting segment 'verse' to 52 beats: float division by zero\n",
      "Error fitting segment: verse at 0.0, Error: float division by zero\n",
      "Concatenating for segment 'verse'\n",
      "Concatenating for segment 'verse'\n",
      "Concatenating for segment 'verse'\n",
      "Concatenating for segment 'verse'\n",
      "Concatenating for segment 'chorus'\n",
      "Mashup loudness (before normalization): -13.797030053379206 LUFS\n",
      "Mashup normalized to -14.0 LUFS\n"
     ]
    },
    {
     "name": "stderr",
     "output_type": "stream",
     "text": [
      "/home/leami/myenv/lib/python3.12/site-packages/pyloudnorm/normalize.py:62: UserWarning: Possible clipped samples in output.\n",
      "  warnings.warn(\"Possible clipped samples in output.\")\n"
     ]
    },
    {
     "name": "stdout",
     "output_type": "stream",
     "text": [
      "Le fichier a été sauvegardé dans : Mashups/Home Blitz - Secret Wave_Benji Cossa - New Flowers (Fast 4-track Version).mp3\n",
      "Song 1: Home Blitz - Secret Wave\n",
      "Song 2: Bessie Smith - My Sweetie Went Away\n",
      " ********************** Adjusting the song Bessie Smith - My Sweetie Went Away - bass  **********************\n",
      "Concatenating for segment 'verse'\n",
      "Concatenating for segment 'verse'\n",
      "Concatenating for segment 'verse'\n",
      "Concatenating for segment 'chorus'\n",
      " ********************** Adjusting the song Bessie Smith - My Sweetie Went Away - drums  **********************\n",
      "Concatenating for segment 'verse'\n",
      "Concatenating for segment 'verse'\n",
      "Concatenating for segment 'verse'\n",
      "Concatenating for segment 'chorus'\n",
      " ********************** Adjusting the song Bessie Smith - My Sweetie Went Away - other  **********************\n",
      "Concatenating for segment 'verse'\n",
      "Concatenating for segment 'verse'\n",
      "Concatenating for segment 'verse'\n",
      "Concatenating for segment 'chorus'\n",
      "Mashup loudness (before normalization): -17.94072362447213 LUFS\n",
      "Mashup normalized to -14.0 LUFS\n"
     ]
    },
    {
     "name": "stderr",
     "output_type": "stream",
     "text": [
      "/home/leami/myenv/lib/python3.12/site-packages/pyloudnorm/normalize.py:62: UserWarning: Possible clipped samples in output.\n",
      "  warnings.warn(\"Possible clipped samples in output.\")\n"
     ]
    },
    {
     "name": "stdout",
     "output_type": "stream",
     "text": [
      "Le fichier a été sauvegardé dans : Mashups/Home Blitz - Secret Wave_Bessie Smith - My Sweetie Went Away.mp3\n",
      "Song 1: Home Blitz - Secret Wave\n",
      "Song 2: David Rovics - We Just Want The World\n",
      " ********************** Adjusting the song David Rovics - We Just Want The World - bass  **********************\n",
      "Concatenating for segment 'verse'\n",
      "Concatenating for segment 'verse'\n",
      "Concatenating for segment 'outro'\n",
      " ********************** Adjusting the song David Rovics - We Just Want The World - drums  **********************\n",
      "Concatenating for segment 'verse'\n",
      "Concatenating for segment 'verse'\n",
      "Concatenating for segment 'outro'\n",
      " ********************** Adjusting the song David Rovics - We Just Want The World - other  **********************\n",
      "Concatenating for segment 'verse'\n",
      "Concatenating for segment 'verse'\n",
      "Concatenating for segment 'outro'\n",
      "Mashup loudness (before normalization): -18.067718356105775 LUFS\n",
      "Mashup normalized to -14.0 LUFS\n"
     ]
    },
    {
     "name": "stderr",
     "output_type": "stream",
     "text": [
      "/home/leami/myenv/lib/python3.12/site-packages/pyloudnorm/normalize.py:62: UserWarning: Possible clipped samples in output.\n",
      "  warnings.warn(\"Possible clipped samples in output.\")\n"
     ]
    },
    {
     "name": "stdout",
     "output_type": "stream",
     "text": [
      "Le fichier a été sauvegardé dans : Mashups/Home Blitz - Secret Wave_David Rovics - We Just Want The World.mp3\n",
      "Song 1: Home Blitz - Secret Wave\n",
      "Song 2: deef - Ein sonniger Tag mit dir\n",
      " ********************** Adjusting the song deef - Ein sonniger Tag mit dir - bass  **********************\n",
      "Concatenating for segment 'chorus'\n",
      " ********************** Adjusting the song deef - Ein sonniger Tag mit dir - drums  **********************\n",
      "Concatenating for segment 'chorus'\n",
      " ********************** Adjusting the song deef - Ein sonniger Tag mit dir - other  **********************\n",
      "Concatenating for segment 'chorus'\n",
      "Mashup loudness (before normalization): -17.1226819562218 LUFS\n",
      "Mashup normalized to -14.0 LUFS\n"
     ]
    },
    {
     "name": "stderr",
     "output_type": "stream",
     "text": [
      "/home/leami/myenv/lib/python3.12/site-packages/pyloudnorm/normalize.py:62: UserWarning: Possible clipped samples in output.\n",
      "  warnings.warn(\"Possible clipped samples in output.\")\n"
     ]
    },
    {
     "name": "stdout",
     "output_type": "stream",
     "text": [
      "Le fichier a été sauvegardé dans : Mashups/Home Blitz - Secret Wave_deef - Ein sonniger Tag mit dir.mp3\n",
      "Song 1: Home Blitz - Secret Wave\n",
      "Song 2: Dragon Or Emperor - Part of Me Says\n",
      " ********************** Adjusting the song Dragon Or Emperor - Part of Me Says - bass  **********************\n",
      "Concatenating for segment 'verse'\n",
      "Concatenating for segment 'verse'\n",
      "Concatenating for segment 'verse'\n",
      "Concatenating for segment 'verse'\n",
      "Concatenating for segment 'verse'\n",
      "Concatenating for segment 'verse'\n",
      "Concatenating for segment 'verse'\n",
      "Concatenating for segment 'verse'\n",
      "Concatenating for segment 'chorus'\n",
      "Error fitting segment 'outro' to 40 beats: float division by zero\n",
      "Error fitting segment: outro at 187.02, Error: float division by zero\n",
      " ********************** Adjusting the song Dragon Or Emperor - Part of Me Says - drums  **********************\n",
      "Concatenating for segment 'verse'\n",
      "Concatenating for segment 'verse'\n",
      "Concatenating for segment 'verse'\n",
      "Concatenating for segment 'verse'\n",
      "Concatenating for segment 'verse'\n",
      "Concatenating for segment 'verse'\n",
      "Concatenating for segment 'verse'\n",
      "Concatenating for segment 'verse'\n",
      "Concatenating for segment 'chorus'\n",
      "Error fitting segment 'outro' to 40 beats: float division by zero\n",
      "Error fitting segment: outro at 187.02, Error: float division by zero\n",
      " ********************** Adjusting the song Dragon Or Emperor - Part of Me Says - other  **********************\n",
      "Concatenating for segment 'verse'\n",
      "Concatenating for segment 'verse'\n",
      "Concatenating for segment 'verse'\n",
      "Concatenating for segment 'verse'\n",
      "Concatenating for segment 'verse'\n",
      "Concatenating for segment 'verse'\n",
      "Concatenating for segment 'verse'\n",
      "Concatenating for segment 'verse'\n",
      "Concatenating for segment 'chorus'\n",
      "Error fitting segment 'outro' to 40 beats: float division by zero\n",
      "Error fitting segment: outro at 187.02, Error: float division by zero\n",
      "Mashup loudness (before normalization): -13.858026177309489 LUFS\n",
      "Mashup normalized to -14.0 LUFS\n"
     ]
    },
    {
     "name": "stderr",
     "output_type": "stream",
     "text": [
      "/home/leami/myenv/lib/python3.12/site-packages/pyloudnorm/normalize.py:62: UserWarning: Possible clipped samples in output.\n",
      "  warnings.warn(\"Possible clipped samples in output.\")\n"
     ]
    },
    {
     "name": "stdout",
     "output_type": "stream",
     "text": [
      "Le fichier a été sauvegardé dans : Mashups/Home Blitz - Secret Wave_Dragon Or Emperor - Part of Me Says.mp3\n",
      "Song 1: Home Blitz - Secret Wave\n",
      "Song 2: Grand Mal - Children of Light\n",
      " ********************** Adjusting the song Grand Mal - Children of Light - bass  **********************\n",
      "Concatenating for segment 'verse'\n",
      "Concatenating for segment 'verse'\n",
      "Concatenating for segment 'verse'\n",
      "Concatenating for segment 'verse'\n",
      "Concatenating for segment 'verse'\n",
      "Concatenating for segment 'verse'\n",
      "Concatenating for segment 'verse'\n",
      "Concatenating for segment 'verse'\n",
      "Concatenating for segment 'chorus'\n",
      "Concatenating for segment 'outro'\n",
      "Concatenating for segment 'outro'\n",
      "Concatenating for segment 'outro'\n",
      "Concatenating for segment 'outro'\n",
      "Concatenating for segment 'outro'\n",
      " ********************** Adjusting the song Grand Mal - Children of Light - drums  **********************\n",
      "Concatenating for segment 'verse'\n",
      "Concatenating for segment 'verse'\n",
      "Concatenating for segment 'verse'\n",
      "Concatenating for segment 'verse'\n",
      "Concatenating for segment 'verse'\n",
      "Concatenating for segment 'verse'\n",
      "Concatenating for segment 'verse'\n",
      "Concatenating for segment 'verse'\n",
      "Concatenating for segment 'chorus'\n",
      "Concatenating for segment 'outro'\n",
      "Concatenating for segment 'outro'\n",
      "Concatenating for segment 'outro'\n",
      "Concatenating for segment 'outro'\n",
      "Concatenating for segment 'outro'\n",
      " ********************** Adjusting the song Grand Mal - Children of Light - other  **********************\n",
      "Concatenating for segment 'verse'\n",
      "Concatenating for segment 'verse'\n",
      "Concatenating for segment 'verse'\n",
      "Concatenating for segment 'verse'\n",
      "Concatenating for segment 'verse'\n",
      "Concatenating for segment 'verse'\n",
      "Concatenating for segment 'verse'\n",
      "Concatenating for segment 'verse'\n",
      "Concatenating for segment 'chorus'\n",
      "Concatenating for segment 'outro'\n",
      "Concatenating for segment 'outro'\n",
      "Concatenating for segment 'outro'\n",
      "Concatenating for segment 'outro'\n",
      "Concatenating for segment 'outro'\n",
      "Mashup loudness (before normalization): -16.98073570606473 LUFS\n",
      "Mashup normalized to -14.0 LUFS\n"
     ]
    },
    {
     "name": "stderr",
     "output_type": "stream",
     "text": [
      "/home/leami/myenv/lib/python3.12/site-packages/pyloudnorm/normalize.py:62: UserWarning: Possible clipped samples in output.\n",
      "  warnings.warn(\"Possible clipped samples in output.\")\n"
     ]
    },
    {
     "name": "stdout",
     "output_type": "stream",
     "text": [
      "Le fichier a été sauvegardé dans : Mashups/Home Blitz - Secret Wave_Grand Mal - Children of Light.mp3\n",
      "Song 1: Home Blitz - Secret Wave\n",
      "Song 2: Josh Woodward - Cien Volando\n",
      " ********************** Adjusting the song Josh Woodward - Cien Volando - bass  **********************\n",
      "Concatenating for segment 'verse'\n",
      "Concatenating for segment 'verse'\n",
      "Concatenating for segment 'verse'\n",
      "Concatenating for segment 'verse'\n",
      "Concatenating for segment 'verse'\n",
      "Concatenating for segment 'verse'\n",
      "Concatenating for segment 'verse'\n",
      "Concatenating for segment 'verse'\n",
      "Concatenating for segment 'verse'\n",
      "Concatenating for segment 'chorus'\n",
      "Concatenating for segment 'chorus'\n",
      " ********************** Adjusting the song Josh Woodward - Cien Volando - drums  **********************\n",
      "Concatenating for segment 'verse'\n",
      "Concatenating for segment 'verse'\n",
      "Concatenating for segment 'verse'\n",
      "Concatenating for segment 'verse'\n",
      "Concatenating for segment 'verse'\n",
      "Concatenating for segment 'verse'\n",
      "Concatenating for segment 'verse'\n",
      "Concatenating for segment 'verse'\n",
      "Concatenating for segment 'verse'\n",
      "Concatenating for segment 'chorus'\n",
      "Concatenating for segment 'chorus'\n",
      " ********************** Adjusting the song Josh Woodward - Cien Volando - other  **********************\n",
      "Concatenating for segment 'verse'\n",
      "Concatenating for segment 'verse'\n",
      "Concatenating for segment 'verse'\n",
      "Concatenating for segment 'verse'\n",
      "Concatenating for segment 'verse'\n",
      "Concatenating for segment 'verse'\n",
      "Concatenating for segment 'verse'\n",
      "Concatenating for segment 'verse'\n",
      "Concatenating for segment 'verse'\n",
      "Concatenating for segment 'chorus'\n",
      "Concatenating for segment 'chorus'\n",
      "Mashup loudness (before normalization): -17.242327852256288 LUFS\n",
      "Mashup normalized to -14.0 LUFS\n"
     ]
    },
    {
     "name": "stderr",
     "output_type": "stream",
     "text": [
      "/home/leami/myenv/lib/python3.12/site-packages/pyloudnorm/normalize.py:62: UserWarning: Possible clipped samples in output.\n",
      "  warnings.warn(\"Possible clipped samples in output.\")\n"
     ]
    },
    {
     "name": "stdout",
     "output_type": "stream",
     "text": [
      "Le fichier a été sauvegardé dans : Mashups/Home Blitz - Secret Wave_Josh Woodward - Cien Volando.mp3\n",
      "Song 1: Home Blitz - Secret Wave\n",
      "Song 2: Los Steaks - Sunday Girls\n",
      " ********************** Adjusting the song Los Steaks - Sunday Girls - bass  **********************\n",
      "Concatenating for segment 'verse'\n",
      " ********************** Adjusting the song Los Steaks - Sunday Girls - drums  **********************\n",
      "Concatenating for segment 'verse'\n",
      " ********************** Adjusting the song Los Steaks - Sunday Girls - other  **********************\n",
      "Concatenating for segment 'verse'\n",
      "Mashup loudness (before normalization): -13.711384379476494 LUFS\n",
      "Mashup normalized to -14.0 LUFS\n"
     ]
    },
    {
     "name": "stderr",
     "output_type": "stream",
     "text": [
      "/home/leami/myenv/lib/python3.12/site-packages/pyloudnorm/normalize.py:62: UserWarning: Possible clipped samples in output.\n",
      "  warnings.warn(\"Possible clipped samples in output.\")\n"
     ]
    },
    {
     "name": "stdout",
     "output_type": "stream",
     "text": [
      "Le fichier a été sauvegardé dans : Mashups/Home Blitz - Secret Wave_Los Steaks - Sunday Girls.mp3\n",
      "Song 1: Home Blitz - Secret Wave\n",
      "Song 2: Mia Doi Todd - I gave you my home\n",
      " ********************** Adjusting the song Mia Doi Todd - I gave you my home - bass  **********************\n",
      "Concatenating for segment 'verse'\n",
      "Concatenating for segment 'verse'\n",
      " ********************** Adjusting the song Mia Doi Todd - I gave you my home - drums  **********************\n",
      "Concatenating for segment 'verse'\n",
      "Concatenating for segment 'verse'\n",
      " ********************** Adjusting the song Mia Doi Todd - I gave you my home - other  **********************\n",
      "Concatenating for segment 'verse'\n",
      "Concatenating for segment 'verse'\n",
      "Mashup loudness (before normalization): -17.902931366305165 LUFS\n",
      "Mashup normalized to -14.0 LUFS\n"
     ]
    },
    {
     "name": "stderr",
     "output_type": "stream",
     "text": [
      "/home/leami/myenv/lib/python3.12/site-packages/pyloudnorm/normalize.py:62: UserWarning: Possible clipped samples in output.\n",
      "  warnings.warn(\"Possible clipped samples in output.\")\n"
     ]
    },
    {
     "name": "stdout",
     "output_type": "stream",
     "text": [
      "Le fichier a été sauvegardé dans : Mashups/Home Blitz - Secret Wave_Mia Doi Todd - I gave you my home.mp3\n",
      "Song 1: Home Blitz - Secret Wave\n",
      "Song 2: Orange Peels - Grey Holiday\n",
      " ********************** Adjusting the song Orange Peels - Grey Holiday - bass  **********************\n",
      "Concatenating for segment 'verse'\n",
      "Concatenating for segment 'verse'\n",
      "Concatenating for segment 'verse'\n",
      "Concatenating for segment 'verse'\n",
      "Concatenating for segment 'verse'\n",
      "Concatenating for segment 'verse'\n",
      "Concatenating for segment 'verse'\n",
      "Concatenating for segment 'verse'\n",
      "Concatenating for segment 'chorus'\n",
      " ********************** Adjusting the song Orange Peels - Grey Holiday - drums  **********************\n",
      "Concatenating for segment 'verse'\n",
      "Concatenating for segment 'verse'\n",
      "Concatenating for segment 'verse'\n",
      "Concatenating for segment 'verse'\n",
      "Concatenating for segment 'verse'\n",
      "Concatenating for segment 'verse'\n",
      "Concatenating for segment 'verse'\n",
      "Concatenating for segment 'verse'\n",
      "Concatenating for segment 'chorus'\n",
      " ********************** Adjusting the song Orange Peels - Grey Holiday - other  **********************\n",
      "Concatenating for segment 'verse'\n",
      "Concatenating for segment 'verse'\n",
      "Concatenating for segment 'verse'\n",
      "Concatenating for segment 'verse'\n",
      "Concatenating for segment 'verse'\n",
      "Concatenating for segment 'verse'\n",
      "Concatenating for segment 'verse'\n",
      "Concatenating for segment 'verse'\n",
      "Concatenating for segment 'chorus'\n",
      "Mashup loudness (before normalization): -17.93469050660685 LUFS\n",
      "Mashup normalized to -14.0 LUFS\n"
     ]
    },
    {
     "name": "stderr",
     "output_type": "stream",
     "text": [
      "/home/leami/myenv/lib/python3.12/site-packages/pyloudnorm/normalize.py:62: UserWarning: Possible clipped samples in output.\n",
      "  warnings.warn(\"Possible clipped samples in output.\")\n"
     ]
    },
    {
     "name": "stdout",
     "output_type": "stream",
     "text": [
      "Le fichier a été sauvegardé dans : Mashups/Home Blitz - Secret Wave_Orange Peels - Grey Holiday.mp3\n",
      "Song 1: Home Blitz - Secret Wave\n",
      "Song 2: Poland - Lying Machine\n",
      " ********************** Adjusting the song Poland - Lying Machine - bass  **********************\n",
      "Concatenating for segment 'verse'\n",
      "Concatenating for segment 'verse'\n",
      "Concatenating for segment 'verse'\n",
      "Concatenating for segment 'verse'\n",
      "Concatenating for segment 'verse'\n",
      "Concatenating for segment 'verse'\n",
      "Concatenating for segment 'chorus'\n",
      "Concatenating for segment 'outro'\n",
      " ********************** Adjusting the song Poland - Lying Machine - drums  **********************\n",
      "Concatenating for segment 'verse'\n",
      "Concatenating for segment 'verse'\n",
      "Concatenating for segment 'verse'\n",
      "Concatenating for segment 'verse'\n",
      "Concatenating for segment 'verse'\n",
      "Concatenating for segment 'verse'\n",
      "Concatenating for segment 'chorus'\n",
      "Concatenating for segment 'outro'\n",
      " ********************** Adjusting the song Poland - Lying Machine - other  **********************\n",
      "Concatenating for segment 'verse'\n",
      "Concatenating for segment 'verse'\n",
      "Concatenating for segment 'verse'\n",
      "Concatenating for segment 'verse'\n",
      "Concatenating for segment 'verse'\n",
      "Concatenating for segment 'verse'\n",
      "Concatenating for segment 'chorus'\n",
      "Concatenating for segment 'outro'\n",
      "Mashup loudness (before normalization): -16.866502274459346 LUFS\n",
      "Mashup normalized to -14.0 LUFS\n"
     ]
    },
    {
     "name": "stderr",
     "output_type": "stream",
     "text": [
      "/home/leami/myenv/lib/python3.12/site-packages/pyloudnorm/normalize.py:62: UserWarning: Possible clipped samples in output.\n",
      "  warnings.warn(\"Possible clipped samples in output.\")\n"
     ]
    },
    {
     "name": "stdout",
     "output_type": "stream",
     "text": [
      "Le fichier a été sauvegardé dans : Mashups/Home Blitz - Secret Wave_Poland - Lying Machine.mp3\n",
      "Song 1: Home Blitz - Secret Wave\n",
      "Song 2: Shearer - Itch\n",
      " ********************** Adjusting the song Shearer - Itch - bass  **********************\n",
      "Error fitting segment 'verse' to 52 beats: float division by zero\n",
      "Error fitting segment: verse at 0.0, Error: float division by zero\n",
      "Concatenating for segment 'verse'\n",
      "Concatenating for segment 'verse'\n",
      "Concatenating for segment 'verse'\n",
      "Concatenating for segment 'verse'\n",
      "Concatenating for segment 'verse'\n",
      " ********************** Adjusting the song Shearer - Itch - drums  **********************\n",
      "Error fitting segment 'verse' to 52 beats: float division by zero\n",
      "Error fitting segment: verse at 0.0, Error: float division by zero\n",
      "Concatenating for segment 'verse'\n",
      "Concatenating for segment 'verse'\n",
      "Concatenating for segment 'verse'\n",
      "Concatenating for segment 'verse'\n",
      "Concatenating for segment 'verse'\n",
      " ********************** Adjusting the song Shearer - Itch - other  **********************\n",
      "Error fitting segment 'verse' to 52 beats: float division by zero\n",
      "Error fitting segment: verse at 0.0, Error: float division by zero\n",
      "Concatenating for segment 'verse'\n",
      "Concatenating for segment 'verse'\n",
      "Concatenating for segment 'verse'\n",
      "Concatenating for segment 'verse'\n",
      "Concatenating for segment 'verse'\n",
      "Mashup loudness (before normalization): -15.75388341193763 LUFS\n",
      "Mashup normalized to -14.0 LUFS\n"
     ]
    },
    {
     "name": "stderr",
     "output_type": "stream",
     "text": [
      "/home/leami/myenv/lib/python3.12/site-packages/pyloudnorm/normalize.py:62: UserWarning: Possible clipped samples in output.\n",
      "  warnings.warn(\"Possible clipped samples in output.\")\n"
     ]
    },
    {
     "name": "stdout",
     "output_type": "stream",
     "text": [
      "Le fichier a été sauvegardé dans : Mashups/Home Blitz - Secret Wave_Shearer - Itch.mp3\n",
      "Song 1: Home Blitz - Secret Wave\n",
      "Song 2: Short Hand - Certain Strangers\n",
      " ********************** Adjusting the song Short Hand - Certain Strangers - bass  **********************\n",
      "Concatenating for segment 'verse'\n",
      "Concatenating for segment 'verse'\n",
      "Concatenating for segment 'verse'\n",
      "Concatenating for segment 'chorus'\n",
      "Concatenating for segment 'outro'\n",
      " ********************** Adjusting the song Short Hand - Certain Strangers - drums  **********************\n",
      "Concatenating for segment 'verse'\n",
      "Concatenating for segment 'verse'\n",
      "Concatenating for segment 'verse'\n",
      "Concatenating for segment 'chorus'\n",
      "Concatenating for segment 'outro'\n",
      " ********************** Adjusting the song Short Hand - Certain Strangers - other  **********************\n",
      "Concatenating for segment 'verse'\n",
      "Concatenating for segment 'verse'\n",
      "Concatenating for segment 'verse'\n",
      "Concatenating for segment 'chorus'\n",
      "Concatenating for segment 'outro'\n",
      "Mashup loudness (before normalization): -15.790712222039867 LUFS\n",
      "Mashup normalized to -14.0 LUFS\n"
     ]
    },
    {
     "name": "stderr",
     "output_type": "stream",
     "text": [
      "/home/leami/myenv/lib/python3.12/site-packages/pyloudnorm/normalize.py:62: UserWarning: Possible clipped samples in output.\n",
      "  warnings.warn(\"Possible clipped samples in output.\")\n"
     ]
    },
    {
     "name": "stdout",
     "output_type": "stream",
     "text": [
      "Le fichier a été sauvegardé dans : Mashups/Home Blitz - Secret Wave_Short Hand - Certain Strangers.mp3\n",
      "Song 1: Home Blitz - Secret Wave\n",
      "Song 2: The Cute Lepers - Young Hearts\n",
      " ********************** Adjusting the song The Cute Lepers - Young Hearts - bass  **********************\n",
      "Concatenating for segment 'verse'\n",
      "Concatenating for segment 'verse'\n",
      "Concatenating for segment 'verse'\n",
      " ********************** Adjusting the song The Cute Lepers - Young Hearts - drums  **********************\n",
      "Concatenating for segment 'verse'\n",
      "Concatenating for segment 'verse'\n",
      "Concatenating for segment 'verse'\n",
      " ********************** Adjusting the song The Cute Lepers - Young Hearts - other  **********************\n",
      "Concatenating for segment 'verse'\n",
      "Concatenating for segment 'verse'\n",
      "Concatenating for segment 'verse'\n",
      "Mashup loudness (before normalization): -16.579787005932292 LUFS\n",
      "Mashup normalized to -14.0 LUFS\n"
     ]
    },
    {
     "name": "stderr",
     "output_type": "stream",
     "text": [
      "/home/leami/myenv/lib/python3.12/site-packages/pyloudnorm/normalize.py:62: UserWarning: Possible clipped samples in output.\n",
      "  warnings.warn(\"Possible clipped samples in output.\")\n"
     ]
    },
    {
     "name": "stdout",
     "output_type": "stream",
     "text": [
      "Le fichier a été sauvegardé dans : Mashups/Home Blitz - Secret Wave_The Cute Lepers - Young Hearts.mp3\n",
      "Song 1: Home Blitz - Secret Wave\n",
      "Song 2: The Embarrassment - Patio Set\n",
      " ********************** Adjusting the song The Embarrassment - Patio Set - bass  **********************\n",
      "Concatenating for segment 'verse'\n",
      "Concatenating for segment 'verse'\n",
      "Concatenating for segment 'verse'\n",
      "Concatenating for segment 'verse'\n",
      "Concatenating for segment 'chorus'\n",
      "Concatenating for segment 'outro'\n",
      " ********************** Adjusting the song The Embarrassment - Patio Set - drums  **********************\n",
      "Concatenating for segment 'verse'\n",
      "Concatenating for segment 'verse'\n",
      "Concatenating for segment 'verse'\n",
      "Concatenating for segment 'verse'\n",
      "Concatenating for segment 'chorus'\n",
      "Concatenating for segment 'outro'\n",
      " ********************** Adjusting the song The Embarrassment - Patio Set - other  **********************\n",
      "Concatenating for segment 'verse'\n",
      "Concatenating for segment 'verse'\n",
      "Concatenating for segment 'verse'\n",
      "Concatenating for segment 'verse'\n",
      "Concatenating for segment 'chorus'\n",
      "Concatenating for segment 'outro'\n",
      "Mashup loudness (before normalization): -18.362110885666894 LUFS\n",
      "Mashup normalized to -14.0 LUFS\n"
     ]
    },
    {
     "name": "stderr",
     "output_type": "stream",
     "text": [
      "/home/leami/myenv/lib/python3.12/site-packages/pyloudnorm/normalize.py:62: UserWarning: Possible clipped samples in output.\n",
      "  warnings.warn(\"Possible clipped samples in output.\")\n"
     ]
    },
    {
     "name": "stdout",
     "output_type": "stream",
     "text": [
      "Le fichier a été sauvegardé dans : Mashups/Home Blitz - Secret Wave_The Embarrassment - Patio Set.mp3\n",
      "Song 1: Home Blitz - Secret Wave\n",
      "Song 2: The J Arthur Keenes Band - The Boring World of Niels Bohr\n",
      " ********************** Adjusting the song The J Arthur Keenes Band - The Boring World of Niels Bohr - bass  **********************\n",
      " ********************** Adjusting the song The J Arthur Keenes Band - The Boring World of Niels Bohr - drums  **********************\n",
      " ********************** Adjusting the song The J Arthur Keenes Band - The Boring World of Niels Bohr - other  **********************\n",
      "Mashup loudness (before normalization): -16.04642742052944 LUFS\n",
      "Mashup normalized to -14.0 LUFS\n"
     ]
    },
    {
     "name": "stderr",
     "output_type": "stream",
     "text": [
      "/home/leami/myenv/lib/python3.12/site-packages/pyloudnorm/normalize.py:62: UserWarning: Possible clipped samples in output.\n",
      "  warnings.warn(\"Possible clipped samples in output.\")\n"
     ]
    },
    {
     "name": "stdout",
     "output_type": "stream",
     "text": [
      "Le fichier a été sauvegardé dans : Mashups/Home Blitz - Secret Wave_The J Arthur Keenes Band - The Boring World of Niels Bohr.mp3\n",
      "Song 1: Home Blitz - Secret Wave\n",
      "Song 2: The Oranges Band - Ride the Nuclear Wave\n",
      " ********************** Adjusting the song The Oranges Band - Ride the Nuclear Wave - bass  **********************\n",
      "Concatenating for segment 'verse'\n",
      "Concatenating for segment 'verse'\n",
      "Concatenating for segment 'verse'\n",
      "Concatenating for segment 'verse'\n",
      "Concatenating for segment 'verse'\n",
      "Concatenating for segment 'verse'\n",
      "Concatenating for segment 'verse'\n",
      "Concatenating for segment 'verse'\n",
      "Concatenating for segment 'chorus'\n",
      "Concatenating for segment 'outro'\n",
      " ********************** Adjusting the song The Oranges Band - Ride the Nuclear Wave - drums  **********************\n",
      "Concatenating for segment 'verse'\n",
      "Concatenating for segment 'verse'\n",
      "Concatenating for segment 'verse'\n",
      "Concatenating for segment 'verse'\n",
      "Concatenating for segment 'verse'\n",
      "Concatenating for segment 'verse'\n",
      "Concatenating for segment 'verse'\n",
      "Concatenating for segment 'verse'\n",
      "Concatenating for segment 'chorus'\n",
      "Concatenating for segment 'outro'\n",
      " ********************** Adjusting the song The Oranges Band - Ride the Nuclear Wave - other  **********************\n",
      "Concatenating for segment 'verse'\n",
      "Concatenating for segment 'verse'\n",
      "Concatenating for segment 'verse'\n",
      "Concatenating for segment 'verse'\n",
      "Concatenating for segment 'verse'\n",
      "Concatenating for segment 'verse'\n",
      "Concatenating for segment 'verse'\n",
      "Concatenating for segment 'verse'\n",
      "Concatenating for segment 'chorus'\n",
      "Concatenating for segment 'outro'\n",
      "Mashup loudness (before normalization): -15.714852759158111 LUFS\n",
      "Mashup normalized to -14.0 LUFS\n"
     ]
    },
    {
     "name": "stderr",
     "output_type": "stream",
     "text": [
      "/home/leami/myenv/lib/python3.12/site-packages/pyloudnorm/normalize.py:62: UserWarning: Possible clipped samples in output.\n",
      "  warnings.warn(\"Possible clipped samples in output.\")\n"
     ]
    },
    {
     "name": "stdout",
     "output_type": "stream",
     "text": [
      "Le fichier a été sauvegardé dans : Mashups/Home Blitz - Secret Wave_The Oranges Band - Ride the Nuclear Wave.mp3\n",
      "Song 1: Home Blitz - Secret Wave\n",
      "Song 2: Wann - Happy Birthday\n",
      " ********************** Adjusting the song Wann - Happy Birthday - bass  **********************\n",
      "Concatenating for segment 'verse'\n",
      "Concatenating for segment 'verse'\n",
      "Concatenating for segment 'verse'\n",
      "Concatenating for segment 'verse'\n",
      "Concatenating for segment 'chorus'\n",
      "Error fitting segment 'outro' to 40 beats: float division by zero\n",
      "Error fitting segment: outro at 178.24, Error: float division by zero\n",
      " ********************** Adjusting the song Wann - Happy Birthday - drums  **********************\n",
      "Concatenating for segment 'verse'\n",
      "Concatenating for segment 'verse'\n",
      "Concatenating for segment 'verse'\n",
      "Concatenating for segment 'verse'\n",
      "Concatenating for segment 'chorus'\n",
      "Error fitting segment 'outro' to 40 beats: float division by zero\n",
      "Error fitting segment: outro at 178.24, Error: float division by zero\n",
      " ********************** Adjusting the song Wann - Happy Birthday - other  **********************\n",
      "Concatenating for segment 'verse'\n",
      "Concatenating for segment 'verse'\n",
      "Concatenating for segment 'verse'\n",
      "Concatenating for segment 'verse'\n",
      "Concatenating for segment 'chorus'\n",
      "Error fitting segment 'outro' to 40 beats: float division by zero\n",
      "Error fitting segment: outro at 178.24, Error: float division by zero\n",
      "Mashup loudness (before normalization): -17.564393277588735 LUFS\n",
      "Mashup normalized to -14.0 LUFS\n"
     ]
    },
    {
     "name": "stderr",
     "output_type": "stream",
     "text": [
      "/home/leami/myenv/lib/python3.12/site-packages/pyloudnorm/normalize.py:62: UserWarning: Possible clipped samples in output.\n",
      "  warnings.warn(\"Possible clipped samples in output.\")\n"
     ]
    },
    {
     "name": "stdout",
     "output_type": "stream",
     "text": [
      "Le fichier a été sauvegardé dans : Mashups/Home Blitz - Secret Wave_Wann - Happy Birthday.mp3\n",
      "Song 1: Home Blitz - Secret Wave\n",
      "Song 2: ZOELEELA - Jewel\n",
      " ********************** Adjusting the song ZOELEELA - Jewel - bass  **********************\n",
      "Concatenating for segment 'verse'\n",
      "Concatenating for segment 'verse'\n",
      "Concatenating for segment 'chorus'\n",
      " ********************** Adjusting the song ZOELEELA - Jewel - drums  **********************\n",
      "Concatenating for segment 'verse'\n",
      "Concatenating for segment 'verse'\n",
      "Concatenating for segment 'chorus'\n",
      " ********************** Adjusting the song ZOELEELA - Jewel - other  **********************\n",
      "Concatenating for segment 'verse'\n",
      "Concatenating for segment 'verse'\n",
      "Concatenating for segment 'chorus'\n",
      "Mashup loudness (before normalization): -15.758266131331292 LUFS\n",
      "Mashup normalized to -14.0 LUFS\n"
     ]
    },
    {
     "name": "stderr",
     "output_type": "stream",
     "text": [
      "/home/leami/myenv/lib/python3.12/site-packages/pyloudnorm/normalize.py:62: UserWarning: Possible clipped samples in output.\n",
      "  warnings.warn(\"Possible clipped samples in output.\")\n"
     ]
    },
    {
     "name": "stdout",
     "output_type": "stream",
     "text": [
      "Le fichier a été sauvegardé dans : Mashups/Home Blitz - Secret Wave_ZOELEELA - Jewel.mp3\n",
      "Song 1: Josh Woodward - Cien Volando\n",
      "Song 2: Bam Bam - Hi-Q\n",
      " ********************** Adjusting the song Bam Bam - Hi-Q - bass  **********************\n",
      "Concatenating for segment 'chorus'\n",
      "Error fitting segment 'outro' to 48 beats: float division by zero\n",
      "Error fitting segment: outro at 172.22, Error: float division by zero\n",
      "Error fitting segment 'outro' to 28 beats: float division by zero\n",
      "Error fitting segment: outro at 172.22, Error: float division by zero\n",
      " ********************** Adjusting the song Bam Bam - Hi-Q - drums  **********************\n",
      "Concatenating for segment 'chorus'\n",
      "Error fitting segment 'outro' to 48 beats: float division by zero\n",
      "Error fitting segment: outro at 172.22, Error: float division by zero\n",
      "Error fitting segment 'outro' to 28 beats: float division by zero\n",
      "Error fitting segment: outro at 172.22, Error: float division by zero\n",
      " ********************** Adjusting the song Bam Bam - Hi-Q - other  **********************\n",
      "Concatenating for segment 'chorus'\n",
      "Error fitting segment 'outro' to 48 beats: float division by zero\n",
      "Error fitting segment: outro at 172.22, Error: float division by zero\n",
      "Error fitting segment 'outro' to 28 beats: float division by zero\n",
      "Error fitting segment: outro at 172.22, Error: float division by zero\n",
      "Mashup loudness (before normalization): -14.172433387671614 LUFS\n",
      "Mashup normalized to -14.0 LUFS\n"
     ]
    },
    {
     "name": "stderr",
     "output_type": "stream",
     "text": [
      "/home/leami/myenv/lib/python3.12/site-packages/pyloudnorm/normalize.py:62: UserWarning: Possible clipped samples in output.\n",
      "  warnings.warn(\"Possible clipped samples in output.\")\n"
     ]
    },
    {
     "name": "stdout",
     "output_type": "stream",
     "text": [
      "Le fichier a été sauvegardé dans : Mashups/Josh Woodward - Cien Volando_Bam Bam - Hi-Q.mp3\n",
      "Song 1: Josh Woodward - Cien Volando\n",
      "Song 2: Benji Cossa - New Flowers (Fast 4-track Version)\n",
      " ********************** Adjusting the song Benji Cossa - New Flowers (Fast 4-track Version) - bass  **********************\n",
      "Error fitting segment 'verse' to 33 beats: float division by zero\n",
      "Error fitting segment: verse at 0.0, Error: float division by zero\n",
      " ********************** Adjusting the song Benji Cossa - New Flowers (Fast 4-track Version) - drums  **********************\n",
      "Error fitting segment 'verse' to 33 beats: float division by zero\n",
      "Error fitting segment: verse at 0.0, Error: float division by zero\n",
      " ********************** Adjusting the song Benji Cossa - New Flowers (Fast 4-track Version) - other  **********************\n",
      "Error fitting segment 'verse' to 33 beats: float division by zero\n",
      "Error fitting segment: verse at 0.0, Error: float division by zero\n",
      "Mashup loudness (before normalization): -14.321841849190973 LUFS\n",
      "Mashup normalized to -14.0 LUFS\n"
     ]
    },
    {
     "name": "stderr",
     "output_type": "stream",
     "text": [
      "/home/leami/myenv/lib/python3.12/site-packages/pyloudnorm/normalize.py:62: UserWarning: Possible clipped samples in output.\n",
      "  warnings.warn(\"Possible clipped samples in output.\")\n"
     ]
    },
    {
     "name": "stdout",
     "output_type": "stream",
     "text": [
      "Le fichier a été sauvegardé dans : Mashups/Josh Woodward - Cien Volando_Benji Cossa - New Flowers (Fast 4-track Version).mp3\n",
      "Song 1: Josh Woodward - Cien Volando\n",
      "Song 2: Bessie Smith - My Sweetie Went Away\n",
      " ********************** Adjusting the song Bessie Smith - My Sweetie Went Away - bass  **********************\n",
      "Concatenating for segment 'verse'\n",
      " ********************** Adjusting the song Bessie Smith - My Sweetie Went Away - drums  **********************\n",
      "Concatenating for segment 'verse'\n",
      " ********************** Adjusting the song Bessie Smith - My Sweetie Went Away - other  **********************\n",
      "Concatenating for segment 'verse'\n",
      "Mashup loudness (before normalization): -14.765223920572739 LUFS\n",
      "Mashup normalized to -14.0 LUFS\n"
     ]
    },
    {
     "name": "stderr",
     "output_type": "stream",
     "text": [
      "/home/leami/myenv/lib/python3.12/site-packages/pyloudnorm/normalize.py:62: UserWarning: Possible clipped samples in output.\n",
      "  warnings.warn(\"Possible clipped samples in output.\")\n"
     ]
    },
    {
     "name": "stdout",
     "output_type": "stream",
     "text": [
      "Le fichier a été sauvegardé dans : Mashups/Josh Woodward - Cien Volando_Bessie Smith - My Sweetie Went Away.mp3\n",
      "Song 1: Josh Woodward - Cien Volando\n",
      "Song 2: David Rovics - We Just Want The World\n",
      " ********************** Adjusting the song David Rovics - We Just Want The World - bass  **********************\n",
      "Concatenating for segment 'outro'\n",
      " ********************** Adjusting the song David Rovics - We Just Want The World - drums  **********************\n",
      "Concatenating for segment 'outro'\n",
      " ********************** Adjusting the song David Rovics - We Just Want The World - other  **********************\n",
      "Concatenating for segment 'outro'\n",
      "Mashup loudness (before normalization): -15.109500983273895 LUFS\n",
      "Mashup normalized to -14.0 LUFS\n"
     ]
    },
    {
     "name": "stderr",
     "output_type": "stream",
     "text": [
      "/home/leami/myenv/lib/python3.12/site-packages/pyloudnorm/normalize.py:62: UserWarning: Possible clipped samples in output.\n",
      "  warnings.warn(\"Possible clipped samples in output.\")\n"
     ]
    },
    {
     "name": "stdout",
     "output_type": "stream",
     "text": [
      "Le fichier a été sauvegardé dans : Mashups/Josh Woodward - Cien Volando_David Rovics - We Just Want The World.mp3\n",
      "Song 1: Josh Woodward - Cien Volando\n",
      "Song 2: deef - Ein sonniger Tag mit dir\n",
      " ********************** Adjusting the song deef - Ein sonniger Tag mit dir - bass  **********************\n",
      "Concatenating for segment 'chorus'\n",
      "Concatenating for segment 'inst'\n",
      "Concatenating for segment 'inst'\n",
      "Concatenating for segment 'inst'\n",
      "Concatenating for segment 'chorus'\n",
      "Concatenating for segment 'chorus'\n",
      " ********************** Adjusting the song deef - Ein sonniger Tag mit dir - drums  **********************\n",
      "Concatenating for segment 'chorus'\n",
      "Concatenating for segment 'inst'\n",
      "Concatenating for segment 'inst'\n",
      "Concatenating for segment 'inst'\n",
      "Concatenating for segment 'chorus'\n",
      "Concatenating for segment 'chorus'\n",
      " ********************** Adjusting the song deef - Ein sonniger Tag mit dir - other  **********************\n",
      "Concatenating for segment 'chorus'\n",
      "Concatenating for segment 'inst'\n",
      "Concatenating for segment 'inst'\n",
      "Concatenating for segment 'inst'\n",
      "Concatenating for segment 'chorus'\n",
      "Concatenating for segment 'chorus'\n",
      "Mashup loudness (before normalization): -15.496826522280246 LUFS\n",
      "Mashup normalized to -14.0 LUFS\n"
     ]
    },
    {
     "name": "stderr",
     "output_type": "stream",
     "text": [
      "/home/leami/myenv/lib/python3.12/site-packages/pyloudnorm/normalize.py:62: UserWarning: Possible clipped samples in output.\n",
      "  warnings.warn(\"Possible clipped samples in output.\")\n"
     ]
    },
    {
     "name": "stdout",
     "output_type": "stream",
     "text": [
      "Le fichier a été sauvegardé dans : Mashups/Josh Woodward - Cien Volando_deef - Ein sonniger Tag mit dir.mp3\n",
      "Song 1: Josh Woodward - Cien Volando\n",
      "Song 2: Dragon Or Emperor - Part of Me Says\n",
      " ********************** Adjusting the song Dragon Or Emperor - Part of Me Says - bass  **********************\n",
      "Concatenating for segment 'verse'\n",
      "Concatenating for segment 'inst'\n",
      "Concatenating for segment 'inst'\n",
      "Concatenating for segment 'chorus'\n",
      "Error fitting segment 'outro' to 48 beats: float division by zero\n",
      "Error fitting segment: outro at 187.02, Error: float division by zero\n",
      "Error fitting segment 'outro' to 28 beats: float division by zero\n",
      "Error fitting segment: outro at 187.02, Error: float division by zero\n",
      " ********************** Adjusting the song Dragon Or Emperor - Part of Me Says - drums  **********************\n",
      "Concatenating for segment 'verse'\n",
      "Concatenating for segment 'inst'\n",
      "Concatenating for segment 'inst'\n",
      "Concatenating for segment 'chorus'\n",
      "Error fitting segment 'outro' to 48 beats: float division by zero\n",
      "Error fitting segment: outro at 187.02, Error: float division by zero\n",
      "Error fitting segment 'outro' to 28 beats: float division by zero\n",
      "Error fitting segment: outro at 187.02, Error: float division by zero\n",
      " ********************** Adjusting the song Dragon Or Emperor - Part of Me Says - other  **********************\n",
      "Concatenating for segment 'verse'\n",
      "Concatenating for segment 'inst'\n",
      "Concatenating for segment 'inst'\n",
      "Concatenating for segment 'chorus'\n",
      "Error fitting segment 'outro' to 48 beats: float division by zero\n",
      "Error fitting segment: outro at 187.02, Error: float division by zero\n",
      "Error fitting segment 'outro' to 28 beats: float division by zero\n",
      "Error fitting segment: outro at 187.02, Error: float division by zero\n",
      "Mashup loudness (before normalization): -13.507871466328703 LUFS\n",
      "Mashup normalized to -14.0 LUFS\n"
     ]
    },
    {
     "name": "stderr",
     "output_type": "stream",
     "text": [
      "/home/leami/myenv/lib/python3.12/site-packages/pyloudnorm/normalize.py:62: UserWarning: Possible clipped samples in output.\n",
      "  warnings.warn(\"Possible clipped samples in output.\")\n"
     ]
    },
    {
     "name": "stdout",
     "output_type": "stream",
     "text": [
      "Le fichier a été sauvegardé dans : Mashups/Josh Woodward - Cien Volando_Dragon Or Emperor - Part of Me Says.mp3\n",
      "Song 1: Josh Woodward - Cien Volando\n",
      "Song 2: Grand Mal - Children of Light\n",
      " ********************** Adjusting the song Grand Mal - Children of Light - bass  **********************\n",
      "Concatenating for segment 'verse'\n",
      "Concatenating for segment 'chorus'\n",
      "Concatenating for segment 'outro'\n",
      "Concatenating for segment 'outro'\n",
      "Concatenating for segment 'outro'\n",
      "Concatenating for segment 'outro'\n",
      "Concatenating for segment 'outro'\n",
      "Concatenating for segment 'outro'\n",
      "Concatenating for segment 'outro'\n",
      "Concatenating for segment 'outro'\n",
      "Concatenating for segment 'outro'\n",
      " ********************** Adjusting the song Grand Mal - Children of Light - drums  **********************\n",
      "Concatenating for segment 'verse'\n",
      "Concatenating for segment 'chorus'\n",
      "Concatenating for segment 'outro'\n",
      "Concatenating for segment 'outro'\n",
      "Concatenating for segment 'outro'\n",
      "Concatenating for segment 'outro'\n",
      "Concatenating for segment 'outro'\n",
      "Concatenating for segment 'outro'\n",
      "Concatenating for segment 'outro'\n",
      "Concatenating for segment 'outro'\n",
      "Concatenating for segment 'outro'\n",
      " ********************** Adjusting the song Grand Mal - Children of Light - other  **********************\n",
      "Concatenating for segment 'verse'\n",
      "Concatenating for segment 'chorus'\n",
      "Concatenating for segment 'outro'\n",
      "Concatenating for segment 'outro'\n",
      "Concatenating for segment 'outro'\n",
      "Concatenating for segment 'outro'\n",
      "Concatenating for segment 'outro'\n",
      "Concatenating for segment 'outro'\n",
      "Concatenating for segment 'outro'\n",
      "Concatenating for segment 'outro'\n",
      "Concatenating for segment 'outro'\n",
      "Mashup loudness (before normalization): -14.859021525820543 LUFS\n",
      "Mashup normalized to -14.0 LUFS\n"
     ]
    },
    {
     "name": "stderr",
     "output_type": "stream",
     "text": [
      "/home/leami/myenv/lib/python3.12/site-packages/pyloudnorm/normalize.py:62: UserWarning: Possible clipped samples in output.\n",
      "  warnings.warn(\"Possible clipped samples in output.\")\n"
     ]
    },
    {
     "name": "stdout",
     "output_type": "stream",
     "text": [
      "Le fichier a été sauvegardé dans : Mashups/Josh Woodward - Cien Volando_Grand Mal - Children of Light.mp3\n",
      "Song 1: Josh Woodward - Cien Volando\n",
      "Song 2: Home Blitz - Secret Wave\n",
      " ********************** Adjusting the song Home Blitz - Secret Wave - bass  **********************\n",
      "Concatenating for segment 'outro'\n",
      "Error fitting segment 'outro' to 28 beats: float division by zero\n",
      "Error fitting segment: outro at 182.54, Error: float division by zero\n",
      " ********************** Adjusting the song Home Blitz - Secret Wave - drums  **********************\n",
      "Concatenating for segment 'outro'\n",
      "Error fitting segment 'outro' to 28 beats: float division by zero\n",
      "Error fitting segment: outro at 182.54, Error: float division by zero\n",
      " ********************** Adjusting the song Home Blitz - Secret Wave - other  **********************\n",
      "Concatenating for segment 'outro'\n",
      "Error fitting segment 'outro' to 28 beats: float division by zero\n",
      "Error fitting segment: outro at 182.54, Error: float division by zero\n",
      "Mashup loudness (before normalization): -12.908585351293459 LUFS\n",
      "Mashup normalized to -14.0 LUFS\n"
     ]
    },
    {
     "name": "stderr",
     "output_type": "stream",
     "text": [
      "/home/leami/myenv/lib/python3.12/site-packages/pyloudnorm/normalize.py:62: UserWarning: Possible clipped samples in output.\n",
      "  warnings.warn(\"Possible clipped samples in output.\")\n"
     ]
    },
    {
     "name": "stdout",
     "output_type": "stream",
     "text": [
      "Le fichier a été sauvegardé dans : Mashups/Josh Woodward - Cien Volando_Home Blitz - Secret Wave.mp3\n",
      "Song 1: Josh Woodward - Cien Volando\n",
      "Song 2: Los Steaks - Sunday Girls\n",
      " ********************** Adjusting the song Los Steaks - Sunday Girls - bass  **********************\n",
      " ********************** Adjusting the song Los Steaks - Sunday Girls - drums  **********************\n",
      " ********************** Adjusting the song Los Steaks - Sunday Girls - other  **********************\n",
      "Mashup loudness (before normalization): -13.014184981913422 LUFS\n",
      "Mashup normalized to -14.0 LUFS\n"
     ]
    },
    {
     "name": "stderr",
     "output_type": "stream",
     "text": [
      "/home/leami/myenv/lib/python3.12/site-packages/pyloudnorm/normalize.py:62: UserWarning: Possible clipped samples in output.\n",
      "  warnings.warn(\"Possible clipped samples in output.\")\n"
     ]
    },
    {
     "name": "stdout",
     "output_type": "stream",
     "text": [
      "Le fichier a été sauvegardé dans : Mashups/Josh Woodward - Cien Volando_Los Steaks - Sunday Girls.mp3\n",
      "Song 1: Josh Woodward - Cien Volando\n",
      "Song 2: Mia Doi Todd - I gave you my home\n",
      " ********************** Adjusting the song Mia Doi Todd - I gave you my home - bass  **********************\n",
      "Concatenating for segment 'outro'\n",
      " ********************** Adjusting the song Mia Doi Todd - I gave you my home - drums  **********************\n",
      "Concatenating for segment 'outro'\n",
      " ********************** Adjusting the song Mia Doi Todd - I gave you my home - other  **********************\n",
      "Concatenating for segment 'outro'\n",
      "Mashup loudness (before normalization): -14.757690914116987 LUFS\n",
      "Mashup normalized to -14.0 LUFS\n"
     ]
    },
    {
     "name": "stderr",
     "output_type": "stream",
     "text": [
      "/home/leami/myenv/lib/python3.12/site-packages/pyloudnorm/normalize.py:62: UserWarning: Possible clipped samples in output.\n",
      "  warnings.warn(\"Possible clipped samples in output.\")\n"
     ]
    },
    {
     "name": "stdout",
     "output_type": "stream",
     "text": [
      "Le fichier a été sauvegardé dans : Mashups/Josh Woodward - Cien Volando_Mia Doi Todd - I gave you my home.mp3\n",
      "Song 1: Josh Woodward - Cien Volando\n",
      "Song 2: Orange Peels - Grey Holiday\n",
      " ********************** Adjusting the song Orange Peels - Grey Holiday - bass  **********************\n",
      "Concatenating for segment 'verse'\n",
      " ********************** Adjusting the song Orange Peels - Grey Holiday - drums  **********************\n",
      "Concatenating for segment 'verse'\n",
      " ********************** Adjusting the song Orange Peels - Grey Holiday - other  **********************\n",
      "Concatenating for segment 'verse'\n",
      "Mashup loudness (before normalization): -14.62765258354738 LUFS\n",
      "Mashup normalized to -14.0 LUFS\n"
     ]
    },
    {
     "name": "stderr",
     "output_type": "stream",
     "text": [
      "/home/leami/myenv/lib/python3.12/site-packages/pyloudnorm/normalize.py:62: UserWarning: Possible clipped samples in output.\n",
      "  warnings.warn(\"Possible clipped samples in output.\")\n"
     ]
    },
    {
     "name": "stdout",
     "output_type": "stream",
     "text": [
      "Le fichier a été sauvegardé dans : Mashups/Josh Woodward - Cien Volando_Orange Peels - Grey Holiday.mp3\n",
      "Song 1: Josh Woodward - Cien Volando\n",
      "Song 2: Poland - Lying Machine\n",
      " ********************** Adjusting the song Poland - Lying Machine - bass  **********************\n",
      "Concatenating for segment 'inst'\n",
      "Concatenating for segment 'chorus'\n",
      "Concatenating for segment 'chorus'\n",
      "Concatenating for segment 'chorus'\n",
      "Concatenating for segment 'outro'\n",
      " ********************** Adjusting the song Poland - Lying Machine - drums  **********************\n",
      "Concatenating for segment 'inst'\n",
      "Concatenating for segment 'chorus'\n",
      "Concatenating for segment 'chorus'\n",
      "Concatenating for segment 'chorus'\n",
      "Concatenating for segment 'outro'\n",
      " ********************** Adjusting the song Poland - Lying Machine - other  **********************\n",
      "Concatenating for segment 'inst'\n",
      "Concatenating for segment 'chorus'\n",
      "Concatenating for segment 'chorus'\n",
      "Concatenating for segment 'chorus'\n",
      "Concatenating for segment 'outro'\n",
      "Mashup loudness (before normalization): -14.227209747492141 LUFS\n",
      "Mashup normalized to -14.0 LUFS\n"
     ]
    },
    {
     "name": "stderr",
     "output_type": "stream",
     "text": [
      "/home/leami/myenv/lib/python3.12/site-packages/pyloudnorm/normalize.py:62: UserWarning: Possible clipped samples in output.\n",
      "  warnings.warn(\"Possible clipped samples in output.\")\n"
     ]
    },
    {
     "name": "stdout",
     "output_type": "stream",
     "text": [
      "Le fichier a été sauvegardé dans : Mashups/Josh Woodward - Cien Volando_Poland - Lying Machine.mp3\n",
      "Song 1: Josh Woodward - Cien Volando\n",
      "Song 2: Shearer - Itch\n",
      " ********************** Adjusting the song Shearer - Itch - bass  **********************\n",
      "Error fitting segment 'verse' to 33 beats: float division by zero\n",
      "Error fitting segment: verse at 0.0, Error: float division by zero\n",
      " ********************** Adjusting the song Shearer - Itch - drums  **********************\n",
      "Error fitting segment 'verse' to 33 beats: float division by zero\n",
      "Error fitting segment: verse at 0.0, Error: float division by zero\n",
      " ********************** Adjusting the song Shearer - Itch - other  **********************\n",
      "Error fitting segment 'verse' to 33 beats: float division by zero\n",
      "Error fitting segment: verse at 0.0, Error: float division by zero\n",
      "Mashup loudness (before normalization): -14.263079787200073 LUFS\n",
      "Mashup normalized to -14.0 LUFS\n"
     ]
    },
    {
     "name": "stderr",
     "output_type": "stream",
     "text": [
      "/home/leami/myenv/lib/python3.12/site-packages/pyloudnorm/normalize.py:62: UserWarning: Possible clipped samples in output.\n",
      "  warnings.warn(\"Possible clipped samples in output.\")\n"
     ]
    },
    {
     "name": "stdout",
     "output_type": "stream",
     "text": [
      "Le fichier a été sauvegardé dans : Mashups/Josh Woodward - Cien Volando_Shearer - Itch.mp3\n",
      "Song 1: Josh Woodward - Cien Volando\n",
      "Song 2: Short Hand - Certain Strangers\n",
      " ********************** Adjusting the song Short Hand - Certain Strangers - bass  **********************\n",
      "Concatenating for segment 'outro'\n",
      " ********************** Adjusting the song Short Hand - Certain Strangers - drums  **********************\n",
      "Concatenating for segment 'outro'\n",
      " ********************** Adjusting the song Short Hand - Certain Strangers - other  **********************\n",
      "Concatenating for segment 'outro'\n",
      "Mashup loudness (before normalization): -13.56492650088231 LUFS\n",
      "Mashup normalized to -14.0 LUFS\n"
     ]
    },
    {
     "name": "stderr",
     "output_type": "stream",
     "text": [
      "/home/leami/myenv/lib/python3.12/site-packages/pyloudnorm/normalize.py:62: UserWarning: Possible clipped samples in output.\n",
      "  warnings.warn(\"Possible clipped samples in output.\")\n"
     ]
    },
    {
     "name": "stdout",
     "output_type": "stream",
     "text": [
      "Le fichier a été sauvegardé dans : Mashups/Josh Woodward - Cien Volando_Short Hand - Certain Strangers.mp3\n",
      "Song 1: Josh Woodward - Cien Volando\n",
      "Song 2: The Cute Lepers - Young Hearts\n",
      " ********************** Adjusting the song The Cute Lepers - Young Hearts - bass  **********************\n",
      " ********************** Adjusting the song The Cute Lepers - Young Hearts - drums  **********************\n",
      " ********************** Adjusting the song The Cute Lepers - Young Hearts - other  **********************\n",
      "Mashup loudness (before normalization): -14.40728095518273 LUFS\n",
      "Mashup normalized to -14.0 LUFS\n"
     ]
    },
    {
     "name": "stderr",
     "output_type": "stream",
     "text": [
      "/home/leami/myenv/lib/python3.12/site-packages/pyloudnorm/normalize.py:62: UserWarning: Possible clipped samples in output.\n",
      "  warnings.warn(\"Possible clipped samples in output.\")\n"
     ]
    },
    {
     "name": "stdout",
     "output_type": "stream",
     "text": [
      "Le fichier a été sauvegardé dans : Mashups/Josh Woodward - Cien Volando_The Cute Lepers - Young Hearts.mp3\n",
      "Song 1: Josh Woodward - Cien Volando\n",
      "Song 2: The Embarrassment - Patio Set\n",
      " ********************** Adjusting the song The Embarrassment - Patio Set - bass  **********************\n",
      "Concatenating for segment 'chorus'\n",
      "Concatenating for segment 'outro'\n",
      " ********************** Adjusting the song The Embarrassment - Patio Set - drums  **********************\n",
      "Concatenating for segment 'chorus'\n",
      "Concatenating for segment 'outro'\n",
      " ********************** Adjusting the song The Embarrassment - Patio Set - other  **********************\n",
      "Concatenating for segment 'chorus'\n",
      "Concatenating for segment 'outro'\n",
      "Mashup loudness (before normalization): -16.74926362213891 LUFS\n",
      "Mashup normalized to -14.0 LUFS\n"
     ]
    },
    {
     "name": "stderr",
     "output_type": "stream",
     "text": [
      "/home/leami/myenv/lib/python3.12/site-packages/pyloudnorm/normalize.py:62: UserWarning: Possible clipped samples in output.\n",
      "  warnings.warn(\"Possible clipped samples in output.\")\n"
     ]
    },
    {
     "name": "stdout",
     "output_type": "stream",
     "text": [
      "Le fichier a été sauvegardé dans : Mashups/Josh Woodward - Cien Volando_The Embarrassment - Patio Set.mp3\n",
      "Song 1: Josh Woodward - Cien Volando\n",
      "Song 2: The J Arthur Keenes Band - The Boring World of Niels Bohr\n",
      " ********************** Adjusting the song The J Arthur Keenes Band - The Boring World of Niels Bohr - bass  **********************\n",
      "Concatenating for segment 'inst'\n",
      "Concatenating for segment 'inst'\n",
      "Concatenating for segment 'inst'\n",
      "Concatenating for segment 'chorus'\n",
      "Concatenating for segment 'outro'\n",
      " ********************** Adjusting the song The J Arthur Keenes Band - The Boring World of Niels Bohr - drums  **********************\n",
      "Concatenating for segment 'inst'\n",
      "Concatenating for segment 'inst'\n",
      "Concatenating for segment 'inst'\n",
      "Concatenating for segment 'chorus'\n",
      "Concatenating for segment 'outro'\n",
      " ********************** Adjusting the song The J Arthur Keenes Band - The Boring World of Niels Bohr - other  **********************\n",
      "Concatenating for segment 'inst'\n",
      "Concatenating for segment 'inst'\n",
      "Concatenating for segment 'inst'\n",
      "Concatenating for segment 'chorus'\n",
      "Concatenating for segment 'outro'\n",
      "Mashup loudness (before normalization): -13.341666666920128 LUFS\n",
      "Mashup normalized to -14.0 LUFS\n"
     ]
    },
    {
     "name": "stderr",
     "output_type": "stream",
     "text": [
      "/home/leami/myenv/lib/python3.12/site-packages/pyloudnorm/normalize.py:62: UserWarning: Possible clipped samples in output.\n",
      "  warnings.warn(\"Possible clipped samples in output.\")\n"
     ]
    },
    {
     "name": "stdout",
     "output_type": "stream",
     "text": [
      "Le fichier a été sauvegardé dans : Mashups/Josh Woodward - Cien Volando_The J Arthur Keenes Band - The Boring World of Niels Bohr.mp3\n",
      "Song 1: Josh Woodward - Cien Volando\n",
      "Song 2: The Oranges Band - Ride the Nuclear Wave\n",
      " ********************** Adjusting the song The Oranges Band - Ride the Nuclear Wave - bass  **********************\n",
      "Concatenating for segment 'verse'\n",
      "Concatenating for segment 'outro'\n",
      "Error fitting segment 'outro' to 28 beats: float division by zero\n",
      "Error fitting segment: outro at 175.39, Error: float division by zero\n",
      " ********************** Adjusting the song The Oranges Band - Ride the Nuclear Wave - drums  **********************\n",
      "Concatenating for segment 'verse'\n",
      "Concatenating for segment 'outro'\n",
      "Error fitting segment 'outro' to 28 beats: float division by zero\n",
      "Error fitting segment: outro at 175.39, Error: float division by zero\n",
      " ********************** Adjusting the song The Oranges Band - Ride the Nuclear Wave - other  **********************\n",
      "Concatenating for segment 'verse'\n",
      "Concatenating for segment 'outro'\n",
      "Error fitting segment 'outro' to 28 beats: float division by zero\n",
      "Error fitting segment: outro at 175.39, Error: float division by zero\n",
      "Mashup loudness (before normalization): -13.664028637658364 LUFS\n",
      "Mashup normalized to -14.0 LUFS\n"
     ]
    },
    {
     "name": "stderr",
     "output_type": "stream",
     "text": [
      "/home/leami/myenv/lib/python3.12/site-packages/pyloudnorm/normalize.py:62: UserWarning: Possible clipped samples in output.\n",
      "  warnings.warn(\"Possible clipped samples in output.\")\n"
     ]
    },
    {
     "name": "stdout",
     "output_type": "stream",
     "text": [
      "Le fichier a été sauvegardé dans : Mashups/Josh Woodward - Cien Volando_The Oranges Band - Ride the Nuclear Wave.mp3\n",
      "Song 1: Josh Woodward - Cien Volando\n",
      "Song 2: Wann - Happy Birthday\n",
      " ********************** Adjusting the song Wann - Happy Birthday - bass  **********************\n",
      "Concatenating for segment 'chorus'\n",
      "Concatenating for segment 'chorus'\n",
      "Concatenating for segment 'chorus'\n",
      "Error fitting segment 'outro' to 48 beats: float division by zero\n",
      "Error fitting segment: outro at 178.24, Error: float division by zero\n",
      "Error fitting segment 'outro' to 28 beats: float division by zero\n",
      "Error fitting segment: outro at 178.24, Error: float division by zero\n",
      " ********************** Adjusting the song Wann - Happy Birthday - drums  **********************\n",
      "Concatenating for segment 'chorus'\n",
      "Concatenating for segment 'chorus'\n",
      "Concatenating for segment 'chorus'\n",
      "Error fitting segment 'outro' to 48 beats: float division by zero\n",
      "Error fitting segment: outro at 178.24, Error: float division by zero\n",
      "Error fitting segment 'outro' to 28 beats: float division by zero\n",
      "Error fitting segment: outro at 178.24, Error: float division by zero\n",
      " ********************** Adjusting the song Wann - Happy Birthday - other  **********************\n",
      "Concatenating for segment 'chorus'\n",
      "Concatenating for segment 'chorus'\n",
      "Concatenating for segment 'chorus'\n",
      "Error fitting segment 'outro' to 48 beats: float division by zero\n",
      "Error fitting segment: outro at 178.24, Error: float division by zero\n",
      "Error fitting segment 'outro' to 28 beats: float division by zero\n",
      "Error fitting segment: outro at 178.24, Error: float division by zero\n",
      "Mashup loudness (before normalization): -15.990476184678817 LUFS\n",
      "Mashup normalized to -14.0 LUFS\n"
     ]
    },
    {
     "name": "stderr",
     "output_type": "stream",
     "text": [
      "/home/leami/myenv/lib/python3.12/site-packages/pyloudnorm/normalize.py:62: UserWarning: Possible clipped samples in output.\n",
      "  warnings.warn(\"Possible clipped samples in output.\")\n"
     ]
    },
    {
     "name": "stdout",
     "output_type": "stream",
     "text": [
      "Le fichier a été sauvegardé dans : Mashups/Josh Woodward - Cien Volando_Wann - Happy Birthday.mp3\n",
      "Song 1: Josh Woodward - Cien Volando\n",
      "Song 2: ZOELEELA - Jewel\n",
      " ********************** Adjusting the song ZOELEELA - Jewel - bass  **********************\n",
      "Concatenating for segment 'inst'\n",
      "Concatenating for segment 'inst'\n",
      "Concatenating for segment 'chorus'\n",
      " ********************** Adjusting the song ZOELEELA - Jewel - drums  **********************\n",
      "Concatenating for segment 'inst'\n",
      "Concatenating for segment 'inst'\n",
      "Concatenating for segment 'chorus'\n",
      " ********************** Adjusting the song ZOELEELA - Jewel - other  **********************\n",
      "Concatenating for segment 'inst'\n",
      "Concatenating for segment 'inst'\n",
      "Concatenating for segment 'chorus'\n",
      "Mashup loudness (before normalization): -14.6130236638515 LUFS\n",
      "Mashup normalized to -14.0 LUFS\n"
     ]
    },
    {
     "name": "stderr",
     "output_type": "stream",
     "text": [
      "/home/leami/myenv/lib/python3.12/site-packages/pyloudnorm/normalize.py:62: UserWarning: Possible clipped samples in output.\n",
      "  warnings.warn(\"Possible clipped samples in output.\")\n"
     ]
    },
    {
     "name": "stdout",
     "output_type": "stream",
     "text": [
      "Le fichier a été sauvegardé dans : Mashups/Josh Woodward - Cien Volando_ZOELEELA - Jewel.mp3\n",
      "Song 1: Los Steaks - Sunday Girls\n",
      "Song 2: Bam Bam - Hi-Q\n",
      " ********************** Adjusting the song Bam Bam - Hi-Q - bass  **********************\n",
      "Concatenating for segment 'intro'\n",
      "Concatenating for segment 'intro'\n",
      "Concatenating for segment 'verse'\n",
      "Concatenating for segment 'chorus'\n",
      "Concatenating for segment 'chorus'\n",
      "Concatenating for segment 'chorus'\n",
      "Concatenating for segment 'chorus'\n",
      "Error fitting segment 'outro' to 64 beats: float division by zero\n",
      "Error fitting segment: outro at 172.22, Error: float division by zero\n",
      " ********************** Adjusting the song Bam Bam - Hi-Q - drums  **********************\n",
      "Concatenating for segment 'intro'\n",
      "Concatenating for segment 'intro'\n",
      "Concatenating for segment 'verse'\n",
      "Concatenating for segment 'chorus'\n",
      "Concatenating for segment 'chorus'\n",
      "Concatenating for segment 'chorus'\n",
      "Concatenating for segment 'chorus'\n",
      "Error fitting segment 'outro' to 64 beats: float division by zero\n",
      "Error fitting segment: outro at 172.22, Error: float division by zero\n",
      " ********************** Adjusting the song Bam Bam - Hi-Q - other  **********************\n",
      "Concatenating for segment 'intro'\n",
      "Concatenating for segment 'intro'\n",
      "Concatenating for segment 'verse'\n",
      "Concatenating for segment 'chorus'\n",
      "Concatenating for segment 'chorus'\n",
      "Concatenating for segment 'chorus'\n",
      "Concatenating for segment 'chorus'\n",
      "Error fitting segment 'outro' to 64 beats: float division by zero\n",
      "Error fitting segment: outro at 172.22, Error: float division by zero\n",
      "Mashup loudness (before normalization): -15.336558377567787 LUFS\n",
      "Mashup normalized to -14.0 LUFS\n"
     ]
    },
    {
     "name": "stderr",
     "output_type": "stream",
     "text": [
      "/home/leami/myenv/lib/python3.12/site-packages/pyloudnorm/normalize.py:62: UserWarning: Possible clipped samples in output.\n",
      "  warnings.warn(\"Possible clipped samples in output.\")\n"
     ]
    },
    {
     "name": "stdout",
     "output_type": "stream",
     "text": [
      "Le fichier a été sauvegardé dans : Mashups/Los Steaks - Sunday Girls_Bam Bam - Hi-Q.mp3\n",
      "Song 1: Los Steaks - Sunday Girls\n",
      "Song 2: Benji Cossa - New Flowers (Fast 4-track Version)\n",
      " ********************** Adjusting the song Benji Cossa - New Flowers (Fast 4-track Version) - bass  **********************\n",
      "Error fitting segment 'verse' to 96 beats: float division by zero\n",
      "Error fitting segment: verse at 0.0, Error: float division by zero\n",
      "Concatenating for segment 'chorus'\n",
      "Concatenating for segment 'chorus'\n",
      "Concatenating for segment 'chorus'\n",
      " ********************** Adjusting the song Benji Cossa - New Flowers (Fast 4-track Version) - drums  **********************\n",
      "Error fitting segment 'verse' to 96 beats: float division by zero\n",
      "Error fitting segment: verse at 0.0, Error: float division by zero\n",
      "Concatenating for segment 'chorus'\n",
      "Concatenating for segment 'chorus'\n",
      "Concatenating for segment 'chorus'\n",
      " ********************** Adjusting the song Benji Cossa - New Flowers (Fast 4-track Version) - other  **********************\n",
      "Error fitting segment 'verse' to 96 beats: float division by zero\n",
      "Error fitting segment: verse at 0.0, Error: float division by zero\n",
      "Concatenating for segment 'chorus'\n",
      "Concatenating for segment 'chorus'\n",
      "Concatenating for segment 'chorus'\n",
      "Mashup loudness (before normalization): -13.020013347312577 LUFS\n",
      "Mashup normalized to -14.0 LUFS\n"
     ]
    },
    {
     "name": "stderr",
     "output_type": "stream",
     "text": [
      "/home/leami/myenv/lib/python3.12/site-packages/pyloudnorm/normalize.py:62: UserWarning: Possible clipped samples in output.\n",
      "  warnings.warn(\"Possible clipped samples in output.\")\n"
     ]
    },
    {
     "name": "stdout",
     "output_type": "stream",
     "text": [
      "Le fichier a été sauvegardé dans : Mashups/Los Steaks - Sunday Girls_Benji Cossa - New Flowers (Fast 4-track Version).mp3\n",
      "Song 1: Los Steaks - Sunday Girls\n",
      "Song 2: Bessie Smith - My Sweetie Went Away\n",
      " ********************** Adjusting the song Bessie Smith - My Sweetie Went Away - bass  **********************\n",
      "Concatenating for segment 'intro'\n",
      "Concatenating for segment 'verse'\n",
      "Concatenating for segment 'chorus'\n",
      "Concatenating for segment 'chorus'\n",
      "Concatenating for segment 'chorus'\n",
      " ********************** Adjusting the song Bessie Smith - My Sweetie Went Away - drums  **********************\n",
      "Concatenating for segment 'intro'\n",
      "Concatenating for segment 'verse'\n",
      "Concatenating for segment 'chorus'\n",
      "Concatenating for segment 'chorus'\n",
      "Concatenating for segment 'chorus'\n",
      " ********************** Adjusting the song Bessie Smith - My Sweetie Went Away - other  **********************\n",
      "Concatenating for segment 'intro'\n",
      "Concatenating for segment 'verse'\n",
      "Concatenating for segment 'chorus'\n",
      "Concatenating for segment 'chorus'\n",
      "Concatenating for segment 'chorus'\n",
      "Mashup loudness (before normalization): -17.788434152779622 LUFS\n",
      "Mashup normalized to -14.0 LUFS\n"
     ]
    },
    {
     "name": "stderr",
     "output_type": "stream",
     "text": [
      "/home/leami/myenv/lib/python3.12/site-packages/pyloudnorm/normalize.py:62: UserWarning: Possible clipped samples in output.\n",
      "  warnings.warn(\"Possible clipped samples in output.\")\n"
     ]
    },
    {
     "name": "stdout",
     "output_type": "stream",
     "text": [
      "Le fichier a été sauvegardé dans : Mashups/Los Steaks - Sunday Girls_Bessie Smith - My Sweetie Went Away.mp3\n",
      "Song 1: Los Steaks - Sunday Girls\n",
      "Song 2: David Rovics - We Just Want The World\n",
      " ********************** Adjusting the song David Rovics - We Just Want The World - bass  **********************\n",
      "Error fitting segment 'intro' to 64 beats: float division by zero\n",
      "Error fitting segment: intro at 0.0, Error: float division by zero\n",
      "Concatenating for segment 'verse'\n",
      "Concatenating for segment 'outro'\n",
      " ********************** Adjusting the song David Rovics - We Just Want The World - drums  **********************\n",
      "Error fitting segment 'intro' to 64 beats: float division by zero\n",
      "Error fitting segment: intro at 0.0, Error: float division by zero\n",
      "Concatenating for segment 'verse'\n",
      "Concatenating for segment 'outro'\n",
      " ********************** Adjusting the song David Rovics - We Just Want The World - other  **********************\n",
      "Error fitting segment 'intro' to 64 beats: float division by zero\n",
      "Error fitting segment: intro at 0.0, Error: float division by zero\n",
      "Concatenating for segment 'verse'\n",
      "Concatenating for segment 'outro'\n",
      "Mashup loudness (before normalization): -17.390835419583812 LUFS\n",
      "Mashup normalized to -14.0 LUFS\n"
     ]
    },
    {
     "name": "stderr",
     "output_type": "stream",
     "text": [
      "/home/leami/myenv/lib/python3.12/site-packages/pyloudnorm/normalize.py:62: UserWarning: Possible clipped samples in output.\n",
      "  warnings.warn(\"Possible clipped samples in output.\")\n"
     ]
    },
    {
     "name": "stdout",
     "output_type": "stream",
     "text": [
      "Le fichier a été sauvegardé dans : Mashups/Los Steaks - Sunday Girls_David Rovics - We Just Want The World.mp3\n",
      "Song 1: Los Steaks - Sunday Girls\n",
      "Song 2: deef - Ein sonniger Tag mit dir\n",
      " ********************** Adjusting the song deef - Ein sonniger Tag mit dir - bass  **********************\n",
      "Error fitting segment 'intro' to 64 beats: float division by zero\n",
      "Error fitting segment: intro at 7.22, Error: float division by zero\n",
      "Concatenating for segment 'chorus'\n",
      "Concatenating for segment 'chorus'\n",
      " ********************** Adjusting the song deef - Ein sonniger Tag mit dir - drums  **********************\n",
      "Error fitting segment 'intro' to 64 beats: float division by zero\n",
      "Error fitting segment: intro at 7.22, Error: float division by zero\n",
      "Concatenating for segment 'chorus'\n",
      "Concatenating for segment 'chorus'\n",
      " ********************** Adjusting the song deef - Ein sonniger Tag mit dir - other  **********************\n",
      "Error fitting segment 'intro' to 64 beats: float division by zero\n",
      "Error fitting segment: intro at 7.22, Error: float division by zero\n",
      "Concatenating for segment 'chorus'\n",
      "Concatenating for segment 'chorus'\n",
      "Mashup loudness (before normalization): -16.38266648428583 LUFS\n",
      "Mashup normalized to -14.0 LUFS\n"
     ]
    },
    {
     "name": "stderr",
     "output_type": "stream",
     "text": [
      "/home/leami/myenv/lib/python3.12/site-packages/pyloudnorm/normalize.py:62: UserWarning: Possible clipped samples in output.\n",
      "  warnings.warn(\"Possible clipped samples in output.\")\n"
     ]
    },
    {
     "name": "stdout",
     "output_type": "stream",
     "text": [
      "Le fichier a été sauvegardé dans : Mashups/Los Steaks - Sunday Girls_deef - Ein sonniger Tag mit dir.mp3\n",
      "Song 1: Los Steaks - Sunday Girls\n",
      "Song 2: Dragon Or Emperor - Part of Me Says\n",
      " ********************** Adjusting the song Dragon Or Emperor - Part of Me Says - bass  **********************\n",
      "Concatenating for segment 'intro'\n",
      "Concatenating for segment 'verse'\n",
      "Concatenating for segment 'verse'\n",
      "Concatenating for segment 'chorus'\n",
      "Concatenating for segment 'chorus'\n",
      "Concatenating for segment 'chorus'\n",
      "Concatenating for segment 'chorus'\n",
      "Error fitting segment 'outro' to 64 beats: float division by zero\n",
      "Error fitting segment: outro at 187.02, Error: float division by zero\n",
      " ********************** Adjusting the song Dragon Or Emperor - Part of Me Says - drums  **********************\n",
      "Concatenating for segment 'intro'\n",
      "Concatenating for segment 'verse'\n",
      "Concatenating for segment 'verse'\n",
      "Concatenating for segment 'chorus'\n",
      "Concatenating for segment 'chorus'\n",
      "Concatenating for segment 'chorus'\n",
      "Concatenating for segment 'chorus'\n",
      "Error fitting segment 'outro' to 64 beats: float division by zero\n",
      "Error fitting segment: outro at 187.02, Error: float division by zero\n",
      " ********************** Adjusting the song Dragon Or Emperor - Part of Me Says - other  **********************\n",
      "Concatenating for segment 'intro'\n",
      "Concatenating for segment 'verse'\n",
      "Concatenating for segment 'verse'\n",
      "Concatenating for segment 'chorus'\n",
      "Concatenating for segment 'chorus'\n",
      "Concatenating for segment 'chorus'\n",
      "Concatenating for segment 'chorus'\n",
      "Error fitting segment 'outro' to 64 beats: float division by zero\n",
      "Error fitting segment: outro at 187.02, Error: float division by zero\n",
      "Mashup loudness (before normalization): -13.348751967422219 LUFS\n",
      "Mashup normalized to -14.0 LUFS\n"
     ]
    },
    {
     "name": "stderr",
     "output_type": "stream",
     "text": [
      "/home/leami/myenv/lib/python3.12/site-packages/pyloudnorm/normalize.py:62: UserWarning: Possible clipped samples in output.\n",
      "  warnings.warn(\"Possible clipped samples in output.\")\n"
     ]
    },
    {
     "name": "stdout",
     "output_type": "stream",
     "text": [
      "Le fichier a été sauvegardé dans : Mashups/Los Steaks - Sunday Girls_Dragon Or Emperor - Part of Me Says.mp3\n",
      "Song 1: Los Steaks - Sunday Girls\n",
      "Song 2: Grand Mal - Children of Light\n",
      " ********************** Adjusting the song Grand Mal - Children of Light - bass  **********************\n",
      "Concatenating for segment 'verse'\n",
      "Concatenating for segment 'verse'\n",
      "Concatenating for segment 'chorus'\n",
      "Concatenating for segment 'chorus'\n",
      "Concatenating for segment 'chorus'\n",
      "Concatenating for segment 'chorus'\n",
      "Concatenating for segment 'outro'\n",
      "Concatenating for segment 'outro'\n",
      "Concatenating for segment 'outro'\n",
      "Concatenating for segment 'outro'\n",
      "Concatenating for segment 'outro'\n",
      " ********************** Adjusting the song Grand Mal - Children of Light - drums  **********************\n",
      "Concatenating for segment 'verse'\n",
      "Concatenating for segment 'verse'\n",
      "Concatenating for segment 'chorus'\n",
      "Concatenating for segment 'chorus'\n",
      "Concatenating for segment 'chorus'\n",
      "Concatenating for segment 'chorus'\n",
      "Concatenating for segment 'outro'\n",
      "Concatenating for segment 'outro'\n",
      "Concatenating for segment 'outro'\n",
      "Concatenating for segment 'outro'\n",
      "Concatenating for segment 'outro'\n",
      " ********************** Adjusting the song Grand Mal - Children of Light - other  **********************\n",
      "Concatenating for segment 'verse'\n",
      "Concatenating for segment 'verse'\n",
      "Concatenating for segment 'chorus'\n",
      "Concatenating for segment 'chorus'\n",
      "Concatenating for segment 'chorus'\n",
      "Concatenating for segment 'chorus'\n",
      "Concatenating for segment 'outro'\n",
      "Concatenating for segment 'outro'\n",
      "Concatenating for segment 'outro'\n",
      "Concatenating for segment 'outro'\n",
      "Concatenating for segment 'outro'\n",
      "Mashup loudness (before normalization): -15.45482530679639 LUFS\n",
      "Mashup normalized to -14.0 LUFS\n"
     ]
    },
    {
     "name": "stderr",
     "output_type": "stream",
     "text": [
      "/home/leami/myenv/lib/python3.12/site-packages/pyloudnorm/normalize.py:62: UserWarning: Possible clipped samples in output.\n",
      "  warnings.warn(\"Possible clipped samples in output.\")\n"
     ]
    },
    {
     "name": "stdout",
     "output_type": "stream",
     "text": [
      "Le fichier a été sauvegardé dans : Mashups/Los Steaks - Sunday Girls_Grand Mal - Children of Light.mp3\n",
      "Song 1: Los Steaks - Sunday Girls\n",
      "Song 2: Home Blitz - Secret Wave\n",
      " ********************** Adjusting the song Home Blitz - Secret Wave - bass  **********************\n",
      "Concatenating for segment 'verse'\n",
      "Concatenating for segment 'chorus'\n",
      "Concatenating for segment 'chorus'\n",
      "Concatenating for segment 'outro'\n",
      " ********************** Adjusting the song Home Blitz - Secret Wave - drums  **********************\n",
      "Concatenating for segment 'verse'\n",
      "Concatenating for segment 'chorus'\n",
      "Concatenating for segment 'chorus'\n",
      "Concatenating for segment 'outro'\n",
      " ********************** Adjusting the song Home Blitz - Secret Wave - other  **********************\n",
      "Concatenating for segment 'verse'\n",
      "Concatenating for segment 'chorus'\n",
      "Concatenating for segment 'chorus'\n",
      "Concatenating for segment 'outro'\n",
      "Mashup loudness (before normalization): -15.495265098000688 LUFS\n",
      "Mashup normalized to -14.0 LUFS\n"
     ]
    },
    {
     "name": "stderr",
     "output_type": "stream",
     "text": [
      "/home/leami/myenv/lib/python3.12/site-packages/pyloudnorm/normalize.py:62: UserWarning: Possible clipped samples in output.\n",
      "  warnings.warn(\"Possible clipped samples in output.\")\n"
     ]
    },
    {
     "name": "stdout",
     "output_type": "stream",
     "text": [
      "Le fichier a été sauvegardé dans : Mashups/Los Steaks - Sunday Girls_Home Blitz - Secret Wave.mp3\n",
      "Song 1: Los Steaks - Sunday Girls\n",
      "Song 2: Josh Woodward - Cien Volando\n",
      " ********************** Adjusting the song Josh Woodward - Cien Volando - bass  **********************\n",
      "Concatenating for segment 'verse'\n",
      "Concatenating for segment 'verse'\n",
      "Concatenating for segment 'chorus'\n",
      "Concatenating for segment 'chorus'\n",
      "Concatenating for segment 'chorus'\n",
      "Concatenating for segment 'chorus'\n",
      "Concatenating for segment 'chorus'\n",
      "Concatenating for segment 'outro'\n",
      " ********************** Adjusting the song Josh Woodward - Cien Volando - drums  **********************\n",
      "Concatenating for segment 'verse'\n",
      "Concatenating for segment 'verse'\n",
      "Concatenating for segment 'chorus'\n",
      "Concatenating for segment 'chorus'\n",
      "Concatenating for segment 'chorus'\n",
      "Concatenating for segment 'chorus'\n",
      "Concatenating for segment 'chorus'\n",
      "Concatenating for segment 'outro'\n",
      " ********************** Adjusting the song Josh Woodward - Cien Volando - other  **********************\n",
      "Concatenating for segment 'verse'\n",
      "Concatenating for segment 'verse'\n",
      "Concatenating for segment 'chorus'\n",
      "Concatenating for segment 'chorus'\n",
      "Concatenating for segment 'chorus'\n",
      "Concatenating for segment 'chorus'\n",
      "Concatenating for segment 'chorus'\n",
      "Concatenating for segment 'outro'\n",
      "Mashup loudness (before normalization): -17.06461667415523 LUFS\n",
      "Mashup normalized to -14.0 LUFS\n"
     ]
    },
    {
     "name": "stderr",
     "output_type": "stream",
     "text": [
      "/home/leami/myenv/lib/python3.12/site-packages/pyloudnorm/normalize.py:62: UserWarning: Possible clipped samples in output.\n",
      "  warnings.warn(\"Possible clipped samples in output.\")\n"
     ]
    },
    {
     "name": "stdout",
     "output_type": "stream",
     "text": [
      "Le fichier a été sauvegardé dans : Mashups/Los Steaks - Sunday Girls_Josh Woodward - Cien Volando.mp3\n",
      "Song 1: Los Steaks - Sunday Girls\n",
      "Song 2: Mia Doi Todd - I gave you my home\n",
      " ********************** Adjusting the song Mia Doi Todd - I gave you my home - bass  **********************\n",
      "Concatenating for segment 'verse'\n",
      "Concatenating for segment 'chorus'\n",
      " ********************** Adjusting the song Mia Doi Todd - I gave you my home - drums  **********************\n",
      "Concatenating for segment 'verse'\n",
      "Concatenating for segment 'chorus'\n",
      " ********************** Adjusting the song Mia Doi Todd - I gave you my home - other  **********************\n",
      "Concatenating for segment 'verse'\n",
      "Concatenating for segment 'chorus'\n",
      "Mashup loudness (before normalization): -17.397718353486297 LUFS\n",
      "Mashup normalized to -14.0 LUFS\n"
     ]
    },
    {
     "name": "stderr",
     "output_type": "stream",
     "text": [
      "/home/leami/myenv/lib/python3.12/site-packages/pyloudnorm/normalize.py:62: UserWarning: Possible clipped samples in output.\n",
      "  warnings.warn(\"Possible clipped samples in output.\")\n"
     ]
    },
    {
     "name": "stdout",
     "output_type": "stream",
     "text": [
      "Le fichier a été sauvegardé dans : Mashups/Los Steaks - Sunday Girls_Mia Doi Todd - I gave you my home.mp3\n",
      "Song 1: Los Steaks - Sunday Girls\n",
      "Song 2: Orange Peels - Grey Holiday\n",
      " ********************** Adjusting the song Orange Peels - Grey Holiday - bass  **********************\n",
      "Concatenating for segment 'verse'\n",
      "Concatenating for segment 'verse'\n",
      "Concatenating for segment 'chorus'\n",
      "Concatenating for segment 'chorus'\n",
      "Concatenating for segment 'chorus'\n",
      "Concatenating for segment 'chorus'\n",
      " ********************** Adjusting the song Orange Peels - Grey Holiday - drums  **********************\n",
      "Concatenating for segment 'verse'\n",
      "Concatenating for segment 'verse'\n",
      "Concatenating for segment 'chorus'\n",
      "Concatenating for segment 'chorus'\n",
      "Concatenating for segment 'chorus'\n",
      "Concatenating for segment 'chorus'\n",
      " ********************** Adjusting the song Orange Peels - Grey Holiday - other  **********************\n",
      "Concatenating for segment 'verse'\n",
      "Concatenating for segment 'verse'\n",
      "Concatenating for segment 'chorus'\n",
      "Concatenating for segment 'chorus'\n",
      "Concatenating for segment 'chorus'\n",
      "Concatenating for segment 'chorus'\n",
      "Mashup loudness (before normalization): -16.305104915982728 LUFS\n",
      "Mashup normalized to -14.0 LUFS\n"
     ]
    },
    {
     "name": "stderr",
     "output_type": "stream",
     "text": [
      "/home/leami/myenv/lib/python3.12/site-packages/pyloudnorm/normalize.py:62: UserWarning: Possible clipped samples in output.\n",
      "  warnings.warn(\"Possible clipped samples in output.\")\n"
     ]
    },
    {
     "name": "stdout",
     "output_type": "stream",
     "text": [
      "Le fichier a été sauvegardé dans : Mashups/Los Steaks - Sunday Girls_Orange Peels - Grey Holiday.mp3\n",
      "Song 1: Los Steaks - Sunday Girls\n",
      "Song 2: Poland - Lying Machine\n",
      " ********************** Adjusting the song Poland - Lying Machine - bass  **********************\n",
      "Concatenating for segment 'verse'\n",
      "Concatenating for segment 'verse'\n",
      "Concatenating for segment 'chorus'\n",
      "Concatenating for segment 'chorus'\n",
      "Concatenating for segment 'chorus'\n",
      "Concatenating for segment 'chorus'\n",
      "Concatenating for segment 'outro'\n",
      " ********************** Adjusting the song Poland - Lying Machine - drums  **********************\n",
      "Concatenating for segment 'verse'\n",
      "Concatenating for segment 'verse'\n",
      "Concatenating for segment 'chorus'\n",
      "Concatenating for segment 'chorus'\n",
      "Concatenating for segment 'chorus'\n",
      "Concatenating for segment 'chorus'\n",
      "Concatenating for segment 'outro'\n",
      " ********************** Adjusting the song Poland - Lying Machine - other  **********************\n",
      "Concatenating for segment 'verse'\n",
      "Concatenating for segment 'verse'\n",
      "Concatenating for segment 'chorus'\n",
      "Concatenating for segment 'chorus'\n",
      "Concatenating for segment 'chorus'\n",
      "Concatenating for segment 'chorus'\n",
      "Concatenating for segment 'outro'\n",
      "Mashup loudness (before normalization): -15.300773021429064 LUFS\n",
      "Mashup normalized to -14.0 LUFS\n"
     ]
    },
    {
     "name": "stderr",
     "output_type": "stream",
     "text": [
      "/home/leami/myenv/lib/python3.12/site-packages/pyloudnorm/normalize.py:62: UserWarning: Possible clipped samples in output.\n",
      "  warnings.warn(\"Possible clipped samples in output.\")\n"
     ]
    },
    {
     "name": "stdout",
     "output_type": "stream",
     "text": [
      "Le fichier a été sauvegardé dans : Mashups/Los Steaks - Sunday Girls_Poland - Lying Machine.mp3\n",
      "Song 1: Los Steaks - Sunday Girls\n",
      "Song 2: Shearer - Itch\n",
      " ********************** Adjusting the song Shearer - Itch - bass  **********************\n",
      "Error fitting segment 'verse' to 96 beats: float division by zero\n",
      "Error fitting segment: verse at 0.0, Error: float division by zero\n",
      "Concatenating for segment 'chorus'\n",
      "Concatenating for segment 'outro'\n",
      " ********************** Adjusting the song Shearer - Itch - drums  **********************\n",
      "Error fitting segment 'verse' to 96 beats: float division by zero\n",
      "Error fitting segment: verse at 0.0, Error: float division by zero\n",
      "Concatenating for segment 'chorus'\n",
      "Concatenating for segment 'outro'\n",
      " ********************** Adjusting the song Shearer - Itch - other  **********************\n",
      "Error fitting segment 'verse' to 96 beats: float division by zero\n",
      "Error fitting segment: verse at 0.0, Error: float division by zero\n",
      "Concatenating for segment 'chorus'\n",
      "Concatenating for segment 'outro'\n",
      "Mashup loudness (before normalization): -15.66964171636003 LUFS\n",
      "Mashup normalized to -14.0 LUFS\n"
     ]
    },
    {
     "name": "stderr",
     "output_type": "stream",
     "text": [
      "/home/leami/myenv/lib/python3.12/site-packages/pyloudnorm/normalize.py:62: UserWarning: Possible clipped samples in output.\n",
      "  warnings.warn(\"Possible clipped samples in output.\")\n"
     ]
    },
    {
     "name": "stdout",
     "output_type": "stream",
     "text": [
      "Le fichier a été sauvegardé dans : Mashups/Los Steaks - Sunday Girls_Shearer - Itch.mp3\n",
      "Song 1: Los Steaks - Sunday Girls\n",
      "Song 2: Short Hand - Certain Strangers\n",
      " ********************** Adjusting the song Short Hand - Certain Strangers - bass  **********************\n",
      "Concatenating for segment 'verse'\n",
      "Concatenating for segment 'chorus'\n",
      "Concatenating for segment 'chorus'\n",
      "Concatenating for segment 'chorus'\n",
      "Concatenating for segment 'chorus'\n",
      "Concatenating for segment 'outro'\n",
      "Concatenating for segment 'outro'\n",
      " ********************** Adjusting the song Short Hand - Certain Strangers - drums  **********************\n",
      "Concatenating for segment 'verse'\n",
      "Concatenating for segment 'chorus'\n",
      "Concatenating for segment 'chorus'\n",
      "Concatenating for segment 'chorus'\n",
      "Concatenating for segment 'chorus'\n",
      "Concatenating for segment 'outro'\n",
      "Concatenating for segment 'outro'\n",
      " ********************** Adjusting the song Short Hand - Certain Strangers - other  **********************\n",
      "Concatenating for segment 'verse'\n",
      "Concatenating for segment 'chorus'\n",
      "Concatenating for segment 'chorus'\n",
      "Concatenating for segment 'chorus'\n",
      "Concatenating for segment 'chorus'\n",
      "Concatenating for segment 'outro'\n",
      "Concatenating for segment 'outro'\n",
      "Mashup loudness (before normalization): -15.805426431566906 LUFS\n",
      "Mashup normalized to -14.0 LUFS\n"
     ]
    },
    {
     "name": "stderr",
     "output_type": "stream",
     "text": [
      "/home/leami/myenv/lib/python3.12/site-packages/pyloudnorm/normalize.py:62: UserWarning: Possible clipped samples in output.\n",
      "  warnings.warn(\"Possible clipped samples in output.\")\n"
     ]
    },
    {
     "name": "stdout",
     "output_type": "stream",
     "text": [
      "Le fichier a été sauvegardé dans : Mashups/Los Steaks - Sunday Girls_Short Hand - Certain Strangers.mp3\n",
      "Song 1: Los Steaks - Sunday Girls\n",
      "Song 2: The Cute Lepers - Young Hearts\n",
      " ********************** Adjusting the song The Cute Lepers - Young Hearts - bass  **********************\n",
      "Error fitting segment 'intro' to 64 beats: float division by zero\n",
      "Error fitting segment: intro at 0.0, Error: float division by zero\n",
      "Concatenating for segment 'verse'\n",
      "Concatenating for segment 'chorus'\n",
      " ********************** Adjusting the song The Cute Lepers - Young Hearts - drums  **********************\n",
      "Error fitting segment 'intro' to 64 beats: float division by zero\n",
      "Error fitting segment: intro at 0.0, Error: float division by zero\n",
      "Concatenating for segment 'verse'\n",
      "Concatenating for segment 'chorus'\n",
      " ********************** Adjusting the song The Cute Lepers - Young Hearts - other  **********************\n",
      "Error fitting segment 'intro' to 64 beats: float division by zero\n",
      "Error fitting segment: intro at 0.0, Error: float division by zero\n",
      "Concatenating for segment 'verse'\n",
      "Concatenating for segment 'chorus'\n",
      "Mashup loudness (before normalization): -15.409826816267328 LUFS\n",
      "Mashup normalized to -14.0 LUFS\n"
     ]
    },
    {
     "name": "stderr",
     "output_type": "stream",
     "text": [
      "/home/leami/myenv/lib/python3.12/site-packages/pyloudnorm/normalize.py:62: UserWarning: Possible clipped samples in output.\n",
      "  warnings.warn(\"Possible clipped samples in output.\")\n"
     ]
    },
    {
     "name": "stdout",
     "output_type": "stream",
     "text": [
      "Le fichier a été sauvegardé dans : Mashups/Los Steaks - Sunday Girls_The Cute Lepers - Young Hearts.mp3\n",
      "Song 1: Los Steaks - Sunday Girls\n",
      "Song 2: The Embarrassment - Patio Set\n",
      " ********************** Adjusting the song The Embarrassment - Patio Set - bass  **********************\n",
      "Concatenating for segment 'verse'\n",
      "Concatenating for segment 'chorus'\n",
      "Concatenating for segment 'chorus'\n",
      "Concatenating for segment 'chorus'\n",
      "Concatenating for segment 'chorus'\n",
      "Concatenating for segment 'outro'\n",
      " ********************** Adjusting the song The Embarrassment - Patio Set - drums  **********************\n",
      "Concatenating for segment 'verse'\n",
      "Concatenating for segment 'chorus'\n",
      "Concatenating for segment 'chorus'\n",
      "Concatenating for segment 'chorus'\n",
      "Concatenating for segment 'chorus'\n",
      "Concatenating for segment 'outro'\n",
      " ********************** Adjusting the song The Embarrassment - Patio Set - other  **********************\n",
      "Concatenating for segment 'verse'\n",
      "Concatenating for segment 'chorus'\n",
      "Concatenating for segment 'chorus'\n",
      "Concatenating for segment 'chorus'\n",
      "Concatenating for segment 'chorus'\n",
      "Concatenating for segment 'outro'\n",
      "Mashup loudness (before normalization): -17.01125447755115 LUFS\n",
      "Mashup normalized to -14.0 LUFS\n"
     ]
    },
    {
     "name": "stderr",
     "output_type": "stream",
     "text": [
      "/home/leami/myenv/lib/python3.12/site-packages/pyloudnorm/normalize.py:62: UserWarning: Possible clipped samples in output.\n",
      "  warnings.warn(\"Possible clipped samples in output.\")\n"
     ]
    },
    {
     "name": "stdout",
     "output_type": "stream",
     "text": [
      "Le fichier a été sauvegardé dans : Mashups/Los Steaks - Sunday Girls_The Embarrassment - Patio Set.mp3\n",
      "Song 1: Los Steaks - Sunday Girls\n",
      "Song 2: The J Arthur Keenes Band - The Boring World of Niels Bohr\n",
      " ********************** Adjusting the song The J Arthur Keenes Band - The Boring World of Niels Bohr - bass  **********************\n",
      "Error fitting segment 'intro' to 64 beats: float division by zero\n",
      "Error fitting segment: intro at 0.0, Error: float division by zero\n",
      "Concatenating for segment 'chorus'\n",
      "Concatenating for segment 'chorus'\n",
      "Concatenating for segment 'chorus'\n",
      " ********************** Adjusting the song The J Arthur Keenes Band - The Boring World of Niels Bohr - drums  **********************\n",
      "Error fitting segment 'intro' to 64 beats: float division by zero\n",
      "Error fitting segment: intro at 0.0, Error: float division by zero\n",
      "Concatenating for segment 'chorus'\n",
      "Concatenating for segment 'chorus'\n",
      "Concatenating for segment 'chorus'\n",
      " ********************** Adjusting the song The J Arthur Keenes Band - The Boring World of Niels Bohr - other  **********************\n",
      "Error fitting segment 'intro' to 64 beats: float division by zero\n",
      "Error fitting segment: intro at 0.0, Error: float division by zero\n",
      "Concatenating for segment 'chorus'\n",
      "Concatenating for segment 'chorus'\n",
      "Concatenating for segment 'chorus'\n",
      "Mashup loudness (before normalization): -14.710678486561461 LUFS\n",
      "Mashup normalized to -14.0 LUFS\n"
     ]
    },
    {
     "name": "stderr",
     "output_type": "stream",
     "text": [
      "/home/leami/myenv/lib/python3.12/site-packages/pyloudnorm/normalize.py:62: UserWarning: Possible clipped samples in output.\n",
      "  warnings.warn(\"Possible clipped samples in output.\")\n"
     ]
    },
    {
     "name": "stdout",
     "output_type": "stream",
     "text": [
      "Le fichier a été sauvegardé dans : Mashups/Los Steaks - Sunday Girls_The J Arthur Keenes Band - The Boring World of Niels Bohr.mp3\n",
      "Song 1: Los Steaks - Sunday Girls\n",
      "Song 2: The Oranges Band - Ride the Nuclear Wave\n",
      " ********************** Adjusting the song The Oranges Band - Ride the Nuclear Wave - bass  **********************\n",
      "Error fitting segment 'intro' to 64 beats: float division by zero\n",
      "Error fitting segment: intro at 0.0, Error: float division by zero\n",
      "Concatenating for segment 'verse'\n",
      "Concatenating for segment 'verse'\n",
      "Concatenating for segment 'chorus'\n",
      "Concatenating for segment 'chorus'\n",
      "Concatenating for segment 'chorus'\n",
      "Concatenating for segment 'chorus'\n",
      "Concatenating for segment 'outro'\n",
      " ********************** Adjusting the song The Oranges Band - Ride the Nuclear Wave - drums  **********************\n",
      "Error fitting segment 'intro' to 64 beats: float division by zero\n",
      "Error fitting segment: intro at 0.0, Error: float division by zero\n",
      "Concatenating for segment 'verse'\n",
      "Concatenating for segment 'verse'\n",
      "Concatenating for segment 'chorus'\n",
      "Concatenating for segment 'chorus'\n",
      "Concatenating for segment 'chorus'\n",
      "Concatenating for segment 'chorus'\n",
      "Concatenating for segment 'outro'\n",
      " ********************** Adjusting the song The Oranges Band - Ride the Nuclear Wave - other  **********************\n",
      "Error fitting segment 'intro' to 64 beats: float division by zero\n",
      "Error fitting segment: intro at 0.0, Error: float division by zero\n",
      "Concatenating for segment 'verse'\n",
      "Concatenating for segment 'verse'\n",
      "Concatenating for segment 'chorus'\n",
      "Concatenating for segment 'chorus'\n",
      "Concatenating for segment 'chorus'\n",
      "Concatenating for segment 'chorus'\n",
      "Concatenating for segment 'outro'\n",
      "Mashup loudness (before normalization): -15.258761695532934 LUFS\n",
      "Mashup normalized to -14.0 LUFS\n"
     ]
    },
    {
     "name": "stderr",
     "output_type": "stream",
     "text": [
      "/home/leami/myenv/lib/python3.12/site-packages/pyloudnorm/normalize.py:62: UserWarning: Possible clipped samples in output.\n",
      "  warnings.warn(\"Possible clipped samples in output.\")\n"
     ]
    },
    {
     "name": "stdout",
     "output_type": "stream",
     "text": [
      "Le fichier a été sauvegardé dans : Mashups/Los Steaks - Sunday Girls_The Oranges Band - Ride the Nuclear Wave.mp3\n",
      "Song 1: Los Steaks - Sunday Girls\n",
      "Song 2: Wann - Happy Birthday\n",
      " ********************** Adjusting the song Wann - Happy Birthday - bass  **********************\n",
      "Concatenating for segment 'intro'\n",
      "Concatenating for segment 'verse'\n",
      "Concatenating for segment 'chorus'\n",
      "Concatenating for segment 'chorus'\n",
      "Concatenating for segment 'chorus'\n",
      "Concatenating for segment 'chorus'\n",
      "Error fitting segment 'outro' to 64 beats: float division by zero\n",
      "Error fitting segment: outro at 178.24, Error: float division by zero\n",
      " ********************** Adjusting the song Wann - Happy Birthday - drums  **********************\n",
      "Concatenating for segment 'intro'\n",
      "Concatenating for segment 'verse'\n",
      "Concatenating for segment 'chorus'\n",
      "Concatenating for segment 'chorus'\n",
      "Concatenating for segment 'chorus'\n",
      "Concatenating for segment 'chorus'\n",
      "Error fitting segment 'outro' to 64 beats: float division by zero\n",
      "Error fitting segment: outro at 178.24, Error: float division by zero\n",
      " ********************** Adjusting the song Wann - Happy Birthday - other  **********************\n",
      "Concatenating for segment 'intro'\n",
      "Concatenating for segment 'verse'\n",
      "Concatenating for segment 'chorus'\n",
      "Concatenating for segment 'chorus'\n",
      "Concatenating for segment 'chorus'\n",
      "Concatenating for segment 'chorus'\n",
      "Error fitting segment 'outro' to 64 beats: float division by zero\n",
      "Error fitting segment: outro at 178.24, Error: float division by zero\n",
      "Mashup loudness (before normalization): -16.14397380023037 LUFS\n",
      "Mashup normalized to -14.0 LUFS\n"
     ]
    },
    {
     "name": "stderr",
     "output_type": "stream",
     "text": [
      "/home/leami/myenv/lib/python3.12/site-packages/pyloudnorm/normalize.py:62: UserWarning: Possible clipped samples in output.\n",
      "  warnings.warn(\"Possible clipped samples in output.\")\n"
     ]
    },
    {
     "name": "stdout",
     "output_type": "stream",
     "text": [
      "Le fichier a été sauvegardé dans : Mashups/Los Steaks - Sunday Girls_Wann - Happy Birthday.mp3\n",
      "Song 1: Los Steaks - Sunday Girls\n",
      "Song 2: ZOELEELA - Jewel\n",
      " ********************** Adjusting the song ZOELEELA - Jewel - bass  **********************\n",
      "Concatenating for segment 'verse'\n",
      "Concatenating for segment 'chorus'\n",
      "Concatenating for segment 'chorus'\n",
      " ********************** Adjusting the song ZOELEELA - Jewel - drums  **********************\n",
      "Concatenating for segment 'verse'\n",
      "Concatenating for segment 'chorus'\n",
      "Concatenating for segment 'chorus'\n",
      " ********************** Adjusting the song ZOELEELA - Jewel - other  **********************\n",
      "Concatenating for segment 'verse'\n",
      "Concatenating for segment 'chorus'\n",
      "Concatenating for segment 'chorus'\n",
      "Mashup loudness (before normalization): -15.518140480685158 LUFS\n",
      "Mashup normalized to -14.0 LUFS\n"
     ]
    },
    {
     "name": "stderr",
     "output_type": "stream",
     "text": [
      "/home/leami/myenv/lib/python3.12/site-packages/pyloudnorm/normalize.py:62: UserWarning: Possible clipped samples in output.\n",
      "  warnings.warn(\"Possible clipped samples in output.\")\n"
     ]
    },
    {
     "name": "stdout",
     "output_type": "stream",
     "text": [
      "Le fichier a été sauvegardé dans : Mashups/Los Steaks - Sunday Girls_ZOELEELA - Jewel.mp3\n",
      "Song 1: Mia Doi Todd - I gave you my home\n",
      "Song 2: Bam Bam - Hi-Q\n",
      " ********************** Adjusting the song Bam Bam - Hi-Q - bass  **********************\n",
      "Concatenating for segment 'verse'\n",
      "Error fitting segment 'outro' to 36 beats: float division by zero\n",
      "Error fitting segment: outro at 172.22, Error: float division by zero\n",
      " ********************** Adjusting the song Bam Bam - Hi-Q - drums  **********************\n",
      "Concatenating for segment 'verse'\n",
      "Error fitting segment 'outro' to 36 beats: float division by zero\n",
      "Error fitting segment: outro at 172.22, Error: float division by zero\n",
      " ********************** Adjusting the song Bam Bam - Hi-Q - other  **********************\n",
      "Concatenating for segment 'verse'\n",
      "Error fitting segment 'outro' to 36 beats: float division by zero\n",
      "Error fitting segment: outro at 172.22, Error: float division by zero\n",
      "Mashup loudness (before normalization): -19.829650546725198 LUFS\n",
      "Mashup normalized to -14.0 LUFS\n"
     ]
    },
    {
     "name": "stderr",
     "output_type": "stream",
     "text": [
      "/home/leami/myenv/lib/python3.12/site-packages/pyloudnorm/normalize.py:62: UserWarning: Possible clipped samples in output.\n",
      "  warnings.warn(\"Possible clipped samples in output.\")\n"
     ]
    },
    {
     "name": "stdout",
     "output_type": "stream",
     "text": [
      "Le fichier a été sauvegardé dans : Mashups/Mia Doi Todd - I gave you my home_Bam Bam - Hi-Q.mp3\n",
      "Song 1: Mia Doi Todd - I gave you my home\n",
      "Song 2: Benji Cossa - New Flowers (Fast 4-track Version)\n",
      " ********************** Adjusting the song Benji Cossa - New Flowers (Fast 4-track Version) - bass  **********************\n",
      "Error fitting segment 'verse' to 40 beats: float division by zero\n",
      "Error fitting segment: verse at 0.0, Error: float division by zero\n",
      " ********************** Adjusting the song Benji Cossa - New Flowers (Fast 4-track Version) - drums  **********************\n",
      "Error fitting segment 'verse' to 40 beats: float division by zero\n",
      "Error fitting segment: verse at 0.0, Error: float division by zero\n",
      " ********************** Adjusting the song Benji Cossa - New Flowers (Fast 4-track Version) - other  **********************\n",
      "Error fitting segment 'verse' to 40 beats: float division by zero\n",
      "Error fitting segment: verse at 0.0, Error: float division by zero\n",
      "Mashup loudness (before normalization): -16.170660440365616 LUFS\n",
      "Mashup normalized to -14.0 LUFS\n"
     ]
    },
    {
     "name": "stderr",
     "output_type": "stream",
     "text": [
      "/home/leami/myenv/lib/python3.12/site-packages/pyloudnorm/normalize.py:62: UserWarning: Possible clipped samples in output.\n",
      "  warnings.warn(\"Possible clipped samples in output.\")\n"
     ]
    },
    {
     "name": "stdout",
     "output_type": "stream",
     "text": [
      "Le fichier a été sauvegardé dans : Mashups/Mia Doi Todd - I gave you my home_Benji Cossa - New Flowers (Fast 4-track Version).mp3\n",
      "Song 1: Mia Doi Todd - I gave you my home\n",
      "Song 2: Bessie Smith - My Sweetie Went Away\n",
      " ********************** Adjusting the song Bessie Smith - My Sweetie Went Away - bass  **********************\n",
      "Concatenating for segment 'verse'\n",
      "Concatenating for segment 'verse'\n",
      "Concatenating for segment 'verse'\n",
      "Concatenating for segment 'verse'\n",
      "Concatenating for segment 'chorus'\n",
      " ********************** Adjusting the song Bessie Smith - My Sweetie Went Away - drums  **********************\n",
      "Concatenating for segment 'verse'\n",
      "Concatenating for segment 'verse'\n",
      "Concatenating for segment 'verse'\n",
      "Concatenating for segment 'verse'\n",
      "Concatenating for segment 'chorus'\n",
      " ********************** Adjusting the song Bessie Smith - My Sweetie Went Away - other  **********************\n",
      "Concatenating for segment 'verse'\n",
      "Concatenating for segment 'verse'\n",
      "Concatenating for segment 'verse'\n",
      "Concatenating for segment 'verse'\n",
      "Concatenating for segment 'chorus'\n",
      "Mashup loudness (before normalization): -30.86574396276497 LUFS\n",
      "Mashup normalized to -14.0 LUFS\n"
     ]
    },
    {
     "name": "stderr",
     "output_type": "stream",
     "text": [
      "/home/leami/myenv/lib/python3.12/site-packages/pyloudnorm/normalize.py:62: UserWarning: Possible clipped samples in output.\n",
      "  warnings.warn(\"Possible clipped samples in output.\")\n"
     ]
    },
    {
     "name": "stdout",
     "output_type": "stream",
     "text": [
      "Le fichier a été sauvegardé dans : Mashups/Mia Doi Todd - I gave you my home_Bessie Smith - My Sweetie Went Away.mp3\n",
      "Song 1: Mia Doi Todd - I gave you my home\n",
      "Song 2: David Rovics - We Just Want The World\n",
      " ********************** Adjusting the song David Rovics - We Just Want The World - bass  **********************\n",
      "Concatenating for segment 'outro'\n",
      " ********************** Adjusting the song David Rovics - We Just Want The World - drums  **********************\n",
      "Concatenating for segment 'outro'\n",
      " ********************** Adjusting the song David Rovics - We Just Want The World - other  **********************\n",
      "Concatenating for segment 'outro'\n",
      "Mashup loudness (before normalization): -21.57687540418787 LUFS\n",
      "Mashup normalized to -14.0 LUFS\n"
     ]
    },
    {
     "name": "stderr",
     "output_type": "stream",
     "text": [
      "/home/leami/myenv/lib/python3.12/site-packages/pyloudnorm/normalize.py:62: UserWarning: Possible clipped samples in output.\n",
      "  warnings.warn(\"Possible clipped samples in output.\")\n"
     ]
    },
    {
     "name": "stdout",
     "output_type": "stream",
     "text": [
      "Le fichier a été sauvegardé dans : Mashups/Mia Doi Todd - I gave you my home_David Rovics - We Just Want The World.mp3\n",
      "Song 1: Mia Doi Todd - I gave you my home\n",
      "Song 2: deef - Ein sonniger Tag mit dir\n",
      " ********************** Adjusting the song deef - Ein sonniger Tag mit dir - bass  **********************\n",
      "Concatenating for segment 'chorus'\n",
      "Concatenating for segment 'chorus'\n",
      " ********************** Adjusting the song deef - Ein sonniger Tag mit dir - drums  **********************\n",
      "Concatenating for segment 'chorus'\n",
      "Concatenating for segment 'chorus'\n",
      " ********************** Adjusting the song deef - Ein sonniger Tag mit dir - other  **********************\n",
      "Concatenating for segment 'chorus'\n",
      "Concatenating for segment 'chorus'\n",
      "Mashup loudness (before normalization): -21.460575578298236 LUFS\n",
      "Mashup normalized to -14.0 LUFS\n"
     ]
    },
    {
     "name": "stderr",
     "output_type": "stream",
     "text": [
      "/home/leami/myenv/lib/python3.12/site-packages/pyloudnorm/normalize.py:62: UserWarning: Possible clipped samples in output.\n",
      "  warnings.warn(\"Possible clipped samples in output.\")\n"
     ]
    },
    {
     "name": "stdout",
     "output_type": "stream",
     "text": [
      "Le fichier a été sauvegardé dans : Mashups/Mia Doi Todd - I gave you my home_deef - Ein sonniger Tag mit dir.mp3\n",
      "Song 1: Mia Doi Todd - I gave you my home\n",
      "Song 2: Dragon Or Emperor - Part of Me Says\n",
      " ********************** Adjusting the song Dragon Or Emperor - Part of Me Says - bass  **********************\n",
      "Concatenating for segment 'verse'\n",
      "Error fitting segment 'outro' to 36 beats: float division by zero\n",
      "Error fitting segment: outro at 187.02, Error: float division by zero\n",
      " ********************** Adjusting the song Dragon Or Emperor - Part of Me Says - drums  **********************\n",
      "Concatenating for segment 'verse'\n",
      "Error fitting segment 'outro' to 36 beats: float division by zero\n",
      "Error fitting segment: outro at 187.02, Error: float division by zero\n",
      " ********************** Adjusting the song Dragon Or Emperor - Part of Me Says - other  **********************\n",
      "Concatenating for segment 'verse'\n",
      "Error fitting segment 'outro' to 36 beats: float division by zero\n",
      "Error fitting segment: outro at 187.02, Error: float division by zero\n",
      "Mashup loudness (before normalization): -16.17328132987329 LUFS\n",
      "Mashup normalized to -14.0 LUFS\n"
     ]
    },
    {
     "name": "stderr",
     "output_type": "stream",
     "text": [
      "/home/leami/myenv/lib/python3.12/site-packages/pyloudnorm/normalize.py:62: UserWarning: Possible clipped samples in output.\n",
      "  warnings.warn(\"Possible clipped samples in output.\")\n"
     ]
    },
    {
     "name": "stdout",
     "output_type": "stream",
     "text": [
      "Le fichier a été sauvegardé dans : Mashups/Mia Doi Todd - I gave you my home_Dragon Or Emperor - Part of Me Says.mp3\n",
      "Song 1: Mia Doi Todd - I gave you my home\n",
      "Song 2: Grand Mal - Children of Light\n",
      " ********************** Adjusting the song Grand Mal - Children of Light - bass  **********************\n",
      "Concatenating for segment 'verse'\n",
      "Concatenating for segment 'outro'\n",
      "Concatenating for segment 'outro'\n",
      "Concatenating for segment 'outro'\n",
      "Concatenating for segment 'outro'\n",
      "Concatenating for segment 'outro'\n",
      " ********************** Adjusting the song Grand Mal - Children of Light - drums  **********************\n",
      "Concatenating for segment 'verse'\n",
      "Concatenating for segment 'outro'\n",
      "Concatenating for segment 'outro'\n",
      "Concatenating for segment 'outro'\n",
      "Concatenating for segment 'outro'\n",
      "Concatenating for segment 'outro'\n",
      " ********************** Adjusting the song Grand Mal - Children of Light - other  **********************\n",
      "Concatenating for segment 'verse'\n",
      "Concatenating for segment 'outro'\n",
      "Concatenating for segment 'outro'\n",
      "Concatenating for segment 'outro'\n",
      "Concatenating for segment 'outro'\n",
      "Concatenating for segment 'outro'\n",
      "Mashup loudness (before normalization): -23.77959592356393 LUFS\n",
      "Mashup normalized to -14.0 LUFS\n"
     ]
    },
    {
     "name": "stderr",
     "output_type": "stream",
     "text": [
      "/home/leami/myenv/lib/python3.12/site-packages/pyloudnorm/normalize.py:62: UserWarning: Possible clipped samples in output.\n",
      "  warnings.warn(\"Possible clipped samples in output.\")\n"
     ]
    },
    {
     "name": "stdout",
     "output_type": "stream",
     "text": [
      "Le fichier a été sauvegardé dans : Mashups/Mia Doi Todd - I gave you my home_Grand Mal - Children of Light.mp3\n",
      "Song 1: Mia Doi Todd - I gave you my home\n",
      "Song 2: Home Blitz - Secret Wave\n",
      " ********************** Adjusting the song Home Blitz - Secret Wave - bass  **********************\n",
      " ********************** Adjusting the song Home Blitz - Secret Wave - drums  **********************\n",
      " ********************** Adjusting the song Home Blitz - Secret Wave - other  **********************\n",
      "Mashup loudness (before normalization): -17.17932847299359 LUFS\n",
      "Mashup normalized to -14.0 LUFS\n"
     ]
    },
    {
     "name": "stderr",
     "output_type": "stream",
     "text": [
      "/home/leami/myenv/lib/python3.12/site-packages/pyloudnorm/normalize.py:62: UserWarning: Possible clipped samples in output.\n",
      "  warnings.warn(\"Possible clipped samples in output.\")\n"
     ]
    },
    {
     "name": "stdout",
     "output_type": "stream",
     "text": [
      "Le fichier a été sauvegardé dans : Mashups/Mia Doi Todd - I gave you my home_Home Blitz - Secret Wave.mp3\n",
      "Song 1: Mia Doi Todd - I gave you my home\n",
      "Song 2: Josh Woodward - Cien Volando\n",
      " ********************** Adjusting the song Josh Woodward - Cien Volando - bass  **********************\n",
      "Concatenating for segment 'verse'\n",
      "Concatenating for segment 'verse'\n",
      "Concatenating for segment 'verse'\n",
      "Concatenating for segment 'chorus'\n",
      "Concatenating for segment 'verse'\n",
      " ********************** Adjusting the song Josh Woodward - Cien Volando - drums  **********************\n",
      "Concatenating for segment 'verse'\n",
      "Concatenating for segment 'verse'\n",
      "Concatenating for segment 'verse'\n",
      "Concatenating for segment 'chorus'\n",
      "Concatenating for segment 'verse'\n",
      " ********************** Adjusting the song Josh Woodward - Cien Volando - other  **********************\n",
      "Concatenating for segment 'verse'\n",
      "Concatenating for segment 'verse'\n",
      "Concatenating for segment 'verse'\n",
      "Concatenating for segment 'chorus'\n",
      "Concatenating for segment 'verse'\n",
      "Mashup loudness (before normalization): -21.803368242017825 LUFS\n",
      "Mashup normalized to -14.0 LUFS\n"
     ]
    },
    {
     "name": "stderr",
     "output_type": "stream",
     "text": [
      "/home/leami/myenv/lib/python3.12/site-packages/pyloudnorm/normalize.py:62: UserWarning: Possible clipped samples in output.\n",
      "  warnings.warn(\"Possible clipped samples in output.\")\n"
     ]
    },
    {
     "name": "stdout",
     "output_type": "stream",
     "text": [
      "Le fichier a été sauvegardé dans : Mashups/Mia Doi Todd - I gave you my home_Josh Woodward - Cien Volando.mp3\n",
      "Song 1: Mia Doi Todd - I gave you my home\n",
      "Song 2: Los Steaks - Sunday Girls\n",
      " ********************** Adjusting the song Los Steaks - Sunday Girls - bass  **********************\n",
      " ********************** Adjusting the song Los Steaks - Sunday Girls - drums  **********************\n",
      " ********************** Adjusting the song Los Steaks - Sunday Girls - other  **********************\n",
      "Mashup loudness (before normalization): -15.671874228363778 LUFS\n",
      "Mashup normalized to -14.0 LUFS\n"
     ]
    },
    {
     "name": "stderr",
     "output_type": "stream",
     "text": [
      "/home/leami/myenv/lib/python3.12/site-packages/pyloudnorm/normalize.py:62: UserWarning: Possible clipped samples in output.\n",
      "  warnings.warn(\"Possible clipped samples in output.\")\n"
     ]
    },
    {
     "name": "stdout",
     "output_type": "stream",
     "text": [
      "Le fichier a été sauvegardé dans : Mashups/Mia Doi Todd - I gave you my home_Los Steaks - Sunday Girls.mp3\n",
      "Song 1: Mia Doi Todd - I gave you my home\n",
      "Song 2: Orange Peels - Grey Holiday\n",
      " ********************** Adjusting the song Orange Peels - Grey Holiday - bass  **********************\n",
      "Concatenating for segment 'verse'\n",
      "Concatenating for segment 'verse'\n",
      "Concatenating for segment 'verse'\n",
      "Concatenating for segment 'chorus'\n",
      " ********************** Adjusting the song Orange Peels - Grey Holiday - drums  **********************\n",
      "Concatenating for segment 'verse'\n",
      "Concatenating for segment 'verse'\n",
      "Concatenating for segment 'verse'\n",
      "Concatenating for segment 'chorus'\n",
      " ********************** Adjusting the song Orange Peels - Grey Holiday - other  **********************\n",
      "Concatenating for segment 'verse'\n",
      "Concatenating for segment 'verse'\n",
      "Concatenating for segment 'verse'\n",
      "Concatenating for segment 'chorus'\n",
      "Mashup loudness (before normalization): -24.285640072958035 LUFS\n",
      "Mashup normalized to -14.0 LUFS\n"
     ]
    },
    {
     "name": "stderr",
     "output_type": "stream",
     "text": [
      "/home/leami/myenv/lib/python3.12/site-packages/pyloudnorm/normalize.py:62: UserWarning: Possible clipped samples in output.\n",
      "  warnings.warn(\"Possible clipped samples in output.\")\n"
     ]
    },
    {
     "name": "stdout",
     "output_type": "stream",
     "text": [
      "Le fichier a été sauvegardé dans : Mashups/Mia Doi Todd - I gave you my home_Orange Peels - Grey Holiday.mp3\n",
      "Song 1: Mia Doi Todd - I gave you my home\n",
      "Song 2: Poland - Lying Machine\n",
      " ********************** Adjusting the song Poland - Lying Machine - bass  **********************\n",
      "Concatenating for segment 'verse'\n",
      "Concatenating for segment 'chorus'\n",
      "Concatenating for segment 'outro'\n",
      " ********************** Adjusting the song Poland - Lying Machine - drums  **********************\n",
      "Concatenating for segment 'verse'\n",
      "Concatenating for segment 'chorus'\n",
      "Concatenating for segment 'outro'\n",
      " ********************** Adjusting the song Poland - Lying Machine - other  **********************\n",
      "Concatenating for segment 'verse'\n",
      "Concatenating for segment 'chorus'\n",
      "Concatenating for segment 'outro'\n",
      "Mashup loudness (before normalization): -18.776836336720887 LUFS\n",
      "Mashup normalized to -14.0 LUFS\n"
     ]
    },
    {
     "name": "stderr",
     "output_type": "stream",
     "text": [
      "/home/leami/myenv/lib/python3.12/site-packages/pyloudnorm/normalize.py:62: UserWarning: Possible clipped samples in output.\n",
      "  warnings.warn(\"Possible clipped samples in output.\")\n"
     ]
    },
    {
     "name": "stdout",
     "output_type": "stream",
     "text": [
      "Le fichier a été sauvegardé dans : Mashups/Mia Doi Todd - I gave you my home_Poland - Lying Machine.mp3\n",
      "Song 1: Mia Doi Todd - I gave you my home\n",
      "Song 2: Shearer - Itch\n",
      " ********************** Adjusting the song Shearer - Itch - bass  **********************\n",
      "Error fitting segment 'verse' to 40 beats: float division by zero\n",
      "Error fitting segment: verse at 0.0, Error: float division by zero\n",
      "Concatenating for segment 'verse'\n",
      " ********************** Adjusting the song Shearer - Itch - drums  **********************\n",
      "Error fitting segment 'verse' to 40 beats: float division by zero\n",
      "Error fitting segment: verse at 0.0, Error: float division by zero\n",
      "Concatenating for segment 'verse'\n",
      " ********************** Adjusting the song Shearer - Itch - other  **********************\n",
      "Error fitting segment 'verse' to 40 beats: float division by zero\n",
      "Error fitting segment: verse at 0.0, Error: float division by zero\n",
      "Concatenating for segment 'verse'\n",
      "Mashup loudness (before normalization): -17.800099358509687 LUFS\n",
      "Mashup normalized to -14.0 LUFS\n"
     ]
    },
    {
     "name": "stderr",
     "output_type": "stream",
     "text": [
      "/home/leami/myenv/lib/python3.12/site-packages/pyloudnorm/normalize.py:62: UserWarning: Possible clipped samples in output.\n",
      "  warnings.warn(\"Possible clipped samples in output.\")\n"
     ]
    },
    {
     "name": "stdout",
     "output_type": "stream",
     "text": [
      "Le fichier a été sauvegardé dans : Mashups/Mia Doi Todd - I gave you my home_Shearer - Itch.mp3\n",
      "Song 1: Mia Doi Todd - I gave you my home\n",
      "Song 2: Short Hand - Certain Strangers\n",
      " ********************** Adjusting the song Short Hand - Certain Strangers - bass  **********************\n",
      "Concatenating for segment 'outro'\n",
      " ********************** Adjusting the song Short Hand - Certain Strangers - drums  **********************\n",
      "Concatenating for segment 'outro'\n",
      " ********************** Adjusting the song Short Hand - Certain Strangers - other  **********************\n",
      "Concatenating for segment 'outro'\n",
      "Mashup loudness (before normalization): -18.09458358470603 LUFS\n",
      "Mashup normalized to -14.0 LUFS\n"
     ]
    },
    {
     "name": "stderr",
     "output_type": "stream",
     "text": [
      "/home/leami/myenv/lib/python3.12/site-packages/pyloudnorm/normalize.py:62: UserWarning: Possible clipped samples in output.\n",
      "  warnings.warn(\"Possible clipped samples in output.\")\n"
     ]
    },
    {
     "name": "stdout",
     "output_type": "stream",
     "text": [
      "Le fichier a été sauvegardé dans : Mashups/Mia Doi Todd - I gave you my home_Short Hand - Certain Strangers.mp3\n",
      "Song 1: Mia Doi Todd - I gave you my home\n",
      "Song 2: The Cute Lepers - Young Hearts\n",
      " ********************** Adjusting the song The Cute Lepers - Young Hearts - bass  **********************\n",
      " ********************** Adjusting the song The Cute Lepers - Young Hearts - drums  **********************\n",
      " ********************** Adjusting the song The Cute Lepers - Young Hearts - other  **********************\n",
      "Mashup loudness (before normalization): -18.635972213778263 LUFS\n",
      "Mashup normalized to -14.0 LUFS\n"
     ]
    },
    {
     "name": "stderr",
     "output_type": "stream",
     "text": [
      "/home/leami/myenv/lib/python3.12/site-packages/pyloudnorm/normalize.py:62: UserWarning: Possible clipped samples in output.\n",
      "  warnings.warn(\"Possible clipped samples in output.\")\n"
     ]
    },
    {
     "name": "stdout",
     "output_type": "stream",
     "text": [
      "Le fichier a été sauvegardé dans : Mashups/Mia Doi Todd - I gave you my home_The Cute Lepers - Young Hearts.mp3\n",
      "Song 1: Mia Doi Todd - I gave you my home\n",
      "Song 2: The Embarrassment - Patio Set\n",
      " ********************** Adjusting the song The Embarrassment - Patio Set - bass  **********************\n",
      "Concatenating for segment 'verse'\n",
      "Concatenating for segment 'outro'\n",
      "Concatenating for segment 'outro'\n",
      " ********************** Adjusting the song The Embarrassment - Patio Set - drums  **********************\n",
      "Concatenating for segment 'verse'\n",
      "Concatenating for segment 'outro'\n",
      "Concatenating for segment 'outro'\n",
      " ********************** Adjusting the song The Embarrassment - Patio Set - other  **********************\n",
      "Concatenating for segment 'verse'\n",
      "Concatenating for segment 'outro'\n",
      "Concatenating for segment 'outro'\n",
      "Mashup loudness (before normalization): -25.07625472456439 LUFS\n",
      "Mashup normalized to -14.0 LUFS\n"
     ]
    },
    {
     "name": "stderr",
     "output_type": "stream",
     "text": [
      "/home/leami/myenv/lib/python3.12/site-packages/pyloudnorm/normalize.py:62: UserWarning: Possible clipped samples in output.\n",
      "  warnings.warn(\"Possible clipped samples in output.\")\n"
     ]
    },
    {
     "name": "stdout",
     "output_type": "stream",
     "text": [
      "Le fichier a été sauvegardé dans : Mashups/Mia Doi Todd - I gave you my home_The Embarrassment - Patio Set.mp3\n",
      "Song 1: Mia Doi Todd - I gave you my home\n",
      "Song 2: The J Arthur Keenes Band - The Boring World of Niels Bohr\n",
      " ********************** Adjusting the song The J Arthur Keenes Band - The Boring World of Niels Bohr - bass  **********************\n",
      "Concatenating for segment 'outro'\n",
      " ********************** Adjusting the song The J Arthur Keenes Band - The Boring World of Niels Bohr - drums  **********************\n",
      "Concatenating for segment 'outro'\n",
      " ********************** Adjusting the song The J Arthur Keenes Band - The Boring World of Niels Bohr - other  **********************\n",
      "Concatenating for segment 'outro'\n",
      "Mashup loudness (before normalization): -16.347358375177485 LUFS\n",
      "Mashup normalized to -14.0 LUFS\n"
     ]
    },
    {
     "name": "stderr",
     "output_type": "stream",
     "text": [
      "/home/leami/myenv/lib/python3.12/site-packages/pyloudnorm/normalize.py:62: UserWarning: Possible clipped samples in output.\n",
      "  warnings.warn(\"Possible clipped samples in output.\")\n"
     ]
    },
    {
     "name": "stdout",
     "output_type": "stream",
     "text": [
      "Le fichier a été sauvegardé dans : Mashups/Mia Doi Todd - I gave you my home_The J Arthur Keenes Band - The Boring World of Niels Bohr.mp3\n",
      "Song 1: Mia Doi Todd - I gave you my home\n",
      "Song 2: The Oranges Band - Ride the Nuclear Wave\n",
      " ********************** Adjusting the song The Oranges Band - Ride the Nuclear Wave - bass  **********************\n",
      " ********************** Adjusting the song The Oranges Band - Ride the Nuclear Wave - drums  **********************\n",
      " ********************** Adjusting the song The Oranges Band - Ride the Nuclear Wave - other  **********************\n",
      "Mashup loudness (before normalization): -18.591265420533357 LUFS\n",
      "Mashup normalized to -14.0 LUFS\n"
     ]
    },
    {
     "name": "stderr",
     "output_type": "stream",
     "text": [
      "/home/leami/myenv/lib/python3.12/site-packages/pyloudnorm/normalize.py:62: UserWarning: Possible clipped samples in output.\n",
      "  warnings.warn(\"Possible clipped samples in output.\")\n"
     ]
    },
    {
     "name": "stdout",
     "output_type": "stream",
     "text": [
      "Le fichier a été sauvegardé dans : Mashups/Mia Doi Todd - I gave you my home_The Oranges Band - Ride the Nuclear Wave.mp3\n",
      "Song 1: Mia Doi Todd - I gave you my home\n",
      "Song 2: Wann - Happy Birthday\n",
      " ********************** Adjusting the song Wann - Happy Birthday - bass  **********************\n",
      "Concatenating for segment 'verse'\n",
      "Concatenating for segment 'chorus'\n",
      "Error fitting segment 'outro' to 36 beats: float division by zero\n",
      "Error fitting segment: outro at 178.24, Error: float division by zero\n",
      " ********************** Adjusting the song Wann - Happy Birthday - drums  **********************\n",
      "Concatenating for segment 'verse'\n",
      "Concatenating for segment 'chorus'\n",
      "Error fitting segment 'outro' to 36 beats: float division by zero\n",
      "Error fitting segment: outro at 178.24, Error: float division by zero\n",
      " ********************** Adjusting the song Wann - Happy Birthday - other  **********************\n",
      "Concatenating for segment 'verse'\n",
      "Concatenating for segment 'chorus'\n",
      "Error fitting segment 'outro' to 36 beats: float division by zero\n",
      "Error fitting segment: outro at 178.24, Error: float division by zero\n",
      "Mashup loudness (before normalization): -21.251991354528418 LUFS\n",
      "Mashup normalized to -14.0 LUFS\n"
     ]
    },
    {
     "name": "stderr",
     "output_type": "stream",
     "text": [
      "/home/leami/myenv/lib/python3.12/site-packages/pyloudnorm/normalize.py:62: UserWarning: Possible clipped samples in output.\n",
      "  warnings.warn(\"Possible clipped samples in output.\")\n"
     ]
    },
    {
     "name": "stdout",
     "output_type": "stream",
     "text": [
      "Le fichier a été sauvegardé dans : Mashups/Mia Doi Todd - I gave you my home_Wann - Happy Birthday.mp3\n",
      "Song 1: Mia Doi Todd - I gave you my home\n",
      "Song 2: ZOELEELA - Jewel\n",
      " ********************** Adjusting the song ZOELEELA - Jewel - bass  **********************\n",
      "Concatenating for segment 'verse'\n",
      "Concatenating for segment 'verse'\n",
      "Concatenating for segment 'verse'\n",
      "Concatenating for segment 'chorus'\n",
      "Concatenating for segment 'chorus'\n",
      " ********************** Adjusting the song ZOELEELA - Jewel - drums  **********************\n",
      "Concatenating for segment 'verse'\n",
      "Concatenating for segment 'verse'\n",
      "Concatenating for segment 'verse'\n",
      "Concatenating for segment 'chorus'\n",
      "Concatenating for segment 'chorus'\n",
      " ********************** Adjusting the song ZOELEELA - Jewel - other  **********************\n",
      "Concatenating for segment 'verse'\n",
      "Concatenating for segment 'verse'\n",
      "Concatenating for segment 'verse'\n",
      "Concatenating for segment 'chorus'\n",
      "Concatenating for segment 'chorus'\n",
      "Mashup loudness (before normalization): -17.576250956737933 LUFS\n",
      "Mashup normalized to -14.0 LUFS\n"
     ]
    },
    {
     "name": "stderr",
     "output_type": "stream",
     "text": [
      "/home/leami/myenv/lib/python3.12/site-packages/pyloudnorm/normalize.py:62: UserWarning: Possible clipped samples in output.\n",
      "  warnings.warn(\"Possible clipped samples in output.\")\n"
     ]
    },
    {
     "name": "stdout",
     "output_type": "stream",
     "text": [
      "Le fichier a été sauvegardé dans : Mashups/Mia Doi Todd - I gave you my home_ZOELEELA - Jewel.mp3\n",
      "Song 1: Orange Peels - Grey Holiday\n",
      "Song 2: Bam Bam - Hi-Q\n",
      " ********************** Adjusting the song Bam Bam - Hi-Q - bass  **********************\n",
      "Concatenating for segment 'chorus'\n",
      " ********************** Adjusting the song Bam Bam - Hi-Q - drums  **********************\n",
      "Concatenating for segment 'chorus'\n",
      " ********************** Adjusting the song Bam Bam - Hi-Q - other  **********************\n",
      "Concatenating for segment 'chorus'\n",
      "Mashup loudness (before normalization): -15.133645001951903 LUFS\n",
      "Mashup normalized to -14.0 LUFS\n"
     ]
    },
    {
     "name": "stderr",
     "output_type": "stream",
     "text": [
      "/home/leami/myenv/lib/python3.12/site-packages/pyloudnorm/normalize.py:62: UserWarning: Possible clipped samples in output.\n",
      "  warnings.warn(\"Possible clipped samples in output.\")\n"
     ]
    },
    {
     "name": "stdout",
     "output_type": "stream",
     "text": [
      "Le fichier a été sauvegardé dans : Mashups/Orange Peels - Grey Holiday_Bam Bam - Hi-Q.mp3\n",
      "Song 1: Orange Peels - Grey Holiday\n",
      "Song 2: Benji Cossa - New Flowers (Fast 4-track Version)\n",
      " ********************** Adjusting the song Benji Cossa - New Flowers (Fast 4-track Version) - bass  **********************\n",
      "Error fitting segment 'verse' to 32 beats: float division by zero\n",
      "Error fitting segment: verse at 0.0, Error: float division by zero\n",
      " ********************** Adjusting the song Benji Cossa - New Flowers (Fast 4-track Version) - drums  **********************\n",
      "Error fitting segment 'verse' to 32 beats: float division by zero\n",
      "Error fitting segment: verse at 0.0, Error: float division by zero\n",
      " ********************** Adjusting the song Benji Cossa - New Flowers (Fast 4-track Version) - other  **********************\n",
      "Error fitting segment 'verse' to 32 beats: float division by zero\n",
      "Error fitting segment: verse at 0.0, Error: float division by zero\n",
      "Mashup loudness (before normalization): -15.105344444095946 LUFS\n",
      "Mashup normalized to -14.0 LUFS\n"
     ]
    },
    {
     "name": "stderr",
     "output_type": "stream",
     "text": [
      "/home/leami/myenv/lib/python3.12/site-packages/pyloudnorm/normalize.py:62: UserWarning: Possible clipped samples in output.\n",
      "  warnings.warn(\"Possible clipped samples in output.\")\n"
     ]
    },
    {
     "name": "stdout",
     "output_type": "stream",
     "text": [
      "Le fichier a été sauvegardé dans : Mashups/Orange Peels - Grey Holiday_Benji Cossa - New Flowers (Fast 4-track Version).mp3\n",
      "Song 1: Orange Peels - Grey Holiday\n",
      "Song 2: Bessie Smith - My Sweetie Went Away\n",
      " ********************** Adjusting the song Bessie Smith - My Sweetie Went Away - bass  **********************\n",
      "Concatenating for segment 'verse'\n",
      " ********************** Adjusting the song Bessie Smith - My Sweetie Went Away - drums  **********************\n",
      "Concatenating for segment 'verse'\n",
      " ********************** Adjusting the song Bessie Smith - My Sweetie Went Away - other  **********************\n",
      "Concatenating for segment 'verse'\n",
      "Mashup loudness (before normalization): -20.82056112055109 LUFS\n",
      "Mashup normalized to -14.0 LUFS\n"
     ]
    },
    {
     "name": "stderr",
     "output_type": "stream",
     "text": [
      "/home/leami/myenv/lib/python3.12/site-packages/pyloudnorm/normalize.py:62: UserWarning: Possible clipped samples in output.\n",
      "  warnings.warn(\"Possible clipped samples in output.\")\n"
     ]
    },
    {
     "name": "stdout",
     "output_type": "stream",
     "text": [
      "Le fichier a été sauvegardé dans : Mashups/Orange Peels - Grey Holiday_Bessie Smith - My Sweetie Went Away.mp3\n",
      "Song 1: Orange Peels - Grey Holiday\n",
      "Song 2: David Rovics - We Just Want The World\n",
      " ********************** Adjusting the song David Rovics - We Just Want The World - bass  **********************\n",
      " ********************** Adjusting the song David Rovics - We Just Want The World - drums  **********************\n",
      " ********************** Adjusting the song David Rovics - We Just Want The World - other  **********************\n",
      "Mashup loudness (before normalization): -19.378501534037017 LUFS\n",
      "Mashup normalized to -14.0 LUFS\n"
     ]
    },
    {
     "name": "stderr",
     "output_type": "stream",
     "text": [
      "/home/leami/myenv/lib/python3.12/site-packages/pyloudnorm/normalize.py:62: UserWarning: Possible clipped samples in output.\n",
      "  warnings.warn(\"Possible clipped samples in output.\")\n"
     ]
    },
    {
     "name": "stdout",
     "output_type": "stream",
     "text": [
      "Le fichier a été sauvegardé dans : Mashups/Orange Peels - Grey Holiday_David Rovics - We Just Want The World.mp3\n",
      "Song 1: Orange Peels - Grey Holiday\n",
      "Song 2: deef - Ein sonniger Tag mit dir\n",
      " ********************** Adjusting the song deef - Ein sonniger Tag mit dir - bass  **********************\n",
      "Concatenating for segment 'chorus'\n",
      "Concatenating for segment 'chorus'\n",
      " ********************** Adjusting the song deef - Ein sonniger Tag mit dir - drums  **********************\n",
      "Concatenating for segment 'chorus'\n",
      "Concatenating for segment 'chorus'\n",
      " ********************** Adjusting the song deef - Ein sonniger Tag mit dir - other  **********************\n",
      "Concatenating for segment 'chorus'\n",
      "Concatenating for segment 'chorus'\n",
      "Mashup loudness (before normalization): -18.861792505015956 LUFS\n",
      "Mashup normalized to -14.0 LUFS\n"
     ]
    },
    {
     "name": "stderr",
     "output_type": "stream",
     "text": [
      "/home/leami/myenv/lib/python3.12/site-packages/pyloudnorm/normalize.py:62: UserWarning: Possible clipped samples in output.\n",
      "  warnings.warn(\"Possible clipped samples in output.\")\n"
     ]
    },
    {
     "name": "stdout",
     "output_type": "stream",
     "text": [
      "Le fichier a été sauvegardé dans : Mashups/Orange Peels - Grey Holiday_deef - Ein sonniger Tag mit dir.mp3\n",
      "Song 1: Orange Peels - Grey Holiday\n",
      "Song 2: Dragon Or Emperor - Part of Me Says\n",
      " ********************** Adjusting the song Dragon Or Emperor - Part of Me Says - bass  **********************\n",
      "Concatenating for segment 'chorus'\n",
      " ********************** Adjusting the song Dragon Or Emperor - Part of Me Says - drums  **********************\n",
      "Concatenating for segment 'chorus'\n",
      " ********************** Adjusting the song Dragon Or Emperor - Part of Me Says - other  **********************\n",
      "Concatenating for segment 'chorus'\n",
      "Mashup loudness (before normalization): -15.035135227277706 LUFS\n",
      "Mashup normalized to -14.0 LUFS\n"
     ]
    },
    {
     "name": "stderr",
     "output_type": "stream",
     "text": [
      "/home/leami/myenv/lib/python3.12/site-packages/pyloudnorm/normalize.py:62: UserWarning: Possible clipped samples in output.\n",
      "  warnings.warn(\"Possible clipped samples in output.\")\n"
     ]
    },
    {
     "name": "stdout",
     "output_type": "stream",
     "text": [
      "Le fichier a été sauvegardé dans : Mashups/Orange Peels - Grey Holiday_Dragon Or Emperor - Part of Me Says.mp3\n",
      "Song 1: Orange Peels - Grey Holiday\n",
      "Song 2: Grand Mal - Children of Light\n",
      " ********************** Adjusting the song Grand Mal - Children of Light - bass  **********************\n",
      "Concatenating for segment 'chorus'\n",
      " ********************** Adjusting the song Grand Mal - Children of Light - drums  **********************\n",
      "Concatenating for segment 'chorus'\n",
      " ********************** Adjusting the song Grand Mal - Children of Light - other  **********************\n",
      "Concatenating for segment 'chorus'\n",
      "Mashup loudness (before normalization): -17.8359873256477 LUFS\n",
      "Mashup normalized to -14.0 LUFS\n"
     ]
    },
    {
     "name": "stderr",
     "output_type": "stream",
     "text": [
      "/home/leami/myenv/lib/python3.12/site-packages/pyloudnorm/normalize.py:62: UserWarning: Possible clipped samples in output.\n",
      "  warnings.warn(\"Possible clipped samples in output.\")\n"
     ]
    },
    {
     "name": "stdout",
     "output_type": "stream",
     "text": [
      "Le fichier a été sauvegardé dans : Mashups/Orange Peels - Grey Holiday_Grand Mal - Children of Light.mp3\n",
      "Song 1: Orange Peels - Grey Holiday\n",
      "Song 2: Home Blitz - Secret Wave\n",
      " ********************** Adjusting the song Home Blitz - Secret Wave - bass  **********************\n",
      " ********************** Adjusting the song Home Blitz - Secret Wave - drums  **********************\n",
      " ********************** Adjusting the song Home Blitz - Secret Wave - other  **********************\n",
      "Mashup loudness (before normalization): -17.350684438010877 LUFS\n",
      "Mashup normalized to -14.0 LUFS\n"
     ]
    },
    {
     "name": "stderr",
     "output_type": "stream",
     "text": [
      "/home/leami/myenv/lib/python3.12/site-packages/pyloudnorm/normalize.py:62: UserWarning: Possible clipped samples in output.\n",
      "  warnings.warn(\"Possible clipped samples in output.\")\n"
     ]
    },
    {
     "name": "stdout",
     "output_type": "stream",
     "text": [
      "Le fichier a été sauvegardé dans : Mashups/Orange Peels - Grey Holiday_Home Blitz - Secret Wave.mp3\n",
      "Song 1: Orange Peels - Grey Holiday\n",
      "Song 2: Josh Woodward - Cien Volando\n",
      " ********************** Adjusting the song Josh Woodward - Cien Volando - bass  **********************\n",
      "Concatenating for segment 'verse'\n",
      "Concatenating for segment 'chorus'\n",
      "Concatenating for segment 'chorus'\n",
      " ********************** Adjusting the song Josh Woodward - Cien Volando - drums  **********************\n",
      "Concatenating for segment 'verse'\n",
      "Concatenating for segment 'chorus'\n",
      "Concatenating for segment 'chorus'\n",
      " ********************** Adjusting the song Josh Woodward - Cien Volando - other  **********************\n",
      "Concatenating for segment 'verse'\n",
      "Concatenating for segment 'chorus'\n",
      "Concatenating for segment 'chorus'\n",
      "Mashup loudness (before normalization): -18.89411409981349 LUFS\n",
      "Mashup normalized to -14.0 LUFS\n"
     ]
    },
    {
     "name": "stderr",
     "output_type": "stream",
     "text": [
      "/home/leami/myenv/lib/python3.12/site-packages/pyloudnorm/normalize.py:62: UserWarning: Possible clipped samples in output.\n",
      "  warnings.warn(\"Possible clipped samples in output.\")\n"
     ]
    },
    {
     "name": "stdout",
     "output_type": "stream",
     "text": [
      "Le fichier a été sauvegardé dans : Mashups/Orange Peels - Grey Holiday_Josh Woodward - Cien Volando.mp3\n",
      "Song 1: Orange Peels - Grey Holiday\n",
      "Song 2: Los Steaks - Sunday Girls\n",
      " ********************** Adjusting the song Los Steaks - Sunday Girls - bass  **********************\n",
      " ********************** Adjusting the song Los Steaks - Sunday Girls - drums  **********************\n",
      " ********************** Adjusting the song Los Steaks - Sunday Girls - other  **********************\n",
      "Mashup loudness (before normalization): -14.920384286804994 LUFS\n",
      "Mashup normalized to -14.0 LUFS\n"
     ]
    },
    {
     "name": "stderr",
     "output_type": "stream",
     "text": [
      "/home/leami/myenv/lib/python3.12/site-packages/pyloudnorm/normalize.py:62: UserWarning: Possible clipped samples in output.\n",
      "  warnings.warn(\"Possible clipped samples in output.\")\n"
     ]
    },
    {
     "name": "stdout",
     "output_type": "stream",
     "text": [
      "Le fichier a été sauvegardé dans : Mashups/Orange Peels - Grey Holiday_Los Steaks - Sunday Girls.mp3\n",
      "Song 1: Orange Peels - Grey Holiday\n",
      "Song 2: Mia Doi Todd - I gave you my home\n",
      " ********************** Adjusting the song Mia Doi Todd - I gave you my home - bass  **********************\n",
      " ********************** Adjusting the song Mia Doi Todd - I gave you my home - drums  **********************\n",
      " ********************** Adjusting the song Mia Doi Todd - I gave you my home - other  **********************\n",
      "Mashup loudness (before normalization): -20.782616761083574 LUFS\n",
      "Mashup normalized to -14.0 LUFS\n"
     ]
    },
    {
     "name": "stderr",
     "output_type": "stream",
     "text": [
      "/home/leami/myenv/lib/python3.12/site-packages/pyloudnorm/normalize.py:62: UserWarning: Possible clipped samples in output.\n",
      "  warnings.warn(\"Possible clipped samples in output.\")\n"
     ]
    },
    {
     "name": "stdout",
     "output_type": "stream",
     "text": [
      "Le fichier a été sauvegardé dans : Mashups/Orange Peels - Grey Holiday_Mia Doi Todd - I gave you my home.mp3\n",
      "Song 1: Orange Peels - Grey Holiday\n",
      "Song 2: Poland - Lying Machine\n",
      " ********************** Adjusting the song Poland - Lying Machine - bass  **********************\n",
      "Concatenating for segment 'chorus'\n",
      "Concatenating for segment 'chorus'\n",
      " ********************** Adjusting the song Poland - Lying Machine - drums  **********************\n",
      "Concatenating for segment 'chorus'\n",
      "Concatenating for segment 'chorus'\n",
      " ********************** Adjusting the song Poland - Lying Machine - other  **********************\n",
      "Concatenating for segment 'chorus'\n",
      "Concatenating for segment 'chorus'\n",
      "Mashup loudness (before normalization): -16.248978094973683 LUFS\n",
      "Mashup normalized to -14.0 LUFS\n"
     ]
    },
    {
     "name": "stderr",
     "output_type": "stream",
     "text": [
      "/home/leami/myenv/lib/python3.12/site-packages/pyloudnorm/normalize.py:62: UserWarning: Possible clipped samples in output.\n",
      "  warnings.warn(\"Possible clipped samples in output.\")\n"
     ]
    },
    {
     "name": "stdout",
     "output_type": "stream",
     "text": [
      "Le fichier a été sauvegardé dans : Mashups/Orange Peels - Grey Holiday_Poland - Lying Machine.mp3\n",
      "Song 1: Orange Peels - Grey Holiday\n",
      "Song 2: Shearer - Itch\n",
      " ********************** Adjusting the song Shearer - Itch - bass  **********************\n",
      "Error fitting segment 'verse' to 32 beats: float division by zero\n",
      "Error fitting segment: verse at 0.0, Error: float division by zero\n",
      " ********************** Adjusting the song Shearer - Itch - drums  **********************\n",
      "Error fitting segment 'verse' to 32 beats: float division by zero\n",
      "Error fitting segment: verse at 0.0, Error: float division by zero\n",
      " ********************** Adjusting the song Shearer - Itch - other  **********************\n",
      "Error fitting segment 'verse' to 32 beats: float division by zero\n",
      "Error fitting segment: verse at 0.0, Error: float division by zero\n",
      "Mashup loudness (before normalization): -17.86300623497352 LUFS\n",
      "Mashup normalized to -14.0 LUFS\n"
     ]
    },
    {
     "name": "stderr",
     "output_type": "stream",
     "text": [
      "/home/leami/myenv/lib/python3.12/site-packages/pyloudnorm/normalize.py:62: UserWarning: Possible clipped samples in output.\n",
      "  warnings.warn(\"Possible clipped samples in output.\")\n"
     ]
    },
    {
     "name": "stdout",
     "output_type": "stream",
     "text": [
      "Le fichier a été sauvegardé dans : Mashups/Orange Peels - Grey Holiday_Shearer - Itch.mp3\n",
      "Song 1: Orange Peels - Grey Holiday\n",
      "Song 2: Short Hand - Certain Strangers\n",
      " ********************** Adjusting the song Short Hand - Certain Strangers - bass  **********************\n",
      "Concatenating for segment 'chorus'\n",
      "Concatenating for segment 'chorus'\n",
      "Concatenating for segment 'bridge'\n",
      " ********************** Adjusting the song Short Hand - Certain Strangers - drums  **********************\n",
      "Concatenating for segment 'chorus'\n",
      "Concatenating for segment 'chorus'\n",
      "Concatenating for segment 'bridge'\n",
      " ********************** Adjusting the song Short Hand - Certain Strangers - other  **********************\n",
      "Concatenating for segment 'chorus'\n",
      "Concatenating for segment 'chorus'\n",
      "Concatenating for segment 'bridge'\n",
      "Mashup loudness (before normalization): -17.625353521783946 LUFS\n",
      "Mashup normalized to -14.0 LUFS\n"
     ]
    },
    {
     "name": "stderr",
     "output_type": "stream",
     "text": [
      "/home/leami/myenv/lib/python3.12/site-packages/pyloudnorm/normalize.py:62: UserWarning: Possible clipped samples in output.\n",
      "  warnings.warn(\"Possible clipped samples in output.\")\n"
     ]
    },
    {
     "name": "stdout",
     "output_type": "stream",
     "text": [
      "Le fichier a été sauvegardé dans : Mashups/Orange Peels - Grey Holiday_Short Hand - Certain Strangers.mp3\n",
      "Song 1: Orange Peels - Grey Holiday\n",
      "Song 2: The Cute Lepers - Young Hearts\n",
      " ********************** Adjusting the song The Cute Lepers - Young Hearts - bass  **********************\n",
      " ********************** Adjusting the song The Cute Lepers - Young Hearts - drums  **********************\n",
      " ********************** Adjusting the song The Cute Lepers - Young Hearts - other  **********************\n",
      "Mashup loudness (before normalization): -16.87525792082137 LUFS\n",
      "Mashup normalized to -14.0 LUFS\n"
     ]
    },
    {
     "name": "stderr",
     "output_type": "stream",
     "text": [
      "/home/leami/myenv/lib/python3.12/site-packages/pyloudnorm/normalize.py:62: UserWarning: Possible clipped samples in output.\n",
      "  warnings.warn(\"Possible clipped samples in output.\")\n"
     ]
    },
    {
     "name": "stdout",
     "output_type": "stream",
     "text": [
      "Le fichier a été sauvegardé dans : Mashups/Orange Peels - Grey Holiday_The Cute Lepers - Young Hearts.mp3\n",
      "Song 1: Orange Peels - Grey Holiday\n",
      "Song 2: The Embarrassment - Patio Set\n",
      " ********************** Adjusting the song The Embarrassment - Patio Set - bass  **********************\n",
      "Concatenating for segment 'chorus'\n",
      " ********************** Adjusting the song The Embarrassment - Patio Set - drums  **********************\n",
      "Concatenating for segment 'chorus'\n",
      " ********************** Adjusting the song The Embarrassment - Patio Set - other  **********************\n",
      "Concatenating for segment 'chorus'\n",
      "Mashup loudness (before normalization): -19.894392598432365 LUFS\n",
      "Mashup normalized to -14.0 LUFS\n"
     ]
    },
    {
     "name": "stderr",
     "output_type": "stream",
     "text": [
      "/home/leami/myenv/lib/python3.12/site-packages/pyloudnorm/normalize.py:62: UserWarning: Possible clipped samples in output.\n",
      "  warnings.warn(\"Possible clipped samples in output.\")\n"
     ]
    },
    {
     "name": "stdout",
     "output_type": "stream",
     "text": [
      "Le fichier a été sauvegardé dans : Mashups/Orange Peels - Grey Holiday_The Embarrassment - Patio Set.mp3\n",
      "Song 1: Orange Peels - Grey Holiday\n",
      "Song 2: The J Arthur Keenes Band - The Boring World of Niels Bohr\n",
      " ********************** Adjusting the song The J Arthur Keenes Band - The Boring World of Niels Bohr - bass  **********************\n",
      "Concatenating for segment 'chorus'\n",
      " ********************** Adjusting the song The J Arthur Keenes Band - The Boring World of Niels Bohr - drums  **********************\n",
      "Concatenating for segment 'chorus'\n",
      " ********************** Adjusting the song The J Arthur Keenes Band - The Boring World of Niels Bohr - other  **********************\n",
      "Concatenating for segment 'chorus'\n",
      "Mashup loudness (before normalization): -16.106408665979888 LUFS\n",
      "Mashup normalized to -14.0 LUFS\n"
     ]
    },
    {
     "name": "stderr",
     "output_type": "stream",
     "text": [
      "/home/leami/myenv/lib/python3.12/site-packages/pyloudnorm/normalize.py:62: UserWarning: Possible clipped samples in output.\n",
      "  warnings.warn(\"Possible clipped samples in output.\")\n"
     ]
    },
    {
     "name": "stdout",
     "output_type": "stream",
     "text": [
      "Le fichier a été sauvegardé dans : Mashups/Orange Peels - Grey Holiday_The J Arthur Keenes Band - The Boring World of Niels Bohr.mp3\n",
      "Song 1: Orange Peels - Grey Holiday\n",
      "Song 2: The Oranges Band - Ride the Nuclear Wave\n",
      " ********************** Adjusting the song The Oranges Band - Ride the Nuclear Wave - bass  **********************\n",
      " ********************** Adjusting the song The Oranges Band - Ride the Nuclear Wave - drums  **********************\n",
      " ********************** Adjusting the song The Oranges Band - Ride the Nuclear Wave - other  **********************\n",
      "Mashup loudness (before normalization): -15.929703717260567 LUFS\n",
      "Mashup normalized to -14.0 LUFS\n"
     ]
    },
    {
     "name": "stderr",
     "output_type": "stream",
     "text": [
      "/home/leami/myenv/lib/python3.12/site-packages/pyloudnorm/normalize.py:62: UserWarning: Possible clipped samples in output.\n",
      "  warnings.warn(\"Possible clipped samples in output.\")\n"
     ]
    },
    {
     "name": "stdout",
     "output_type": "stream",
     "text": [
      "Le fichier a été sauvegardé dans : Mashups/Orange Peels - Grey Holiday_The Oranges Band - Ride the Nuclear Wave.mp3\n",
      "Song 1: Orange Peels - Grey Holiday\n",
      "Song 2: Wann - Happy Birthday\n",
      " ********************** Adjusting the song Wann - Happy Birthday - bass  **********************\n",
      "Concatenating for segment 'chorus'\n",
      "Concatenating for segment 'chorus'\n",
      "Concatenating for segment 'chorus'\n",
      "Concatenating for segment 'solo'\n",
      "Concatenating for segment 'solo'\n",
      " ********************** Adjusting the song Wann - Happy Birthday - drums  **********************\n",
      "Concatenating for segment 'chorus'\n",
      "Concatenating for segment 'chorus'\n",
      "Concatenating for segment 'chorus'\n",
      "Concatenating for segment 'solo'\n",
      "Concatenating for segment 'solo'\n",
      " ********************** Adjusting the song Wann - Happy Birthday - other  **********************\n",
      "Concatenating for segment 'chorus'\n",
      "Concatenating for segment 'chorus'\n",
      "Concatenating for segment 'chorus'\n",
      "Concatenating for segment 'solo'\n",
      "Concatenating for segment 'solo'\n",
      "Mashup loudness (before normalization): -16.286584098293098 LUFS\n",
      "Mashup normalized to -14.0 LUFS\n"
     ]
    },
    {
     "name": "stderr",
     "output_type": "stream",
     "text": [
      "/home/leami/myenv/lib/python3.12/site-packages/pyloudnorm/normalize.py:62: UserWarning: Possible clipped samples in output.\n",
      "  warnings.warn(\"Possible clipped samples in output.\")\n"
     ]
    },
    {
     "name": "stdout",
     "output_type": "stream",
     "text": [
      "Le fichier a été sauvegardé dans : Mashups/Orange Peels - Grey Holiday_Wann - Happy Birthday.mp3\n",
      "Song 1: Orange Peels - Grey Holiday\n",
      "Song 2: ZOELEELA - Jewel\n",
      " ********************** Adjusting the song ZOELEELA - Jewel - bass  **********************\n",
      "Concatenating for segment 'chorus'\n",
      " ********************** Adjusting the song ZOELEELA - Jewel - drums  **********************\n",
      "Concatenating for segment 'chorus'\n",
      " ********************** Adjusting the song ZOELEELA - Jewel - other  **********************\n",
      "Concatenating for segment 'chorus'\n",
      "Mashup loudness (before normalization): -17.170115713707727 LUFS\n",
      "Mashup normalized to -14.0 LUFS\n"
     ]
    },
    {
     "name": "stderr",
     "output_type": "stream",
     "text": [
      "/home/leami/myenv/lib/python3.12/site-packages/pyloudnorm/normalize.py:62: UserWarning: Possible clipped samples in output.\n",
      "  warnings.warn(\"Possible clipped samples in output.\")\n"
     ]
    },
    {
     "name": "stdout",
     "output_type": "stream",
     "text": [
      "Le fichier a été sauvegardé dans : Mashups/Orange Peels - Grey Holiday_ZOELEELA - Jewel.mp3\n",
      "Song 1: Poland - Lying Machine\n",
      "Song 2: Bam Bam - Hi-Q\n",
      " ********************** Adjusting the song Bam Bam - Hi-Q - bass  **********************\n",
      "Concatenating for segment 'intro'\n",
      "Concatenating for segment 'intro'\n",
      "Concatenating for segment 'intro'\n",
      "Concatenating for segment 'chorus'\n",
      "Error fitting segment 'outro' to 35 beats: float division by zero\n",
      "Error fitting segment: outro at 172.22, Error: float division by zero\n",
      " ********************** Adjusting the song Bam Bam - Hi-Q - drums  **********************\n",
      "Concatenating for segment 'intro'\n",
      "Concatenating for segment 'intro'\n",
      "Concatenating for segment 'intro'\n",
      "Concatenating for segment 'chorus'\n",
      "Error fitting segment 'outro' to 35 beats: float division by zero\n",
      "Error fitting segment: outro at 172.22, Error: float division by zero\n",
      " ********************** Adjusting the song Bam Bam - Hi-Q - other  **********************\n",
      "Concatenating for segment 'intro'\n",
      "Concatenating for segment 'intro'\n",
      "Concatenating for segment 'intro'\n",
      "Concatenating for segment 'chorus'\n",
      "Error fitting segment 'outro' to 35 beats: float division by zero\n",
      "Error fitting segment: outro at 172.22, Error: float division by zero\n",
      "Mashup loudness (before normalization): -17.687760362687417 LUFS\n",
      "Mashup normalized to -14.0 LUFS\n"
     ]
    },
    {
     "name": "stderr",
     "output_type": "stream",
     "text": [
      "/home/leami/myenv/lib/python3.12/site-packages/pyloudnorm/normalize.py:62: UserWarning: Possible clipped samples in output.\n",
      "  warnings.warn(\"Possible clipped samples in output.\")\n"
     ]
    },
    {
     "name": "stdout",
     "output_type": "stream",
     "text": [
      "Le fichier a été sauvegardé dans : Mashups/Poland - Lying Machine_Bam Bam - Hi-Q.mp3\n",
      "Song 1: Poland - Lying Machine\n",
      "Song 2: Benji Cossa - New Flowers (Fast 4-track Version)\n",
      " ********************** Adjusting the song Benji Cossa - New Flowers (Fast 4-track Version) - bass  **********************\n",
      "Error fitting segment 'verse' to 44 beats: float division by zero\n",
      "Error fitting segment: verse at 0.0, Error: float division by zero\n",
      " ********************** Adjusting the song Benji Cossa - New Flowers (Fast 4-track Version) - drums  **********************\n",
      "Error fitting segment 'verse' to 44 beats: float division by zero\n",
      "Error fitting segment: verse at 0.0, Error: float division by zero\n",
      " ********************** Adjusting the song Benji Cossa - New Flowers (Fast 4-track Version) - other  **********************\n",
      "Error fitting segment 'verse' to 44 beats: float division by zero\n",
      "Error fitting segment: verse at 0.0, Error: float division by zero\n",
      "Mashup loudness (before normalization): -15.991426002455519 LUFS\n",
      "Mashup normalized to -14.0 LUFS\n"
     ]
    },
    {
     "name": "stderr",
     "output_type": "stream",
     "text": [
      "/home/leami/myenv/lib/python3.12/site-packages/pyloudnorm/normalize.py:62: UserWarning: Possible clipped samples in output.\n",
      "  warnings.warn(\"Possible clipped samples in output.\")\n"
     ]
    },
    {
     "name": "stdout",
     "output_type": "stream",
     "text": [
      "Le fichier a été sauvegardé dans : Mashups/Poland - Lying Machine_Benji Cossa - New Flowers (Fast 4-track Version).mp3\n",
      "Song 1: Poland - Lying Machine\n",
      "Song 2: Bessie Smith - My Sweetie Went Away\n",
      " ********************** Adjusting the song Bessie Smith - My Sweetie Went Away - bass  **********************\n",
      "Concatenating for segment 'intro'\n",
      "Concatenating for segment 'intro'\n",
      "Concatenating for segment 'intro'\n",
      "Concatenating for segment 'verse'\n",
      " ********************** Adjusting the song Bessie Smith - My Sweetie Went Away - drums  **********************\n",
      "Concatenating for segment 'intro'\n",
      "Concatenating for segment 'intro'\n",
      "Concatenating for segment 'intro'\n",
      "Concatenating for segment 'verse'\n",
      " ********************** Adjusting the song Bessie Smith - My Sweetie Went Away - other  **********************\n",
      "Concatenating for segment 'intro'\n",
      "Concatenating for segment 'intro'\n",
      "Concatenating for segment 'intro'\n",
      "Concatenating for segment 'verse'\n",
      "Mashup loudness (before normalization): -19.74167765216046 LUFS\n",
      "Mashup normalized to -14.0 LUFS\n"
     ]
    },
    {
     "name": "stderr",
     "output_type": "stream",
     "text": [
      "/home/leami/myenv/lib/python3.12/site-packages/pyloudnorm/normalize.py:62: UserWarning: Possible clipped samples in output.\n",
      "  warnings.warn(\"Possible clipped samples in output.\")\n"
     ]
    },
    {
     "name": "stdout",
     "output_type": "stream",
     "text": [
      "Le fichier a été sauvegardé dans : Mashups/Poland - Lying Machine_Bessie Smith - My Sweetie Went Away.mp3\n",
      "Song 1: Poland - Lying Machine\n",
      "Song 2: David Rovics - We Just Want The World\n",
      " ********************** Adjusting the song David Rovics - We Just Want The World - bass  **********************\n",
      "Error fitting segment 'intro' to 33 beats: float division by zero\n",
      "Error fitting segment: intro at 0.0, Error: float division by zero\n",
      "Error fitting segment 'intro' to 32 beats: float division by zero\n",
      "Error fitting segment: intro at 0.0, Error: float division by zero\n",
      "Error fitting segment 'intro' to 33 beats: float division by zero\n",
      "Error fitting segment: intro at 0.0, Error: float division by zero\n",
      "Concatenating for segment 'outro'\n",
      " ********************** Adjusting the song David Rovics - We Just Want The World - drums  **********************\n",
      "Error fitting segment 'intro' to 33 beats: float division by zero\n",
      "Error fitting segment: intro at 0.0, Error: float division by zero\n",
      "Error fitting segment 'intro' to 32 beats: float division by zero\n",
      "Error fitting segment: intro at 0.0, Error: float division by zero\n",
      "Error fitting segment 'intro' to 33 beats: float division by zero\n",
      "Error fitting segment: intro at 0.0, Error: float division by zero\n",
      "Concatenating for segment 'outro'\n",
      " ********************** Adjusting the song David Rovics - We Just Want The World - other  **********************\n",
      "Error fitting segment 'intro' to 33 beats: float division by zero\n",
      "Error fitting segment: intro at 0.0, Error: float division by zero\n",
      "Error fitting segment 'intro' to 32 beats: float division by zero\n",
      "Error fitting segment: intro at 0.0, Error: float division by zero\n",
      "Error fitting segment 'intro' to 33 beats: float division by zero\n",
      "Error fitting segment: intro at 0.0, Error: float division by zero\n",
      "Concatenating for segment 'outro'\n",
      "Mashup loudness (before normalization): -18.49454613308812 LUFS\n",
      "Mashup normalized to -14.0 LUFS\n"
     ]
    },
    {
     "name": "stderr",
     "output_type": "stream",
     "text": [
      "/home/leami/myenv/lib/python3.12/site-packages/pyloudnorm/normalize.py:62: UserWarning: Possible clipped samples in output.\n",
      "  warnings.warn(\"Possible clipped samples in output.\")\n"
     ]
    },
    {
     "name": "stdout",
     "output_type": "stream",
     "text": [
      "Le fichier a été sauvegardé dans : Mashups/Poland - Lying Machine_David Rovics - We Just Want The World.mp3\n",
      "Song 1: Poland - Lying Machine\n",
      "Song 2: deef - Ein sonniger Tag mit dir\n",
      " ********************** Adjusting the song deef - Ein sonniger Tag mit dir - bass  **********************\n",
      "Error fitting segment 'intro' to 33 beats: float division by zero\n",
      "Error fitting segment: intro at 7.22, Error: float division by zero\n",
      "Concatenating for segment 'chorus'\n",
      "Concatenating for segment 'chorus'\n",
      "Concatenating for segment 'inst'\n",
      " ********************** Adjusting the song deef - Ein sonniger Tag mit dir - drums  **********************\n",
      "Error fitting segment 'intro' to 33 beats: float division by zero\n",
      "Error fitting segment: intro at 7.22, Error: float division by zero\n",
      "Concatenating for segment 'chorus'\n",
      "Concatenating for segment 'chorus'\n",
      "Concatenating for segment 'inst'\n",
      " ********************** Adjusting the song deef - Ein sonniger Tag mit dir - other  **********************\n",
      "Error fitting segment 'intro' to 33 beats: float division by zero\n",
      "Error fitting segment: intro at 7.22, Error: float division by zero\n",
      "Concatenating for segment 'chorus'\n",
      "Concatenating for segment 'chorus'\n",
      "Concatenating for segment 'inst'\n",
      "Mashup loudness (before normalization): -17.48520756512136 LUFS\n",
      "Mashup normalized to -14.0 LUFS\n"
     ]
    },
    {
     "name": "stderr",
     "output_type": "stream",
     "text": [
      "/home/leami/myenv/lib/python3.12/site-packages/pyloudnorm/normalize.py:62: UserWarning: Possible clipped samples in output.\n",
      "  warnings.warn(\"Possible clipped samples in output.\")\n"
     ]
    },
    {
     "name": "stdout",
     "output_type": "stream",
     "text": [
      "Le fichier a été sauvegardé dans : Mashups/Poland - Lying Machine_deef - Ein sonniger Tag mit dir.mp3\n",
      "Song 1: Poland - Lying Machine\n",
      "Song 2: Dragon Or Emperor - Part of Me Says\n",
      " ********************** Adjusting the song Dragon Or Emperor - Part of Me Says - bass  **********************\n",
      "Concatenating for segment 'verse'\n",
      "Concatenating for segment 'inst'\n",
      "Error fitting segment 'outro' to 35 beats: float division by zero\n",
      "Error fitting segment: outro at 187.02, Error: float division by zero\n",
      " ********************** Adjusting the song Dragon Or Emperor - Part of Me Says - drums  **********************\n",
      "Concatenating for segment 'verse'\n",
      "Concatenating for segment 'inst'\n",
      "Error fitting segment 'outro' to 35 beats: float division by zero\n",
      "Error fitting segment: outro at 187.02, Error: float division by zero\n",
      " ********************** Adjusting the song Dragon Or Emperor - Part of Me Says - other  **********************\n",
      "Concatenating for segment 'verse'\n",
      "Concatenating for segment 'inst'\n",
      "Error fitting segment 'outro' to 35 beats: float division by zero\n",
      "Error fitting segment: outro at 187.02, Error: float division by zero\n",
      "Mashup loudness (before normalization): -14.208778082103985 LUFS\n",
      "Mashup normalized to -14.0 LUFS\n"
     ]
    },
    {
     "name": "stderr",
     "output_type": "stream",
     "text": [
      "/home/leami/myenv/lib/python3.12/site-packages/pyloudnorm/normalize.py:62: UserWarning: Possible clipped samples in output.\n",
      "  warnings.warn(\"Possible clipped samples in output.\")\n"
     ]
    },
    {
     "name": "stdout",
     "output_type": "stream",
     "text": [
      "Le fichier a été sauvegardé dans : Mashups/Poland - Lying Machine_Dragon Or Emperor - Part of Me Says.mp3\n",
      "Song 1: Poland - Lying Machine\n",
      "Song 2: Grand Mal - Children of Light\n",
      " ********************** Adjusting the song Grand Mal - Children of Light - bass  **********************\n",
      "Concatenating for segment 'verse'\n",
      "Concatenating for segment 'chorus'\n",
      "Concatenating for segment 'outro'\n",
      "Concatenating for segment 'outro'\n",
      "Concatenating for segment 'outro'\n",
      "Concatenating for segment 'outro'\n",
      "Concatenating for segment 'outro'\n",
      " ********************** Adjusting the song Grand Mal - Children of Light - drums  **********************\n",
      "Concatenating for segment 'verse'\n",
      "Concatenating for segment 'chorus'\n",
      "Concatenating for segment 'outro'\n",
      "Concatenating for segment 'outro'\n",
      "Concatenating for segment 'outro'\n",
      "Concatenating for segment 'outro'\n",
      "Concatenating for segment 'outro'\n",
      " ********************** Adjusting the song Grand Mal - Children of Light - other  **********************\n",
      "Concatenating for segment 'verse'\n",
      "Concatenating for segment 'chorus'\n",
      "Concatenating for segment 'outro'\n",
      "Concatenating for segment 'outro'\n",
      "Concatenating for segment 'outro'\n",
      "Concatenating for segment 'outro'\n",
      "Concatenating for segment 'outro'\n",
      "Mashup loudness (before normalization): -17.23769060255202 LUFS\n",
      "Mashup normalized to -14.0 LUFS\n"
     ]
    },
    {
     "name": "stderr",
     "output_type": "stream",
     "text": [
      "/home/leami/myenv/lib/python3.12/site-packages/pyloudnorm/normalize.py:62: UserWarning: Possible clipped samples in output.\n",
      "  warnings.warn(\"Possible clipped samples in output.\")\n"
     ]
    },
    {
     "name": "stdout",
     "output_type": "stream",
     "text": [
      "Le fichier a été sauvegardé dans : Mashups/Poland - Lying Machine_Grand Mal - Children of Light.mp3\n",
      "Song 1: Poland - Lying Machine\n",
      "Song 2: Home Blitz - Secret Wave\n",
      " ********************** Adjusting the song Home Blitz - Secret Wave - bass  **********************\n",
      " ********************** Adjusting the song Home Blitz - Secret Wave - drums  **********************\n",
      " ********************** Adjusting the song Home Blitz - Secret Wave - other  **********************\n",
      "Mashup loudness (before normalization): -16.90602327690808 LUFS\n",
      "Mashup normalized to -14.0 LUFS\n"
     ]
    },
    {
     "name": "stderr",
     "output_type": "stream",
     "text": [
      "/home/leami/myenv/lib/python3.12/site-packages/pyloudnorm/normalize.py:62: UserWarning: Possible clipped samples in output.\n",
      "  warnings.warn(\"Possible clipped samples in output.\")\n"
     ]
    },
    {
     "name": "stdout",
     "output_type": "stream",
     "text": [
      "Le fichier a été sauvegardé dans : Mashups/Poland - Lying Machine_Home Blitz - Secret Wave.mp3\n",
      "Song 1: Poland - Lying Machine\n",
      "Song 2: Josh Woodward - Cien Volando\n",
      " ********************** Adjusting the song Josh Woodward - Cien Volando - bass  **********************\n",
      "Concatenating for segment 'verse'\n",
      "Concatenating for segment 'chorus'\n",
      "Concatenating for segment 'inst'\n",
      " ********************** Adjusting the song Josh Woodward - Cien Volando - drums  **********************\n",
      "Concatenating for segment 'verse'\n",
      "Concatenating for segment 'chorus'\n",
      "Concatenating for segment 'inst'\n",
      " ********************** Adjusting the song Josh Woodward - Cien Volando - other  **********************\n",
      "Concatenating for segment 'verse'\n",
      "Concatenating for segment 'chorus'\n",
      "Concatenating for segment 'inst'\n",
      "Mashup loudness (before normalization): -17.893745545860412 LUFS\n",
      "Mashup normalized to -14.0 LUFS\n"
     ]
    },
    {
     "name": "stderr",
     "output_type": "stream",
     "text": [
      "/home/leami/myenv/lib/python3.12/site-packages/pyloudnorm/normalize.py:62: UserWarning: Possible clipped samples in output.\n",
      "  warnings.warn(\"Possible clipped samples in output.\")\n"
     ]
    },
    {
     "name": "stdout",
     "output_type": "stream",
     "text": [
      "Le fichier a été sauvegardé dans : Mashups/Poland - Lying Machine_Josh Woodward - Cien Volando.mp3\n",
      "Song 1: Poland - Lying Machine\n",
      "Song 2: Los Steaks - Sunday Girls\n",
      " ********************** Adjusting the song Los Steaks - Sunday Girls - bass  **********************\n",
      " ********************** Adjusting the song Los Steaks - Sunday Girls - drums  **********************\n",
      " ********************** Adjusting the song Los Steaks - Sunday Girls - other  **********************\n",
      "Mashup loudness (before normalization): -14.601624341571098 LUFS\n",
      "Mashup normalized to -14.0 LUFS\n"
     ]
    },
    {
     "name": "stderr",
     "output_type": "stream",
     "text": [
      "/home/leami/myenv/lib/python3.12/site-packages/pyloudnorm/normalize.py:62: UserWarning: Possible clipped samples in output.\n",
      "  warnings.warn(\"Possible clipped samples in output.\")\n"
     ]
    },
    {
     "name": "stdout",
     "output_type": "stream",
     "text": [
      "Le fichier a été sauvegardé dans : Mashups/Poland - Lying Machine_Los Steaks - Sunday Girls.mp3\n",
      "Song 1: Poland - Lying Machine\n",
      "Song 2: Mia Doi Todd - I gave you my home\n",
      " ********************** Adjusting the song Mia Doi Todd - I gave you my home - bass  **********************\n",
      "Concatenating for segment 'verse'\n",
      " ********************** Adjusting the song Mia Doi Todd - I gave you my home - drums  **********************\n",
      "Concatenating for segment 'verse'\n",
      " ********************** Adjusting the song Mia Doi Todd - I gave you my home - other  **********************\n",
      "Concatenating for segment 'verse'\n",
      "Mashup loudness (before normalization): -18.02465112661136 LUFS\n",
      "Mashup normalized to -14.0 LUFS\n"
     ]
    },
    {
     "name": "stderr",
     "output_type": "stream",
     "text": [
      "/home/leami/myenv/lib/python3.12/site-packages/pyloudnorm/normalize.py:62: UserWarning: Possible clipped samples in output.\n",
      "  warnings.warn(\"Possible clipped samples in output.\")\n"
     ]
    },
    {
     "name": "stdout",
     "output_type": "stream",
     "text": [
      "Le fichier a été sauvegardé dans : Mashups/Poland - Lying Machine_Mia Doi Todd - I gave you my home.mp3\n",
      "Song 1: Poland - Lying Machine\n",
      "Song 2: Orange Peels - Grey Holiday\n",
      " ********************** Adjusting the song Orange Peels - Grey Holiday - bass  **********************\n",
      "Concatenating for segment 'verse'\n",
      "Concatenating for segment 'chorus'\n",
      " ********************** Adjusting the song Orange Peels - Grey Holiday - drums  **********************\n",
      "Concatenating for segment 'verse'\n",
      "Concatenating for segment 'chorus'\n",
      " ********************** Adjusting the song Orange Peels - Grey Holiday - other  **********************\n",
      "Concatenating for segment 'verse'\n",
      "Concatenating for segment 'chorus'\n",
      "Mashup loudness (before normalization): -17.133367044101686 LUFS\n",
      "Mashup normalized to -14.0 LUFS\n"
     ]
    },
    {
     "name": "stderr",
     "output_type": "stream",
     "text": [
      "/home/leami/myenv/lib/python3.12/site-packages/pyloudnorm/normalize.py:62: UserWarning: Possible clipped samples in output.\n",
      "  warnings.warn(\"Possible clipped samples in output.\")\n"
     ]
    },
    {
     "name": "stdout",
     "output_type": "stream",
     "text": [
      "Le fichier a été sauvegardé dans : Mashups/Poland - Lying Machine_Orange Peels - Grey Holiday.mp3\n",
      "Song 1: Poland - Lying Machine\n",
      "Song 2: Shearer - Itch\n",
      " ********************** Adjusting the song Shearer - Itch - bass  **********************\n",
      "Error fitting segment 'verse' to 44 beats: float division by zero\n",
      "Error fitting segment: verse at 0.0, Error: float division by zero\n",
      " ********************** Adjusting the song Shearer - Itch - drums  **********************\n",
      "Error fitting segment 'verse' to 44 beats: float division by zero\n",
      "Error fitting segment: verse at 0.0, Error: float division by zero\n",
      " ********************** Adjusting the song Shearer - Itch - other  **********************\n",
      "Error fitting segment 'verse' to 44 beats: float division by zero\n",
      "Error fitting segment: verse at 0.0, Error: float division by zero\n",
      "Mashup loudness (before normalization): -16.82644277857487 LUFS\n",
      "Mashup normalized to -14.0 LUFS\n"
     ]
    },
    {
     "name": "stderr",
     "output_type": "stream",
     "text": [
      "/home/leami/myenv/lib/python3.12/site-packages/pyloudnorm/normalize.py:62: UserWarning: Possible clipped samples in output.\n",
      "  warnings.warn(\"Possible clipped samples in output.\")\n"
     ]
    },
    {
     "name": "stdout",
     "output_type": "stream",
     "text": [
      "Le fichier a été sauvegardé dans : Mashups/Poland - Lying Machine_Shearer - Itch.mp3\n",
      "Song 1: Poland - Lying Machine\n",
      "Song 2: Short Hand - Certain Strangers\n",
      " ********************** Adjusting the song Short Hand - Certain Strangers - bass  **********************\n",
      "Concatenating for segment 'chorus'\n",
      "Concatenating for segment 'outro'\n",
      " ********************** Adjusting the song Short Hand - Certain Strangers - drums  **********************\n",
      "Concatenating for segment 'chorus'\n",
      "Concatenating for segment 'outro'\n",
      " ********************** Adjusting the song Short Hand - Certain Strangers - other  **********************\n",
      "Concatenating for segment 'chorus'\n",
      "Concatenating for segment 'outro'\n",
      "Mashup loudness (before normalization): -16.688499796097634 LUFS\n",
      "Mashup normalized to -14.0 LUFS\n"
     ]
    },
    {
     "name": "stderr",
     "output_type": "stream",
     "text": [
      "/home/leami/myenv/lib/python3.12/site-packages/pyloudnorm/normalize.py:62: UserWarning: Possible clipped samples in output.\n",
      "  warnings.warn(\"Possible clipped samples in output.\")\n"
     ]
    },
    {
     "name": "stdout",
     "output_type": "stream",
     "text": [
      "Le fichier a été sauvegardé dans : Mashups/Poland - Lying Machine_Short Hand - Certain Strangers.mp3\n",
      "Song 1: Poland - Lying Machine\n",
      "Song 2: The Cute Lepers - Young Hearts\n",
      " ********************** Adjusting the song The Cute Lepers - Young Hearts - bass  **********************\n",
      "Error fitting segment 'intro' to 33 beats: float division by zero\n",
      "Error fitting segment: intro at 0.0, Error: float division by zero\n",
      " ********************** Adjusting the song The Cute Lepers - Young Hearts - drums  **********************\n",
      "Error fitting segment 'intro' to 33 beats: float division by zero\n",
      "Error fitting segment: intro at 0.0, Error: float division by zero\n",
      " ********************** Adjusting the song The Cute Lepers - Young Hearts - other  **********************\n",
      "Error fitting segment 'intro' to 33 beats: float division by zero\n",
      "Error fitting segment: intro at 0.0, Error: float division by zero\n",
      "Mashup loudness (before normalization): -16.807178105153998 LUFS\n",
      "Mashup normalized to -14.0 LUFS\n"
     ]
    },
    {
     "name": "stderr",
     "output_type": "stream",
     "text": [
      "/home/leami/myenv/lib/python3.12/site-packages/pyloudnorm/normalize.py:62: UserWarning: Possible clipped samples in output.\n",
      "  warnings.warn(\"Possible clipped samples in output.\")\n"
     ]
    },
    {
     "name": "stdout",
     "output_type": "stream",
     "text": [
      "Le fichier a été sauvegardé dans : Mashups/Poland - Lying Machine_The Cute Lepers - Young Hearts.mp3\n",
      "Song 1: Poland - Lying Machine\n",
      "Song 2: The Embarrassment - Patio Set\n",
      " ********************** Adjusting the song The Embarrassment - Patio Set - bass  **********************\n",
      "Concatenating for segment 'chorus'\n",
      "Concatenating for segment 'outro'\n",
      " ********************** Adjusting the song The Embarrassment - Patio Set - drums  **********************\n",
      "Concatenating for segment 'chorus'\n",
      "Concatenating for segment 'outro'\n",
      " ********************** Adjusting the song The Embarrassment - Patio Set - other  **********************\n",
      "Concatenating for segment 'chorus'\n",
      "Concatenating for segment 'outro'\n",
      "Mashup loudness (before normalization): -18.897257481762114 LUFS\n",
      "Mashup normalized to -14.0 LUFS\n"
     ]
    },
    {
     "name": "stderr",
     "output_type": "stream",
     "text": [
      "/home/leami/myenv/lib/python3.12/site-packages/pyloudnorm/normalize.py:62: UserWarning: Possible clipped samples in output.\n",
      "  warnings.warn(\"Possible clipped samples in output.\")\n"
     ]
    },
    {
     "name": "stdout",
     "output_type": "stream",
     "text": [
      "Le fichier a été sauvegardé dans : Mashups/Poland - Lying Machine_The Embarrassment - Patio Set.mp3\n",
      "Song 1: Poland - Lying Machine\n",
      "Song 2: The J Arthur Keenes Band - The Boring World of Niels Bohr\n",
      " ********************** Adjusting the song The J Arthur Keenes Band - The Boring World of Niels Bohr - bass  **********************\n",
      "Error fitting segment 'intro' to 33 beats: float division by zero\n",
      "Error fitting segment: intro at 0.0, Error: float division by zero\n",
      "Concatenating for segment 'inst'\n",
      "Concatenating for segment 'outro'\n",
      " ********************** Adjusting the song The J Arthur Keenes Band - The Boring World of Niels Bohr - drums  **********************\n",
      "Error fitting segment 'intro' to 33 beats: float division by zero\n",
      "Error fitting segment: intro at 0.0, Error: float division by zero\n",
      "Concatenating for segment 'inst'\n",
      "Concatenating for segment 'outro'\n",
      " ********************** Adjusting the song The J Arthur Keenes Band - The Boring World of Niels Bohr - other  **********************\n",
      "Error fitting segment 'intro' to 33 beats: float division by zero\n",
      "Error fitting segment: intro at 0.0, Error: float division by zero\n",
      "Concatenating for segment 'inst'\n",
      "Concatenating for segment 'outro'\n",
      "Mashup loudness (before normalization): -16.125541355782467 LUFS\n",
      "Mashup normalized to -14.0 LUFS\n"
     ]
    },
    {
     "name": "stderr",
     "output_type": "stream",
     "text": [
      "/home/leami/myenv/lib/python3.12/site-packages/pyloudnorm/normalize.py:62: UserWarning: Possible clipped samples in output.\n",
      "  warnings.warn(\"Possible clipped samples in output.\")\n"
     ]
    },
    {
     "name": "stdout",
     "output_type": "stream",
     "text": [
      "Le fichier a été sauvegardé dans : Mashups/Poland - Lying Machine_The J Arthur Keenes Band - The Boring World of Niels Bohr.mp3\n",
      "Song 1: Poland - Lying Machine\n",
      "Song 2: The Oranges Band - Ride the Nuclear Wave\n",
      " ********************** Adjusting the song The Oranges Band - Ride the Nuclear Wave - bass  **********************\n",
      "Error fitting segment 'intro' to 33 beats: float division by zero\n",
      "Error fitting segment: intro at 0.0, Error: float division by zero\n",
      "Concatenating for segment 'verse'\n",
      "Concatenating for segment 'chorus'\n",
      " ********************** Adjusting the song The Oranges Band - Ride the Nuclear Wave - drums  **********************\n",
      "Error fitting segment 'intro' to 33 beats: float division by zero\n",
      "Error fitting segment: intro at 0.0, Error: float division by zero\n",
      "Concatenating for segment 'verse'\n",
      "Concatenating for segment 'chorus'\n",
      " ********************** Adjusting the song The Oranges Band - Ride the Nuclear Wave - other  **********************\n",
      "Error fitting segment 'intro' to 33 beats: float division by zero\n",
      "Error fitting segment: intro at 0.0, Error: float division by zero\n",
      "Concatenating for segment 'verse'\n",
      "Concatenating for segment 'chorus'\n",
      "Mashup loudness (before normalization): -16.539440762046983 LUFS\n",
      "Mashup normalized to -14.0 LUFS\n"
     ]
    },
    {
     "name": "stderr",
     "output_type": "stream",
     "text": [
      "/home/leami/myenv/lib/python3.12/site-packages/pyloudnorm/normalize.py:62: UserWarning: Possible clipped samples in output.\n",
      "  warnings.warn(\"Possible clipped samples in output.\")\n"
     ]
    },
    {
     "name": "stdout",
     "output_type": "stream",
     "text": [
      "Le fichier a été sauvegardé dans : Mashups/Poland - Lying Machine_The Oranges Band - Ride the Nuclear Wave.mp3\n",
      "Song 1: Poland - Lying Machine\n",
      "Song 2: Wann - Happy Birthday\n",
      " ********************** Adjusting the song Wann - Happy Birthday - bass  **********************\n",
      "Concatenating for segment 'intro'\n",
      "Concatenating for segment 'intro'\n",
      "Concatenating for segment 'intro'\n",
      "Concatenating for segment 'chorus'\n",
      "Concatenating for segment 'chorus'\n",
      "Concatenating for segment 'inst'\n",
      "Error fitting segment 'outro' to 35 beats: float division by zero\n",
      "Error fitting segment: outro at 178.24, Error: float division by zero\n",
      " ********************** Adjusting the song Wann - Happy Birthday - drums  **********************\n",
      "Concatenating for segment 'intro'\n",
      "Concatenating for segment 'intro'\n",
      "Concatenating for segment 'intro'\n",
      "Concatenating for segment 'chorus'\n",
      "Concatenating for segment 'chorus'\n",
      "Concatenating for segment 'inst'\n",
      "Error fitting segment 'outro' to 35 beats: float division by zero\n",
      "Error fitting segment: outro at 178.24, Error: float division by zero\n",
      " ********************** Adjusting the song Wann - Happy Birthday - other  **********************\n",
      "Concatenating for segment 'intro'\n",
      "Concatenating for segment 'intro'\n",
      "Concatenating for segment 'intro'\n",
      "Concatenating for segment 'chorus'\n",
      "Concatenating for segment 'chorus'\n",
      "Concatenating for segment 'inst'\n",
      "Error fitting segment 'outro' to 35 beats: float division by zero\n",
      "Error fitting segment: outro at 178.24, Error: float division by zero\n",
      "Mashup loudness (before normalization): -16.91930725577824 LUFS\n",
      "Mashup normalized to -14.0 LUFS\n"
     ]
    },
    {
     "name": "stderr",
     "output_type": "stream",
     "text": [
      "/home/leami/myenv/lib/python3.12/site-packages/pyloudnorm/normalize.py:62: UserWarning: Possible clipped samples in output.\n",
      "  warnings.warn(\"Possible clipped samples in output.\")\n"
     ]
    },
    {
     "name": "stdout",
     "output_type": "stream",
     "text": [
      "Le fichier a été sauvegardé dans : Mashups/Poland - Lying Machine_Wann - Happy Birthday.mp3\n",
      "Song 1: Poland - Lying Machine\n",
      "Song 2: ZOELEELA - Jewel\n",
      " ********************** Adjusting the song ZOELEELA - Jewel - bass  **********************\n",
      "Concatenating for segment 'chorus'\n",
      "Concatenating for segment 'inst'\n",
      " ********************** Adjusting the song ZOELEELA - Jewel - drums  **********************\n",
      "Concatenating for segment 'chorus'\n",
      "Concatenating for segment 'inst'\n",
      " ********************** Adjusting the song ZOELEELA - Jewel - other  **********************\n",
      "Concatenating for segment 'chorus'\n",
      "Concatenating for segment 'inst'\n",
      "Mashup loudness (before normalization): -16.808995862104886 LUFS\n",
      "Mashup normalized to -14.0 LUFS\n"
     ]
    },
    {
     "name": "stderr",
     "output_type": "stream",
     "text": [
      "/home/leami/myenv/lib/python3.12/site-packages/pyloudnorm/normalize.py:62: UserWarning: Possible clipped samples in output.\n",
      "  warnings.warn(\"Possible clipped samples in output.\")\n"
     ]
    },
    {
     "name": "stdout",
     "output_type": "stream",
     "text": [
      "Le fichier a été sauvegardé dans : Mashups/Poland - Lying Machine_ZOELEELA - Jewel.mp3\n",
      "Song 1: Shearer - Itch\n",
      "Song 2: Bam Bam - Hi-Q\n",
      " ********************** Adjusting the song Bam Bam - Hi-Q - bass  **********************\n",
      "Concatenating for segment 'verse'\n",
      "Concatenating for segment 'chorus'\n",
      "Concatenating for segment 'chorus'\n",
      "Concatenating for segment 'chorus'\n",
      "Concatenating for segment 'chorus'\n",
      "Concatenating for segment 'chorus'\n",
      "Concatenating for segment 'chorus'\n",
      "Error fitting segment 'outro' to 28 beats: float division by zero\n",
      "Error fitting segment: outro at 172.22, Error: float division by zero\n",
      " ********************** Adjusting the song Bam Bam - Hi-Q - drums  **********************\n",
      "Concatenating for segment 'verse'\n",
      "Concatenating for segment 'chorus'\n",
      "Concatenating for segment 'chorus'\n",
      "Concatenating for segment 'chorus'\n",
      "Concatenating for segment 'chorus'\n",
      "Concatenating for segment 'chorus'\n",
      "Concatenating for segment 'chorus'\n",
      "Error fitting segment 'outro' to 28 beats: float division by zero\n",
      "Error fitting segment: outro at 172.22, Error: float division by zero\n",
      " ********************** Adjusting the song Bam Bam - Hi-Q - other  **********************\n",
      "Concatenating for segment 'verse'\n",
      "Concatenating for segment 'chorus'\n",
      "Concatenating for segment 'chorus'\n",
      "Concatenating for segment 'chorus'\n",
      "Concatenating for segment 'chorus'\n",
      "Concatenating for segment 'chorus'\n",
      "Concatenating for segment 'chorus'\n",
      "Error fitting segment 'outro' to 28 beats: float division by zero\n",
      "Error fitting segment: outro at 172.22, Error: float division by zero\n",
      "Mashup loudness (before normalization): -15.773160493505905 LUFS\n",
      "Mashup normalized to -14.0 LUFS\n"
     ]
    },
    {
     "name": "stderr",
     "output_type": "stream",
     "text": [
      "/home/leami/myenv/lib/python3.12/site-packages/pyloudnorm/normalize.py:62: UserWarning: Possible clipped samples in output.\n",
      "  warnings.warn(\"Possible clipped samples in output.\")\n"
     ]
    },
    {
     "name": "stdout",
     "output_type": "stream",
     "text": [
      "Le fichier a été sauvegardé dans : Mashups/Shearer - Itch_Bam Bam - Hi-Q.mp3\n",
      "Song 1: Shearer - Itch\n",
      "Song 2: Benji Cossa - New Flowers (Fast 4-track Version)\n",
      " ********************** Adjusting the song Benji Cossa - New Flowers (Fast 4-track Version) - bass  **********************\n",
      "Concatenating for segment 'chorus'\n",
      "Concatenating for segment 'chorus'\n",
      "Concatenating for segment 'chorus'\n",
      "Concatenating for segment 'chorus'\n",
      "Concatenating for segment 'chorus'\n",
      "Concatenating for segment 'chorus'\n",
      " ********************** Adjusting the song Benji Cossa - New Flowers (Fast 4-track Version) - drums  **********************\n",
      "Concatenating for segment 'chorus'\n",
      "Concatenating for segment 'chorus'\n",
      "Concatenating for segment 'chorus'\n",
      "Concatenating for segment 'chorus'\n",
      "Concatenating for segment 'chorus'\n",
      "Concatenating for segment 'chorus'\n",
      " ********************** Adjusting the song Benji Cossa - New Flowers (Fast 4-track Version) - other  **********************\n",
      "Concatenating for segment 'chorus'\n",
      "Concatenating for segment 'chorus'\n",
      "Concatenating for segment 'chorus'\n",
      "Concatenating for segment 'chorus'\n",
      "Concatenating for segment 'chorus'\n",
      "Concatenating for segment 'chorus'\n",
      "Mashup loudness (before normalization): -13.898871351174025 LUFS\n",
      "Mashup normalized to -14.0 LUFS\n"
     ]
    },
    {
     "name": "stderr",
     "output_type": "stream",
     "text": [
      "/home/leami/myenv/lib/python3.12/site-packages/pyloudnorm/normalize.py:62: UserWarning: Possible clipped samples in output.\n",
      "  warnings.warn(\"Possible clipped samples in output.\")\n"
     ]
    },
    {
     "name": "stdout",
     "output_type": "stream",
     "text": [
      "Le fichier a été sauvegardé dans : Mashups/Shearer - Itch_Benji Cossa - New Flowers (Fast 4-track Version).mp3\n",
      "Song 1: Shearer - Itch\n",
      "Song 2: Bessie Smith - My Sweetie Went Away\n",
      " ********************** Adjusting the song Bessie Smith - My Sweetie Went Away - bass  **********************\n",
      "Concatenating for segment 'chorus'\n",
      "Concatenating for segment 'chorus'\n",
      "Concatenating for segment 'chorus'\n",
      "Concatenating for segment 'chorus'\n",
      "Concatenating for segment 'chorus'\n",
      " ********************** Adjusting the song Bessie Smith - My Sweetie Went Away - drums  **********************\n",
      "Concatenating for segment 'chorus'\n",
      "Concatenating for segment 'chorus'\n",
      "Concatenating for segment 'chorus'\n",
      "Concatenating for segment 'chorus'\n",
      "Concatenating for segment 'chorus'\n",
      " ********************** Adjusting the song Bessie Smith - My Sweetie Went Away - other  **********************\n",
      "Concatenating for segment 'chorus'\n",
      "Concatenating for segment 'chorus'\n",
      "Concatenating for segment 'chorus'\n",
      "Concatenating for segment 'chorus'\n",
      "Concatenating for segment 'chorus'\n",
      "Mashup loudness (before normalization): -17.60448649062106 LUFS\n",
      "Mashup normalized to -14.0 LUFS\n"
     ]
    },
    {
     "name": "stderr",
     "output_type": "stream",
     "text": [
      "/home/leami/myenv/lib/python3.12/site-packages/pyloudnorm/normalize.py:62: UserWarning: Possible clipped samples in output.\n",
      "  warnings.warn(\"Possible clipped samples in output.\")\n"
     ]
    },
    {
     "name": "stdout",
     "output_type": "stream",
     "text": [
      "Le fichier a été sauvegardé dans : Mashups/Shearer - Itch_Bessie Smith - My Sweetie Went Away.mp3\n",
      "Song 1: Shearer - Itch\n",
      "Song 2: David Rovics - We Just Want The World\n",
      " ********************** Adjusting the song David Rovics - We Just Want The World - bass  **********************\n",
      "Concatenating for segment 'outro'\n",
      " ********************** Adjusting the song David Rovics - We Just Want The World - drums  **********************\n",
      "Concatenating for segment 'outro'\n",
      " ********************** Adjusting the song David Rovics - We Just Want The World - other  **********************\n",
      "Concatenating for segment 'outro'\n",
      "Mashup loudness (before normalization): -18.101612937001562 LUFS\n",
      "Mashup normalized to -14.0 LUFS\n"
     ]
    },
    {
     "name": "stderr",
     "output_type": "stream",
     "text": [
      "/home/leami/myenv/lib/python3.12/site-packages/pyloudnorm/normalize.py:62: UserWarning: Possible clipped samples in output.\n",
      "  warnings.warn(\"Possible clipped samples in output.\")\n"
     ]
    },
    {
     "name": "stdout",
     "output_type": "stream",
     "text": [
      "Le fichier a été sauvegardé dans : Mashups/Shearer - Itch_David Rovics - We Just Want The World.mp3\n",
      "Song 1: Shearer - Itch\n",
      "Song 2: deef - Ein sonniger Tag mit dir\n",
      " ********************** Adjusting the song deef - Ein sonniger Tag mit dir - bass  **********************\n",
      "Concatenating for segment 'chorus'\n",
      "Concatenating for segment 'chorus'\n",
      "Concatenating for segment 'chorus'\n",
      "Concatenating for segment 'chorus'\n",
      " ********************** Adjusting the song deef - Ein sonniger Tag mit dir - drums  **********************\n",
      "Concatenating for segment 'chorus'\n",
      "Concatenating for segment 'chorus'\n",
      "Concatenating for segment 'chorus'\n",
      "Concatenating for segment 'chorus'\n",
      " ********************** Adjusting the song deef - Ein sonniger Tag mit dir - other  **********************\n",
      "Concatenating for segment 'chorus'\n",
      "Concatenating for segment 'chorus'\n",
      "Concatenating for segment 'chorus'\n",
      "Concatenating for segment 'chorus'\n",
      "Mashup loudness (before normalization): -16.001783772784247 LUFS\n",
      "Mashup normalized to -14.0 LUFS\n"
     ]
    },
    {
     "name": "stderr",
     "output_type": "stream",
     "text": [
      "/home/leami/myenv/lib/python3.12/site-packages/pyloudnorm/normalize.py:62: UserWarning: Possible clipped samples in output.\n",
      "  warnings.warn(\"Possible clipped samples in output.\")\n"
     ]
    },
    {
     "name": "stdout",
     "output_type": "stream",
     "text": [
      "Le fichier a été sauvegardé dans : Mashups/Shearer - Itch_deef - Ein sonniger Tag mit dir.mp3\n",
      "Song 1: Shearer - Itch\n",
      "Song 2: Dragon Or Emperor - Part of Me Says\n",
      " ********************** Adjusting the song Dragon Or Emperor - Part of Me Says - bass  **********************\n",
      "Concatenating for segment 'verse'\n",
      "Concatenating for segment 'chorus'\n",
      "Concatenating for segment 'chorus'\n",
      "Concatenating for segment 'chorus'\n",
      "Concatenating for segment 'chorus'\n",
      "Concatenating for segment 'chorus'\n",
      "Concatenating for segment 'chorus'\n",
      "Error fitting segment 'outro' to 28 beats: float division by zero\n",
      "Error fitting segment: outro at 187.02, Error: float division by zero\n",
      " ********************** Adjusting the song Dragon Or Emperor - Part of Me Says - drums  **********************\n",
      "Concatenating for segment 'verse'\n",
      "Concatenating for segment 'chorus'\n",
      "Concatenating for segment 'chorus'\n",
      "Concatenating for segment 'chorus'\n",
      "Concatenating for segment 'chorus'\n",
      "Concatenating for segment 'chorus'\n",
      "Concatenating for segment 'chorus'\n",
      "Error fitting segment 'outro' to 28 beats: float division by zero\n",
      "Error fitting segment: outro at 187.02, Error: float division by zero\n",
      " ********************** Adjusting the song Dragon Or Emperor - Part of Me Says - other  **********************\n",
      "Concatenating for segment 'verse'\n",
      "Concatenating for segment 'chorus'\n",
      "Concatenating for segment 'chorus'\n",
      "Concatenating for segment 'chorus'\n",
      "Concatenating for segment 'chorus'\n",
      "Concatenating for segment 'chorus'\n",
      "Concatenating for segment 'chorus'\n",
      "Error fitting segment 'outro' to 28 beats: float division by zero\n",
      "Error fitting segment: outro at 187.02, Error: float division by zero\n",
      "Mashup loudness (before normalization): -14.01019761095269 LUFS\n",
      "Mashup normalized to -14.0 LUFS\n"
     ]
    },
    {
     "name": "stderr",
     "output_type": "stream",
     "text": [
      "/home/leami/myenv/lib/python3.12/site-packages/pyloudnorm/normalize.py:62: UserWarning: Possible clipped samples in output.\n",
      "  warnings.warn(\"Possible clipped samples in output.\")\n"
     ]
    },
    {
     "name": "stdout",
     "output_type": "stream",
     "text": [
      "Le fichier a été sauvegardé dans : Mashups/Shearer - Itch_Dragon Or Emperor - Part of Me Says.mp3\n",
      "Song 1: Shearer - Itch\n",
      "Song 2: Grand Mal - Children of Light\n",
      " ********************** Adjusting the song Grand Mal - Children of Light - bass  **********************\n",
      "Concatenating for segment 'verse'\n",
      "Concatenating for segment 'chorus'\n",
      "Concatenating for segment 'chorus'\n",
      "Concatenating for segment 'chorus'\n",
      "Concatenating for segment 'chorus'\n",
      "Concatenating for segment 'chorus'\n",
      "Concatenating for segment 'outro'\n",
      "Concatenating for segment 'outro'\n",
      "Concatenating for segment 'outro'\n",
      "Concatenating for segment 'outro'\n",
      " ********************** Adjusting the song Grand Mal - Children of Light - drums  **********************\n",
      "Concatenating for segment 'verse'\n",
      "Concatenating for segment 'chorus'\n",
      "Concatenating for segment 'chorus'\n",
      "Concatenating for segment 'chorus'\n",
      "Concatenating for segment 'chorus'\n",
      "Concatenating for segment 'chorus'\n",
      "Concatenating for segment 'outro'\n",
      "Concatenating for segment 'outro'\n",
      "Concatenating for segment 'outro'\n",
      "Concatenating for segment 'outro'\n",
      " ********************** Adjusting the song Grand Mal - Children of Light - other  **********************\n",
      "Concatenating for segment 'verse'\n",
      "Concatenating for segment 'chorus'\n",
      "Concatenating for segment 'chorus'\n",
      "Concatenating for segment 'chorus'\n",
      "Concatenating for segment 'chorus'\n",
      "Concatenating for segment 'chorus'\n",
      "Concatenating for segment 'outro'\n",
      "Concatenating for segment 'outro'\n",
      "Concatenating for segment 'outro'\n",
      "Concatenating for segment 'outro'\n",
      "Mashup loudness (before normalization): -16.91472664940957 LUFS\n",
      "Mashup normalized to -14.0 LUFS\n"
     ]
    },
    {
     "name": "stderr",
     "output_type": "stream",
     "text": [
      "/home/leami/myenv/lib/python3.12/site-packages/pyloudnorm/normalize.py:62: UserWarning: Possible clipped samples in output.\n",
      "  warnings.warn(\"Possible clipped samples in output.\")\n"
     ]
    },
    {
     "name": "stdout",
     "output_type": "stream",
     "text": [
      "Le fichier a été sauvegardé dans : Mashups/Shearer - Itch_Grand Mal - Children of Light.mp3\n",
      "Song 1: Shearer - Itch\n",
      "Song 2: Home Blitz - Secret Wave\n",
      " ********************** Adjusting the song Home Blitz - Secret Wave - bass  **********************\n",
      "Concatenating for segment 'chorus'\n",
      "Concatenating for segment 'chorus'\n",
      "Concatenating for segment 'chorus'\n",
      " ********************** Adjusting the song Home Blitz - Secret Wave - drums  **********************\n",
      "Concatenating for segment 'chorus'\n",
      "Concatenating for segment 'chorus'\n",
      "Concatenating for segment 'chorus'\n",
      " ********************** Adjusting the song Home Blitz - Secret Wave - other  **********************\n",
      "Concatenating for segment 'chorus'\n",
      "Concatenating for segment 'chorus'\n",
      "Concatenating for segment 'chorus'\n",
      "Mashup loudness (before normalization): -14.662756533289949 LUFS\n",
      "Mashup normalized to -14.0 LUFS\n"
     ]
    },
    {
     "name": "stderr",
     "output_type": "stream",
     "text": [
      "/home/leami/myenv/lib/python3.12/site-packages/pyloudnorm/normalize.py:62: UserWarning: Possible clipped samples in output.\n",
      "  warnings.warn(\"Possible clipped samples in output.\")\n"
     ]
    },
    {
     "name": "stdout",
     "output_type": "stream",
     "text": [
      "Le fichier a été sauvegardé dans : Mashups/Shearer - Itch_Home Blitz - Secret Wave.mp3\n",
      "Song 1: Shearer - Itch\n",
      "Song 2: Josh Woodward - Cien Volando\n",
      " ********************** Adjusting the song Josh Woodward - Cien Volando - bass  **********************\n",
      "Concatenating for segment 'verse'\n",
      "Concatenating for segment 'chorus'\n",
      "Concatenating for segment 'chorus'\n",
      "Concatenating for segment 'chorus'\n",
      "Concatenating for segment 'chorus'\n",
      "Concatenating for segment 'chorus'\n",
      "Concatenating for segment 'chorus'\n",
      "Concatenating for segment 'chorus'\n",
      " ********************** Adjusting the song Josh Woodward - Cien Volando - drums  **********************\n",
      "Concatenating for segment 'verse'\n",
      "Concatenating for segment 'chorus'\n",
      "Concatenating for segment 'chorus'\n",
      "Concatenating for segment 'chorus'\n",
      "Concatenating for segment 'chorus'\n",
      "Concatenating for segment 'chorus'\n",
      "Concatenating for segment 'chorus'\n",
      "Concatenating for segment 'chorus'\n",
      " ********************** Adjusting the song Josh Woodward - Cien Volando - other  **********************\n",
      "Concatenating for segment 'verse'\n",
      "Concatenating for segment 'chorus'\n",
      "Concatenating for segment 'chorus'\n",
      "Concatenating for segment 'chorus'\n",
      "Concatenating for segment 'chorus'\n",
      "Concatenating for segment 'chorus'\n",
      "Concatenating for segment 'chorus'\n",
      "Concatenating for segment 'chorus'\n",
      "Mashup loudness (before normalization): -16.743662501569084 LUFS\n",
      "Mashup normalized to -14.0 LUFS\n"
     ]
    },
    {
     "name": "stderr",
     "output_type": "stream",
     "text": [
      "/home/leami/myenv/lib/python3.12/site-packages/pyloudnorm/normalize.py:62: UserWarning: Possible clipped samples in output.\n",
      "  warnings.warn(\"Possible clipped samples in output.\")\n"
     ]
    },
    {
     "name": "stdout",
     "output_type": "stream",
     "text": [
      "Le fichier a été sauvegardé dans : Mashups/Shearer - Itch_Josh Woodward - Cien Volando.mp3\n",
      "Song 1: Shearer - Itch\n",
      "Song 2: Los Steaks - Sunday Girls\n",
      " ********************** Adjusting the song Los Steaks - Sunday Girls - bass  **********************\n",
      "Concatenating for segment 'chorus'\n",
      "Concatenating for segment 'solo'\n",
      " ********************** Adjusting the song Los Steaks - Sunday Girls - drums  **********************\n",
      "Concatenating for segment 'chorus'\n",
      "Concatenating for segment 'solo'\n",
      " ********************** Adjusting the song Los Steaks - Sunday Girls - other  **********************\n",
      "Concatenating for segment 'chorus'\n",
      "Concatenating for segment 'solo'\n",
      "Mashup loudness (before normalization): -14.29538303804282 LUFS\n",
      "Mashup normalized to -14.0 LUFS\n"
     ]
    },
    {
     "name": "stderr",
     "output_type": "stream",
     "text": [
      "/home/leami/myenv/lib/python3.12/site-packages/pyloudnorm/normalize.py:62: UserWarning: Possible clipped samples in output.\n",
      "  warnings.warn(\"Possible clipped samples in output.\")\n"
     ]
    },
    {
     "name": "stdout",
     "output_type": "stream",
     "text": [
      "Le fichier a été sauvegardé dans : Mashups/Shearer - Itch_Los Steaks - Sunday Girls.mp3\n",
      "Song 1: Shearer - Itch\n",
      "Song 2: Mia Doi Todd - I gave you my home\n",
      " ********************** Adjusting the song Mia Doi Todd - I gave you my home - bass  **********************\n",
      "Concatenating for segment 'chorus'\n",
      "Concatenating for segment 'chorus'\n",
      " ********************** Adjusting the song Mia Doi Todd - I gave you my home - drums  **********************\n",
      "Concatenating for segment 'chorus'\n",
      "Concatenating for segment 'chorus'\n",
      " ********************** Adjusting the song Mia Doi Todd - I gave you my home - other  **********************\n",
      "Concatenating for segment 'chorus'\n",
      "Concatenating for segment 'chorus'\n",
      "Mashup loudness (before normalization): -17.45647029844479 LUFS\n",
      "Mashup normalized to -14.0 LUFS\n"
     ]
    },
    {
     "name": "stderr",
     "output_type": "stream",
     "text": [
      "/home/leami/myenv/lib/python3.12/site-packages/pyloudnorm/normalize.py:62: UserWarning: Possible clipped samples in output.\n",
      "  warnings.warn(\"Possible clipped samples in output.\")\n"
     ]
    },
    {
     "name": "stdout",
     "output_type": "stream",
     "text": [
      "Le fichier a été sauvegardé dans : Mashups/Shearer - Itch_Mia Doi Todd - I gave you my home.mp3\n",
      "Song 1: Shearer - Itch\n",
      "Song 2: Orange Peels - Grey Holiday\n",
      " ********************** Adjusting the song Orange Peels - Grey Holiday - bass  **********************\n",
      "Concatenating for segment 'verse'\n",
      "Concatenating for segment 'chorus'\n",
      "Concatenating for segment 'chorus'\n",
      "Concatenating for segment 'chorus'\n",
      "Concatenating for segment 'chorus'\n",
      "Concatenating for segment 'solo'\n",
      "Concatenating for segment 'chorus'\n",
      "Concatenating for segment 'chorus'\n",
      " ********************** Adjusting the song Orange Peels - Grey Holiday - drums  **********************\n",
      "Concatenating for segment 'verse'\n",
      "Concatenating for segment 'chorus'\n",
      "Concatenating for segment 'chorus'\n",
      "Concatenating for segment 'chorus'\n",
      "Concatenating for segment 'chorus'\n",
      "Concatenating for segment 'solo'\n",
      "Concatenating for segment 'chorus'\n",
      "Concatenating for segment 'chorus'\n",
      " ********************** Adjusting the song Orange Peels - Grey Holiday - other  **********************\n",
      "Concatenating for segment 'verse'\n",
      "Concatenating for segment 'chorus'\n",
      "Concatenating for segment 'chorus'\n",
      "Concatenating for segment 'chorus'\n",
      "Concatenating for segment 'chorus'\n",
      "Concatenating for segment 'solo'\n",
      "Concatenating for segment 'chorus'\n",
      "Concatenating for segment 'chorus'\n",
      "Mashup loudness (before normalization): -17.09361824889013 LUFS\n",
      "Mashup normalized to -14.0 LUFS\n"
     ]
    },
    {
     "name": "stderr",
     "output_type": "stream",
     "text": [
      "/home/leami/myenv/lib/python3.12/site-packages/pyloudnorm/normalize.py:62: UserWarning: Possible clipped samples in output.\n",
      "  warnings.warn(\"Possible clipped samples in output.\")\n"
     ]
    },
    {
     "name": "stdout",
     "output_type": "stream",
     "text": [
      "Le fichier a été sauvegardé dans : Mashups/Shearer - Itch_Orange Peels - Grey Holiday.mp3\n",
      "Song 1: Shearer - Itch\n",
      "Song 2: Poland - Lying Machine\n",
      " ********************** Adjusting the song Poland - Lying Machine - bass  **********************\n",
      "Concatenating for segment 'verse'\n",
      "Concatenating for segment 'chorus'\n",
      "Concatenating for segment 'chorus'\n",
      "Concatenating for segment 'chorus'\n",
      "Concatenating for segment 'chorus'\n",
      "Concatenating for segment 'chorus'\n",
      "Concatenating for segment 'chorus'\n",
      " ********************** Adjusting the song Poland - Lying Machine - drums  **********************\n",
      "Concatenating for segment 'verse'\n",
      "Concatenating for segment 'chorus'\n",
      "Concatenating for segment 'chorus'\n",
      "Concatenating for segment 'chorus'\n",
      "Concatenating for segment 'chorus'\n",
      "Concatenating for segment 'chorus'\n",
      "Concatenating for segment 'chorus'\n",
      " ********************** Adjusting the song Poland - Lying Machine - other  **********************\n",
      "Concatenating for segment 'verse'\n",
      "Concatenating for segment 'chorus'\n",
      "Concatenating for segment 'chorus'\n",
      "Concatenating for segment 'chorus'\n",
      "Concatenating for segment 'chorus'\n",
      "Concatenating for segment 'chorus'\n",
      "Concatenating for segment 'chorus'\n",
      "Mashup loudness (before normalization): -16.19269801432499 LUFS\n",
      "Mashup normalized to -14.0 LUFS\n"
     ]
    },
    {
     "name": "stderr",
     "output_type": "stream",
     "text": [
      "/home/leami/myenv/lib/python3.12/site-packages/pyloudnorm/normalize.py:62: UserWarning: Possible clipped samples in output.\n",
      "  warnings.warn(\"Possible clipped samples in output.\")\n"
     ]
    },
    {
     "name": "stdout",
     "output_type": "stream",
     "text": [
      "Le fichier a été sauvegardé dans : Mashups/Shearer - Itch_Poland - Lying Machine.mp3\n",
      "Song 1: Shearer - Itch\n",
      "Song 2: Short Hand - Certain Strangers\n",
      " ********************** Adjusting the song Short Hand - Certain Strangers - bass  **********************\n",
      "Concatenating for segment 'chorus'\n",
      "Concatenating for segment 'chorus'\n",
      "Concatenating for segment 'chorus'\n",
      "Concatenating for segment 'chorus'\n",
      "Concatenating for segment 'chorus'\n",
      "Concatenating for segment 'chorus'\n",
      " ********************** Adjusting the song Short Hand - Certain Strangers - drums  **********************\n",
      "Concatenating for segment 'chorus'\n",
      "Concatenating for segment 'chorus'\n",
      "Concatenating for segment 'chorus'\n",
      "Concatenating for segment 'chorus'\n",
      "Concatenating for segment 'chorus'\n",
      "Concatenating for segment 'chorus'\n",
      " ********************** Adjusting the song Short Hand - Certain Strangers - other  **********************\n",
      "Concatenating for segment 'chorus'\n",
      "Concatenating for segment 'chorus'\n",
      "Concatenating for segment 'chorus'\n",
      "Concatenating for segment 'chorus'\n",
      "Concatenating for segment 'chorus'\n",
      "Concatenating for segment 'chorus'\n",
      "Mashup loudness (before normalization): -14.747499651444672 LUFS\n",
      "Mashup normalized to -14.0 LUFS\n"
     ]
    },
    {
     "name": "stderr",
     "output_type": "stream",
     "text": [
      "/home/leami/myenv/lib/python3.12/site-packages/pyloudnorm/normalize.py:62: UserWarning: Possible clipped samples in output.\n",
      "  warnings.warn(\"Possible clipped samples in output.\")\n"
     ]
    },
    {
     "name": "stdout",
     "output_type": "stream",
     "text": [
      "Le fichier a été sauvegardé dans : Mashups/Shearer - Itch_Short Hand - Certain Strangers.mp3\n",
      "Song 1: Shearer - Itch\n",
      "Song 2: The Cute Lepers - Young Hearts\n",
      " ********************** Adjusting the song The Cute Lepers - Young Hearts - bass  **********************\n",
      "Concatenating for segment 'chorus'\n",
      "Concatenating for segment 'chorus'\n",
      "Concatenating for segment 'solo'\n",
      "Concatenating for segment 'chorus'\n",
      " ********************** Adjusting the song The Cute Lepers - Young Hearts - drums  **********************\n",
      "Concatenating for segment 'chorus'\n",
      "Concatenating for segment 'chorus'\n",
      "Concatenating for segment 'solo'\n",
      "Concatenating for segment 'chorus'\n",
      " ********************** Adjusting the song The Cute Lepers - Young Hearts - other  **********************\n",
      "Concatenating for segment 'chorus'\n",
      "Concatenating for segment 'chorus'\n",
      "Concatenating for segment 'solo'\n",
      "Concatenating for segment 'chorus'\n",
      "Mashup loudness (before normalization): -14.926343778898591 LUFS\n",
      "Mashup normalized to -14.0 LUFS\n"
     ]
    },
    {
     "name": "stderr",
     "output_type": "stream",
     "text": [
      "/home/leami/myenv/lib/python3.12/site-packages/pyloudnorm/normalize.py:62: UserWarning: Possible clipped samples in output.\n",
      "  warnings.warn(\"Possible clipped samples in output.\")\n"
     ]
    },
    {
     "name": "stdout",
     "output_type": "stream",
     "text": [
      "Le fichier a été sauvegardé dans : Mashups/Shearer - Itch_The Cute Lepers - Young Hearts.mp3\n",
      "Song 1: Shearer - Itch\n",
      "Song 2: The Embarrassment - Patio Set\n",
      " ********************** Adjusting the song The Embarrassment - Patio Set - bass  **********************\n",
      "Concatenating for segment 'verse'\n",
      "Concatenating for segment 'chorus'\n",
      "Concatenating for segment 'chorus'\n",
      "Concatenating for segment 'chorus'\n",
      "Concatenating for segment 'chorus'\n",
      "Concatenating for segment 'chorus'\n",
      "Concatenating for segment 'chorus'\n",
      "Concatenating for segment 'outro'\n",
      " ********************** Adjusting the song The Embarrassment - Patio Set - drums  **********************\n",
      "Concatenating for segment 'verse'\n",
      "Concatenating for segment 'chorus'\n",
      "Concatenating for segment 'chorus'\n",
      "Concatenating for segment 'chorus'\n",
      "Concatenating for segment 'chorus'\n",
      "Concatenating for segment 'chorus'\n",
      "Concatenating for segment 'chorus'\n",
      "Concatenating for segment 'outro'\n",
      " ********************** Adjusting the song The Embarrassment - Patio Set - other  **********************\n",
      "Concatenating for segment 'verse'\n",
      "Concatenating for segment 'chorus'\n",
      "Concatenating for segment 'chorus'\n",
      "Concatenating for segment 'chorus'\n",
      "Concatenating for segment 'chorus'\n",
      "Concatenating for segment 'chorus'\n",
      "Concatenating for segment 'chorus'\n",
      "Concatenating for segment 'outro'\n",
      "Mashup loudness (before normalization): -18.30631952785153 LUFS\n",
      "Mashup normalized to -14.0 LUFS\n"
     ]
    },
    {
     "name": "stderr",
     "output_type": "stream",
     "text": [
      "/home/leami/myenv/lib/python3.12/site-packages/pyloudnorm/normalize.py:62: UserWarning: Possible clipped samples in output.\n",
      "  warnings.warn(\"Possible clipped samples in output.\")\n"
     ]
    },
    {
     "name": "stdout",
     "output_type": "stream",
     "text": [
      "Le fichier a été sauvegardé dans : Mashups/Shearer - Itch_The Embarrassment - Patio Set.mp3\n",
      "Song 1: Shearer - Itch\n",
      "Song 2: The J Arthur Keenes Band - The Boring World of Niels Bohr\n",
      " ********************** Adjusting the song The J Arthur Keenes Band - The Boring World of Niels Bohr - bass  **********************\n",
      "Concatenating for segment 'chorus'\n",
      "Concatenating for segment 'chorus'\n",
      "Concatenating for segment 'chorus'\n",
      "Concatenating for segment 'solo'\n",
      "Concatenating for segment 'chorus'\n",
      "Concatenating for segment 'chorus'\n",
      " ********************** Adjusting the song The J Arthur Keenes Band - The Boring World of Niels Bohr - drums  **********************\n",
      "Concatenating for segment 'chorus'\n",
      "Concatenating for segment 'chorus'\n",
      "Concatenating for segment 'chorus'\n",
      "Concatenating for segment 'solo'\n",
      "Concatenating for segment 'chorus'\n",
      "Concatenating for segment 'chorus'\n",
      " ********************** Adjusting the song The J Arthur Keenes Band - The Boring World of Niels Bohr - other  **********************\n",
      "Concatenating for segment 'chorus'\n",
      "Concatenating for segment 'chorus'\n",
      "Concatenating for segment 'chorus'\n",
      "Concatenating for segment 'solo'\n",
      "Concatenating for segment 'chorus'\n",
      "Concatenating for segment 'chorus'\n",
      "Mashup loudness (before normalization): -13.664349585940384 LUFS\n",
      "Mashup normalized to -14.0 LUFS\n"
     ]
    },
    {
     "name": "stderr",
     "output_type": "stream",
     "text": [
      "/home/leami/myenv/lib/python3.12/site-packages/pyloudnorm/normalize.py:62: UserWarning: Possible clipped samples in output.\n",
      "  warnings.warn(\"Possible clipped samples in output.\")\n"
     ]
    },
    {
     "name": "stdout",
     "output_type": "stream",
     "text": [
      "Le fichier a été sauvegardé dans : Mashups/Shearer - Itch_The J Arthur Keenes Band - The Boring World of Niels Bohr.mp3\n",
      "Song 1: Shearer - Itch\n",
      "Song 2: The Oranges Band - Ride the Nuclear Wave\n",
      " ********************** Adjusting the song The Oranges Band - Ride the Nuclear Wave - bass  **********************\n",
      "Concatenating for segment 'verse'\n",
      "Concatenating for segment 'chorus'\n",
      "Concatenating for segment 'chorus'\n",
      "Concatenating for segment 'chorus'\n",
      "Concatenating for segment 'chorus'\n",
      "Concatenating for segment 'chorus'\n",
      " ********************** Adjusting the song The Oranges Band - Ride the Nuclear Wave - drums  **********************\n",
      "Concatenating for segment 'verse'\n",
      "Concatenating for segment 'chorus'\n",
      "Concatenating for segment 'chorus'\n",
      "Concatenating for segment 'chorus'\n",
      "Concatenating for segment 'chorus'\n",
      "Concatenating for segment 'chorus'\n",
      " ********************** Adjusting the song The Oranges Band - Ride the Nuclear Wave - other  **********************\n",
      "Concatenating for segment 'verse'\n",
      "Concatenating for segment 'chorus'\n",
      "Concatenating for segment 'chorus'\n",
      "Concatenating for segment 'chorus'\n",
      "Concatenating for segment 'chorus'\n",
      "Concatenating for segment 'chorus'\n",
      "Mashup loudness (before normalization): -15.404237900430873 LUFS\n",
      "Mashup normalized to -14.0 LUFS\n"
     ]
    },
    {
     "name": "stderr",
     "output_type": "stream",
     "text": [
      "/home/leami/myenv/lib/python3.12/site-packages/pyloudnorm/normalize.py:62: UserWarning: Possible clipped samples in output.\n",
      "  warnings.warn(\"Possible clipped samples in output.\")\n"
     ]
    },
    {
     "name": "stdout",
     "output_type": "stream",
     "text": [
      "Le fichier a été sauvegardé dans : Mashups/Shearer - Itch_The Oranges Band - Ride the Nuclear Wave.mp3\n",
      "Song 1: Shearer - Itch\n",
      "Song 2: Wann - Happy Birthday\n",
      " ********************** Adjusting the song Wann - Happy Birthday - bass  **********************\n",
      "Concatenating for segment 'chorus'\n",
      "Concatenating for segment 'chorus'\n",
      "Concatenating for segment 'chorus'\n",
      "Concatenating for segment 'chorus'\n",
      "Concatenating for segment 'chorus'\n",
      "Concatenating for segment 'solo'\n",
      "Concatenating for segment 'chorus'\n",
      "Concatenating for segment 'chorus'\n",
      "Error fitting segment 'outro' to 28 beats: float division by zero\n",
      "Error fitting segment: outro at 178.24, Error: float division by zero\n",
      " ********************** Adjusting the song Wann - Happy Birthday - drums  **********************\n",
      "Concatenating for segment 'chorus'\n",
      "Concatenating for segment 'chorus'\n",
      "Concatenating for segment 'chorus'\n",
      "Concatenating for segment 'chorus'\n",
      "Concatenating for segment 'chorus'\n",
      "Concatenating for segment 'solo'\n",
      "Concatenating for segment 'chorus'\n",
      "Concatenating for segment 'chorus'\n",
      "Error fitting segment 'outro' to 28 beats: float division by zero\n",
      "Error fitting segment: outro at 178.24, Error: float division by zero\n",
      " ********************** Adjusting the song Wann - Happy Birthday - other  **********************\n",
      "Concatenating for segment 'chorus'\n",
      "Concatenating for segment 'chorus'\n",
      "Concatenating for segment 'chorus'\n",
      "Concatenating for segment 'chorus'\n",
      "Concatenating for segment 'chorus'\n",
      "Concatenating for segment 'solo'\n",
      "Concatenating for segment 'chorus'\n",
      "Concatenating for segment 'chorus'\n",
      "Error fitting segment 'outro' to 28 beats: float division by zero\n",
      "Error fitting segment: outro at 178.24, Error: float division by zero\n",
      "Mashup loudness (before normalization): -16.726459649781113 LUFS\n",
      "Mashup normalized to -14.0 LUFS\n"
     ]
    },
    {
     "name": "stderr",
     "output_type": "stream",
     "text": [
      "/home/leami/myenv/lib/python3.12/site-packages/pyloudnorm/normalize.py:62: UserWarning: Possible clipped samples in output.\n",
      "  warnings.warn(\"Possible clipped samples in output.\")\n"
     ]
    },
    {
     "name": "stdout",
     "output_type": "stream",
     "text": [
      "Le fichier a été sauvegardé dans : Mashups/Shearer - Itch_Wann - Happy Birthday.mp3\n",
      "Song 1: Shearer - Itch\n",
      "Song 2: ZOELEELA - Jewel\n",
      " ********************** Adjusting the song ZOELEELA - Jewel - bass  **********************\n",
      "Concatenating for segment 'chorus'\n",
      "Concatenating for segment 'chorus'\n",
      "Concatenating for segment 'chorus'\n",
      "Concatenating for segment 'chorus'\n",
      " ********************** Adjusting the song ZOELEELA - Jewel - drums  **********************\n",
      "Concatenating for segment 'chorus'\n",
      "Concatenating for segment 'chorus'\n",
      "Concatenating for segment 'chorus'\n",
      "Concatenating for segment 'chorus'\n",
      " ********************** Adjusting the song ZOELEELA - Jewel - other  **********************\n",
      "Concatenating for segment 'chorus'\n",
      "Concatenating for segment 'chorus'\n",
      "Concatenating for segment 'chorus'\n",
      "Concatenating for segment 'chorus'\n",
      "Mashup loudness (before normalization): -15.167873308136432 LUFS\n",
      "Mashup normalized to -14.0 LUFS\n"
     ]
    },
    {
     "name": "stderr",
     "output_type": "stream",
     "text": [
      "/home/leami/myenv/lib/python3.12/site-packages/pyloudnorm/normalize.py:62: UserWarning: Possible clipped samples in output.\n",
      "  warnings.warn(\"Possible clipped samples in output.\")\n"
     ]
    },
    {
     "name": "stdout",
     "output_type": "stream",
     "text": [
      "Le fichier a été sauvegardé dans : Mashups/Shearer - Itch_ZOELEELA - Jewel.mp3\n",
      "Song 1: Short Hand - Certain Strangers\n",
      "Song 2: Bam Bam - Hi-Q\n",
      " ********************** Adjusting the song Bam Bam - Hi-Q - bass  **********************\n",
      "Concatenating for segment 'verse'\n",
      "Concatenating for segment 'chorus'\n",
      "Error fitting segment 'outro' to 29 beats: float division by zero\n",
      "Error fitting segment: outro at 172.22, Error: float division by zero\n",
      "Error fitting segment 'outro' to 20 beats: float division by zero\n",
      "Error fitting segment: outro at 172.22, Error: float division by zero\n",
      " ********************** Adjusting the song Bam Bam - Hi-Q - drums  **********************\n",
      "Concatenating for segment 'verse'\n",
      "Concatenating for segment 'chorus'\n",
      "Error fitting segment 'outro' to 29 beats: float division by zero\n",
      "Error fitting segment: outro at 172.22, Error: float division by zero\n",
      "Error fitting segment 'outro' to 20 beats: float division by zero\n",
      "Error fitting segment: outro at 172.22, Error: float division by zero\n",
      " ********************** Adjusting the song Bam Bam - Hi-Q - other  **********************\n",
      "Concatenating for segment 'verse'\n",
      "Concatenating for segment 'chorus'\n",
      "Error fitting segment 'outro' to 29 beats: float division by zero\n",
      "Error fitting segment: outro at 172.22, Error: float division by zero\n",
      "Error fitting segment 'outro' to 20 beats: float division by zero\n",
      "Error fitting segment: outro at 172.22, Error: float division by zero\n",
      "Mashup loudness (before normalization): -15.774862480116257 LUFS\n",
      "Mashup normalized to -14.0 LUFS\n"
     ]
    },
    {
     "name": "stderr",
     "output_type": "stream",
     "text": [
      "/home/leami/myenv/lib/python3.12/site-packages/pyloudnorm/normalize.py:62: UserWarning: Possible clipped samples in output.\n",
      "  warnings.warn(\"Possible clipped samples in output.\")\n"
     ]
    },
    {
     "name": "stdout",
     "output_type": "stream",
     "text": [
      "Le fichier a été sauvegardé dans : Mashups/Short Hand - Certain Strangers_Bam Bam - Hi-Q.mp3\n",
      "Song 1: Short Hand - Certain Strangers\n",
      "Song 2: Benji Cossa - New Flowers (Fast 4-track Version)\n",
      " ********************** Adjusting the song Benji Cossa - New Flowers (Fast 4-track Version) - bass  **********************\n",
      "Error fitting segment 'verse' to 64 beats: float division by zero\n",
      "Error fitting segment: verse at 0.0, Error: float division by zero\n",
      "Concatenating for segment 'verse'\n",
      "Concatenating for segment 'bridge'\n",
      " ********************** Adjusting the song Benji Cossa - New Flowers (Fast 4-track Version) - drums  **********************\n",
      "Error fitting segment 'verse' to 64 beats: float division by zero\n",
      "Error fitting segment: verse at 0.0, Error: float division by zero\n",
      "Concatenating for segment 'verse'\n",
      "Concatenating for segment 'bridge'\n",
      " ********************** Adjusting the song Benji Cossa - New Flowers (Fast 4-track Version) - other  **********************\n",
      "Error fitting segment 'verse' to 64 beats: float division by zero\n",
      "Error fitting segment: verse at 0.0, Error: float division by zero\n",
      "Concatenating for segment 'verse'\n",
      "Concatenating for segment 'bridge'\n",
      "Mashup loudness (before normalization): -14.71036548782743 LUFS\n",
      "Mashup normalized to -14.0 LUFS\n"
     ]
    },
    {
     "name": "stderr",
     "output_type": "stream",
     "text": [
      "/home/leami/myenv/lib/python3.12/site-packages/pyloudnorm/normalize.py:62: UserWarning: Possible clipped samples in output.\n",
      "  warnings.warn(\"Possible clipped samples in output.\")\n"
     ]
    },
    {
     "name": "stdout",
     "output_type": "stream",
     "text": [
      "Le fichier a été sauvegardé dans : Mashups/Short Hand - Certain Strangers_Benji Cossa - New Flowers (Fast 4-track Version).mp3\n",
      "Song 1: Short Hand - Certain Strangers\n",
      "Song 2: Bessie Smith - My Sweetie Went Away\n",
      " ********************** Adjusting the song Bessie Smith - My Sweetie Went Away - bass  **********************\n",
      "Concatenating for segment 'verse'\n",
      " ********************** Adjusting the song Bessie Smith - My Sweetie Went Away - drums  **********************\n",
      "Concatenating for segment 'verse'\n",
      " ********************** Adjusting the song Bessie Smith - My Sweetie Went Away - other  **********************\n",
      "Concatenating for segment 'verse'\n",
      "Mashup loudness (before normalization): -19.431191067411227 LUFS\n",
      "Mashup normalized to -14.0 LUFS\n"
     ]
    },
    {
     "name": "stderr",
     "output_type": "stream",
     "text": [
      "/home/leami/myenv/lib/python3.12/site-packages/pyloudnorm/normalize.py:62: UserWarning: Possible clipped samples in output.\n",
      "  warnings.warn(\"Possible clipped samples in output.\")\n"
     ]
    },
    {
     "name": "stdout",
     "output_type": "stream",
     "text": [
      "Le fichier a été sauvegardé dans : Mashups/Short Hand - Certain Strangers_Bessie Smith - My Sweetie Went Away.mp3\n",
      "Song 1: Short Hand - Certain Strangers\n",
      "Song 2: David Rovics - We Just Want The World\n",
      " ********************** Adjusting the song David Rovics - We Just Want The World - bass  **********************\n",
      "Concatenating for segment 'outro'\n",
      " ********************** Adjusting the song David Rovics - We Just Want The World - drums  **********************\n",
      "Concatenating for segment 'outro'\n",
      " ********************** Adjusting the song David Rovics - We Just Want The World - other  **********************\n",
      "Concatenating for segment 'outro'\n",
      "Mashup loudness (before normalization): -18.46275162158956 LUFS\n",
      "Mashup normalized to -14.0 LUFS\n"
     ]
    },
    {
     "name": "stderr",
     "output_type": "stream",
     "text": [
      "/home/leami/myenv/lib/python3.12/site-packages/pyloudnorm/normalize.py:62: UserWarning: Possible clipped samples in output.\n",
      "  warnings.warn(\"Possible clipped samples in output.\")\n"
     ]
    },
    {
     "name": "stdout",
     "output_type": "stream",
     "text": [
      "Le fichier a été sauvegardé dans : Mashups/Short Hand - Certain Strangers_David Rovics - We Just Want The World.mp3\n",
      "Song 1: Short Hand - Certain Strangers\n",
      "Song 2: deef - Ein sonniger Tag mit dir\n",
      " ********************** Adjusting the song deef - Ein sonniger Tag mit dir - bass  **********************\n",
      "Concatenating for segment 'chorus'\n",
      "Concatenating for segment 'chorus'\n",
      "Concatenating for segment 'chorus'\n",
      " ********************** Adjusting the song deef - Ein sonniger Tag mit dir - drums  **********************\n",
      "Concatenating for segment 'chorus'\n",
      "Concatenating for segment 'chorus'\n",
      "Concatenating for segment 'chorus'\n",
      " ********************** Adjusting the song deef - Ein sonniger Tag mit dir - other  **********************\n",
      "Concatenating for segment 'chorus'\n",
      "Concatenating for segment 'chorus'\n",
      "Concatenating for segment 'chorus'\n",
      "Mashup loudness (before normalization): -18.130451737716417 LUFS\n",
      "Mashup normalized to -14.0 LUFS\n"
     ]
    },
    {
     "name": "stderr",
     "output_type": "stream",
     "text": [
      "/home/leami/myenv/lib/python3.12/site-packages/pyloudnorm/normalize.py:62: UserWarning: Possible clipped samples in output.\n",
      "  warnings.warn(\"Possible clipped samples in output.\")\n"
     ]
    },
    {
     "name": "stdout",
     "output_type": "stream",
     "text": [
      "Le fichier a été sauvegardé dans : Mashups/Short Hand - Certain Strangers_deef - Ein sonniger Tag mit dir.mp3\n",
      "Song 1: Short Hand - Certain Strangers\n",
      "Song 2: Dragon Or Emperor - Part of Me Says\n",
      " ********************** Adjusting the song Dragon Or Emperor - Part of Me Says - bass  **********************\n",
      "Concatenating for segment 'verse'\n",
      "Concatenating for segment 'verse'\n",
      "Concatenating for segment 'chorus'\n",
      "Error fitting segment 'outro' to 29 beats: float division by zero\n",
      "Error fitting segment: outro at 187.02, Error: float division by zero\n",
      "Error fitting segment 'outro' to 20 beats: float division by zero\n",
      "Error fitting segment: outro at 187.02, Error: float division by zero\n",
      " ********************** Adjusting the song Dragon Or Emperor - Part of Me Says - drums  **********************\n",
      "Concatenating for segment 'verse'\n",
      "Concatenating for segment 'verse'\n",
      "Concatenating for segment 'chorus'\n",
      "Error fitting segment 'outro' to 29 beats: float division by zero\n",
      "Error fitting segment: outro at 187.02, Error: float division by zero\n",
      "Error fitting segment 'outro' to 20 beats: float division by zero\n",
      "Error fitting segment: outro at 187.02, Error: float division by zero\n",
      " ********************** Adjusting the song Dragon Or Emperor - Part of Me Says - other  **********************\n",
      "Concatenating for segment 'verse'\n",
      "Concatenating for segment 'verse'\n",
      "Concatenating for segment 'chorus'\n",
      "Error fitting segment 'outro' to 29 beats: float division by zero\n",
      "Error fitting segment: outro at 187.02, Error: float division by zero\n",
      "Error fitting segment 'outro' to 20 beats: float division by zero\n",
      "Error fitting segment: outro at 187.02, Error: float division by zero\n",
      "Mashup loudness (before normalization): -13.830397608091621 LUFS\n",
      "Mashup normalized to -14.0 LUFS\n"
     ]
    },
    {
     "name": "stderr",
     "output_type": "stream",
     "text": [
      "/home/leami/myenv/lib/python3.12/site-packages/pyloudnorm/normalize.py:62: UserWarning: Possible clipped samples in output.\n",
      "  warnings.warn(\"Possible clipped samples in output.\")\n"
     ]
    },
    {
     "name": "stdout",
     "output_type": "stream",
     "text": [
      "Le fichier a été sauvegardé dans : Mashups/Short Hand - Certain Strangers_Dragon Or Emperor - Part of Me Says.mp3\n",
      "Song 1: Short Hand - Certain Strangers\n",
      "Song 2: Grand Mal - Children of Light\n",
      " ********************** Adjusting the song Grand Mal - Children of Light - bass  **********************\n",
      "Concatenating for segment 'verse'\n",
      "Concatenating for segment 'verse'\n",
      "Concatenating for segment 'chorus'\n",
      "Concatenating for segment 'outro'\n",
      "Concatenating for segment 'outro'\n",
      "Concatenating for segment 'outro'\n",
      "Concatenating for segment 'outro'\n",
      "Concatenating for segment 'outro'\n",
      "Concatenating for segment 'outro'\n",
      "Concatenating for segment 'outro'\n",
      "Concatenating for segment 'outro'\n",
      " ********************** Adjusting the song Grand Mal - Children of Light - drums  **********************\n",
      "Concatenating for segment 'verse'\n",
      "Concatenating for segment 'verse'\n",
      "Concatenating for segment 'chorus'\n",
      "Concatenating for segment 'outro'\n",
      "Concatenating for segment 'outro'\n",
      "Concatenating for segment 'outro'\n",
      "Concatenating for segment 'outro'\n",
      "Concatenating for segment 'outro'\n",
      "Concatenating for segment 'outro'\n",
      "Concatenating for segment 'outro'\n",
      "Concatenating for segment 'outro'\n",
      " ********************** Adjusting the song Grand Mal - Children of Light - other  **********************\n",
      "Concatenating for segment 'verse'\n",
      "Concatenating for segment 'verse'\n",
      "Concatenating for segment 'chorus'\n",
      "Concatenating for segment 'outro'\n",
      "Concatenating for segment 'outro'\n",
      "Concatenating for segment 'outro'\n",
      "Concatenating for segment 'outro'\n",
      "Concatenating for segment 'outro'\n",
      "Concatenating for segment 'outro'\n",
      "Concatenating for segment 'outro'\n",
      "Concatenating for segment 'outro'\n",
      "Mashup loudness (before normalization): -17.58575102111603 LUFS\n",
      "Mashup normalized to -14.0 LUFS\n"
     ]
    },
    {
     "name": "stderr",
     "output_type": "stream",
     "text": [
      "/home/leami/myenv/lib/python3.12/site-packages/pyloudnorm/normalize.py:62: UserWarning: Possible clipped samples in output.\n",
      "  warnings.warn(\"Possible clipped samples in output.\")\n"
     ]
    },
    {
     "name": "stdout",
     "output_type": "stream",
     "text": [
      "Le fichier a été sauvegardé dans : Mashups/Short Hand - Certain Strangers_Grand Mal - Children of Light.mp3\n",
      "Song 1: Short Hand - Certain Strangers\n",
      "Song 2: Home Blitz - Secret Wave\n",
      " ********************** Adjusting the song Home Blitz - Secret Wave - bass  **********************\n",
      "Concatenating for segment 'verse'\n",
      "Concatenating for segment 'verse'\n",
      "Error fitting segment 'outro' to 20 beats: float division by zero\n",
      "Error fitting segment: outro at 182.54, Error: float division by zero\n",
      " ********************** Adjusting the song Home Blitz - Secret Wave - drums  **********************\n",
      "Concatenating for segment 'verse'\n",
      "Concatenating for segment 'verse'\n",
      "Error fitting segment 'outro' to 20 beats: float division by zero\n",
      "Error fitting segment: outro at 182.54, Error: float division by zero\n",
      " ********************** Adjusting the song Home Blitz - Secret Wave - other  **********************\n",
      "Concatenating for segment 'verse'\n",
      "Concatenating for segment 'verse'\n",
      "Error fitting segment 'outro' to 20 beats: float division by zero\n",
      "Error fitting segment: outro at 182.54, Error: float division by zero\n",
      "Mashup loudness (before normalization): -15.587044942331259 LUFS\n",
      "Mashup normalized to -14.0 LUFS\n"
     ]
    },
    {
     "name": "stderr",
     "output_type": "stream",
     "text": [
      "/home/leami/myenv/lib/python3.12/site-packages/pyloudnorm/normalize.py:62: UserWarning: Possible clipped samples in output.\n",
      "  warnings.warn(\"Possible clipped samples in output.\")\n"
     ]
    },
    {
     "name": "stdout",
     "output_type": "stream",
     "text": [
      "Le fichier a été sauvegardé dans : Mashups/Short Hand - Certain Strangers_Home Blitz - Secret Wave.mp3\n",
      "Song 1: Short Hand - Certain Strangers\n",
      "Song 2: Josh Woodward - Cien Volando\n",
      " ********************** Adjusting the song Josh Woodward - Cien Volando - bass  **********************\n",
      "Concatenating for segment 'verse'\n",
      "Concatenating for segment 'chorus'\n",
      "Concatenating for segment 'verse'\n",
      "Concatenating for segment 'verse'\n",
      "Concatenating for segment 'chorus'\n",
      " ********************** Adjusting the song Josh Woodward - Cien Volando - drums  **********************\n",
      "Concatenating for segment 'verse'\n",
      "Concatenating for segment 'chorus'\n",
      "Concatenating for segment 'verse'\n",
      "Concatenating for segment 'verse'\n",
      "Concatenating for segment 'chorus'\n",
      " ********************** Adjusting the song Josh Woodward - Cien Volando - other  **********************\n",
      "Concatenating for segment 'verse'\n",
      "Concatenating for segment 'chorus'\n",
      "Concatenating for segment 'verse'\n",
      "Concatenating for segment 'verse'\n",
      "Concatenating for segment 'chorus'\n",
      "Mashup loudness (before normalization): -17.36417588016106 LUFS\n",
      "Mashup normalized to -14.0 LUFS\n"
     ]
    },
    {
     "name": "stderr",
     "output_type": "stream",
     "text": [
      "/home/leami/myenv/lib/python3.12/site-packages/pyloudnorm/normalize.py:62: UserWarning: Possible clipped samples in output.\n",
      "  warnings.warn(\"Possible clipped samples in output.\")\n"
     ]
    },
    {
     "name": "stdout",
     "output_type": "stream",
     "text": [
      "Le fichier a été sauvegardé dans : Mashups/Short Hand - Certain Strangers_Josh Woodward - Cien Volando.mp3\n",
      "Song 1: Short Hand - Certain Strangers\n",
      "Song 2: Los Steaks - Sunday Girls\n",
      " ********************** Adjusting the song Los Steaks - Sunday Girls - bass  **********************\n",
      " ********************** Adjusting the song Los Steaks - Sunday Girls - drums  **********************\n",
      " ********************** Adjusting the song Los Steaks - Sunday Girls - other  **********************\n",
      "Mashup loudness (before normalization): -14.253742967650757 LUFS\n",
      "Mashup normalized to -14.0 LUFS\n"
     ]
    },
    {
     "name": "stderr",
     "output_type": "stream",
     "text": [
      "/home/leami/myenv/lib/python3.12/site-packages/pyloudnorm/normalize.py:62: UserWarning: Possible clipped samples in output.\n",
      "  warnings.warn(\"Possible clipped samples in output.\")\n"
     ]
    },
    {
     "name": "stdout",
     "output_type": "stream",
     "text": [
      "Le fichier a été sauvegardé dans : Mashups/Short Hand - Certain Strangers_Los Steaks - Sunday Girls.mp3\n",
      "Song 1: Short Hand - Certain Strangers\n",
      "Song 2: Mia Doi Todd - I gave you my home\n",
      " ********************** Adjusting the song Mia Doi Todd - I gave you my home - bass  **********************\n",
      " ********************** Adjusting the song Mia Doi Todd - I gave you my home - drums  **********************\n",
      " ********************** Adjusting the song Mia Doi Todd - I gave you my home - other  **********************\n",
      "Mashup loudness (before normalization): -19.592835057660334 LUFS\n",
      "Mashup normalized to -14.0 LUFS\n"
     ]
    },
    {
     "name": "stderr",
     "output_type": "stream",
     "text": [
      "/home/leami/myenv/lib/python3.12/site-packages/pyloudnorm/normalize.py:62: UserWarning: Possible clipped samples in output.\n",
      "  warnings.warn(\"Possible clipped samples in output.\")\n"
     ]
    },
    {
     "name": "stdout",
     "output_type": "stream",
     "text": [
      "Le fichier a été sauvegardé dans : Mashups/Short Hand - Certain Strangers_Mia Doi Todd - I gave you my home.mp3\n",
      "Song 1: Short Hand - Certain Strangers\n",
      "Song 2: Orange Peels - Grey Holiday\n",
      " ********************** Adjusting the song Orange Peels - Grey Holiday - bass  **********************\n",
      "Concatenating for segment 'verse'\n",
      "Concatenating for segment 'verse'\n",
      "Concatenating for segment 'chorus'\n",
      " ********************** Adjusting the song Orange Peels - Grey Holiday - drums  **********************\n",
      "Concatenating for segment 'verse'\n",
      "Concatenating for segment 'verse'\n",
      "Concatenating for segment 'chorus'\n",
      " ********************** Adjusting the song Orange Peels - Grey Holiday - other  **********************\n",
      "Concatenating for segment 'verse'\n",
      "Concatenating for segment 'verse'\n",
      "Concatenating for segment 'chorus'\n",
      "Mashup loudness (before normalization): -18.616808805134458 LUFS\n",
      "Mashup normalized to -14.0 LUFS\n"
     ]
    },
    {
     "name": "stderr",
     "output_type": "stream",
     "text": [
      "/home/leami/myenv/lib/python3.12/site-packages/pyloudnorm/normalize.py:62: UserWarning: Possible clipped samples in output.\n",
      "  warnings.warn(\"Possible clipped samples in output.\")\n"
     ]
    },
    {
     "name": "stdout",
     "output_type": "stream",
     "text": [
      "Le fichier a été sauvegardé dans : Mashups/Short Hand - Certain Strangers_Orange Peels - Grey Holiday.mp3\n",
      "Song 1: Short Hand - Certain Strangers\n",
      "Song 2: Poland - Lying Machine\n",
      " ********************** Adjusting the song Poland - Lying Machine - bass  **********************\n",
      "Concatenating for segment 'verse'\n",
      "Concatenating for segment 'chorus'\n",
      "Concatenating for segment 'verse'\n",
      "Concatenating for segment 'chorus'\n",
      "Concatenating for segment 'chorus'\n",
      " ********************** Adjusting the song Poland - Lying Machine - drums  **********************\n",
      "Concatenating for segment 'verse'\n",
      "Concatenating for segment 'chorus'\n",
      "Concatenating for segment 'verse'\n",
      "Concatenating for segment 'chorus'\n",
      "Concatenating for segment 'chorus'\n",
      " ********************** Adjusting the song Poland - Lying Machine - other  **********************\n",
      "Concatenating for segment 'verse'\n",
      "Concatenating for segment 'chorus'\n",
      "Concatenating for segment 'verse'\n",
      "Concatenating for segment 'chorus'\n",
      "Concatenating for segment 'chorus'\n",
      "Mashup loudness (before normalization): -16.60854358069234 LUFS\n",
      "Mashup normalized to -14.0 LUFS\n"
     ]
    },
    {
     "name": "stderr",
     "output_type": "stream",
     "text": [
      "/home/leami/myenv/lib/python3.12/site-packages/pyloudnorm/normalize.py:62: UserWarning: Possible clipped samples in output.\n",
      "  warnings.warn(\"Possible clipped samples in output.\")\n"
     ]
    },
    {
     "name": "stdout",
     "output_type": "stream",
     "text": [
      "Le fichier a été sauvegardé dans : Mashups/Short Hand - Certain Strangers_Poland - Lying Machine.mp3\n",
      "Song 1: Short Hand - Certain Strangers\n",
      "Song 2: Shearer - Itch\n",
      " ********************** Adjusting the song Shearer - Itch - bass  **********************\n",
      "Error fitting segment 'verse' to 64 beats: float division by zero\n",
      "Error fitting segment: verse at 0.0, Error: float division by zero\n",
      "Concatenating for segment 'verse'\n",
      " ********************** Adjusting the song Shearer - Itch - drums  **********************\n",
      "Error fitting segment 'verse' to 64 beats: float division by zero\n",
      "Error fitting segment: verse at 0.0, Error: float division by zero\n",
      "Concatenating for segment 'verse'\n",
      " ********************** Adjusting the song Shearer - Itch - other  **********************\n",
      "Error fitting segment 'verse' to 64 beats: float division by zero\n",
      "Error fitting segment: verse at 0.0, Error: float division by zero\n",
      "Concatenating for segment 'verse'\n",
      "Mashup loudness (before normalization): -15.876752245876695 LUFS\n",
      "Mashup normalized to -14.0 LUFS\n"
     ]
    },
    {
     "name": "stderr",
     "output_type": "stream",
     "text": [
      "/home/leami/myenv/lib/python3.12/site-packages/pyloudnorm/normalize.py:62: UserWarning: Possible clipped samples in output.\n",
      "  warnings.warn(\"Possible clipped samples in output.\")\n"
     ]
    },
    {
     "name": "stdout",
     "output_type": "stream",
     "text": [
      "Le fichier a été sauvegardé dans : Mashups/Short Hand - Certain Strangers_Shearer - Itch.mp3\n",
      "Song 1: Short Hand - Certain Strangers\n",
      "Song 2: The Cute Lepers - Young Hearts\n",
      " ********************** Adjusting the song The Cute Lepers - Young Hearts - bass  **********************\n",
      " ********************** Adjusting the song The Cute Lepers - Young Hearts - drums  **********************\n",
      " ********************** Adjusting the song The Cute Lepers - Young Hearts - other  **********************\n",
      "Mashup loudness (before normalization): -16.003836234233944 LUFS\n",
      "Mashup normalized to -14.0 LUFS\n"
     ]
    },
    {
     "name": "stderr",
     "output_type": "stream",
     "text": [
      "/home/leami/myenv/lib/python3.12/site-packages/pyloudnorm/normalize.py:62: UserWarning: Possible clipped samples in output.\n",
      "  warnings.warn(\"Possible clipped samples in output.\")\n"
     ]
    },
    {
     "name": "stdout",
     "output_type": "stream",
     "text": [
      "Le fichier a été sauvegardé dans : Mashups/Short Hand - Certain Strangers_The Cute Lepers - Young Hearts.mp3\n",
      "Song 1: Short Hand - Certain Strangers\n",
      "Song 2: The Embarrassment - Patio Set\n",
      " ********************** Adjusting the song The Embarrassment - Patio Set - bass  **********************\n",
      "Concatenating for segment 'verse'\n",
      "Concatenating for segment 'chorus'\n",
      "Concatenating for segment 'outro'\n",
      " ********************** Adjusting the song The Embarrassment - Patio Set - drums  **********************\n",
      "Concatenating for segment 'verse'\n",
      "Concatenating for segment 'chorus'\n",
      "Concatenating for segment 'outro'\n",
      " ********************** Adjusting the song The Embarrassment - Patio Set - other  **********************\n",
      "Concatenating for segment 'verse'\n",
      "Concatenating for segment 'chorus'\n",
      "Concatenating for segment 'outro'\n",
      "Mashup loudness (before normalization): -19.12952397712111 LUFS\n",
      "Mashup normalized to -14.0 LUFS\n"
     ]
    },
    {
     "name": "stderr",
     "output_type": "stream",
     "text": [
      "/home/leami/myenv/lib/python3.12/site-packages/pyloudnorm/normalize.py:62: UserWarning: Possible clipped samples in output.\n",
      "  warnings.warn(\"Possible clipped samples in output.\")\n"
     ]
    },
    {
     "name": "stdout",
     "output_type": "stream",
     "text": [
      "Le fichier a été sauvegardé dans : Mashups/Short Hand - Certain Strangers_The Embarrassment - Patio Set.mp3\n",
      "Song 1: Short Hand - Certain Strangers\n",
      "Song 2: The J Arthur Keenes Band - The Boring World of Niels Bohr\n",
      " ********************** Adjusting the song The J Arthur Keenes Band - The Boring World of Niels Bohr - bass  **********************\n",
      "Concatenating for segment 'chorus'\n",
      " ********************** Adjusting the song The J Arthur Keenes Band - The Boring World of Niels Bohr - drums  **********************\n",
      "Concatenating for segment 'chorus'\n",
      " ********************** Adjusting the song The J Arthur Keenes Band - The Boring World of Niels Bohr - other  **********************\n",
      "Concatenating for segment 'chorus'\n",
      "Mashup loudness (before normalization): -13.567267829216604 LUFS\n",
      "Mashup normalized to -14.0 LUFS\n"
     ]
    },
    {
     "name": "stderr",
     "output_type": "stream",
     "text": [
      "/home/leami/myenv/lib/python3.12/site-packages/pyloudnorm/normalize.py:62: UserWarning: Possible clipped samples in output.\n",
      "  warnings.warn(\"Possible clipped samples in output.\")\n"
     ]
    },
    {
     "name": "stdout",
     "output_type": "stream",
     "text": [
      "Le fichier a été sauvegardé dans : Mashups/Short Hand - Certain Strangers_The J Arthur Keenes Band - The Boring World of Niels Bohr.mp3\n",
      "Song 1: Short Hand - Certain Strangers\n",
      "Song 2: The Oranges Band - Ride the Nuclear Wave\n",
      " ********************** Adjusting the song The Oranges Band - Ride the Nuclear Wave - bass  **********************\n",
      "Concatenating for segment 'verse'\n",
      "Concatenating for segment 'verse'\n",
      "Concatenating for segment 'chorus'\n",
      "Error fitting segment 'outro' to 20 beats: float division by zero\n",
      "Error fitting segment: outro at 175.39, Error: float division by zero\n",
      " ********************** Adjusting the song The Oranges Band - Ride the Nuclear Wave - drums  **********************\n",
      "Concatenating for segment 'verse'\n",
      "Concatenating for segment 'verse'\n",
      "Concatenating for segment 'chorus'\n",
      "Error fitting segment 'outro' to 20 beats: float division by zero\n",
      "Error fitting segment: outro at 175.39, Error: float division by zero\n",
      " ********************** Adjusting the song The Oranges Band - Ride the Nuclear Wave - other  **********************\n",
      "Concatenating for segment 'verse'\n",
      "Concatenating for segment 'verse'\n",
      "Concatenating for segment 'chorus'\n",
      "Error fitting segment 'outro' to 20 beats: float division by zero\n",
      "Error fitting segment: outro at 175.39, Error: float division by zero\n",
      "Mashup loudness (before normalization): -15.710058005549728 LUFS\n",
      "Mashup normalized to -14.0 LUFS\n"
     ]
    },
    {
     "name": "stderr",
     "output_type": "stream",
     "text": [
      "/home/leami/myenv/lib/python3.12/site-packages/pyloudnorm/normalize.py:62: UserWarning: Possible clipped samples in output.\n",
      "  warnings.warn(\"Possible clipped samples in output.\")\n"
     ]
    },
    {
     "name": "stdout",
     "output_type": "stream",
     "text": [
      "Le fichier a été sauvegardé dans : Mashups/Short Hand - Certain Strangers_The Oranges Band - Ride the Nuclear Wave.mp3\n",
      "Song 1: Short Hand - Certain Strangers\n",
      "Song 2: Wann - Happy Birthday\n",
      " ********************** Adjusting the song Wann - Happy Birthday - bass  **********************\n",
      "Concatenating for segment 'verse'\n",
      "Concatenating for segment 'chorus'\n",
      "Concatenating for segment 'verse'\n",
      "Concatenating for segment 'chorus'\n",
      "Concatenating for segment 'chorus'\n",
      "Error fitting segment 'outro' to 29 beats: float division by zero\n",
      "Error fitting segment: outro at 178.24, Error: float division by zero\n",
      "Error fitting segment 'outro' to 20 beats: float division by zero\n",
      "Error fitting segment: outro at 178.24, Error: float division by zero\n",
      " ********************** Adjusting the song Wann - Happy Birthday - drums  **********************\n",
      "Concatenating for segment 'verse'\n",
      "Concatenating for segment 'chorus'\n",
      "Concatenating for segment 'verse'\n",
      "Concatenating for segment 'chorus'\n",
      "Concatenating for segment 'chorus'\n",
      "Error fitting segment 'outro' to 29 beats: float division by zero\n",
      "Error fitting segment: outro at 178.24, Error: float division by zero\n",
      "Error fitting segment 'outro' to 20 beats: float division by zero\n",
      "Error fitting segment: outro at 178.24, Error: float division by zero\n",
      " ********************** Adjusting the song Wann - Happy Birthday - other  **********************\n",
      "Concatenating for segment 'verse'\n",
      "Concatenating for segment 'chorus'\n",
      "Concatenating for segment 'verse'\n",
      "Concatenating for segment 'chorus'\n",
      "Concatenating for segment 'chorus'\n",
      "Error fitting segment 'outro' to 29 beats: float division by zero\n",
      "Error fitting segment: outro at 178.24, Error: float division by zero\n",
      "Error fitting segment 'outro' to 20 beats: float division by zero\n",
      "Error fitting segment: outro at 178.24, Error: float division by zero\n",
      "Mashup loudness (before normalization): -17.76073463296856 LUFS\n",
      "Mashup normalized to -14.0 LUFS\n"
     ]
    },
    {
     "name": "stderr",
     "output_type": "stream",
     "text": [
      "/home/leami/myenv/lib/python3.12/site-packages/pyloudnorm/normalize.py:62: UserWarning: Possible clipped samples in output.\n",
      "  warnings.warn(\"Possible clipped samples in output.\")\n"
     ]
    },
    {
     "name": "stdout",
     "output_type": "stream",
     "text": [
      "Le fichier a été sauvegardé dans : Mashups/Short Hand - Certain Strangers_Wann - Happy Birthday.mp3\n",
      "Song 1: Short Hand - Certain Strangers\n",
      "Song 2: ZOELEELA - Jewel\n",
      " ********************** Adjusting the song ZOELEELA - Jewel - bass  **********************\n",
      "Concatenating for segment 'chorus'\n",
      " ********************** Adjusting the song ZOELEELA - Jewel - drums  **********************\n",
      "Concatenating for segment 'chorus'\n",
      " ********************** Adjusting the song ZOELEELA - Jewel - other  **********************\n",
      "Concatenating for segment 'chorus'\n",
      "Mashup loudness (before normalization): -14.350366577632265 LUFS\n",
      "Mashup normalized to -14.0 LUFS\n"
     ]
    },
    {
     "name": "stderr",
     "output_type": "stream",
     "text": [
      "/home/leami/myenv/lib/python3.12/site-packages/pyloudnorm/normalize.py:62: UserWarning: Possible clipped samples in output.\n",
      "  warnings.warn(\"Possible clipped samples in output.\")\n"
     ]
    },
    {
     "name": "stdout",
     "output_type": "stream",
     "text": [
      "Le fichier a été sauvegardé dans : Mashups/Short Hand - Certain Strangers_ZOELEELA - Jewel.mp3\n",
      "Song 1: The Cute Lepers - Young Hearts\n",
      "Song 2: Bam Bam - Hi-Q\n",
      " ********************** Adjusting the song Bam Bam - Hi-Q - bass  **********************\n",
      "Concatenating for segment 'intro'\n",
      "Concatenating for segment 'verse'\n",
      "Concatenating for segment 'chorus'\n",
      "Concatenating for segment 'verse'\n",
      "Concatenating for segment 'chorus'\n",
      "Concatenating for segment 'chorus'\n",
      "Concatenating for segment 'solo'\n",
      "Concatenating for segment 'chorus'\n",
      "Concatenating for segment 'chorus'\n",
      " ********************** Adjusting the song Bam Bam - Hi-Q - drums  **********************\n",
      "Concatenating for segment 'intro'\n",
      "Concatenating for segment 'verse'\n",
      "Concatenating for segment 'chorus'\n",
      "Concatenating for segment 'verse'\n",
      "Concatenating for segment 'chorus'\n",
      "Concatenating for segment 'chorus'\n",
      "Concatenating for segment 'solo'\n",
      "Concatenating for segment 'chorus'\n",
      "Concatenating for segment 'chorus'\n",
      " ********************** Adjusting the song Bam Bam - Hi-Q - other  **********************\n",
      "Concatenating for segment 'intro'\n",
      "Concatenating for segment 'verse'\n",
      "Concatenating for segment 'chorus'\n",
      "Concatenating for segment 'verse'\n",
      "Concatenating for segment 'chorus'\n",
      "Concatenating for segment 'chorus'\n",
      "Concatenating for segment 'solo'\n",
      "Concatenating for segment 'chorus'\n",
      "Concatenating for segment 'chorus'\n",
      "Mashup loudness (before normalization): -15.485757021826368 LUFS\n",
      "Mashup normalized to -14.0 LUFS\n"
     ]
    },
    {
     "name": "stderr",
     "output_type": "stream",
     "text": [
      "/home/leami/myenv/lib/python3.12/site-packages/pyloudnorm/normalize.py:62: UserWarning: Possible clipped samples in output.\n",
      "  warnings.warn(\"Possible clipped samples in output.\")\n"
     ]
    },
    {
     "name": "stdout",
     "output_type": "stream",
     "text": [
      "Le fichier a été sauvegardé dans : Mashups/The Cute Lepers - Young Hearts_Bam Bam - Hi-Q.mp3\n",
      "Song 1: The Cute Lepers - Young Hearts\n",
      "Song 2: Benji Cossa - New Flowers (Fast 4-track Version)\n",
      " ********************** Adjusting the song Benji Cossa - New Flowers (Fast 4-track Version) - bass  **********************\n",
      "Error fitting segment 'verse' to 72 beats: float division by zero\n",
      "Error fitting segment: verse at 0.0, Error: float division by zero\n",
      "Concatenating for segment 'chorus'\n",
      "Concatenating for segment 'verse'\n",
      "Concatenating for segment 'chorus'\n",
      "Concatenating for segment 'chorus'\n",
      "Concatenating for segment 'chorus'\n",
      " ********************** Adjusting the song Benji Cossa - New Flowers (Fast 4-track Version) - drums  **********************\n",
      "Error fitting segment 'verse' to 72 beats: float division by zero\n",
      "Error fitting segment: verse at 0.0, Error: float division by zero\n",
      "Concatenating for segment 'chorus'\n",
      "Concatenating for segment 'verse'\n",
      "Concatenating for segment 'chorus'\n",
      "Concatenating for segment 'chorus'\n",
      "Concatenating for segment 'chorus'\n",
      " ********************** Adjusting the song Benji Cossa - New Flowers (Fast 4-track Version) - other  **********************\n",
      "Error fitting segment 'verse' to 72 beats: float division by zero\n",
      "Error fitting segment: verse at 0.0, Error: float division by zero\n",
      "Concatenating for segment 'chorus'\n",
      "Concatenating for segment 'verse'\n",
      "Concatenating for segment 'chorus'\n",
      "Concatenating for segment 'chorus'\n",
      "Concatenating for segment 'chorus'\n",
      "Mashup loudness (before normalization): -14.043922654985057 LUFS\n",
      "Mashup normalized to -14.0 LUFS\n"
     ]
    },
    {
     "name": "stderr",
     "output_type": "stream",
     "text": [
      "/home/leami/myenv/lib/python3.12/site-packages/pyloudnorm/normalize.py:62: UserWarning: Possible clipped samples in output.\n",
      "  warnings.warn(\"Possible clipped samples in output.\")\n"
     ]
    },
    {
     "name": "stdout",
     "output_type": "stream",
     "text": [
      "Le fichier a été sauvegardé dans : Mashups/The Cute Lepers - Young Hearts_Benji Cossa - New Flowers (Fast 4-track Version).mp3\n",
      "Song 1: The Cute Lepers - Young Hearts\n",
      "Song 2: Bessie Smith - My Sweetie Went Away\n",
      " ********************** Adjusting the song Bessie Smith - My Sweetie Went Away - bass  **********************\n",
      "Concatenating for segment 'intro'\n",
      "Concatenating for segment 'chorus'\n",
      "Concatenating for segment 'verse'\n",
      "Concatenating for segment 'chorus'\n",
      "Concatenating for segment 'chorus'\n",
      " ********************** Adjusting the song Bessie Smith - My Sweetie Went Away - drums  **********************\n",
      "Concatenating for segment 'intro'\n",
      "Concatenating for segment 'chorus'\n",
      "Concatenating for segment 'verse'\n",
      "Concatenating for segment 'chorus'\n",
      "Concatenating for segment 'chorus'\n",
      " ********************** Adjusting the song Bessie Smith - My Sweetie Went Away - other  **********************\n",
      "Concatenating for segment 'intro'\n",
      "Concatenating for segment 'chorus'\n",
      "Concatenating for segment 'verse'\n",
      "Concatenating for segment 'chorus'\n",
      "Concatenating for segment 'chorus'\n",
      "Mashup loudness (before normalization): -16.817273588649822 LUFS\n",
      "Mashup normalized to -14.0 LUFS\n"
     ]
    },
    {
     "name": "stderr",
     "output_type": "stream",
     "text": [
      "/home/leami/myenv/lib/python3.12/site-packages/pyloudnorm/normalize.py:62: UserWarning: Possible clipped samples in output.\n",
      "  warnings.warn(\"Possible clipped samples in output.\")\n"
     ]
    },
    {
     "name": "stdout",
     "output_type": "stream",
     "text": [
      "Le fichier a été sauvegardé dans : Mashups/The Cute Lepers - Young Hearts_Bessie Smith - My Sweetie Went Away.mp3\n",
      "Song 1: The Cute Lepers - Young Hearts\n",
      "Song 2: David Rovics - We Just Want The World\n",
      " ********************** Adjusting the song David Rovics - We Just Want The World - bass  **********************\n",
      "Error fitting segment 'intro' to 46 beats: float division by zero\n",
      "Error fitting segment: intro at 0.0, Error: float division by zero\n",
      " ********************** Adjusting the song David Rovics - We Just Want The World - drums  **********************\n",
      "Error fitting segment 'intro' to 46 beats: float division by zero\n",
      "Error fitting segment: intro at 0.0, Error: float division by zero\n",
      " ********************** Adjusting the song David Rovics - We Just Want The World - other  **********************\n",
      "Error fitting segment 'intro' to 46 beats: float division by zero\n",
      "Error fitting segment: intro at 0.0, Error: float division by zero\n",
      "Mashup loudness (before normalization): -17.128120455310995 LUFS\n",
      "Mashup normalized to -14.0 LUFS\n"
     ]
    },
    {
     "name": "stderr",
     "output_type": "stream",
     "text": [
      "/home/leami/myenv/lib/python3.12/site-packages/pyloudnorm/normalize.py:62: UserWarning: Possible clipped samples in output.\n",
      "  warnings.warn(\"Possible clipped samples in output.\")\n"
     ]
    },
    {
     "name": "stdout",
     "output_type": "stream",
     "text": [
      "Le fichier a été sauvegardé dans : Mashups/The Cute Lepers - Young Hearts_David Rovics - We Just Want The World.mp3\n",
      "Song 1: The Cute Lepers - Young Hearts\n",
      "Song 2: deef - Ein sonniger Tag mit dir\n",
      " ********************** Adjusting the song deef - Ein sonniger Tag mit dir - bass  **********************\n",
      "Concatenating for segment 'chorus'\n",
      "Concatenating for segment 'chorus'\n",
      " ********************** Adjusting the song deef - Ein sonniger Tag mit dir - drums  **********************\n",
      "Concatenating for segment 'chorus'\n",
      "Concatenating for segment 'chorus'\n",
      " ********************** Adjusting the song deef - Ein sonniger Tag mit dir - other  **********************\n",
      "Concatenating for segment 'chorus'\n",
      "Concatenating for segment 'chorus'\n",
      "Mashup loudness (before normalization): -16.534443843519863 LUFS\n",
      "Mashup normalized to -14.0 LUFS\n"
     ]
    },
    {
     "name": "stderr",
     "output_type": "stream",
     "text": [
      "/home/leami/myenv/lib/python3.12/site-packages/pyloudnorm/normalize.py:62: UserWarning: Possible clipped samples in output.\n",
      "  warnings.warn(\"Possible clipped samples in output.\")\n"
     ]
    },
    {
     "name": "stdout",
     "output_type": "stream",
     "text": [
      "Le fichier a été sauvegardé dans : Mashups/The Cute Lepers - Young Hearts_deef - Ein sonniger Tag mit dir.mp3\n",
      "Song 1: The Cute Lepers - Young Hearts\n",
      "Song 2: Dragon Or Emperor - Part of Me Says\n",
      " ********************** Adjusting the song Dragon Or Emperor - Part of Me Says - bass  **********************\n",
      "Concatenating for segment 'intro'\n",
      "Concatenating for segment 'verse'\n",
      "Concatenating for segment 'verse'\n",
      "Concatenating for segment 'chorus'\n",
      "Concatenating for segment 'verse'\n",
      "Concatenating for segment 'chorus'\n",
      "Concatenating for segment 'chorus'\n",
      "Concatenating for segment 'chorus'\n",
      "Concatenating for segment 'chorus'\n",
      " ********************** Adjusting the song Dragon Or Emperor - Part of Me Says - drums  **********************\n",
      "Concatenating for segment 'intro'\n",
      "Concatenating for segment 'verse'\n",
      "Concatenating for segment 'verse'\n",
      "Concatenating for segment 'chorus'\n",
      "Concatenating for segment 'verse'\n",
      "Concatenating for segment 'chorus'\n",
      "Concatenating for segment 'chorus'\n",
      "Concatenating for segment 'chorus'\n",
      "Concatenating for segment 'chorus'\n",
      " ********************** Adjusting the song Dragon Or Emperor - Part of Me Says - other  **********************\n",
      "Concatenating for segment 'intro'\n",
      "Concatenating for segment 'verse'\n",
      "Concatenating for segment 'verse'\n",
      "Concatenating for segment 'chorus'\n",
      "Concatenating for segment 'verse'\n",
      "Concatenating for segment 'chorus'\n",
      "Concatenating for segment 'chorus'\n",
      "Concatenating for segment 'chorus'\n",
      "Concatenating for segment 'chorus'\n",
      "Mashup loudness (before normalization): -14.09597348399902 LUFS\n",
      "Mashup normalized to -14.0 LUFS\n"
     ]
    },
    {
     "name": "stderr",
     "output_type": "stream",
     "text": [
      "/home/leami/myenv/lib/python3.12/site-packages/pyloudnorm/normalize.py:62: UserWarning: Possible clipped samples in output.\n",
      "  warnings.warn(\"Possible clipped samples in output.\")\n"
     ]
    },
    {
     "name": "stdout",
     "output_type": "stream",
     "text": [
      "Le fichier a été sauvegardé dans : Mashups/The Cute Lepers - Young Hearts_Dragon Or Emperor - Part of Me Says.mp3\n",
      "Song 1: The Cute Lepers - Young Hearts\n",
      "Song 2: Grand Mal - Children of Light\n",
      " ********************** Adjusting the song Grand Mal - Children of Light - bass  **********************\n",
      "Concatenating for segment 'verse'\n",
      "Concatenating for segment 'verse'\n",
      "Concatenating for segment 'chorus'\n",
      "Concatenating for segment 'chorus'\n",
      "Concatenating for segment 'verse'\n",
      "Concatenating for segment 'chorus'\n",
      "Concatenating for segment 'chorus'\n",
      "Concatenating for segment 'chorus'\n",
      " ********************** Adjusting the song Grand Mal - Children of Light - drums  **********************\n",
      "Concatenating for segment 'verse'\n",
      "Concatenating for segment 'verse'\n",
      "Concatenating for segment 'chorus'\n",
      "Concatenating for segment 'chorus'\n",
      "Concatenating for segment 'verse'\n",
      "Concatenating for segment 'chorus'\n",
      "Concatenating for segment 'chorus'\n",
      "Concatenating for segment 'chorus'\n",
      " ********************** Adjusting the song Grand Mal - Children of Light - other  **********************\n",
      "Concatenating for segment 'verse'\n",
      "Concatenating for segment 'verse'\n",
      "Concatenating for segment 'chorus'\n",
      "Concatenating for segment 'chorus'\n",
      "Concatenating for segment 'verse'\n",
      "Concatenating for segment 'chorus'\n",
      "Concatenating for segment 'chorus'\n",
      "Concatenating for segment 'chorus'\n",
      "Mashup loudness (before normalization): -16.003430590984344 LUFS\n",
      "Mashup normalized to -14.0 LUFS\n"
     ]
    },
    {
     "name": "stderr",
     "output_type": "stream",
     "text": [
      "/home/leami/myenv/lib/python3.12/site-packages/pyloudnorm/normalize.py:62: UserWarning: Possible clipped samples in output.\n",
      "  warnings.warn(\"Possible clipped samples in output.\")\n"
     ]
    },
    {
     "name": "stdout",
     "output_type": "stream",
     "text": [
      "Le fichier a été sauvegardé dans : Mashups/The Cute Lepers - Young Hearts_Grand Mal - Children of Light.mp3\n",
      "Song 1: The Cute Lepers - Young Hearts\n",
      "Song 2: Home Blitz - Secret Wave\n",
      " ********************** Adjusting the song Home Blitz - Secret Wave - bass  **********************\n",
      "Concatenating for segment 'verse'\n",
      "Concatenating for segment 'chorus'\n",
      "Concatenating for segment 'verse'\n",
      "Concatenating for segment 'chorus'\n",
      "Concatenating for segment 'chorus'\n",
      " ********************** Adjusting the song Home Blitz - Secret Wave - drums  **********************\n",
      "Concatenating for segment 'verse'\n",
      "Concatenating for segment 'chorus'\n",
      "Concatenating for segment 'verse'\n",
      "Concatenating for segment 'chorus'\n",
      "Concatenating for segment 'chorus'\n",
      " ********************** Adjusting the song Home Blitz - Secret Wave - other  **********************\n",
      "Concatenating for segment 'verse'\n",
      "Concatenating for segment 'chorus'\n",
      "Concatenating for segment 'verse'\n",
      "Concatenating for segment 'chorus'\n",
      "Concatenating for segment 'chorus'\n",
      "Mashup loudness (before normalization): -15.347136265553955 LUFS\n",
      "Mashup normalized to -14.0 LUFS\n"
     ]
    },
    {
     "name": "stderr",
     "output_type": "stream",
     "text": [
      "/home/leami/myenv/lib/python3.12/site-packages/pyloudnorm/normalize.py:62: UserWarning: Possible clipped samples in output.\n",
      "  warnings.warn(\"Possible clipped samples in output.\")\n"
     ]
    },
    {
     "name": "stdout",
     "output_type": "stream",
     "text": [
      "Le fichier a été sauvegardé dans : Mashups/The Cute Lepers - Young Hearts_Home Blitz - Secret Wave.mp3\n",
      "Song 1: The Cute Lepers - Young Hearts\n",
      "Song 2: Josh Woodward - Cien Volando\n",
      " ********************** Adjusting the song Josh Woodward - Cien Volando - bass  **********************\n",
      "Concatenating for segment 'verse'\n",
      "Concatenating for segment 'chorus'\n",
      "Concatenating for segment 'chorus'\n",
      "Concatenating for segment 'verse'\n",
      "Concatenating for segment 'chorus'\n",
      "Concatenating for segment 'chorus'\n",
      "Concatenating for segment 'chorus'\n",
      "Concatenating for segment 'chorus'\n",
      " ********************** Adjusting the song Josh Woodward - Cien Volando - drums  **********************\n",
      "Concatenating for segment 'verse'\n",
      "Concatenating for segment 'chorus'\n",
      "Concatenating for segment 'chorus'\n",
      "Concatenating for segment 'verse'\n",
      "Concatenating for segment 'chorus'\n",
      "Concatenating for segment 'chorus'\n",
      "Concatenating for segment 'chorus'\n",
      "Concatenating for segment 'chorus'\n",
      " ********************** Adjusting the song Josh Woodward - Cien Volando - other  **********************\n",
      "Concatenating for segment 'verse'\n",
      "Concatenating for segment 'chorus'\n",
      "Concatenating for segment 'chorus'\n",
      "Concatenating for segment 'verse'\n",
      "Concatenating for segment 'chorus'\n",
      "Concatenating for segment 'chorus'\n",
      "Concatenating for segment 'chorus'\n",
      "Concatenating for segment 'chorus'\n",
      "Mashup loudness (before normalization): -16.271986205100642 LUFS\n",
      "Mashup normalized to -14.0 LUFS\n"
     ]
    },
    {
     "name": "stderr",
     "output_type": "stream",
     "text": [
      "/home/leami/myenv/lib/python3.12/site-packages/pyloudnorm/normalize.py:62: UserWarning: Possible clipped samples in output.\n",
      "  warnings.warn(\"Possible clipped samples in output.\")\n"
     ]
    },
    {
     "name": "stdout",
     "output_type": "stream",
     "text": [
      "Le fichier a été sauvegardé dans : Mashups/The Cute Lepers - Young Hearts_Josh Woodward - Cien Volando.mp3\n",
      "Song 1: The Cute Lepers - Young Hearts\n",
      "Song 2: Los Steaks - Sunday Girls\n",
      " ********************** Adjusting the song Los Steaks - Sunday Girls - bass  **********************\n",
      "Concatenating for segment 'chorus'\n",
      "Concatenating for segment 'solo'\n",
      "Concatenating for segment 'solo'\n",
      " ********************** Adjusting the song Los Steaks - Sunday Girls - drums  **********************\n",
      "Concatenating for segment 'chorus'\n",
      "Concatenating for segment 'solo'\n",
      "Concatenating for segment 'solo'\n",
      " ********************** Adjusting the song Los Steaks - Sunday Girls - other  **********************\n",
      "Concatenating for segment 'chorus'\n",
      "Concatenating for segment 'solo'\n",
      "Concatenating for segment 'solo'\n",
      "Mashup loudness (before normalization): -13.848538355851572 LUFS\n",
      "Mashup normalized to -14.0 LUFS\n"
     ]
    },
    {
     "name": "stderr",
     "output_type": "stream",
     "text": [
      "/home/leami/myenv/lib/python3.12/site-packages/pyloudnorm/normalize.py:62: UserWarning: Possible clipped samples in output.\n",
      "  warnings.warn(\"Possible clipped samples in output.\")\n"
     ]
    },
    {
     "name": "stdout",
     "output_type": "stream",
     "text": [
      "Le fichier a été sauvegardé dans : Mashups/The Cute Lepers - Young Hearts_Los Steaks - Sunday Girls.mp3\n",
      "Song 1: The Cute Lepers - Young Hearts\n",
      "Song 2: Mia Doi Todd - I gave you my home\n",
      " ********************** Adjusting the song Mia Doi Todd - I gave you my home - bass  **********************\n",
      " ********************** Adjusting the song Mia Doi Todd - I gave you my home - drums  **********************\n",
      " ********************** Adjusting the song Mia Doi Todd - I gave you my home - other  **********************\n",
      "Mashup loudness (before normalization): -16.437047981827785 LUFS\n",
      "Mashup normalized to -14.0 LUFS\n"
     ]
    },
    {
     "name": "stderr",
     "output_type": "stream",
     "text": [
      "/home/leami/myenv/lib/python3.12/site-packages/pyloudnorm/normalize.py:62: UserWarning: Possible clipped samples in output.\n",
      "  warnings.warn(\"Possible clipped samples in output.\")\n"
     ]
    },
    {
     "name": "stdout",
     "output_type": "stream",
     "text": [
      "Le fichier a été sauvegardé dans : Mashups/The Cute Lepers - Young Hearts_Mia Doi Todd - I gave you my home.mp3\n",
      "Song 1: The Cute Lepers - Young Hearts\n",
      "Song 2: Orange Peels - Grey Holiday\n",
      " ********************** Adjusting the song Orange Peels - Grey Holiday - bass  **********************\n",
      "Concatenating for segment 'verse'\n",
      "Concatenating for segment 'chorus'\n",
      "Concatenating for segment 'chorus'\n",
      "Concatenating for segment 'chorus'\n",
      "Concatenating for segment 'chorus'\n",
      "Concatenating for segment 'solo'\n",
      "Concatenating for segment 'solo'\n",
      "Concatenating for segment 'chorus'\n",
      "Concatenating for segment 'chorus'\n",
      " ********************** Adjusting the song Orange Peels - Grey Holiday - drums  **********************\n",
      "Concatenating for segment 'verse'\n",
      "Concatenating for segment 'chorus'\n",
      "Concatenating for segment 'chorus'\n",
      "Concatenating for segment 'chorus'\n",
      "Concatenating for segment 'chorus'\n",
      "Concatenating for segment 'solo'\n",
      "Concatenating for segment 'solo'\n",
      "Concatenating for segment 'chorus'\n",
      "Concatenating for segment 'chorus'\n",
      " ********************** Adjusting the song Orange Peels - Grey Holiday - other  **********************\n",
      "Concatenating for segment 'verse'\n",
      "Concatenating for segment 'chorus'\n",
      "Concatenating for segment 'chorus'\n",
      "Concatenating for segment 'chorus'\n",
      "Concatenating for segment 'chorus'\n",
      "Concatenating for segment 'solo'\n",
      "Concatenating for segment 'solo'\n",
      "Concatenating for segment 'chorus'\n",
      "Concatenating for segment 'chorus'\n",
      "Mashup loudness (before normalization): -16.461934332900586 LUFS\n",
      "Mashup normalized to -14.0 LUFS\n"
     ]
    },
    {
     "name": "stderr",
     "output_type": "stream",
     "text": [
      "/home/leami/myenv/lib/python3.12/site-packages/pyloudnorm/normalize.py:62: UserWarning: Possible clipped samples in output.\n",
      "  warnings.warn(\"Possible clipped samples in output.\")\n"
     ]
    },
    {
     "name": "stdout",
     "output_type": "stream",
     "text": [
      "Le fichier a été sauvegardé dans : Mashups/The Cute Lepers - Young Hearts_Orange Peels - Grey Holiday.mp3\n",
      "Song 1: The Cute Lepers - Young Hearts\n",
      "Song 2: Poland - Lying Machine\n",
      " ********************** Adjusting the song Poland - Lying Machine - bass  **********************\n",
      "Concatenating for segment 'intro'\n",
      "Concatenating for segment 'chorus'\n",
      "Concatenating for segment 'chorus'\n",
      "Concatenating for segment 'chorus'\n",
      " ********************** Adjusting the song Poland - Lying Machine - drums  **********************\n",
      "Concatenating for segment 'intro'\n",
      "Concatenating for segment 'chorus'\n",
      "Concatenating for segment 'chorus'\n",
      "Concatenating for segment 'chorus'\n",
      " ********************** Adjusting the song Poland - Lying Machine - other  **********************\n",
      "Concatenating for segment 'intro'\n",
      "Concatenating for segment 'chorus'\n",
      "Concatenating for segment 'chorus'\n",
      "Concatenating for segment 'chorus'\n",
      "Mashup loudness (before normalization): -15.735764053041548 LUFS\n",
      "Mashup normalized to -14.0 LUFS\n"
     ]
    },
    {
     "name": "stderr",
     "output_type": "stream",
     "text": [
      "/home/leami/myenv/lib/python3.12/site-packages/pyloudnorm/normalize.py:62: UserWarning: Possible clipped samples in output.\n",
      "  warnings.warn(\"Possible clipped samples in output.\")\n"
     ]
    },
    {
     "name": "stdout",
     "output_type": "stream",
     "text": [
      "Le fichier a été sauvegardé dans : Mashups/The Cute Lepers - Young Hearts_Poland - Lying Machine.mp3\n",
      "Song 1: The Cute Lepers - Young Hearts\n",
      "Song 2: Shearer - Itch\n",
      " ********************** Adjusting the song Shearer - Itch - bass  **********************\n",
      "Error fitting segment 'verse' to 72 beats: float division by zero\n",
      "Error fitting segment: verse at 0.0, Error: float division by zero\n",
      " ********************** Adjusting the song Shearer - Itch - drums  **********************\n",
      "Error fitting segment 'verse' to 72 beats: float division by zero\n",
      "Error fitting segment: verse at 0.0, Error: float division by zero\n",
      " ********************** Adjusting the song Shearer - Itch - other  **********************\n",
      "Error fitting segment 'verse' to 72 beats: float division by zero\n",
      "Error fitting segment: verse at 0.0, Error: float division by zero\n",
      "Mashup loudness (before normalization): -15.675350513040685 LUFS\n",
      "Mashup normalized to -14.0 LUFS\n"
     ]
    },
    {
     "name": "stderr",
     "output_type": "stream",
     "text": [
      "/home/leami/myenv/lib/python3.12/site-packages/pyloudnorm/normalize.py:62: UserWarning: Possible clipped samples in output.\n",
      "  warnings.warn(\"Possible clipped samples in output.\")\n"
     ]
    },
    {
     "name": "stdout",
     "output_type": "stream",
     "text": [
      "Le fichier a été sauvegardé dans : Mashups/The Cute Lepers - Young Hearts_Shearer - Itch.mp3\n",
      "Song 1: The Cute Lepers - Young Hearts\n",
      "Song 2: Short Hand - Certain Strangers\n",
      " ********************** Adjusting the song Short Hand - Certain Strangers - bass  **********************\n",
      "Concatenating for segment 'verse'\n",
      "Concatenating for segment 'chorus'\n",
      "Concatenating for segment 'chorus'\n",
      "Concatenating for segment 'chorus'\n",
      "Concatenating for segment 'chorus'\n",
      "Concatenating for segment 'chorus'\n",
      "Concatenating for segment 'chorus'\n",
      " ********************** Adjusting the song Short Hand - Certain Strangers - drums  **********************\n",
      "Concatenating for segment 'verse'\n",
      "Concatenating for segment 'chorus'\n",
      "Concatenating for segment 'chorus'\n",
      "Concatenating for segment 'chorus'\n",
      "Concatenating for segment 'chorus'\n",
      "Concatenating for segment 'chorus'\n",
      "Concatenating for segment 'chorus'\n",
      " ********************** Adjusting the song Short Hand - Certain Strangers - other  **********************\n",
      "Concatenating for segment 'verse'\n",
      "Concatenating for segment 'chorus'\n",
      "Concatenating for segment 'chorus'\n",
      "Concatenating for segment 'chorus'\n",
      "Concatenating for segment 'chorus'\n",
      "Concatenating for segment 'chorus'\n",
      "Concatenating for segment 'chorus'\n",
      "Mashup loudness (before normalization): -15.898854756532122 LUFS\n",
      "Mashup normalized to -14.0 LUFS\n"
     ]
    },
    {
     "name": "stderr",
     "output_type": "stream",
     "text": [
      "/home/leami/myenv/lib/python3.12/site-packages/pyloudnorm/normalize.py:62: UserWarning: Possible clipped samples in output.\n",
      "  warnings.warn(\"Possible clipped samples in output.\")\n"
     ]
    },
    {
     "name": "stdout",
     "output_type": "stream",
     "text": [
      "Le fichier a été sauvegardé dans : Mashups/The Cute Lepers - Young Hearts_Short Hand - Certain Strangers.mp3\n",
      "Song 1: The Cute Lepers - Young Hearts\n",
      "Song 2: The Embarrassment - Patio Set\n",
      " ********************** Adjusting the song The Embarrassment - Patio Set - bass  **********************\n",
      "Concatenating for segment 'chorus'\n",
      "Concatenating for segment 'verse'\n",
      "Concatenating for segment 'chorus'\n",
      "Concatenating for segment 'chorus'\n",
      "Concatenating for segment 'chorus'\n",
      "Concatenating for segment 'chorus'\n",
      " ********************** Adjusting the song The Embarrassment - Patio Set - drums  **********************\n",
      "Concatenating for segment 'chorus'\n",
      "Concatenating for segment 'verse'\n",
      "Concatenating for segment 'chorus'\n",
      "Concatenating for segment 'chorus'\n",
      "Concatenating for segment 'chorus'\n",
      "Concatenating for segment 'chorus'\n",
      " ********************** Adjusting the song The Embarrassment - Patio Set - other  **********************\n",
      "Concatenating for segment 'chorus'\n",
      "Concatenating for segment 'verse'\n",
      "Concatenating for segment 'chorus'\n",
      "Concatenating for segment 'chorus'\n",
      "Concatenating for segment 'chorus'\n",
      "Concatenating for segment 'chorus'\n",
      "Mashup loudness (before normalization): -16.787577879392202 LUFS\n",
      "Mashup normalized to -14.0 LUFS\n"
     ]
    },
    {
     "name": "stderr",
     "output_type": "stream",
     "text": [
      "/home/leami/myenv/lib/python3.12/site-packages/pyloudnorm/normalize.py:62: UserWarning: Possible clipped samples in output.\n",
      "  warnings.warn(\"Possible clipped samples in output.\")\n"
     ]
    },
    {
     "name": "stdout",
     "output_type": "stream",
     "text": [
      "Le fichier a été sauvegardé dans : Mashups/The Cute Lepers - Young Hearts_The Embarrassment - Patio Set.mp3\n",
      "Song 1: The Cute Lepers - Young Hearts\n",
      "Song 2: The J Arthur Keenes Band - The Boring World of Niels Bohr\n",
      " ********************** Adjusting the song The J Arthur Keenes Band - The Boring World of Niels Bohr - bass  **********************\n",
      "Concatenating for segment 'chorus'\n",
      "Concatenating for segment 'chorus'\n",
      "Concatenating for segment 'chorus'\n",
      "Concatenating for segment 'solo'\n",
      "Concatenating for segment 'solo'\n",
      "Concatenating for segment 'chorus'\n",
      "Concatenating for segment 'chorus'\n",
      " ********************** Adjusting the song The J Arthur Keenes Band - The Boring World of Niels Bohr - drums  **********************\n",
      "Concatenating for segment 'chorus'\n",
      "Concatenating for segment 'chorus'\n",
      "Concatenating for segment 'chorus'\n",
      "Concatenating for segment 'solo'\n",
      "Concatenating for segment 'solo'\n",
      "Concatenating for segment 'chorus'\n",
      "Concatenating for segment 'chorus'\n",
      " ********************** Adjusting the song The J Arthur Keenes Band - The Boring World of Niels Bohr - other  **********************\n",
      "Concatenating for segment 'chorus'\n",
      "Concatenating for segment 'chorus'\n",
      "Concatenating for segment 'chorus'\n",
      "Concatenating for segment 'solo'\n",
      "Concatenating for segment 'solo'\n",
      "Concatenating for segment 'chorus'\n",
      "Concatenating for segment 'chorus'\n",
      "Mashup loudness (before normalization): -15.707585223923571 LUFS\n",
      "Mashup normalized to -14.0 LUFS\n"
     ]
    },
    {
     "name": "stderr",
     "output_type": "stream",
     "text": [
      "/home/leami/myenv/lib/python3.12/site-packages/pyloudnorm/normalize.py:62: UserWarning: Possible clipped samples in output.\n",
      "  warnings.warn(\"Possible clipped samples in output.\")\n"
     ]
    },
    {
     "name": "stdout",
     "output_type": "stream",
     "text": [
      "Le fichier a été sauvegardé dans : Mashups/The Cute Lepers - Young Hearts_The J Arthur Keenes Band - The Boring World of Niels Bohr.mp3\n",
      "Song 1: The Cute Lepers - Young Hearts\n",
      "Song 2: The Oranges Band - Ride the Nuclear Wave\n",
      " ********************** Adjusting the song The Oranges Band - Ride the Nuclear Wave - bass  **********************\n",
      "Concatenating for segment 'verse'\n",
      "Concatenating for segment 'verse'\n",
      "Concatenating for segment 'chorus'\n",
      "Concatenating for segment 'verse'\n",
      "Concatenating for segment 'chorus'\n",
      "Concatenating for segment 'chorus'\n",
      "Concatenating for segment 'chorus'\n",
      " ********************** Adjusting the song The Oranges Band - Ride the Nuclear Wave - drums  **********************\n",
      "Concatenating for segment 'verse'\n",
      "Concatenating for segment 'verse'\n",
      "Concatenating for segment 'chorus'\n",
      "Concatenating for segment 'verse'\n",
      "Concatenating for segment 'chorus'\n",
      "Concatenating for segment 'chorus'\n",
      "Concatenating for segment 'chorus'\n",
      " ********************** Adjusting the song The Oranges Band - Ride the Nuclear Wave - other  **********************\n",
      "Concatenating for segment 'verse'\n",
      "Concatenating for segment 'verse'\n",
      "Concatenating for segment 'chorus'\n",
      "Concatenating for segment 'verse'\n",
      "Concatenating for segment 'chorus'\n",
      "Concatenating for segment 'chorus'\n",
      "Concatenating for segment 'chorus'\n",
      "Mashup loudness (before normalization): -15.379867551805805 LUFS\n",
      "Mashup normalized to -14.0 LUFS\n"
     ]
    },
    {
     "name": "stderr",
     "output_type": "stream",
     "text": [
      "/home/leami/myenv/lib/python3.12/site-packages/pyloudnorm/normalize.py:62: UserWarning: Possible clipped samples in output.\n",
      "  warnings.warn(\"Possible clipped samples in output.\")\n"
     ]
    },
    {
     "name": "stdout",
     "output_type": "stream",
     "text": [
      "Le fichier a été sauvegardé dans : Mashups/The Cute Lepers - Young Hearts_The Oranges Band - Ride the Nuclear Wave.mp3\n",
      "Song 1: The Cute Lepers - Young Hearts\n",
      "Song 2: Wann - Happy Birthday\n",
      " ********************** Adjusting the song Wann - Happy Birthday - bass  **********************\n",
      "Concatenating for segment 'intro'\n",
      "Concatenating for segment 'verse'\n",
      "Concatenating for segment 'chorus'\n",
      "Concatenating for segment 'chorus'\n",
      "Concatenating for segment 'verse'\n",
      "Concatenating for segment 'chorus'\n",
      "Concatenating for segment 'chorus'\n",
      "Concatenating for segment 'solo'\n",
      "Concatenating for segment 'solo'\n",
      "Concatenating for segment 'chorus'\n",
      "Concatenating for segment 'chorus'\n",
      " ********************** Adjusting the song Wann - Happy Birthday - drums  **********************\n",
      "Concatenating for segment 'intro'\n",
      "Concatenating for segment 'verse'\n",
      "Concatenating for segment 'chorus'\n",
      "Concatenating for segment 'chorus'\n",
      "Concatenating for segment 'verse'\n",
      "Concatenating for segment 'chorus'\n",
      "Concatenating for segment 'chorus'\n",
      "Concatenating for segment 'solo'\n",
      "Concatenating for segment 'solo'\n",
      "Concatenating for segment 'chorus'\n",
      "Concatenating for segment 'chorus'\n",
      " ********************** Adjusting the song Wann - Happy Birthday - other  **********************\n",
      "Concatenating for segment 'intro'\n",
      "Concatenating for segment 'verse'\n",
      "Concatenating for segment 'chorus'\n",
      "Concatenating for segment 'chorus'\n",
      "Concatenating for segment 'verse'\n",
      "Concatenating for segment 'chorus'\n",
      "Concatenating for segment 'chorus'\n",
      "Concatenating for segment 'solo'\n",
      "Concatenating for segment 'solo'\n",
      "Concatenating for segment 'chorus'\n",
      "Concatenating for segment 'chorus'\n",
      "Mashup loudness (before normalization): -14.930788571145971 LUFS\n",
      "Mashup normalized to -14.0 LUFS\n"
     ]
    },
    {
     "name": "stderr",
     "output_type": "stream",
     "text": [
      "/home/leami/myenv/lib/python3.12/site-packages/pyloudnorm/normalize.py:62: UserWarning: Possible clipped samples in output.\n",
      "  warnings.warn(\"Possible clipped samples in output.\")\n"
     ]
    },
    {
     "name": "stdout",
     "output_type": "stream",
     "text": [
      "Le fichier a été sauvegardé dans : Mashups/The Cute Lepers - Young Hearts_Wann - Happy Birthday.mp3\n",
      "Song 1: The Cute Lepers - Young Hearts\n",
      "Song 2: ZOELEELA - Jewel\n",
      " ********************** Adjusting the song ZOELEELA - Jewel - bass  **********************\n",
      "Concatenating for segment 'verse'\n",
      "Concatenating for segment 'chorus'\n",
      "Concatenating for segment 'chorus'\n",
      "Concatenating for segment 'chorus'\n",
      " ********************** Adjusting the song ZOELEELA - Jewel - drums  **********************\n",
      "Concatenating for segment 'verse'\n",
      "Concatenating for segment 'chorus'\n",
      "Concatenating for segment 'chorus'\n",
      "Concatenating for segment 'chorus'\n",
      " ********************** Adjusting the song ZOELEELA - Jewel - other  **********************\n",
      "Concatenating for segment 'verse'\n",
      "Concatenating for segment 'chorus'\n",
      "Concatenating for segment 'chorus'\n",
      "Concatenating for segment 'chorus'\n",
      "Mashup loudness (before normalization): -16.076354703788372 LUFS\n",
      "Mashup normalized to -14.0 LUFS\n"
     ]
    },
    {
     "name": "stderr",
     "output_type": "stream",
     "text": [
      "/home/leami/myenv/lib/python3.12/site-packages/pyloudnorm/normalize.py:62: UserWarning: Possible clipped samples in output.\n",
      "  warnings.warn(\"Possible clipped samples in output.\")\n"
     ]
    },
    {
     "name": "stdout",
     "output_type": "stream",
     "text": [
      "Le fichier a été sauvegardé dans : Mashups/The Cute Lepers - Young Hearts_ZOELEELA - Jewel.mp3\n",
      "Song 1: The Embarrassment - Patio Set\n",
      "Song 2: Bam Bam - Hi-Q\n",
      " ********************** Adjusting the song Bam Bam - Hi-Q - bass  **********************\n",
      "Concatenating for segment 'verse'\n",
      "Concatenating for segment 'verse'\n",
      "Concatenating for segment 'verse'\n",
      "Concatenating for segment 'verse'\n",
      "Concatenating for segment 'verse'\n",
      "Error fitting segment 'outro' to 16 beats: float division by zero\n",
      "Error fitting segment: outro at 172.22, Error: float division by zero\n",
      " ********************** Adjusting the song Bam Bam - Hi-Q - drums  **********************\n",
      "Concatenating for segment 'verse'\n",
      "Concatenating for segment 'verse'\n",
      "Concatenating for segment 'verse'\n",
      "Concatenating for segment 'verse'\n",
      "Concatenating for segment 'verse'\n",
      "Error fitting segment 'outro' to 16 beats: float division by zero\n",
      "Error fitting segment: outro at 172.22, Error: float division by zero\n",
      " ********************** Adjusting the song Bam Bam - Hi-Q - other  **********************\n",
      "Concatenating for segment 'verse'\n",
      "Concatenating for segment 'verse'\n",
      "Concatenating for segment 'verse'\n",
      "Concatenating for segment 'verse'\n",
      "Concatenating for segment 'verse'\n",
      "Error fitting segment 'outro' to 16 beats: float division by zero\n",
      "Error fitting segment: outro at 172.22, Error: float division by zero\n",
      "Mashup loudness (before normalization): -17.005856288917936 LUFS\n",
      "Mashup normalized to -14.0 LUFS\n"
     ]
    },
    {
     "name": "stderr",
     "output_type": "stream",
     "text": [
      "/home/leami/myenv/lib/python3.12/site-packages/pyloudnorm/normalize.py:62: UserWarning: Possible clipped samples in output.\n",
      "  warnings.warn(\"Possible clipped samples in output.\")\n"
     ]
    },
    {
     "name": "stdout",
     "output_type": "stream",
     "text": [
      "Le fichier a été sauvegardé dans : Mashups/The Embarrassment - Patio Set_Bam Bam - Hi-Q.mp3\n",
      "Song 1: The Embarrassment - Patio Set\n",
      "Song 2: Benji Cossa - New Flowers (Fast 4-track Version)\n",
      " ********************** Adjusting the song Benji Cossa - New Flowers (Fast 4-track Version) - bass  **********************\n",
      "Error fitting segment 'verse' to 80 beats: float division by zero\n",
      "Error fitting segment: verse at 0.0, Error: float division by zero\n",
      "Concatenating for segment 'verse'\n",
      "Concatenating for segment 'verse'\n",
      "Concatenating for segment 'verse'\n",
      "Concatenating for segment 'chorus'\n",
      " ********************** Adjusting the song Benji Cossa - New Flowers (Fast 4-track Version) - drums  **********************\n",
      "Error fitting segment 'verse' to 80 beats: float division by zero\n",
      "Error fitting segment: verse at 0.0, Error: float division by zero\n",
      "Concatenating for segment 'verse'\n",
      "Concatenating for segment 'verse'\n",
      "Concatenating for segment 'verse'\n",
      "Concatenating for segment 'chorus'\n",
      " ********************** Adjusting the song Benji Cossa - New Flowers (Fast 4-track Version) - other  **********************\n",
      "Error fitting segment 'verse' to 80 beats: float division by zero\n",
      "Error fitting segment: verse at 0.0, Error: float division by zero\n",
      "Concatenating for segment 'verse'\n",
      "Concatenating for segment 'verse'\n",
      "Concatenating for segment 'verse'\n",
      "Concatenating for segment 'chorus'\n",
      "Mashup loudness (before normalization): -14.278376958190895 LUFS\n",
      "Mashup normalized to -14.0 LUFS\n"
     ]
    },
    {
     "name": "stderr",
     "output_type": "stream",
     "text": [
      "/home/leami/myenv/lib/python3.12/site-packages/pyloudnorm/normalize.py:62: UserWarning: Possible clipped samples in output.\n",
      "  warnings.warn(\"Possible clipped samples in output.\")\n"
     ]
    },
    {
     "name": "stdout",
     "output_type": "stream",
     "text": [
      "Le fichier a été sauvegardé dans : Mashups/The Embarrassment - Patio Set_Benji Cossa - New Flowers (Fast 4-track Version).mp3\n",
      "Song 1: The Embarrassment - Patio Set\n",
      "Song 2: Bessie Smith - My Sweetie Went Away\n",
      " ********************** Adjusting the song Bessie Smith - My Sweetie Went Away - bass  **********************\n",
      "Concatenating for segment 'verse'\n",
      " ********************** Adjusting the song Bessie Smith - My Sweetie Went Away - drums  **********************\n",
      "Concatenating for segment 'verse'\n",
      " ********************** Adjusting the song Bessie Smith - My Sweetie Went Away - other  **********************\n",
      "Concatenating for segment 'verse'\n",
      "Mashup loudness (before normalization): -23.39659554631329 LUFS\n",
      "Mashup normalized to -14.0 LUFS\n"
     ]
    },
    {
     "name": "stderr",
     "output_type": "stream",
     "text": [
      "/home/leami/myenv/lib/python3.12/site-packages/pyloudnorm/normalize.py:62: UserWarning: Possible clipped samples in output.\n",
      "  warnings.warn(\"Possible clipped samples in output.\")\n"
     ]
    },
    {
     "name": "stdout",
     "output_type": "stream",
     "text": [
      "Le fichier a été sauvegardé dans : Mashups/The Embarrassment - Patio Set_Bessie Smith - My Sweetie Went Away.mp3\n",
      "Song 1: The Embarrassment - Patio Set\n",
      "Song 2: David Rovics - We Just Want The World\n",
      " ********************** Adjusting the song David Rovics - We Just Want The World - bass  **********************\n",
      "Concatenating for segment 'verse'\n",
      " ********************** Adjusting the song David Rovics - We Just Want The World - drums  **********************\n",
      "Concatenating for segment 'verse'\n",
      " ********************** Adjusting the song David Rovics - We Just Want The World - other  **********************\n",
      "Concatenating for segment 'verse'\n",
      "Mashup loudness (before normalization): -21.212799209482267 LUFS\n",
      "Mashup normalized to -14.0 LUFS\n"
     ]
    },
    {
     "name": "stderr",
     "output_type": "stream",
     "text": [
      "/home/leami/myenv/lib/python3.12/site-packages/pyloudnorm/normalize.py:62: UserWarning: Possible clipped samples in output.\n",
      "  warnings.warn(\"Possible clipped samples in output.\")\n"
     ]
    },
    {
     "name": "stdout",
     "output_type": "stream",
     "text": [
      "Le fichier a été sauvegardé dans : Mashups/The Embarrassment - Patio Set_David Rovics - We Just Want The World.mp3\n",
      "Song 1: The Embarrassment - Patio Set\n",
      "Song 2: deef - Ein sonniger Tag mit dir\n",
      " ********************** Adjusting the song deef - Ein sonniger Tag mit dir - bass  **********************\n",
      " ********************** Adjusting the song deef - Ein sonniger Tag mit dir - drums  **********************\n",
      " ********************** Adjusting the song deef - Ein sonniger Tag mit dir - other  **********************\n",
      "Mashup loudness (before normalization): -21.10429234764751 LUFS\n",
      "Mashup normalized to -14.0 LUFS\n"
     ]
    },
    {
     "name": "stderr",
     "output_type": "stream",
     "text": [
      "/home/leami/myenv/lib/python3.12/site-packages/pyloudnorm/normalize.py:62: UserWarning: Possible clipped samples in output.\n",
      "  warnings.warn(\"Possible clipped samples in output.\")\n"
     ]
    },
    {
     "name": "stdout",
     "output_type": "stream",
     "text": [
      "Le fichier a été sauvegardé dans : Mashups/The Embarrassment - Patio Set_deef - Ein sonniger Tag mit dir.mp3\n",
      "Song 1: The Embarrassment - Patio Set\n",
      "Song 2: Dragon Or Emperor - Part of Me Says\n",
      " ********************** Adjusting the song Dragon Or Emperor - Part of Me Says - bass  **********************\n",
      "Concatenating for segment 'verse'\n",
      "Concatenating for segment 'verse'\n",
      "Concatenating for segment 'verse'\n",
      "Concatenating for segment 'verse'\n",
      "Concatenating for segment 'inst'\n",
      "Concatenating for segment 'verse'\n",
      "Concatenating for segment 'verse'\n",
      "Error fitting segment 'outro' to 16 beats: float division by zero\n",
      "Error fitting segment: outro at 187.02, Error: float division by zero\n",
      " ********************** Adjusting the song Dragon Or Emperor - Part of Me Says - drums  **********************\n",
      "Concatenating for segment 'verse'\n",
      "Concatenating for segment 'verse'\n",
      "Concatenating for segment 'verse'\n",
      "Concatenating for segment 'verse'\n",
      "Concatenating for segment 'inst'\n",
      "Concatenating for segment 'verse'\n",
      "Concatenating for segment 'verse'\n",
      "Error fitting segment 'outro' to 16 beats: float division by zero\n",
      "Error fitting segment: outro at 187.02, Error: float division by zero\n",
      " ********************** Adjusting the song Dragon Or Emperor - Part of Me Says - other  **********************\n",
      "Concatenating for segment 'verse'\n",
      "Concatenating for segment 'verse'\n",
      "Concatenating for segment 'verse'\n",
      "Concatenating for segment 'verse'\n",
      "Concatenating for segment 'inst'\n",
      "Concatenating for segment 'verse'\n",
      "Concatenating for segment 'verse'\n",
      "Error fitting segment 'outro' to 16 beats: float division by zero\n",
      "Error fitting segment: outro at 187.02, Error: float division by zero\n",
      "Mashup loudness (before normalization): -14.760254607994487 LUFS\n",
      "Mashup normalized to -14.0 LUFS\n"
     ]
    },
    {
     "name": "stderr",
     "output_type": "stream",
     "text": [
      "/home/leami/myenv/lib/python3.12/site-packages/pyloudnorm/normalize.py:62: UserWarning: Possible clipped samples in output.\n",
      "  warnings.warn(\"Possible clipped samples in output.\")\n"
     ]
    },
    {
     "name": "stdout",
     "output_type": "stream",
     "text": [
      "Le fichier a été sauvegardé dans : Mashups/The Embarrassment - Patio Set_Dragon Or Emperor - Part of Me Says.mp3\n",
      "Song 1: The Embarrassment - Patio Set\n",
      "Song 2: Grand Mal - Children of Light\n",
      " ********************** Adjusting the song Grand Mal - Children of Light - bass  **********************\n",
      "Concatenating for segment 'verse'\n",
      "Concatenating for segment 'verse'\n",
      "Concatenating for segment 'verse'\n",
      "Concatenating for segment 'verse'\n",
      "Concatenating for segment 'verse'\n",
      "Concatenating for segment 'verse'\n",
      "Concatenating for segment 'chorus'\n",
      "Concatenating for segment 'outro'\n",
      "Concatenating for segment 'outro'\n",
      "Concatenating for segment 'outro'\n",
      " ********************** Adjusting the song Grand Mal - Children of Light - drums  **********************\n",
      "Concatenating for segment 'verse'\n",
      "Concatenating for segment 'verse'\n",
      "Concatenating for segment 'verse'\n",
      "Concatenating for segment 'verse'\n",
      "Concatenating for segment 'verse'\n",
      "Concatenating for segment 'verse'\n",
      "Concatenating for segment 'chorus'\n",
      "Concatenating for segment 'outro'\n",
      "Concatenating for segment 'outro'\n",
      "Concatenating for segment 'outro'\n",
      " ********************** Adjusting the song Grand Mal - Children of Light - other  **********************\n",
      "Concatenating for segment 'verse'\n",
      "Concatenating for segment 'verse'\n",
      "Concatenating for segment 'verse'\n",
      "Concatenating for segment 'verse'\n",
      "Concatenating for segment 'verse'\n",
      "Concatenating for segment 'verse'\n",
      "Concatenating for segment 'chorus'\n",
      "Concatenating for segment 'outro'\n",
      "Concatenating for segment 'outro'\n",
      "Concatenating for segment 'outro'\n",
      "Mashup loudness (before normalization): -18.059668636246748 LUFS\n",
      "Mashup normalized to -14.0 LUFS\n"
     ]
    },
    {
     "name": "stderr",
     "output_type": "stream",
     "text": [
      "/home/leami/myenv/lib/python3.12/site-packages/pyloudnorm/normalize.py:62: UserWarning: Possible clipped samples in output.\n",
      "  warnings.warn(\"Possible clipped samples in output.\")\n"
     ]
    },
    {
     "name": "stdout",
     "output_type": "stream",
     "text": [
      "Le fichier a été sauvegardé dans : Mashups/The Embarrassment - Patio Set_Grand Mal - Children of Light.mp3\n",
      "Song 1: The Embarrassment - Patio Set\n",
      "Song 2: Home Blitz - Secret Wave\n",
      " ********************** Adjusting the song Home Blitz - Secret Wave - bass  **********************\n",
      "Concatenating for segment 'verse'\n",
      "Concatenating for segment 'verse'\n",
      " ********************** Adjusting the song Home Blitz - Secret Wave - drums  **********************\n",
      "Concatenating for segment 'verse'\n",
      "Concatenating for segment 'verse'\n",
      " ********************** Adjusting the song Home Blitz - Secret Wave - other  **********************\n",
      "Concatenating for segment 'verse'\n",
      "Concatenating for segment 'verse'\n",
      "Mashup loudness (before normalization): -18.316311879117485 LUFS\n",
      "Mashup normalized to -14.0 LUFS\n"
     ]
    },
    {
     "name": "stderr",
     "output_type": "stream",
     "text": [
      "/home/leami/myenv/lib/python3.12/site-packages/pyloudnorm/normalize.py:62: UserWarning: Possible clipped samples in output.\n",
      "  warnings.warn(\"Possible clipped samples in output.\")\n"
     ]
    },
    {
     "name": "stdout",
     "output_type": "stream",
     "text": [
      "Le fichier a été sauvegardé dans : Mashups/The Embarrassment - Patio Set_Home Blitz - Secret Wave.mp3\n",
      "Song 1: The Embarrassment - Patio Set\n",
      "Song 2: Josh Woodward - Cien Volando\n",
      " ********************** Adjusting the song Josh Woodward - Cien Volando - bass  **********************\n",
      "Concatenating for segment 'verse'\n",
      "Concatenating for segment 'verse'\n",
      "Concatenating for segment 'verse'\n",
      "Concatenating for segment 'verse'\n",
      "Concatenating for segment 'verse'\n",
      "Concatenating for segment 'verse'\n",
      "Concatenating for segment 'inst'\n",
      "Concatenating for segment 'verse'\n",
      "Concatenating for segment 'verse'\n",
      "Concatenating for segment 'chorus'\n",
      " ********************** Adjusting the song Josh Woodward - Cien Volando - drums  **********************\n",
      "Concatenating for segment 'verse'\n",
      "Concatenating for segment 'verse'\n",
      "Concatenating for segment 'verse'\n",
      "Concatenating for segment 'verse'\n",
      "Concatenating for segment 'verse'\n",
      "Concatenating for segment 'verse'\n",
      "Concatenating for segment 'inst'\n",
      "Concatenating for segment 'verse'\n",
      "Concatenating for segment 'verse'\n",
      "Concatenating for segment 'chorus'\n",
      " ********************** Adjusting the song Josh Woodward - Cien Volando - other  **********************\n",
      "Concatenating for segment 'verse'\n",
      "Concatenating for segment 'verse'\n",
      "Concatenating for segment 'verse'\n",
      "Concatenating for segment 'verse'\n",
      "Concatenating for segment 'verse'\n",
      "Concatenating for segment 'verse'\n",
      "Concatenating for segment 'inst'\n",
      "Concatenating for segment 'verse'\n",
      "Concatenating for segment 'verse'\n",
      "Concatenating for segment 'chorus'\n",
      "Mashup loudness (before normalization): -21.737575415054334 LUFS\n",
      "Mashup normalized to -14.0 LUFS\n"
     ]
    },
    {
     "name": "stderr",
     "output_type": "stream",
     "text": [
      "/home/leami/myenv/lib/python3.12/site-packages/pyloudnorm/normalize.py:62: UserWarning: Possible clipped samples in output.\n",
      "  warnings.warn(\"Possible clipped samples in output.\")\n"
     ]
    },
    {
     "name": "stdout",
     "output_type": "stream",
     "text": [
      "Le fichier a été sauvegardé dans : Mashups/The Embarrassment - Patio Set_Josh Woodward - Cien Volando.mp3\n",
      "Song 1: The Embarrassment - Patio Set\n",
      "Song 2: Los Steaks - Sunday Girls\n",
      " ********************** Adjusting the song Los Steaks - Sunday Girls - bass  **********************\n",
      " ********************** Adjusting the song Los Steaks - Sunday Girls - drums  **********************\n",
      " ********************** Adjusting the song Los Steaks - Sunday Girls - other  **********************\n",
      "Mashup loudness (before normalization): -14.050997387812966 LUFS\n",
      "Mashup normalized to -14.0 LUFS\n"
     ]
    },
    {
     "name": "stderr",
     "output_type": "stream",
     "text": [
      "/home/leami/myenv/lib/python3.12/site-packages/pyloudnorm/normalize.py:62: UserWarning: Possible clipped samples in output.\n",
      "  warnings.warn(\"Possible clipped samples in output.\")\n"
     ]
    },
    {
     "name": "stdout",
     "output_type": "stream",
     "text": [
      "Le fichier a été sauvegardé dans : Mashups/The Embarrassment - Patio Set_Los Steaks - Sunday Girls.mp3\n",
      "Song 1: The Embarrassment - Patio Set\n",
      "Song 2: Mia Doi Todd - I gave you my home\n",
      " ********************** Adjusting the song Mia Doi Todd - I gave you my home - bass  **********************\n",
      "Concatenating for segment 'verse'\n",
      "Concatenating for segment 'verse'\n",
      "Concatenating for segment 'verse'\n",
      " ********************** Adjusting the song Mia Doi Todd - I gave you my home - drums  **********************\n",
      "Concatenating for segment 'verse'\n",
      "Concatenating for segment 'verse'\n",
      "Concatenating for segment 'verse'\n",
      " ********************** Adjusting the song Mia Doi Todd - I gave you my home - other  **********************\n",
      "Concatenating for segment 'verse'\n",
      "Concatenating for segment 'verse'\n",
      "Concatenating for segment 'verse'\n",
      "Mashup loudness (before normalization): -23.672205794635904 LUFS\n",
      "Mashup normalized to -14.0 LUFS\n"
     ]
    },
    {
     "name": "stderr",
     "output_type": "stream",
     "text": [
      "/home/leami/myenv/lib/python3.12/site-packages/pyloudnorm/normalize.py:62: UserWarning: Possible clipped samples in output.\n",
      "  warnings.warn(\"Possible clipped samples in output.\")\n"
     ]
    },
    {
     "name": "stdout",
     "output_type": "stream",
     "text": [
      "Le fichier a été sauvegardé dans : Mashups/The Embarrassment - Patio Set_Mia Doi Todd - I gave you my home.mp3\n",
      "Song 1: The Embarrassment - Patio Set\n",
      "Song 2: Orange Peels - Grey Holiday\n",
      " ********************** Adjusting the song Orange Peels - Grey Holiday - bass  **********************\n",
      "Concatenating for segment 'verse'\n",
      "Concatenating for segment 'verse'\n",
      "Concatenating for segment 'verse'\n",
      "Concatenating for segment 'verse'\n",
      "Concatenating for segment 'verse'\n",
      "Concatenating for segment 'verse'\n",
      "Concatenating for segment 'chorus'\n",
      " ********************** Adjusting the song Orange Peels - Grey Holiday - drums  **********************\n",
      "Concatenating for segment 'verse'\n",
      "Concatenating for segment 'verse'\n",
      "Concatenating for segment 'verse'\n",
      "Concatenating for segment 'verse'\n",
      "Concatenating for segment 'verse'\n",
      "Concatenating for segment 'verse'\n",
      "Concatenating for segment 'chorus'\n",
      " ********************** Adjusting the song Orange Peels - Grey Holiday - other  **********************\n",
      "Concatenating for segment 'verse'\n",
      "Concatenating for segment 'verse'\n",
      "Concatenating for segment 'verse'\n",
      "Concatenating for segment 'verse'\n",
      "Concatenating for segment 'verse'\n",
      "Concatenating for segment 'verse'\n",
      "Concatenating for segment 'chorus'\n",
      "Mashup loudness (before normalization): -21.691106807197762 LUFS\n",
      "Mashup normalized to -14.0 LUFS\n"
     ]
    },
    {
     "name": "stderr",
     "output_type": "stream",
     "text": [
      "/home/leami/myenv/lib/python3.12/site-packages/pyloudnorm/normalize.py:62: UserWarning: Possible clipped samples in output.\n",
      "  warnings.warn(\"Possible clipped samples in output.\")\n"
     ]
    },
    {
     "name": "stdout",
     "output_type": "stream",
     "text": [
      "Le fichier a été sauvegardé dans : Mashups/The Embarrassment - Patio Set_Orange Peels - Grey Holiday.mp3\n",
      "Song 1: The Embarrassment - Patio Set\n",
      "Song 2: Poland - Lying Machine\n",
      " ********************** Adjusting the song Poland - Lying Machine - bass  **********************\n",
      "Concatenating for segment 'verse'\n",
      "Concatenating for segment 'verse'\n",
      "Concatenating for segment 'verse'\n",
      "Concatenating for segment 'inst'\n",
      "Concatenating for segment 'inst'\n",
      "Concatenating for segment 'verse'\n",
      "Concatenating for segment 'chorus'\n",
      " ********************** Adjusting the song Poland - Lying Machine - drums  **********************\n",
      "Concatenating for segment 'verse'\n",
      "Concatenating for segment 'verse'\n",
      "Concatenating for segment 'verse'\n",
      "Concatenating for segment 'inst'\n",
      "Concatenating for segment 'inst'\n",
      "Concatenating for segment 'verse'\n",
      "Concatenating for segment 'chorus'\n",
      " ********************** Adjusting the song Poland - Lying Machine - other  **********************\n",
      "Concatenating for segment 'verse'\n",
      "Concatenating for segment 'verse'\n",
      "Concatenating for segment 'verse'\n",
      "Concatenating for segment 'inst'\n",
      "Concatenating for segment 'inst'\n",
      "Concatenating for segment 'verse'\n",
      "Concatenating for segment 'chorus'\n",
      "Mashup loudness (before normalization): -18.1551675455906 LUFS\n",
      "Mashup normalized to -14.0 LUFS\n"
     ]
    },
    {
     "name": "stderr",
     "output_type": "stream",
     "text": [
      "/home/leami/myenv/lib/python3.12/site-packages/pyloudnorm/normalize.py:62: UserWarning: Possible clipped samples in output.\n",
      "  warnings.warn(\"Possible clipped samples in output.\")\n"
     ]
    },
    {
     "name": "stdout",
     "output_type": "stream",
     "text": [
      "Le fichier a été sauvegardé dans : Mashups/The Embarrassment - Patio Set_Poland - Lying Machine.mp3\n",
      "Song 1: The Embarrassment - Patio Set\n",
      "Song 2: Shearer - Itch\n",
      " ********************** Adjusting the song Shearer - Itch - bass  **********************\n",
      "Error fitting segment 'verse' to 80 beats: float division by zero\n",
      "Error fitting segment: verse at 0.0, Error: float division by zero\n",
      "Concatenating for segment 'verse'\n",
      "Concatenating for segment 'verse'\n",
      " ********************** Adjusting the song Shearer - Itch - drums  **********************\n",
      "Error fitting segment 'verse' to 80 beats: float division by zero\n",
      "Error fitting segment: verse at 0.0, Error: float division by zero\n",
      "Concatenating for segment 'verse'\n",
      "Concatenating for segment 'verse'\n",
      " ********************** Adjusting the song Shearer - Itch - other  **********************\n",
      "Error fitting segment 'verse' to 80 beats: float division by zero\n",
      "Error fitting segment: verse at 0.0, Error: float division by zero\n",
      "Concatenating for segment 'verse'\n",
      "Concatenating for segment 'verse'\n",
      "Mashup loudness (before normalization): -19.747412301752142 LUFS\n",
      "Mashup normalized to -14.0 LUFS\n"
     ]
    },
    {
     "name": "stderr",
     "output_type": "stream",
     "text": [
      "/home/leami/myenv/lib/python3.12/site-packages/pyloudnorm/normalize.py:62: UserWarning: Possible clipped samples in output.\n",
      "  warnings.warn(\"Possible clipped samples in output.\")\n"
     ]
    },
    {
     "name": "stdout",
     "output_type": "stream",
     "text": [
      "Le fichier a été sauvegardé dans : Mashups/The Embarrassment - Patio Set_Shearer - Itch.mp3\n",
      "Song 1: The Embarrassment - Patio Set\n",
      "Song 2: Short Hand - Certain Strangers\n",
      " ********************** Adjusting the song Short Hand - Certain Strangers - bass  **********************\n",
      "Concatenating for segment 'verse'\n",
      "Concatenating for segment 'verse'\n",
      "Concatenating for segment 'chorus'\n",
      " ********************** Adjusting the song Short Hand - Certain Strangers - drums  **********************\n",
      "Concatenating for segment 'verse'\n",
      "Concatenating for segment 'verse'\n",
      "Concatenating for segment 'chorus'\n",
      " ********************** Adjusting the song Short Hand - Certain Strangers - other  **********************\n",
      "Concatenating for segment 'verse'\n",
      "Concatenating for segment 'verse'\n",
      "Concatenating for segment 'chorus'\n",
      "Mashup loudness (before normalization): -19.232599023578484 LUFS\n",
      "Mashup normalized to -14.0 LUFS\n"
     ]
    },
    {
     "name": "stderr",
     "output_type": "stream",
     "text": [
      "/home/leami/myenv/lib/python3.12/site-packages/pyloudnorm/normalize.py:62: UserWarning: Possible clipped samples in output.\n",
      "  warnings.warn(\"Possible clipped samples in output.\")\n"
     ]
    },
    {
     "name": "stdout",
     "output_type": "stream",
     "text": [
      "Le fichier a été sauvegardé dans : Mashups/The Embarrassment - Patio Set_Short Hand - Certain Strangers.mp3\n",
      "Song 1: The Embarrassment - Patio Set\n",
      "Song 2: The Cute Lepers - Young Hearts\n",
      " ********************** Adjusting the song The Cute Lepers - Young Hearts - bass  **********************\n",
      "Concatenating for segment 'verse'\n",
      "Concatenating for segment 'verse'\n",
      " ********************** Adjusting the song The Cute Lepers - Young Hearts - drums  **********************\n",
      "Concatenating for segment 'verse'\n",
      "Concatenating for segment 'verse'\n",
      " ********************** Adjusting the song The Cute Lepers - Young Hearts - other  **********************\n",
      "Concatenating for segment 'verse'\n",
      "Concatenating for segment 'verse'\n",
      "Mashup loudness (before normalization): -17.69423251453493 LUFS\n",
      "Mashup normalized to -14.0 LUFS\n"
     ]
    },
    {
     "name": "stderr",
     "output_type": "stream",
     "text": [
      "/home/leami/myenv/lib/python3.12/site-packages/pyloudnorm/normalize.py:62: UserWarning: Possible clipped samples in output.\n",
      "  warnings.warn(\"Possible clipped samples in output.\")\n"
     ]
    },
    {
     "name": "stdout",
     "output_type": "stream",
     "text": [
      "Le fichier a été sauvegardé dans : Mashups/The Embarrassment - Patio Set_The Cute Lepers - Young Hearts.mp3\n",
      "Song 1: The Embarrassment - Patio Set\n",
      "Song 2: The J Arthur Keenes Band - The Boring World of Niels Bohr\n",
      " ********************** Adjusting the song The J Arthur Keenes Band - The Boring World of Niels Bohr - bass  **********************\n",
      "Concatenating for segment 'inst'\n",
      " ********************** Adjusting the song The J Arthur Keenes Band - The Boring World of Niels Bohr - drums  **********************\n",
      "Concatenating for segment 'inst'\n",
      " ********************** Adjusting the song The J Arthur Keenes Band - The Boring World of Niels Bohr - other  **********************\n",
      "Concatenating for segment 'inst'\n",
      "Mashup loudness (before normalization): -18.117864914334078 LUFS\n",
      "Mashup normalized to -14.0 LUFS\n"
     ]
    },
    {
     "name": "stderr",
     "output_type": "stream",
     "text": [
      "/home/leami/myenv/lib/python3.12/site-packages/pyloudnorm/normalize.py:62: UserWarning: Possible clipped samples in output.\n",
      "  warnings.warn(\"Possible clipped samples in output.\")\n"
     ]
    },
    {
     "name": "stdout",
     "output_type": "stream",
     "text": [
      "Le fichier a été sauvegardé dans : Mashups/The Embarrassment - Patio Set_The J Arthur Keenes Band - The Boring World of Niels Bohr.mp3\n",
      "Song 1: The Embarrassment - Patio Set\n",
      "Song 2: The Oranges Band - Ride the Nuclear Wave\n",
      " ********************** Adjusting the song The Oranges Band - Ride the Nuclear Wave - bass  **********************\n",
      "Concatenating for segment 'verse'\n",
      "Concatenating for segment 'verse'\n",
      "Concatenating for segment 'verse'\n",
      "Concatenating for segment 'verse'\n",
      "Concatenating for segment 'verse'\n",
      "Concatenating for segment 'verse'\n",
      " ********************** Adjusting the song The Oranges Band - Ride the Nuclear Wave - drums  **********************\n",
      "Concatenating for segment 'verse'\n",
      "Concatenating for segment 'verse'\n",
      "Concatenating for segment 'verse'\n",
      "Concatenating for segment 'verse'\n",
      "Concatenating for segment 'verse'\n",
      "Concatenating for segment 'verse'\n",
      " ********************** Adjusting the song The Oranges Band - Ride the Nuclear Wave - other  **********************\n",
      "Concatenating for segment 'verse'\n",
      "Concatenating for segment 'verse'\n",
      "Concatenating for segment 'verse'\n",
      "Concatenating for segment 'verse'\n",
      "Concatenating for segment 'verse'\n",
      "Concatenating for segment 'verse'\n",
      "Mashup loudness (before normalization): -16.69218170762358 LUFS\n",
      "Mashup normalized to -14.0 LUFS\n"
     ]
    },
    {
     "name": "stderr",
     "output_type": "stream",
     "text": [
      "/home/leami/myenv/lib/python3.12/site-packages/pyloudnorm/normalize.py:62: UserWarning: Possible clipped samples in output.\n",
      "  warnings.warn(\"Possible clipped samples in output.\")\n"
     ]
    },
    {
     "name": "stdout",
     "output_type": "stream",
     "text": [
      "Le fichier a été sauvegardé dans : Mashups/The Embarrassment - Patio Set_The Oranges Band - Ride the Nuclear Wave.mp3\n",
      "Song 1: The Embarrassment - Patio Set\n",
      "Song 2: Wann - Happy Birthday\n",
      " ********************** Adjusting the song Wann - Happy Birthday - bass  **********************\n",
      "Concatenating for segment 'verse'\n",
      "Concatenating for segment 'verse'\n",
      "Concatenating for segment 'inst'\n",
      "Concatenating for segment 'verse'\n",
      "Concatenating for segment 'chorus'\n",
      "Concatenating for segment 'chorus'\n",
      "Error fitting segment 'outro' to 16 beats: float division by zero\n",
      "Error fitting segment: outro at 178.24, Error: float division by zero\n",
      " ********************** Adjusting the song Wann - Happy Birthday - drums  **********************\n",
      "Concatenating for segment 'verse'\n",
      "Concatenating for segment 'verse'\n",
      "Concatenating for segment 'inst'\n",
      "Concatenating for segment 'verse'\n",
      "Concatenating for segment 'chorus'\n",
      "Concatenating for segment 'chorus'\n",
      "Error fitting segment 'outro' to 16 beats: float division by zero\n",
      "Error fitting segment: outro at 178.24, Error: float division by zero\n",
      " ********************** Adjusting the song Wann - Happy Birthday - other  **********************\n",
      "Concatenating for segment 'verse'\n",
      "Concatenating for segment 'verse'\n",
      "Concatenating for segment 'inst'\n",
      "Concatenating for segment 'verse'\n",
      "Concatenating for segment 'chorus'\n",
      "Concatenating for segment 'chorus'\n",
      "Error fitting segment 'outro' to 16 beats: float division by zero\n",
      "Error fitting segment: outro at 178.24, Error: float division by zero\n",
      "Mashup loudness (before normalization): -19.541839290755707 LUFS\n",
      "Mashup normalized to -14.0 LUFS\n"
     ]
    },
    {
     "name": "stderr",
     "output_type": "stream",
     "text": [
      "/home/leami/myenv/lib/python3.12/site-packages/pyloudnorm/normalize.py:62: UserWarning: Possible clipped samples in output.\n",
      "  warnings.warn(\"Possible clipped samples in output.\")\n"
     ]
    },
    {
     "name": "stdout",
     "output_type": "stream",
     "text": [
      "Le fichier a été sauvegardé dans : Mashups/The Embarrassment - Patio Set_Wann - Happy Birthday.mp3\n",
      "Song 1: The Embarrassment - Patio Set\n",
      "Song 2: ZOELEELA - Jewel\n",
      " ********************** Adjusting the song ZOELEELA - Jewel - bass  **********************\n",
      "Concatenating for segment 'verse'\n",
      "Concatenating for segment 'inst'\n",
      "Concatenating for segment 'verse'\n",
      "Concatenating for segment 'chorus'\n",
      " ********************** Adjusting the song ZOELEELA - Jewel - drums  **********************\n",
      "Concatenating for segment 'verse'\n",
      "Concatenating for segment 'inst'\n",
      "Concatenating for segment 'verse'\n",
      "Concatenating for segment 'chorus'\n",
      " ********************** Adjusting the song ZOELEELA - Jewel - other  **********************\n",
      "Concatenating for segment 'verse'\n",
      "Concatenating for segment 'inst'\n",
      "Concatenating for segment 'verse'\n",
      "Concatenating for segment 'chorus'\n",
      "Mashup loudness (before normalization): -17.62203709976097 LUFS\n",
      "Mashup normalized to -14.0 LUFS\n"
     ]
    },
    {
     "name": "stderr",
     "output_type": "stream",
     "text": [
      "/home/leami/myenv/lib/python3.12/site-packages/pyloudnorm/normalize.py:62: UserWarning: Possible clipped samples in output.\n",
      "  warnings.warn(\"Possible clipped samples in output.\")\n"
     ]
    },
    {
     "name": "stdout",
     "output_type": "stream",
     "text": [
      "Le fichier a été sauvegardé dans : Mashups/The Embarrassment - Patio Set_ZOELEELA - Jewel.mp3\n",
      "Song 1: The J Arthur Keenes Band - The Boring World of Niels Bohr\n",
      "Song 2: Bam Bam - Hi-Q\n",
      " ********************** Adjusting the song Bam Bam - Hi-Q - bass  **********************\n",
      "Concatenating for segment 'intro'\n",
      "Concatenating for segment 'intro'\n",
      "Concatenating for segment 'intro'\n",
      "Concatenating for segment 'chorus'\n",
      "Error fitting segment 'outro' to 32 beats: float division by zero\n",
      "Error fitting segment: outro at 172.22, Error: float division by zero\n",
      " ********************** Adjusting the song Bam Bam - Hi-Q - drums  **********************\n",
      "Concatenating for segment 'intro'\n",
      "Concatenating for segment 'intro'\n",
      "Concatenating for segment 'intro'\n",
      "Concatenating for segment 'chorus'\n",
      "Error fitting segment 'outro' to 32 beats: float division by zero\n",
      "Error fitting segment: outro at 172.22, Error: float division by zero\n",
      " ********************** Adjusting the song Bam Bam - Hi-Q - other  **********************\n",
      "Concatenating for segment 'intro'\n",
      "Concatenating for segment 'intro'\n",
      "Concatenating for segment 'intro'\n",
      "Concatenating for segment 'chorus'\n",
      "Error fitting segment 'outro' to 32 beats: float division by zero\n",
      "Error fitting segment: outro at 172.22, Error: float division by zero\n",
      "Mashup loudness (before normalization): -13.807832842290749 LUFS\n",
      "Mashup normalized to -14.0 LUFS\n"
     ]
    },
    {
     "name": "stderr",
     "output_type": "stream",
     "text": [
      "/home/leami/myenv/lib/python3.12/site-packages/pyloudnorm/normalize.py:62: UserWarning: Possible clipped samples in output.\n",
      "  warnings.warn(\"Possible clipped samples in output.\")\n"
     ]
    },
    {
     "name": "stdout",
     "output_type": "stream",
     "text": [
      "Le fichier a été sauvegardé dans : Mashups/The J Arthur Keenes Band - The Boring World of Niels Bohr_Bam Bam - Hi-Q.mp3\n",
      "Song 1: The J Arthur Keenes Band - The Boring World of Niels Bohr\n",
      "Song 2: Benji Cossa - New Flowers (Fast 4-track Version)\n",
      " ********************** Adjusting the song Benji Cossa - New Flowers (Fast 4-track Version) - bass  **********************\n",
      "Concatenating for segment 'chorus'\n",
      " ********************** Adjusting the song Benji Cossa - New Flowers (Fast 4-track Version) - drums  **********************\n",
      "Concatenating for segment 'chorus'\n",
      " ********************** Adjusting the song Benji Cossa - New Flowers (Fast 4-track Version) - other  **********************\n",
      "Concatenating for segment 'chorus'\n",
      "Mashup loudness (before normalization): -12.365260341926598 LUFS\n",
      "Mashup normalized to -14.0 LUFS\n"
     ]
    },
    {
     "name": "stderr",
     "output_type": "stream",
     "text": [
      "/home/leami/myenv/lib/python3.12/site-packages/pyloudnorm/normalize.py:62: UserWarning: Possible clipped samples in output.\n",
      "  warnings.warn(\"Possible clipped samples in output.\")\n"
     ]
    },
    {
     "name": "stdout",
     "output_type": "stream",
     "text": [
      "Le fichier a été sauvegardé dans : Mashups/The J Arthur Keenes Band - The Boring World of Niels Bohr_Benji Cossa - New Flowers (Fast 4-track Version).mp3\n",
      "Song 1: The J Arthur Keenes Band - The Boring World of Niels Bohr\n",
      "Song 2: Bessie Smith - My Sweetie Went Away\n",
      " ********************** Adjusting the song Bessie Smith - My Sweetie Went Away - bass  **********************\n",
      "Concatenating for segment 'intro'\n",
      "Concatenating for segment 'intro'\n",
      "Concatenating for segment 'chorus'\n",
      " ********************** Adjusting the song Bessie Smith - My Sweetie Went Away - drums  **********************\n",
      "Concatenating for segment 'intro'\n",
      "Concatenating for segment 'intro'\n",
      "Concatenating for segment 'chorus'\n",
      " ********************** Adjusting the song Bessie Smith - My Sweetie Went Away - other  **********************\n",
      "Concatenating for segment 'intro'\n",
      "Concatenating for segment 'intro'\n",
      "Concatenating for segment 'chorus'\n",
      "Mashup loudness (before normalization): -14.995775827828249 LUFS\n",
      "Mashup normalized to -14.0 LUFS\n"
     ]
    },
    {
     "name": "stderr",
     "output_type": "stream",
     "text": [
      "/home/leami/myenv/lib/python3.12/site-packages/pyloudnorm/normalize.py:62: UserWarning: Possible clipped samples in output.\n",
      "  warnings.warn(\"Possible clipped samples in output.\")\n"
     ]
    },
    {
     "name": "stdout",
     "output_type": "stream",
     "text": [
      "Le fichier a été sauvegardé dans : Mashups/The J Arthur Keenes Band - The Boring World of Niels Bohr_Bessie Smith - My Sweetie Went Away.mp3\n",
      "Song 1: The J Arthur Keenes Band - The Boring World of Niels Bohr\n",
      "Song 2: David Rovics - We Just Want The World\n",
      " ********************** Adjusting the song David Rovics - We Just Want The World - bass  **********************\n",
      "Error fitting segment 'intro' to 48 beats: float division by zero\n",
      "Error fitting segment: intro at 0.0, Error: float division by zero\n",
      "Error fitting segment 'intro' to 64 beats: float division by zero\n",
      "Error fitting segment: intro at 0.0, Error: float division by zero\n",
      " ********************** Adjusting the song David Rovics - We Just Want The World - drums  **********************\n",
      "Error fitting segment 'intro' to 48 beats: float division by zero\n",
      "Error fitting segment: intro at 0.0, Error: float division by zero\n",
      "Error fitting segment 'intro' to 64 beats: float division by zero\n",
      "Error fitting segment: intro at 0.0, Error: float division by zero\n",
      " ********************** Adjusting the song David Rovics - We Just Want The World - other  **********************\n",
      "Error fitting segment 'intro' to 48 beats: float division by zero\n",
      "Error fitting segment: intro at 0.0, Error: float division by zero\n",
      "Error fitting segment 'intro' to 64 beats: float division by zero\n",
      "Error fitting segment: intro at 0.0, Error: float division by zero\n",
      "Mashup loudness (before normalization): -14.815765769932108 LUFS\n",
      "Mashup normalized to -14.0 LUFS\n"
     ]
    },
    {
     "name": "stderr",
     "output_type": "stream",
     "text": [
      "/home/leami/myenv/lib/python3.12/site-packages/pyloudnorm/normalize.py:62: UserWarning: Possible clipped samples in output.\n",
      "  warnings.warn(\"Possible clipped samples in output.\")\n"
     ]
    },
    {
     "name": "stdout",
     "output_type": "stream",
     "text": [
      "Le fichier a été sauvegardé dans : Mashups/The J Arthur Keenes Band - The Boring World of Niels Bohr_David Rovics - We Just Want The World.mp3\n",
      "Song 1: The J Arthur Keenes Band - The Boring World of Niels Bohr\n",
      "Song 2: deef - Ein sonniger Tag mit dir\n",
      " ********************** Adjusting the song deef - Ein sonniger Tag mit dir - bass  **********************\n",
      "Concatenating for segment 'intro'\n",
      "Concatenating for segment 'chorus'\n",
      "Concatenating for segment 'chorus'\n",
      " ********************** Adjusting the song deef - Ein sonniger Tag mit dir - drums  **********************\n",
      "Concatenating for segment 'intro'\n",
      "Concatenating for segment 'chorus'\n",
      "Concatenating for segment 'chorus'\n",
      " ********************** Adjusting the song deef - Ein sonniger Tag mit dir - other  **********************\n",
      "Concatenating for segment 'intro'\n",
      "Concatenating for segment 'chorus'\n",
      "Concatenating for segment 'chorus'\n",
      "Mashup loudness (before normalization): -15.10439569979688 LUFS\n",
      "Mashup normalized to -14.0 LUFS\n"
     ]
    },
    {
     "name": "stderr",
     "output_type": "stream",
     "text": [
      "/home/leami/myenv/lib/python3.12/site-packages/pyloudnorm/normalize.py:62: UserWarning: Possible clipped samples in output.\n",
      "  warnings.warn(\"Possible clipped samples in output.\")\n"
     ]
    },
    {
     "name": "stdout",
     "output_type": "stream",
     "text": [
      "Le fichier a été sauvegardé dans : Mashups/The J Arthur Keenes Band - The Boring World of Niels Bohr_deef - Ein sonniger Tag mit dir.mp3\n",
      "Song 1: The J Arthur Keenes Band - The Boring World of Niels Bohr\n",
      "Song 2: Dragon Or Emperor - Part of Me Says\n",
      " ********************** Adjusting the song Dragon Or Emperor - Part of Me Says - bass  **********************\n",
      "Concatenating for segment 'intro'\n",
      "Concatenating for segment 'intro'\n",
      "Concatenating for segment 'chorus'\n",
      "Error fitting segment 'outro' to 32 beats: float division by zero\n",
      "Error fitting segment: outro at 187.02, Error: float division by zero\n",
      " ********************** Adjusting the song Dragon Or Emperor - Part of Me Says - drums  **********************\n",
      "Concatenating for segment 'intro'\n",
      "Concatenating for segment 'intro'\n",
      "Concatenating for segment 'chorus'\n",
      "Error fitting segment 'outro' to 32 beats: float division by zero\n",
      "Error fitting segment: outro at 187.02, Error: float division by zero\n",
      " ********************** Adjusting the song Dragon Or Emperor - Part of Me Says - other  **********************\n",
      "Concatenating for segment 'intro'\n",
      "Concatenating for segment 'intro'\n",
      "Concatenating for segment 'chorus'\n",
      "Error fitting segment 'outro' to 32 beats: float division by zero\n",
      "Error fitting segment: outro at 187.02, Error: float division by zero\n",
      "Mashup loudness (before normalization): -12.943836679709019 LUFS\n",
      "Mashup normalized to -14.0 LUFS\n"
     ]
    },
    {
     "name": "stderr",
     "output_type": "stream",
     "text": [
      "/home/leami/myenv/lib/python3.12/site-packages/pyloudnorm/normalize.py:62: UserWarning: Possible clipped samples in output.\n",
      "  warnings.warn(\"Possible clipped samples in output.\")\n"
     ]
    },
    {
     "name": "stdout",
     "output_type": "stream",
     "text": [
      "Le fichier a été sauvegardé dans : Mashups/The J Arthur Keenes Band - The Boring World of Niels Bohr_Dragon Or Emperor - Part of Me Says.mp3\n",
      "Song 1: The J Arthur Keenes Band - The Boring World of Niels Bohr\n",
      "Song 2: Grand Mal - Children of Light\n",
      " ********************** Adjusting the song Grand Mal - Children of Light - bass  **********************\n",
      "Concatenating for segment 'chorus'\n",
      "Concatenating for segment 'outro'\n",
      "Concatenating for segment 'outro'\n",
      "Concatenating for segment 'outro'\n",
      "Concatenating for segment 'outro'\n",
      " ********************** Adjusting the song Grand Mal - Children of Light - drums  **********************\n",
      "Concatenating for segment 'chorus'\n",
      "Concatenating for segment 'outro'\n",
      "Concatenating for segment 'outro'\n",
      "Concatenating for segment 'outro'\n",
      "Concatenating for segment 'outro'\n",
      " ********************** Adjusting the song Grand Mal - Children of Light - other  **********************\n",
      "Concatenating for segment 'chorus'\n",
      "Concatenating for segment 'outro'\n",
      "Concatenating for segment 'outro'\n",
      "Concatenating for segment 'outro'\n",
      "Concatenating for segment 'outro'\n",
      "Mashup loudness (before normalization): -13.738756297866102 LUFS\n",
      "Mashup normalized to -14.0 LUFS\n"
     ]
    },
    {
     "name": "stderr",
     "output_type": "stream",
     "text": [
      "/home/leami/myenv/lib/python3.12/site-packages/pyloudnorm/normalize.py:62: UserWarning: Possible clipped samples in output.\n",
      "  warnings.warn(\"Possible clipped samples in output.\")\n"
     ]
    },
    {
     "name": "stdout",
     "output_type": "stream",
     "text": [
      "Le fichier a été sauvegardé dans : Mashups/The J Arthur Keenes Band - The Boring World of Niels Bohr_Grand Mal - Children of Light.mp3\n",
      "Song 1: The J Arthur Keenes Band - The Boring World of Niels Bohr\n",
      "Song 2: Home Blitz - Secret Wave\n",
      " ********************** Adjusting the song Home Blitz - Secret Wave - bass  **********************\n",
      " ********************** Adjusting the song Home Blitz - Secret Wave - drums  **********************\n",
      " ********************** Adjusting the song Home Blitz - Secret Wave - other  **********************\n",
      "Mashup loudness (before normalization): -12.633392730678084 LUFS\n",
      "Mashup normalized to -14.0 LUFS\n"
     ]
    },
    {
     "name": "stderr",
     "output_type": "stream",
     "text": [
      "/home/leami/myenv/lib/python3.12/site-packages/pyloudnorm/normalize.py:62: UserWarning: Possible clipped samples in output.\n",
      "  warnings.warn(\"Possible clipped samples in output.\")\n"
     ]
    },
    {
     "name": "stdout",
     "output_type": "stream",
     "text": [
      "Le fichier a été sauvegardé dans : Mashups/The J Arthur Keenes Band - The Boring World of Niels Bohr_Home Blitz - Secret Wave.mp3\n",
      "Song 1: The J Arthur Keenes Band - The Boring World of Niels Bohr\n",
      "Song 2: Josh Woodward - Cien Volando\n",
      " ********************** Adjusting the song Josh Woodward - Cien Volando - bass  **********************\n",
      "Concatenating for segment 'chorus'\n",
      "Concatenating for segment 'chorus'\n",
      " ********************** Adjusting the song Josh Woodward - Cien Volando - drums  **********************\n",
      "Concatenating for segment 'chorus'\n",
      "Concatenating for segment 'chorus'\n",
      " ********************** Adjusting the song Josh Woodward - Cien Volando - other  **********************\n",
      "Concatenating for segment 'chorus'\n",
      "Concatenating for segment 'chorus'\n",
      "Mashup loudness (before normalization): -14.26391325360976 LUFS\n",
      "Mashup normalized to -14.0 LUFS\n"
     ]
    },
    {
     "name": "stderr",
     "output_type": "stream",
     "text": [
      "/home/leami/myenv/lib/python3.12/site-packages/pyloudnorm/normalize.py:62: UserWarning: Possible clipped samples in output.\n",
      "  warnings.warn(\"Possible clipped samples in output.\")\n"
     ]
    },
    {
     "name": "stdout",
     "output_type": "stream",
     "text": [
      "Le fichier a été sauvegardé dans : Mashups/The J Arthur Keenes Band - The Boring World of Niels Bohr_Josh Woodward - Cien Volando.mp3\n",
      "Song 1: The J Arthur Keenes Band - The Boring World of Niels Bohr\n",
      "Song 2: Los Steaks - Sunday Girls\n",
      " ********************** Adjusting the song Los Steaks - Sunday Girls - bass  **********************\n",
      " ********************** Adjusting the song Los Steaks - Sunday Girls - drums  **********************\n",
      " ********************** Adjusting the song Los Steaks - Sunday Girls - other  **********************\n",
      "Mashup loudness (before normalization): -13.08554282428614 LUFS\n",
      "Mashup normalized to -14.0 LUFS\n"
     ]
    },
    {
     "name": "stderr",
     "output_type": "stream",
     "text": [
      "/home/leami/myenv/lib/python3.12/site-packages/pyloudnorm/normalize.py:62: UserWarning: Possible clipped samples in output.\n",
      "  warnings.warn(\"Possible clipped samples in output.\")\n"
     ]
    },
    {
     "name": "stdout",
     "output_type": "stream",
     "text": [
      "Le fichier a été sauvegardé dans : Mashups/The J Arthur Keenes Band - The Boring World of Niels Bohr_Los Steaks - Sunday Girls.mp3\n",
      "Song 1: The J Arthur Keenes Band - The Boring World of Niels Bohr\n",
      "Song 2: Mia Doi Todd - I gave you my home\n",
      " ********************** Adjusting the song Mia Doi Todd - I gave you my home - bass  **********************\n",
      "Concatenating for segment 'chorus'\n",
      " ********************** Adjusting the song Mia Doi Todd - I gave you my home - drums  **********************\n",
      "Concatenating for segment 'chorus'\n",
      " ********************** Adjusting the song Mia Doi Todd - I gave you my home - other  **********************\n",
      "Concatenating for segment 'chorus'\n",
      "Mashup loudness (before normalization): -14.294904775825593 LUFS\n",
      "Mashup normalized to -14.0 LUFS\n"
     ]
    },
    {
     "name": "stderr",
     "output_type": "stream",
     "text": [
      "/home/leami/myenv/lib/python3.12/site-packages/pyloudnorm/normalize.py:62: UserWarning: Possible clipped samples in output.\n",
      "  warnings.warn(\"Possible clipped samples in output.\")\n"
     ]
    },
    {
     "name": "stdout",
     "output_type": "stream",
     "text": [
      "Le fichier a été sauvegardé dans : Mashups/The J Arthur Keenes Band - The Boring World of Niels Bohr_Mia Doi Todd - I gave you my home.mp3\n",
      "Song 1: The J Arthur Keenes Band - The Boring World of Niels Bohr\n",
      "Song 2: Orange Peels - Grey Holiday\n",
      " ********************** Adjusting the song Orange Peels - Grey Holiday - bass  **********************\n",
      "Concatenating for segment 'chorus'\n",
      " ********************** Adjusting the song Orange Peels - Grey Holiday - drums  **********************\n",
      "Concatenating for segment 'chorus'\n",
      " ********************** Adjusting the song Orange Peels - Grey Holiday - other  **********************\n",
      "Concatenating for segment 'chorus'\n",
      "Mashup loudness (before normalization): -14.238976175686949 LUFS\n",
      "Mashup normalized to -14.0 LUFS\n"
     ]
    },
    {
     "name": "stderr",
     "output_type": "stream",
     "text": [
      "/home/leami/myenv/lib/python3.12/site-packages/pyloudnorm/normalize.py:62: UserWarning: Possible clipped samples in output.\n",
      "  warnings.warn(\"Possible clipped samples in output.\")\n"
     ]
    },
    {
     "name": "stdout",
     "output_type": "stream",
     "text": [
      "Le fichier a été sauvegardé dans : Mashups/The J Arthur Keenes Band - The Boring World of Niels Bohr_Orange Peels - Grey Holiday.mp3\n",
      "Song 1: The J Arthur Keenes Band - The Boring World of Niels Bohr\n",
      "Song 2: Poland - Lying Machine\n",
      " ********************** Adjusting the song Poland - Lying Machine - bass  **********************\n",
      "Concatenating for segment 'intro'\n",
      "Concatenating for segment 'intro'\n",
      "Concatenating for segment 'chorus'\n",
      "Concatenating for segment 'inst'\n",
      "Concatenating for segment 'chorus'\n",
      "Concatenating for segment 'chorus'\n",
      "Concatenating for segment 'chorus'\n",
      "Concatenating for segment 'chorus'\n",
      " ********************** Adjusting the song Poland - Lying Machine - drums  **********************\n",
      "Concatenating for segment 'intro'\n",
      "Concatenating for segment 'intro'\n",
      "Concatenating for segment 'chorus'\n",
      "Concatenating for segment 'inst'\n",
      "Concatenating for segment 'chorus'\n",
      "Concatenating for segment 'chorus'\n",
      "Concatenating for segment 'chorus'\n",
      "Concatenating for segment 'chorus'\n",
      " ********************** Adjusting the song Poland - Lying Machine - other  **********************\n",
      "Concatenating for segment 'intro'\n",
      "Concatenating for segment 'intro'\n",
      "Concatenating for segment 'chorus'\n",
      "Concatenating for segment 'inst'\n",
      "Concatenating for segment 'chorus'\n",
      "Concatenating for segment 'chorus'\n",
      "Concatenating for segment 'chorus'\n",
      "Concatenating for segment 'chorus'\n",
      "Mashup loudness (before normalization): -14.809941026404422 LUFS\n",
      "Mashup normalized to -14.0 LUFS\n"
     ]
    },
    {
     "name": "stderr",
     "output_type": "stream",
     "text": [
      "/home/leami/myenv/lib/python3.12/site-packages/pyloudnorm/normalize.py:62: UserWarning: Possible clipped samples in output.\n",
      "  warnings.warn(\"Possible clipped samples in output.\")\n"
     ]
    },
    {
     "name": "stdout",
     "output_type": "stream",
     "text": [
      "Le fichier a été sauvegardé dans : Mashups/The J Arthur Keenes Band - The Boring World of Niels Bohr_Poland - Lying Machine.mp3\n",
      "Song 1: The J Arthur Keenes Band - The Boring World of Niels Bohr\n",
      "Song 2: Shearer - Itch\n",
      " ********************** Adjusting the song Shearer - Itch - bass  **********************\n",
      " ********************** Adjusting the song Shearer - Itch - drums  **********************\n",
      " ********************** Adjusting the song Shearer - Itch - other  **********************\n",
      "Mashup loudness (before normalization): -13.280019284782828 LUFS\n",
      "Mashup normalized to -14.0 LUFS\n"
     ]
    },
    {
     "name": "stderr",
     "output_type": "stream",
     "text": [
      "/home/leami/myenv/lib/python3.12/site-packages/pyloudnorm/normalize.py:62: UserWarning: Possible clipped samples in output.\n",
      "  warnings.warn(\"Possible clipped samples in output.\")\n"
     ]
    },
    {
     "name": "stdout",
     "output_type": "stream",
     "text": [
      "Le fichier a été sauvegardé dans : Mashups/The J Arthur Keenes Band - The Boring World of Niels Bohr_Shearer - Itch.mp3\n",
      "Song 1: The J Arthur Keenes Band - The Boring World of Niels Bohr\n",
      "Song 2: Short Hand - Certain Strangers\n",
      " ********************** Adjusting the song Short Hand - Certain Strangers - bass  **********************\n",
      "Concatenating for segment 'chorus'\n",
      "Concatenating for segment 'outro'\n",
      " ********************** Adjusting the song Short Hand - Certain Strangers - drums  **********************\n",
      "Concatenating for segment 'chorus'\n",
      "Concatenating for segment 'outro'\n",
      " ********************** Adjusting the song Short Hand - Certain Strangers - other  **********************\n",
      "Concatenating for segment 'chorus'\n",
      "Concatenating for segment 'outro'\n",
      "Mashup loudness (before normalization): -12.045083614685822 LUFS\n",
      "Mashup normalized to -14.0 LUFS\n"
     ]
    },
    {
     "name": "stderr",
     "output_type": "stream",
     "text": [
      "/home/leami/myenv/lib/python3.12/site-packages/pyloudnorm/normalize.py:62: UserWarning: Possible clipped samples in output.\n",
      "  warnings.warn(\"Possible clipped samples in output.\")\n"
     ]
    },
    {
     "name": "stdout",
     "output_type": "stream",
     "text": [
      "Le fichier a été sauvegardé dans : Mashups/The J Arthur Keenes Band - The Boring World of Niels Bohr_Short Hand - Certain Strangers.mp3\n",
      "Song 1: The J Arthur Keenes Band - The Boring World of Niels Bohr\n",
      "Song 2: The Cute Lepers - Young Hearts\n",
      " ********************** Adjusting the song The Cute Lepers - Young Hearts - bass  **********************\n",
      "Concatenating for segment 'intro'\n",
      "Concatenating for segment 'intro'\n",
      " ********************** Adjusting the song The Cute Lepers - Young Hearts - drums  **********************\n",
      "Concatenating for segment 'intro'\n",
      "Concatenating for segment 'intro'\n",
      " ********************** Adjusting the song The Cute Lepers - Young Hearts - other  **********************\n",
      "Concatenating for segment 'intro'\n",
      "Concatenating for segment 'intro'\n",
      "Mashup loudness (before normalization): -13.910305201732777 LUFS\n",
      "Mashup normalized to -14.0 LUFS\n"
     ]
    },
    {
     "name": "stderr",
     "output_type": "stream",
     "text": [
      "/home/leami/myenv/lib/python3.12/site-packages/pyloudnorm/normalize.py:62: UserWarning: Possible clipped samples in output.\n",
      "  warnings.warn(\"Possible clipped samples in output.\")\n"
     ]
    },
    {
     "name": "stdout",
     "output_type": "stream",
     "text": [
      "Le fichier a été sauvegardé dans : Mashups/The J Arthur Keenes Band - The Boring World of Niels Bohr_The Cute Lepers - Young Hearts.mp3\n",
      "Song 1: The J Arthur Keenes Band - The Boring World of Niels Bohr\n",
      "Song 2: The Embarrassment - Patio Set\n",
      " ********************** Adjusting the song The Embarrassment - Patio Set - bass  **********************\n",
      "Concatenating for segment 'chorus'\n",
      " ********************** Adjusting the song The Embarrassment - Patio Set - drums  **********************\n",
      "Concatenating for segment 'chorus'\n",
      " ********************** Adjusting the song The Embarrassment - Patio Set - other  **********************\n",
      "Concatenating for segment 'chorus'\n",
      "Mashup loudness (before normalization): -14.976642327275098 LUFS\n",
      "Mashup normalized to -14.0 LUFS\n"
     ]
    },
    {
     "name": "stderr",
     "output_type": "stream",
     "text": [
      "/home/leami/myenv/lib/python3.12/site-packages/pyloudnorm/normalize.py:62: UserWarning: Possible clipped samples in output.\n",
      "  warnings.warn(\"Possible clipped samples in output.\")\n"
     ]
    },
    {
     "name": "stdout",
     "output_type": "stream",
     "text": [
      "Le fichier a été sauvegardé dans : Mashups/The J Arthur Keenes Band - The Boring World of Niels Bohr_The Embarrassment - Patio Set.mp3\n",
      "Song 1: The J Arthur Keenes Band - The Boring World of Niels Bohr\n",
      "Song 2: The Oranges Band - Ride the Nuclear Wave\n",
      " ********************** Adjusting the song The Oranges Band - Ride the Nuclear Wave - bass  **********************\n",
      "Concatenating for segment 'intro'\n",
      "Concatenating for segment 'chorus'\n",
      " ********************** Adjusting the song The Oranges Band - Ride the Nuclear Wave - drums  **********************\n",
      "Concatenating for segment 'intro'\n",
      "Concatenating for segment 'chorus'\n",
      " ********************** Adjusting the song The Oranges Band - Ride the Nuclear Wave - other  **********************\n",
      "Concatenating for segment 'intro'\n",
      "Concatenating for segment 'chorus'\n",
      "Mashup loudness (before normalization): -13.510841297180734 LUFS\n",
      "Mashup normalized to -14.0 LUFS\n"
     ]
    },
    {
     "name": "stderr",
     "output_type": "stream",
     "text": [
      "/home/leami/myenv/lib/python3.12/site-packages/pyloudnorm/normalize.py:62: UserWarning: Possible clipped samples in output.\n",
      "  warnings.warn(\"Possible clipped samples in output.\")\n"
     ]
    },
    {
     "name": "stdout",
     "output_type": "stream",
     "text": [
      "Le fichier a été sauvegardé dans : Mashups/The J Arthur Keenes Band - The Boring World of Niels Bohr_The Oranges Band - Ride the Nuclear Wave.mp3\n",
      "Song 1: The J Arthur Keenes Band - The Boring World of Niels Bohr\n",
      "Song 2: Wann - Happy Birthday\n",
      " ********************** Adjusting the song Wann - Happy Birthday - bass  **********************\n",
      "Concatenating for segment 'intro'\n",
      "Concatenating for segment 'intro'\n",
      "Concatenating for segment 'intro'\n",
      "Concatenating for segment 'chorus'\n",
      "Concatenating for segment 'chorus'\n",
      "Concatenating for segment 'chorus'\n",
      "Concatenating for segment 'chorus'\n",
      "Concatenating for segment 'chorus'\n",
      "Error fitting segment 'outro' to 32 beats: float division by zero\n",
      "Error fitting segment: outro at 178.24, Error: float division by zero\n",
      " ********************** Adjusting the song Wann - Happy Birthday - drums  **********************\n",
      "Concatenating for segment 'intro'\n",
      "Concatenating for segment 'intro'\n",
      "Concatenating for segment 'intro'\n",
      "Concatenating for segment 'chorus'\n",
      "Concatenating for segment 'chorus'\n",
      "Concatenating for segment 'chorus'\n",
      "Concatenating for segment 'chorus'\n",
      "Concatenating for segment 'chorus'\n",
      "Error fitting segment 'outro' to 32 beats: float division by zero\n",
      "Error fitting segment: outro at 178.24, Error: float division by zero\n",
      " ********************** Adjusting the song Wann - Happy Birthday - other  **********************\n",
      "Concatenating for segment 'intro'\n",
      "Concatenating for segment 'intro'\n",
      "Concatenating for segment 'intro'\n",
      "Concatenating for segment 'chorus'\n",
      "Concatenating for segment 'chorus'\n",
      "Concatenating for segment 'chorus'\n",
      "Concatenating for segment 'chorus'\n",
      "Concatenating for segment 'chorus'\n",
      "Error fitting segment 'outro' to 32 beats: float division by zero\n",
      "Error fitting segment: outro at 178.24, Error: float division by zero\n",
      "Mashup loudness (before normalization): -14.970460371476516 LUFS\n",
      "Mashup normalized to -14.0 LUFS\n"
     ]
    },
    {
     "name": "stderr",
     "output_type": "stream",
     "text": [
      "/home/leami/myenv/lib/python3.12/site-packages/pyloudnorm/normalize.py:62: UserWarning: Possible clipped samples in output.\n",
      "  warnings.warn(\"Possible clipped samples in output.\")\n"
     ]
    },
    {
     "name": "stdout",
     "output_type": "stream",
     "text": [
      "Le fichier a été sauvegardé dans : Mashups/The J Arthur Keenes Band - The Boring World of Niels Bohr_Wann - Happy Birthday.mp3\n",
      "Song 1: The J Arthur Keenes Band - The Boring World of Niels Bohr\n",
      "Song 2: ZOELEELA - Jewel\n",
      " ********************** Adjusting the song ZOELEELA - Jewel - bass  **********************\n",
      "Concatenating for segment 'chorus'\n",
      "Concatenating for segment 'chorus'\n",
      " ********************** Adjusting the song ZOELEELA - Jewel - drums  **********************\n",
      "Concatenating for segment 'chorus'\n",
      "Concatenating for segment 'chorus'\n",
      " ********************** Adjusting the song ZOELEELA - Jewel - other  **********************\n",
      "Concatenating for segment 'chorus'\n",
      "Concatenating for segment 'chorus'\n",
      "Mashup loudness (before normalization): -12.851830946663817 LUFS\n",
      "Mashup normalized to -14.0 LUFS\n"
     ]
    },
    {
     "name": "stderr",
     "output_type": "stream",
     "text": [
      "/home/leami/myenv/lib/python3.12/site-packages/pyloudnorm/normalize.py:62: UserWarning: Possible clipped samples in output.\n",
      "  warnings.warn(\"Possible clipped samples in output.\")\n"
     ]
    },
    {
     "name": "stdout",
     "output_type": "stream",
     "text": [
      "Le fichier a été sauvegardé dans : Mashups/The J Arthur Keenes Band - The Boring World of Niels Bohr_ZOELEELA - Jewel.mp3\n",
      "Song 1: The Oranges Band - Ride the Nuclear Wave\n",
      "Song 2: Bam Bam - Hi-Q\n",
      " ********************** Adjusting the song Bam Bam - Hi-Q - bass  **********************\n",
      "Concatenating for segment 'intro'\n",
      "Concatenating for segment 'verse'\n",
      "Concatenating for segment 'verse'\n",
      "Concatenating for segment 'chorus'\n",
      "Concatenating for segment 'chorus'\n",
      "Concatenating for segment 'chorus'\n",
      "Concatenating for segment 'chorus'\n",
      "Error fitting segment 'outro' to 36 beats: float division by zero\n",
      "Error fitting segment: outro at 172.22, Error: float division by zero\n",
      " ********************** Adjusting the song Bam Bam - Hi-Q - drums  **********************\n",
      "Concatenating for segment 'intro'\n",
      "Concatenating for segment 'verse'\n",
      "Concatenating for segment 'verse'\n",
      "Concatenating for segment 'chorus'\n",
      "Concatenating for segment 'chorus'\n",
      "Concatenating for segment 'chorus'\n",
      "Concatenating for segment 'chorus'\n",
      "Error fitting segment 'outro' to 36 beats: float division by zero\n",
      "Error fitting segment: outro at 172.22, Error: float division by zero\n",
      " ********************** Adjusting the song Bam Bam - Hi-Q - other  **********************\n",
      "Concatenating for segment 'intro'\n",
      "Concatenating for segment 'verse'\n",
      "Concatenating for segment 'verse'\n",
      "Concatenating for segment 'chorus'\n",
      "Concatenating for segment 'chorus'\n",
      "Concatenating for segment 'chorus'\n",
      "Concatenating for segment 'chorus'\n",
      "Error fitting segment 'outro' to 36 beats: float division by zero\n",
      "Error fitting segment: outro at 172.22, Error: float division by zero\n",
      "Mashup loudness (before normalization): -14.222453356054105 LUFS\n",
      "Mashup normalized to -14.0 LUFS\n"
     ]
    },
    {
     "name": "stderr",
     "output_type": "stream",
     "text": [
      "/home/leami/myenv/lib/python3.12/site-packages/pyloudnorm/normalize.py:62: UserWarning: Possible clipped samples in output.\n",
      "  warnings.warn(\"Possible clipped samples in output.\")\n"
     ]
    },
    {
     "name": "stdout",
     "output_type": "stream",
     "text": [
      "Le fichier a été sauvegardé dans : Mashups/The Oranges Band - Ride the Nuclear Wave_Bam Bam - Hi-Q.mp3\n",
      "Song 1: The Oranges Band - Ride the Nuclear Wave\n",
      "Song 2: Benji Cossa - New Flowers (Fast 4-track Version)\n",
      " ********************** Adjusting the song Benji Cossa - New Flowers (Fast 4-track Version) - bass  **********************\n",
      "Error fitting segment 'verse' to 32 beats: float division by zero\n",
      "Error fitting segment: verse at 0.0, Error: float division by zero\n",
      "Concatenating for segment 'chorus'\n",
      "Concatenating for segment 'chorus'\n",
      "Concatenating for segment 'chorus'\n",
      " ********************** Adjusting the song Benji Cossa - New Flowers (Fast 4-track Version) - drums  **********************\n",
      "Error fitting segment 'verse' to 32 beats: float division by zero\n",
      "Error fitting segment: verse at 0.0, Error: float division by zero\n",
      "Concatenating for segment 'chorus'\n",
      "Concatenating for segment 'chorus'\n",
      "Concatenating for segment 'chorus'\n",
      " ********************** Adjusting the song Benji Cossa - New Flowers (Fast 4-track Version) - other  **********************\n",
      "Error fitting segment 'verse' to 32 beats: float division by zero\n",
      "Error fitting segment: verse at 0.0, Error: float division by zero\n",
      "Concatenating for segment 'chorus'\n",
      "Concatenating for segment 'chorus'\n",
      "Concatenating for segment 'chorus'\n",
      "Mashup loudness (before normalization): -12.96022387064378 LUFS\n",
      "Mashup normalized to -14.0 LUFS\n"
     ]
    },
    {
     "name": "stderr",
     "output_type": "stream",
     "text": [
      "/home/leami/myenv/lib/python3.12/site-packages/pyloudnorm/normalize.py:62: UserWarning: Possible clipped samples in output.\n",
      "  warnings.warn(\"Possible clipped samples in output.\")\n"
     ]
    },
    {
     "name": "stdout",
     "output_type": "stream",
     "text": [
      "Le fichier a été sauvegardé dans : Mashups/The Oranges Band - Ride the Nuclear Wave_Benji Cossa - New Flowers (Fast 4-track Version).mp3\n",
      "Song 1: The Oranges Band - Ride the Nuclear Wave\n",
      "Song 2: Bessie Smith - My Sweetie Went Away\n",
      " ********************** Adjusting the song Bessie Smith - My Sweetie Went Away - bass  **********************\n",
      "Concatenating for segment 'intro'\n",
      "Concatenating for segment 'chorus'\n",
      " ********************** Adjusting the song Bessie Smith - My Sweetie Went Away - drums  **********************\n",
      "Concatenating for segment 'intro'\n",
      "Concatenating for segment 'chorus'\n",
      " ********************** Adjusting the song Bessie Smith - My Sweetie Went Away - other  **********************\n",
      "Concatenating for segment 'intro'\n",
      "Concatenating for segment 'chorus'\n",
      "Mashup loudness (before normalization): -17.38669633441003 LUFS\n",
      "Mashup normalized to -14.0 LUFS\n"
     ]
    },
    {
     "name": "stderr",
     "output_type": "stream",
     "text": [
      "/home/leami/myenv/lib/python3.12/site-packages/pyloudnorm/normalize.py:62: UserWarning: Possible clipped samples in output.\n",
      "  warnings.warn(\"Possible clipped samples in output.\")\n"
     ]
    },
    {
     "name": "stdout",
     "output_type": "stream",
     "text": [
      "Le fichier a été sauvegardé dans : Mashups/The Oranges Band - Ride the Nuclear Wave_Bessie Smith - My Sweetie Went Away.mp3\n",
      "Song 1: The Oranges Band - Ride the Nuclear Wave\n",
      "Song 2: David Rovics - We Just Want The World\n",
      " ********************** Adjusting the song David Rovics - We Just Want The World - bass  **********************\n",
      "Error fitting segment 'intro' to 48 beats: float division by zero\n",
      "Error fitting segment: intro at 0.0, Error: float division by zero\n",
      "Concatenating for segment 'outro'\n",
      " ********************** Adjusting the song David Rovics - We Just Want The World - drums  **********************\n",
      "Error fitting segment 'intro' to 48 beats: float division by zero\n",
      "Error fitting segment: intro at 0.0, Error: float division by zero\n",
      "Concatenating for segment 'outro'\n",
      " ********************** Adjusting the song David Rovics - We Just Want The World - other  **********************\n",
      "Error fitting segment 'intro' to 48 beats: float division by zero\n",
      "Error fitting segment: intro at 0.0, Error: float division by zero\n",
      "Concatenating for segment 'outro'\n",
      "Mashup loudness (before normalization): -17.112716632354054 LUFS\n",
      "Mashup normalized to -14.0 LUFS\n"
     ]
    },
    {
     "name": "stderr",
     "output_type": "stream",
     "text": [
      "/home/leami/myenv/lib/python3.12/site-packages/pyloudnorm/normalize.py:62: UserWarning: Possible clipped samples in output.\n",
      "  warnings.warn(\"Possible clipped samples in output.\")\n"
     ]
    },
    {
     "name": "stdout",
     "output_type": "stream",
     "text": [
      "Le fichier a été sauvegardé dans : Mashups/The Oranges Band - Ride the Nuclear Wave_David Rovics - We Just Want The World.mp3\n",
      "Song 1: The Oranges Band - Ride the Nuclear Wave\n",
      "Song 2: deef - Ein sonniger Tag mit dir\n",
      " ********************** Adjusting the song deef - Ein sonniger Tag mit dir - bass  **********************\n",
      "Concatenating for segment 'chorus'\n",
      " ********************** Adjusting the song deef - Ein sonniger Tag mit dir - drums  **********************\n",
      "Concatenating for segment 'chorus'\n",
      " ********************** Adjusting the song deef - Ein sonniger Tag mit dir - other  **********************\n",
      "Concatenating for segment 'chorus'\n",
      "Mashup loudness (before normalization): -16.609571140574232 LUFS\n",
      "Mashup normalized to -14.0 LUFS\n"
     ]
    },
    {
     "name": "stderr",
     "output_type": "stream",
     "text": [
      "/home/leami/myenv/lib/python3.12/site-packages/pyloudnorm/normalize.py:62: UserWarning: Possible clipped samples in output.\n",
      "  warnings.warn(\"Possible clipped samples in output.\")\n"
     ]
    },
    {
     "name": "stdout",
     "output_type": "stream",
     "text": [
      "Le fichier a été sauvegardé dans : Mashups/The Oranges Band - Ride the Nuclear Wave_deef - Ein sonniger Tag mit dir.mp3\n",
      "Song 1: The Oranges Band - Ride the Nuclear Wave\n",
      "Song 2: Dragon Or Emperor - Part of Me Says\n",
      " ********************** Adjusting the song Dragon Or Emperor - Part of Me Says - bass  **********************\n",
      "Concatenating for segment 'intro'\n",
      "Concatenating for segment 'verse'\n",
      "Concatenating for segment 'verse'\n",
      "Concatenating for segment 'chorus'\n",
      "Concatenating for segment 'chorus'\n",
      "Concatenating for segment 'chorus'\n",
      "Concatenating for segment 'chorus'\n",
      "Error fitting segment 'outro' to 36 beats: float division by zero\n",
      "Error fitting segment: outro at 187.02, Error: float division by zero\n",
      " ********************** Adjusting the song Dragon Or Emperor - Part of Me Says - drums  **********************\n",
      "Concatenating for segment 'intro'\n",
      "Concatenating for segment 'verse'\n",
      "Concatenating for segment 'verse'\n",
      "Concatenating for segment 'chorus'\n",
      "Concatenating for segment 'chorus'\n",
      "Concatenating for segment 'chorus'\n",
      "Concatenating for segment 'chorus'\n",
      "Error fitting segment 'outro' to 36 beats: float division by zero\n",
      "Error fitting segment: outro at 187.02, Error: float division by zero\n",
      " ********************** Adjusting the song Dragon Or Emperor - Part of Me Says - other  **********************\n",
      "Concatenating for segment 'intro'\n",
      "Concatenating for segment 'verse'\n",
      "Concatenating for segment 'verse'\n",
      "Concatenating for segment 'chorus'\n",
      "Concatenating for segment 'chorus'\n",
      "Concatenating for segment 'chorus'\n",
      "Concatenating for segment 'chorus'\n",
      "Error fitting segment 'outro' to 36 beats: float division by zero\n",
      "Error fitting segment: outro at 187.02, Error: float division by zero\n",
      "Mashup loudness (before normalization): -13.231574224107085 LUFS\n",
      "Mashup normalized to -14.0 LUFS\n"
     ]
    },
    {
     "name": "stderr",
     "output_type": "stream",
     "text": [
      "/home/leami/myenv/lib/python3.12/site-packages/pyloudnorm/normalize.py:62: UserWarning: Possible clipped samples in output.\n",
      "  warnings.warn(\"Possible clipped samples in output.\")\n"
     ]
    },
    {
     "name": "stdout",
     "output_type": "stream",
     "text": [
      "Le fichier a été sauvegardé dans : Mashups/The Oranges Band - Ride the Nuclear Wave_Dragon Or Emperor - Part of Me Says.mp3\n",
      "Song 1: The Oranges Band - Ride the Nuclear Wave\n",
      "Song 2: Grand Mal - Children of Light\n",
      " ********************** Adjusting the song Grand Mal - Children of Light - bass  **********************\n",
      "Concatenating for segment 'verse'\n",
      "Concatenating for segment 'chorus'\n",
      "Concatenating for segment 'verse'\n",
      "Concatenating for segment 'chorus'\n",
      "Concatenating for segment 'chorus'\n",
      "Concatenating for segment 'chorus'\n",
      "Concatenating for segment 'outro'\n",
      "Concatenating for segment 'outro'\n",
      "Concatenating for segment 'outro'\n",
      "Concatenating for segment 'outro'\n",
      "Concatenating for segment 'outro'\n",
      " ********************** Adjusting the song Grand Mal - Children of Light - drums  **********************\n",
      "Concatenating for segment 'verse'\n",
      "Concatenating for segment 'chorus'\n",
      "Concatenating for segment 'verse'\n",
      "Concatenating for segment 'chorus'\n",
      "Concatenating for segment 'chorus'\n",
      "Concatenating for segment 'chorus'\n",
      "Concatenating for segment 'outro'\n",
      "Concatenating for segment 'outro'\n",
      "Concatenating for segment 'outro'\n",
      "Concatenating for segment 'outro'\n",
      "Concatenating for segment 'outro'\n",
      " ********************** Adjusting the song Grand Mal - Children of Light - other  **********************\n",
      "Concatenating for segment 'verse'\n",
      "Concatenating for segment 'chorus'\n",
      "Concatenating for segment 'verse'\n",
      "Concatenating for segment 'chorus'\n",
      "Concatenating for segment 'chorus'\n",
      "Concatenating for segment 'chorus'\n",
      "Concatenating for segment 'outro'\n",
      "Concatenating for segment 'outro'\n",
      "Concatenating for segment 'outro'\n",
      "Concatenating for segment 'outro'\n",
      "Concatenating for segment 'outro'\n",
      "Mashup loudness (before normalization): -15.293684782503242 LUFS\n",
      "Mashup normalized to -14.0 LUFS\n"
     ]
    },
    {
     "name": "stderr",
     "output_type": "stream",
     "text": [
      "/home/leami/myenv/lib/python3.12/site-packages/pyloudnorm/normalize.py:62: UserWarning: Possible clipped samples in output.\n",
      "  warnings.warn(\"Possible clipped samples in output.\")\n"
     ]
    },
    {
     "name": "stdout",
     "output_type": "stream",
     "text": [
      "Le fichier a été sauvegardé dans : Mashups/The Oranges Band - Ride the Nuclear Wave_Grand Mal - Children of Light.mp3\n",
      "Song 1: The Oranges Band - Ride the Nuclear Wave\n",
      "Song 2: Home Blitz - Secret Wave\n",
      " ********************** Adjusting the song Home Blitz - Secret Wave - bass  **********************\n",
      "Concatenating for segment 'chorus'\n",
      " ********************** Adjusting the song Home Blitz - Secret Wave - drums  **********************\n",
      "Concatenating for segment 'chorus'\n",
      " ********************** Adjusting the song Home Blitz - Secret Wave - other  **********************\n",
      "Concatenating for segment 'chorus'\n",
      "Mashup loudness (before normalization): -15.060856985686579 LUFS\n",
      "Mashup normalized to -14.0 LUFS\n"
     ]
    },
    {
     "name": "stderr",
     "output_type": "stream",
     "text": [
      "/home/leami/myenv/lib/python3.12/site-packages/pyloudnorm/normalize.py:62: UserWarning: Possible clipped samples in output.\n",
      "  warnings.warn(\"Possible clipped samples in output.\")\n"
     ]
    },
    {
     "name": "stdout",
     "output_type": "stream",
     "text": [
      "Le fichier a été sauvegardé dans : Mashups/The Oranges Band - Ride the Nuclear Wave_Home Blitz - Secret Wave.mp3\n",
      "Song 1: The Oranges Band - Ride the Nuclear Wave\n",
      "Song 2: Josh Woodward - Cien Volando\n",
      " ********************** Adjusting the song Josh Woodward - Cien Volando - bass  **********************\n",
      "Concatenating for segment 'verse'\n",
      "Concatenating for segment 'chorus'\n",
      "Concatenating for segment 'verse'\n",
      "Concatenating for segment 'verse'\n",
      "Concatenating for segment 'chorus'\n",
      "Concatenating for segment 'chorus'\n",
      "Concatenating for segment 'chorus'\n",
      "Concatenating for segment 'chorus'\n",
      " ********************** Adjusting the song Josh Woodward - Cien Volando - drums  **********************\n",
      "Concatenating for segment 'verse'\n",
      "Concatenating for segment 'chorus'\n",
      "Concatenating for segment 'verse'\n",
      "Concatenating for segment 'verse'\n",
      "Concatenating for segment 'chorus'\n",
      "Concatenating for segment 'chorus'\n",
      "Concatenating for segment 'chorus'\n",
      "Concatenating for segment 'chorus'\n",
      " ********************** Adjusting the song Josh Woodward - Cien Volando - other  **********************\n",
      "Concatenating for segment 'verse'\n",
      "Concatenating for segment 'chorus'\n",
      "Concatenating for segment 'verse'\n",
      "Concatenating for segment 'verse'\n",
      "Concatenating for segment 'chorus'\n",
      "Concatenating for segment 'chorus'\n",
      "Concatenating for segment 'chorus'\n",
      "Concatenating for segment 'chorus'\n",
      "Mashup loudness (before normalization): -16.496382947377565 LUFS\n",
      "Mashup normalized to -14.0 LUFS\n"
     ]
    },
    {
     "name": "stderr",
     "output_type": "stream",
     "text": [
      "/home/leami/myenv/lib/python3.12/site-packages/pyloudnorm/normalize.py:62: UserWarning: Possible clipped samples in output.\n",
      "  warnings.warn(\"Possible clipped samples in output.\")\n"
     ]
    },
    {
     "name": "stdout",
     "output_type": "stream",
     "text": [
      "Le fichier a été sauvegardé dans : Mashups/The Oranges Band - Ride the Nuclear Wave_Josh Woodward - Cien Volando.mp3\n",
      "Song 1: The Oranges Band - Ride the Nuclear Wave\n",
      "Song 2: Los Steaks - Sunday Girls\n",
      " ********************** Adjusting the song Los Steaks - Sunday Girls - bass  **********************\n",
      " ********************** Adjusting the song Los Steaks - Sunday Girls - drums  **********************\n",
      " ********************** Adjusting the song Los Steaks - Sunday Girls - other  **********************\n",
      "Mashup loudness (before normalization): -13.122640363188601 LUFS\n",
      "Mashup normalized to -14.0 LUFS\n"
     ]
    },
    {
     "name": "stderr",
     "output_type": "stream",
     "text": [
      "/home/leami/myenv/lib/python3.12/site-packages/pyloudnorm/normalize.py:62: UserWarning: Possible clipped samples in output.\n",
      "  warnings.warn(\"Possible clipped samples in output.\")\n"
     ]
    },
    {
     "name": "stdout",
     "output_type": "stream",
     "text": [
      "Le fichier a été sauvegardé dans : Mashups/The Oranges Band - Ride the Nuclear Wave_Los Steaks - Sunday Girls.mp3\n",
      "Song 1: The Oranges Band - Ride the Nuclear Wave\n",
      "Song 2: Mia Doi Todd - I gave you my home\n",
      " ********************** Adjusting the song Mia Doi Todd - I gave you my home - bass  **********************\n",
      "Concatenating for segment 'verse'\n",
      "Concatenating for segment 'chorus'\n",
      " ********************** Adjusting the song Mia Doi Todd - I gave you my home - drums  **********************\n",
      "Concatenating for segment 'verse'\n",
      "Concatenating for segment 'chorus'\n",
      " ********************** Adjusting the song Mia Doi Todd - I gave you my home - other  **********************\n",
      "Concatenating for segment 'verse'\n",
      "Concatenating for segment 'chorus'\n",
      "Mashup loudness (before normalization): -17.038114694056308 LUFS\n",
      "Mashup normalized to -14.0 LUFS\n"
     ]
    },
    {
     "name": "stderr",
     "output_type": "stream",
     "text": [
      "/home/leami/myenv/lib/python3.12/site-packages/pyloudnorm/normalize.py:62: UserWarning: Possible clipped samples in output.\n",
      "  warnings.warn(\"Possible clipped samples in output.\")\n"
     ]
    },
    {
     "name": "stdout",
     "output_type": "stream",
     "text": [
      "Le fichier a été sauvegardé dans : Mashups/The Oranges Band - Ride the Nuclear Wave_Mia Doi Todd - I gave you my home.mp3\n",
      "Song 1: The Oranges Band - Ride the Nuclear Wave\n",
      "Song 2: Orange Peels - Grey Holiday\n",
      " ********************** Adjusting the song Orange Peels - Grey Holiday - bass  **********************\n",
      "Concatenating for segment 'verse'\n",
      "Concatenating for segment 'chorus'\n",
      "Concatenating for segment 'verse'\n",
      "Concatenating for segment 'chorus'\n",
      "Concatenating for segment 'chorus'\n",
      "Concatenating for segment 'chorus'\n",
      " ********************** Adjusting the song Orange Peels - Grey Holiday - drums  **********************\n",
      "Concatenating for segment 'verse'\n",
      "Concatenating for segment 'chorus'\n",
      "Concatenating for segment 'verse'\n",
      "Concatenating for segment 'chorus'\n",
      "Concatenating for segment 'chorus'\n",
      "Concatenating for segment 'chorus'\n",
      " ********************** Adjusting the song Orange Peels - Grey Holiday - other  **********************\n",
      "Concatenating for segment 'verse'\n",
      "Concatenating for segment 'chorus'\n",
      "Concatenating for segment 'verse'\n",
      "Concatenating for segment 'chorus'\n",
      "Concatenating for segment 'chorus'\n",
      "Concatenating for segment 'chorus'\n",
      "Mashup loudness (before normalization): -16.04595107817328 LUFS\n",
      "Mashup normalized to -14.0 LUFS\n"
     ]
    },
    {
     "name": "stderr",
     "output_type": "stream",
     "text": [
      "/home/leami/myenv/lib/python3.12/site-packages/pyloudnorm/normalize.py:62: UserWarning: Possible clipped samples in output.\n",
      "  warnings.warn(\"Possible clipped samples in output.\")\n"
     ]
    },
    {
     "name": "stdout",
     "output_type": "stream",
     "text": [
      "Le fichier a été sauvegardé dans : Mashups/The Oranges Band - Ride the Nuclear Wave_Orange Peels - Grey Holiday.mp3\n",
      "Song 1: The Oranges Band - Ride the Nuclear Wave\n",
      "Song 2: Poland - Lying Machine\n",
      " ********************** Adjusting the song Poland - Lying Machine - bass  **********************\n",
      "Concatenating for segment 'intro'\n",
      "Concatenating for segment 'chorus'\n",
      "Concatenating for segment 'chorus'\n",
      "Concatenating for segment 'chorus'\n",
      "Concatenating for segment 'chorus'\n",
      "Concatenating for segment 'chorus'\n",
      "Concatenating for segment 'outro'\n",
      " ********************** Adjusting the song Poland - Lying Machine - drums  **********************\n",
      "Concatenating for segment 'intro'\n",
      "Concatenating for segment 'chorus'\n",
      "Concatenating for segment 'chorus'\n",
      "Concatenating for segment 'chorus'\n",
      "Concatenating for segment 'chorus'\n",
      "Concatenating for segment 'chorus'\n",
      "Concatenating for segment 'outro'\n",
      " ********************** Adjusting the song Poland - Lying Machine - other  **********************\n",
      "Concatenating for segment 'intro'\n",
      "Concatenating for segment 'chorus'\n",
      "Concatenating for segment 'chorus'\n",
      "Concatenating for segment 'chorus'\n",
      "Concatenating for segment 'chorus'\n",
      "Concatenating for segment 'chorus'\n",
      "Concatenating for segment 'outro'\n",
      "Mashup loudness (before normalization): -15.45747891454956 LUFS\n",
      "Mashup normalized to -14.0 LUFS\n"
     ]
    },
    {
     "name": "stderr",
     "output_type": "stream",
     "text": [
      "/home/leami/myenv/lib/python3.12/site-packages/pyloudnorm/normalize.py:62: UserWarning: Possible clipped samples in output.\n",
      "  warnings.warn(\"Possible clipped samples in output.\")\n"
     ]
    },
    {
     "name": "stdout",
     "output_type": "stream",
     "text": [
      "Le fichier a été sauvegardé dans : Mashups/The Oranges Band - Ride the Nuclear Wave_Poland - Lying Machine.mp3\n",
      "Song 1: The Oranges Band - Ride the Nuclear Wave\n",
      "Song 2: Shearer - Itch\n",
      " ********************** Adjusting the song Shearer - Itch - bass  **********************\n",
      "Error fitting segment 'verse' to 32 beats: float division by zero\n",
      "Error fitting segment: verse at 0.0, Error: float division by zero\n",
      " ********************** Adjusting the song Shearer - Itch - drums  **********************\n",
      "Error fitting segment 'verse' to 32 beats: float division by zero\n",
      "Error fitting segment: verse at 0.0, Error: float division by zero\n",
      " ********************** Adjusting the song Shearer - Itch - other  **********************\n",
      "Error fitting segment 'verse' to 32 beats: float division by zero\n",
      "Error fitting segment: verse at 0.0, Error: float division by zero\n",
      "Mashup loudness (before normalization): -15.565946790534596 LUFS\n",
      "Mashup normalized to -14.0 LUFS\n"
     ]
    },
    {
     "name": "stderr",
     "output_type": "stream",
     "text": [
      "/home/leami/myenv/lib/python3.12/site-packages/pyloudnorm/normalize.py:62: UserWarning: Possible clipped samples in output.\n",
      "  warnings.warn(\"Possible clipped samples in output.\")\n"
     ]
    },
    {
     "name": "stdout",
     "output_type": "stream",
     "text": [
      "Le fichier a été sauvegardé dans : Mashups/The Oranges Band - Ride the Nuclear Wave_Shearer - Itch.mp3\n",
      "Song 1: The Oranges Band - Ride the Nuclear Wave\n",
      "Song 2: Short Hand - Certain Strangers\n",
      " ********************** Adjusting the song Short Hand - Certain Strangers - bass  **********************\n",
      "Concatenating for segment 'chorus'\n",
      "Concatenating for segment 'chorus'\n",
      "Concatenating for segment 'chorus'\n",
      "Concatenating for segment 'outro'\n",
      " ********************** Adjusting the song Short Hand - Certain Strangers - drums  **********************\n",
      "Concatenating for segment 'chorus'\n",
      "Concatenating for segment 'chorus'\n",
      "Concatenating for segment 'chorus'\n",
      "Concatenating for segment 'outro'\n",
      " ********************** Adjusting the song Short Hand - Certain Strangers - other  **********************\n",
      "Concatenating for segment 'chorus'\n",
      "Concatenating for segment 'chorus'\n",
      "Concatenating for segment 'chorus'\n",
      "Concatenating for segment 'outro'\n",
      "Mashup loudness (before normalization): -15.644920968287062 LUFS\n",
      "Mashup normalized to -14.0 LUFS\n"
     ]
    },
    {
     "name": "stderr",
     "output_type": "stream",
     "text": [
      "/home/leami/myenv/lib/python3.12/site-packages/pyloudnorm/normalize.py:62: UserWarning: Possible clipped samples in output.\n",
      "  warnings.warn(\"Possible clipped samples in output.\")\n"
     ]
    },
    {
     "name": "stdout",
     "output_type": "stream",
     "text": [
      "Le fichier a été sauvegardé dans : Mashups/The Oranges Band - Ride the Nuclear Wave_Short Hand - Certain Strangers.mp3\n",
      "Song 1: The Oranges Band - Ride the Nuclear Wave\n",
      "Song 2: The Cute Lepers - Young Hearts\n",
      " ********************** Adjusting the song The Cute Lepers - Young Hearts - bass  **********************\n",
      "Concatenating for segment 'intro'\n",
      " ********************** Adjusting the song The Cute Lepers - Young Hearts - drums  **********************\n",
      "Concatenating for segment 'intro'\n",
      " ********************** Adjusting the song The Cute Lepers - Young Hearts - other  **********************\n",
      "Concatenating for segment 'intro'\n",
      "Mashup loudness (before normalization): -14.820184289570825 LUFS\n",
      "Mashup normalized to -14.0 LUFS\n"
     ]
    },
    {
     "name": "stderr",
     "output_type": "stream",
     "text": [
      "/home/leami/myenv/lib/python3.12/site-packages/pyloudnorm/normalize.py:62: UserWarning: Possible clipped samples in output.\n",
      "  warnings.warn(\"Possible clipped samples in output.\")\n"
     ]
    },
    {
     "name": "stdout",
     "output_type": "stream",
     "text": [
      "Le fichier a été sauvegardé dans : Mashups/The Oranges Band - Ride the Nuclear Wave_The Cute Lepers - Young Hearts.mp3\n",
      "Song 1: The Oranges Band - Ride the Nuclear Wave\n",
      "Song 2: The Embarrassment - Patio Set\n",
      " ********************** Adjusting the song The Embarrassment - Patio Set - bass  **********************\n",
      "Concatenating for segment 'verse'\n",
      "Concatenating for segment 'chorus'\n",
      "Concatenating for segment 'chorus'\n",
      "Concatenating for segment 'chorus'\n",
      "Concatenating for segment 'chorus'\n",
      "Concatenating for segment 'outro'\n",
      " ********************** Adjusting the song The Embarrassment - Patio Set - drums  **********************\n",
      "Concatenating for segment 'verse'\n",
      "Concatenating for segment 'chorus'\n",
      "Concatenating for segment 'chorus'\n",
      "Concatenating for segment 'chorus'\n",
      "Concatenating for segment 'chorus'\n",
      "Concatenating for segment 'outro'\n",
      " ********************** Adjusting the song The Embarrassment - Patio Set - other  **********************\n",
      "Concatenating for segment 'verse'\n",
      "Concatenating for segment 'chorus'\n",
      "Concatenating for segment 'chorus'\n",
      "Concatenating for segment 'chorus'\n",
      "Concatenating for segment 'chorus'\n",
      "Concatenating for segment 'outro'\n",
      "Mashup loudness (before normalization): -16.883217693390947 LUFS\n",
      "Mashup normalized to -14.0 LUFS\n"
     ]
    },
    {
     "name": "stderr",
     "output_type": "stream",
     "text": [
      "/home/leami/myenv/lib/python3.12/site-packages/pyloudnorm/normalize.py:62: UserWarning: Possible clipped samples in output.\n",
      "  warnings.warn(\"Possible clipped samples in output.\")\n"
     ]
    },
    {
     "name": "stdout",
     "output_type": "stream",
     "text": [
      "Le fichier a été sauvegardé dans : Mashups/The Oranges Band - Ride the Nuclear Wave_The Embarrassment - Patio Set.mp3\n",
      "Song 1: The Oranges Band - Ride the Nuclear Wave\n",
      "Song 2: The J Arthur Keenes Band - The Boring World of Niels Bohr\n",
      " ********************** Adjusting the song The J Arthur Keenes Band - The Boring World of Niels Bohr - bass  **********************\n",
      "Concatenating for segment 'chorus'\n",
      "Concatenating for segment 'chorus'\n",
      "Concatenating for segment 'chorus'\n",
      "Concatenating for segment 'chorus'\n",
      "Concatenating for segment 'outro'\n",
      " ********************** Adjusting the song The J Arthur Keenes Band - The Boring World of Niels Bohr - drums  **********************\n",
      "Concatenating for segment 'chorus'\n",
      "Concatenating for segment 'chorus'\n",
      "Concatenating for segment 'chorus'\n",
      "Concatenating for segment 'chorus'\n",
      "Concatenating for segment 'outro'\n",
      " ********************** Adjusting the song The J Arthur Keenes Band - The Boring World of Niels Bohr - other  **********************\n",
      "Concatenating for segment 'chorus'\n",
      "Concatenating for segment 'chorus'\n",
      "Concatenating for segment 'chorus'\n",
      "Concatenating for segment 'chorus'\n",
      "Concatenating for segment 'outro'\n",
      "Mashup loudness (before normalization): -14.723511081288855 LUFS\n",
      "Mashup normalized to -14.0 LUFS\n"
     ]
    },
    {
     "name": "stderr",
     "output_type": "stream",
     "text": [
      "/home/leami/myenv/lib/python3.12/site-packages/pyloudnorm/normalize.py:62: UserWarning: Possible clipped samples in output.\n",
      "  warnings.warn(\"Possible clipped samples in output.\")\n"
     ]
    },
    {
     "name": "stdout",
     "output_type": "stream",
     "text": [
      "Le fichier a été sauvegardé dans : Mashups/The Oranges Band - Ride the Nuclear Wave_The J Arthur Keenes Band - The Boring World of Niels Bohr.mp3\n",
      "Song 1: The Oranges Band - Ride the Nuclear Wave\n",
      "Song 2: Wann - Happy Birthday\n",
      " ********************** Adjusting the song Wann - Happy Birthday - bass  **********************\n",
      "Concatenating for segment 'intro'\n",
      "Concatenating for segment 'chorus'\n",
      "Concatenating for segment 'chorus'\n",
      "Concatenating for segment 'chorus'\n",
      "Concatenating for segment 'chorus'\n",
      "Concatenating for segment 'chorus'\n",
      "Concatenating for segment 'chorus'\n",
      "Error fitting segment 'outro' to 36 beats: float division by zero\n",
      "Error fitting segment: outro at 178.24, Error: float division by zero\n",
      " ********************** Adjusting the song Wann - Happy Birthday - drums  **********************\n",
      "Concatenating for segment 'intro'\n",
      "Concatenating for segment 'chorus'\n",
      "Concatenating for segment 'chorus'\n",
      "Concatenating for segment 'chorus'\n",
      "Concatenating for segment 'chorus'\n",
      "Concatenating for segment 'chorus'\n",
      "Concatenating for segment 'chorus'\n",
      "Error fitting segment 'outro' to 36 beats: float division by zero\n",
      "Error fitting segment: outro at 178.24, Error: float division by zero\n",
      " ********************** Adjusting the song Wann - Happy Birthday - other  **********************\n",
      "Concatenating for segment 'intro'\n",
      "Concatenating for segment 'chorus'\n",
      "Concatenating for segment 'chorus'\n",
      "Concatenating for segment 'chorus'\n",
      "Concatenating for segment 'chorus'\n",
      "Concatenating for segment 'chorus'\n",
      "Concatenating for segment 'chorus'\n",
      "Error fitting segment 'outro' to 36 beats: float division by zero\n",
      "Error fitting segment: outro at 178.24, Error: float division by zero\n",
      "Mashup loudness (before normalization): -16.26672852120874 LUFS\n",
      "Mashup normalized to -14.0 LUFS\n"
     ]
    },
    {
     "name": "stderr",
     "output_type": "stream",
     "text": [
      "/home/leami/myenv/lib/python3.12/site-packages/pyloudnorm/normalize.py:62: UserWarning: Possible clipped samples in output.\n",
      "  warnings.warn(\"Possible clipped samples in output.\")\n"
     ]
    },
    {
     "name": "stdout",
     "output_type": "stream",
     "text": [
      "Le fichier a été sauvegardé dans : Mashups/The Oranges Band - Ride the Nuclear Wave_Wann - Happy Birthday.mp3\n",
      "Song 1: The Oranges Band - Ride the Nuclear Wave\n",
      "Song 2: ZOELEELA - Jewel\n",
      " ********************** Adjusting the song ZOELEELA - Jewel - bass  **********************\n",
      "Concatenating for segment 'chorus'\n",
      "Concatenating for segment 'chorus'\n",
      "Concatenating for segment 'chorus'\n",
      " ********************** Adjusting the song ZOELEELA - Jewel - drums  **********************\n",
      "Concatenating for segment 'chorus'\n",
      "Concatenating for segment 'chorus'\n",
      "Concatenating for segment 'chorus'\n",
      " ********************** Adjusting the song ZOELEELA - Jewel - other  **********************\n",
      "Concatenating for segment 'chorus'\n",
      "Concatenating for segment 'chorus'\n",
      "Concatenating for segment 'chorus'\n",
      "Mashup loudness (before normalization): -14.7423497480237 LUFS\n",
      "Mashup normalized to -14.0 LUFS\n"
     ]
    },
    {
     "name": "stderr",
     "output_type": "stream",
     "text": [
      "/home/leami/myenv/lib/python3.12/site-packages/pyloudnorm/normalize.py:62: UserWarning: Possible clipped samples in output.\n",
      "  warnings.warn(\"Possible clipped samples in output.\")\n"
     ]
    },
    {
     "name": "stdout",
     "output_type": "stream",
     "text": [
      "Le fichier a été sauvegardé dans : Mashups/The Oranges Band - Ride the Nuclear Wave_ZOELEELA - Jewel.mp3\n",
      "Song 1: Wann - Happy Birthday\n",
      "Song 2: Bam Bam - Hi-Q\n",
      " ********************** Adjusting the song Bam Bam - Hi-Q - bass  **********************\n",
      "Concatenating for segment 'intro'\n",
      " ********************** Adjusting the song Bam Bam - Hi-Q - drums  **********************\n",
      "Concatenating for segment 'intro'\n",
      " ********************** Adjusting the song Bam Bam - Hi-Q - other  **********************\n",
      "Concatenating for segment 'intro'\n",
      "Mashup loudness (before normalization): -18.10739936826148 LUFS\n",
      "Mashup normalized to -14.0 LUFS\n"
     ]
    },
    {
     "name": "stderr",
     "output_type": "stream",
     "text": [
      "/home/leami/myenv/lib/python3.12/site-packages/pyloudnorm/normalize.py:62: UserWarning: Possible clipped samples in output.\n",
      "  warnings.warn(\"Possible clipped samples in output.\")\n"
     ]
    },
    {
     "name": "stdout",
     "output_type": "stream",
     "text": [
      "Le fichier a été sauvegardé dans : Mashups/Wann - Happy Birthday_Bam Bam - Hi-Q.mp3\n",
      "Song 1: Wann - Happy Birthday\n",
      "Song 2: Benji Cossa - New Flowers (Fast 4-track Version)\n",
      " ********************** Adjusting the song Benji Cossa - New Flowers (Fast 4-track Version) - bass  **********************\n",
      "Error fitting segment 'verse' to 56 beats: float division by zero\n",
      "Error fitting segment: verse at 0.0, Error: float division by zero\n",
      " ********************** Adjusting the song Benji Cossa - New Flowers (Fast 4-track Version) - drums  **********************\n",
      "Error fitting segment 'verse' to 56 beats: float division by zero\n",
      "Error fitting segment: verse at 0.0, Error: float division by zero\n",
      " ********************** Adjusting the song Benji Cossa - New Flowers (Fast 4-track Version) - other  **********************\n",
      "Error fitting segment 'verse' to 56 beats: float division by zero\n",
      "Error fitting segment: verse at 0.0, Error: float division by zero\n",
      "Mashup loudness (before normalization): -17.42938687009616 LUFS\n",
      "Mashup normalized to -14.0 LUFS\n"
     ]
    },
    {
     "name": "stderr",
     "output_type": "stream",
     "text": [
      "/home/leami/myenv/lib/python3.12/site-packages/pyloudnorm/normalize.py:62: UserWarning: Possible clipped samples in output.\n",
      "  warnings.warn(\"Possible clipped samples in output.\")\n"
     ]
    },
    {
     "name": "stdout",
     "output_type": "stream",
     "text": [
      "Le fichier a été sauvegardé dans : Mashups/Wann - Happy Birthday_Benji Cossa - New Flowers (Fast 4-track Version).mp3\n",
      "Song 1: Wann - Happy Birthday\n",
      "Song 2: Bessie Smith - My Sweetie Went Away\n",
      " ********************** Adjusting the song Bessie Smith - My Sweetie Went Away - bass  **********************\n",
      "Concatenating for segment 'intro'\n",
      "Concatenating for segment 'intro'\n",
      "Concatenating for segment 'verse'\n",
      " ********************** Adjusting the song Bessie Smith - My Sweetie Went Away - drums  **********************\n",
      "Concatenating for segment 'intro'\n",
      "Concatenating for segment 'intro'\n",
      "Concatenating for segment 'verse'\n",
      " ********************** Adjusting the song Bessie Smith - My Sweetie Went Away - other  **********************\n",
      "Concatenating for segment 'intro'\n",
      "Concatenating for segment 'intro'\n",
      "Concatenating for segment 'verse'\n",
      "Mashup loudness (before normalization): -20.65200048284883 LUFS\n",
      "Mashup normalized to -14.0 LUFS\n"
     ]
    },
    {
     "name": "stderr",
     "output_type": "stream",
     "text": [
      "/home/leami/myenv/lib/python3.12/site-packages/pyloudnorm/normalize.py:62: UserWarning: Possible clipped samples in output.\n",
      "  warnings.warn(\"Possible clipped samples in output.\")\n"
     ]
    },
    {
     "name": "stdout",
     "output_type": "stream",
     "text": [
      "Le fichier a été sauvegardé dans : Mashups/Wann - Happy Birthday_Bessie Smith - My Sweetie Went Away.mp3\n",
      "Song 1: Wann - Happy Birthday\n",
      "Song 2: David Rovics - We Just Want The World\n",
      " ********************** Adjusting the song David Rovics - We Just Want The World - bass  **********************\n",
      "Error fitting segment 'intro' to 32 beats: float division by zero\n",
      "Error fitting segment: intro at 0.0, Error: float division by zero\n",
      "Error fitting segment 'intro' to 28 beats: float division by zero\n",
      "Error fitting segment: intro at 0.0, Error: float division by zero\n",
      " ********************** Adjusting the song David Rovics - We Just Want The World - drums  **********************\n",
      "Error fitting segment 'intro' to 32 beats: float division by zero\n",
      "Error fitting segment: intro at 0.0, Error: float division by zero\n",
      "Error fitting segment 'intro' to 28 beats: float division by zero\n",
      "Error fitting segment: intro at 0.0, Error: float division by zero\n",
      " ********************** Adjusting the song David Rovics - We Just Want The World - other  **********************\n",
      "Error fitting segment 'intro' to 32 beats: float division by zero\n",
      "Error fitting segment: intro at 0.0, Error: float division by zero\n",
      "Error fitting segment 'intro' to 28 beats: float division by zero\n",
      "Error fitting segment: intro at 0.0, Error: float division by zero\n",
      "Mashup loudness (before normalization): -19.670443002320997 LUFS\n",
      "Mashup normalized to -14.0 LUFS\n"
     ]
    },
    {
     "name": "stderr",
     "output_type": "stream",
     "text": [
      "/home/leami/myenv/lib/python3.12/site-packages/pyloudnorm/normalize.py:62: UserWarning: Possible clipped samples in output.\n",
      "  warnings.warn(\"Possible clipped samples in output.\")\n"
     ]
    },
    {
     "name": "stdout",
     "output_type": "stream",
     "text": [
      "Le fichier a été sauvegardé dans : Mashups/Wann - Happy Birthday_David Rovics - We Just Want The World.mp3\n",
      "Song 1: Wann - Happy Birthday\n",
      "Song 2: deef - Ein sonniger Tag mit dir\n",
      " ********************** Adjusting the song deef - Ein sonniger Tag mit dir - bass  **********************\n",
      "Error fitting segment 'intro' to 32 beats: float division by zero\n",
      "Error fitting segment: intro at 7.22, Error: float division by zero\n",
      "Concatenating for segment 'inst'\n",
      "Concatenating for segment 'inst'\n",
      "Concatenating for segment 'inst'\n",
      "Concatenating for segment 'chorus'\n",
      " ********************** Adjusting the song deef - Ein sonniger Tag mit dir - drums  **********************\n",
      "Error fitting segment 'intro' to 32 beats: float division by zero\n",
      "Error fitting segment: intro at 7.22, Error: float division by zero\n",
      "Concatenating for segment 'inst'\n",
      "Concatenating for segment 'inst'\n",
      "Concatenating for segment 'inst'\n",
      "Concatenating for segment 'chorus'\n",
      " ********************** Adjusting the song deef - Ein sonniger Tag mit dir - other  **********************\n",
      "Error fitting segment 'intro' to 32 beats: float division by zero\n",
      "Error fitting segment: intro at 7.22, Error: float division by zero\n",
      "Concatenating for segment 'inst'\n",
      "Concatenating for segment 'inst'\n",
      "Concatenating for segment 'inst'\n",
      "Concatenating for segment 'chorus'\n",
      "Mashup loudness (before normalization): -20.209969499828723 LUFS\n",
      "Mashup normalized to -14.0 LUFS\n"
     ]
    },
    {
     "name": "stderr",
     "output_type": "stream",
     "text": [
      "/home/leami/myenv/lib/python3.12/site-packages/pyloudnorm/normalize.py:62: UserWarning: Possible clipped samples in output.\n",
      "  warnings.warn(\"Possible clipped samples in output.\")\n"
     ]
    },
    {
     "name": "stdout",
     "output_type": "stream",
     "text": [
      "Le fichier a été sauvegardé dans : Mashups/Wann - Happy Birthday_deef - Ein sonniger Tag mit dir.mp3\n",
      "Song 1: Wann - Happy Birthday\n",
      "Song 2: Dragon Or Emperor - Part of Me Says\n",
      " ********************** Adjusting the song Dragon Or Emperor - Part of Me Says - bass  **********************\n",
      "Concatenating for segment 'inst'\n",
      "Concatenating for segment 'verse'\n",
      "Concatenating for segment 'inst'\n",
      " ********************** Adjusting the song Dragon Or Emperor - Part of Me Says - drums  **********************\n",
      "Concatenating for segment 'inst'\n",
      "Concatenating for segment 'verse'\n",
      "Concatenating for segment 'inst'\n",
      " ********************** Adjusting the song Dragon Or Emperor - Part of Me Says - other  **********************\n",
      "Concatenating for segment 'inst'\n",
      "Concatenating for segment 'verse'\n",
      "Concatenating for segment 'inst'\n",
      "Mashup loudness (before normalization): -15.324746365816912 LUFS\n",
      "Mashup normalized to -14.0 LUFS\n"
     ]
    },
    {
     "name": "stderr",
     "output_type": "stream",
     "text": [
      "/home/leami/myenv/lib/python3.12/site-packages/pyloudnorm/normalize.py:62: UserWarning: Possible clipped samples in output.\n",
      "  warnings.warn(\"Possible clipped samples in output.\")\n"
     ]
    },
    {
     "name": "stdout",
     "output_type": "stream",
     "text": [
      "Le fichier a été sauvegardé dans : Mashups/Wann - Happy Birthday_Dragon Or Emperor - Part of Me Says.mp3\n",
      "Song 1: Wann - Happy Birthday\n",
      "Song 2: Grand Mal - Children of Light\n",
      " ********************** Adjusting the song Grand Mal - Children of Light - bass  **********************\n",
      "Concatenating for segment 'verse'\n",
      " ********************** Adjusting the song Grand Mal - Children of Light - drums  **********************\n",
      "Concatenating for segment 'verse'\n",
      " ********************** Adjusting the song Grand Mal - Children of Light - other  **********************\n",
      "Concatenating for segment 'verse'\n",
      "Mashup loudness (before normalization): -18.192370386965088 LUFS\n",
      "Mashup normalized to -14.0 LUFS\n"
     ]
    },
    {
     "name": "stderr",
     "output_type": "stream",
     "text": [
      "/home/leami/myenv/lib/python3.12/site-packages/pyloudnorm/normalize.py:62: UserWarning: Possible clipped samples in output.\n",
      "  warnings.warn(\"Possible clipped samples in output.\")\n"
     ]
    },
    {
     "name": "stdout",
     "output_type": "stream",
     "text": [
      "Le fichier a été sauvegardé dans : Mashups/Wann - Happy Birthday_Grand Mal - Children of Light.mp3\n",
      "Song 1: Wann - Happy Birthday\n",
      "Song 2: Home Blitz - Secret Wave\n",
      " ********************** Adjusting the song Home Blitz - Secret Wave - bass  **********************\n",
      " ********************** Adjusting the song Home Blitz - Secret Wave - drums  **********************\n",
      " ********************** Adjusting the song Home Blitz - Secret Wave - other  **********************\n",
      "Mashup loudness (before normalization): -18.25795854979751 LUFS\n",
      "Mashup normalized to -14.0 LUFS\n"
     ]
    },
    {
     "name": "stderr",
     "output_type": "stream",
     "text": [
      "/home/leami/myenv/lib/python3.12/site-packages/pyloudnorm/normalize.py:62: UserWarning: Possible clipped samples in output.\n",
      "  warnings.warn(\"Possible clipped samples in output.\")\n"
     ]
    },
    {
     "name": "stdout",
     "output_type": "stream",
     "text": [
      "Le fichier a été sauvegardé dans : Mashups/Wann - Happy Birthday_Home Blitz - Secret Wave.mp3\n",
      "Song 1: Wann - Happy Birthday\n",
      "Song 2: Josh Woodward - Cien Volando\n",
      " ********************** Adjusting the song Josh Woodward - Cien Volando - bass  **********************\n",
      "Concatenating for segment 'inst'\n",
      "Concatenating for segment 'verse'\n",
      "Concatenating for segment 'inst'\n",
      "Concatenating for segment 'inst'\n",
      "Concatenating for segment 'chorus'\n",
      " ********************** Adjusting the song Josh Woodward - Cien Volando - drums  **********************\n",
      "Concatenating for segment 'inst'\n",
      "Concatenating for segment 'verse'\n",
      "Concatenating for segment 'inst'\n",
      "Concatenating for segment 'inst'\n",
      "Concatenating for segment 'chorus'\n",
      " ********************** Adjusting the song Josh Woodward - Cien Volando - other  **********************\n",
      "Concatenating for segment 'inst'\n",
      "Concatenating for segment 'verse'\n",
      "Concatenating for segment 'inst'\n",
      "Concatenating for segment 'inst'\n",
      "Concatenating for segment 'chorus'\n",
      "Mashup loudness (before normalization): -19.21842497977902 LUFS\n",
      "Mashup normalized to -14.0 LUFS\n"
     ]
    },
    {
     "name": "stderr",
     "output_type": "stream",
     "text": [
      "/home/leami/myenv/lib/python3.12/site-packages/pyloudnorm/normalize.py:62: UserWarning: Possible clipped samples in output.\n",
      "  warnings.warn(\"Possible clipped samples in output.\")\n"
     ]
    },
    {
     "name": "stdout",
     "output_type": "stream",
     "text": [
      "Le fichier a été sauvegardé dans : Mashups/Wann - Happy Birthday_Josh Woodward - Cien Volando.mp3\n",
      "Song 1: Wann - Happy Birthday\n",
      "Song 2: Los Steaks - Sunday Girls\n",
      " ********************** Adjusting the song Los Steaks - Sunday Girls - bass  **********************\n",
      " ********************** Adjusting the song Los Steaks - Sunday Girls - drums  **********************\n",
      " ********************** Adjusting the song Los Steaks - Sunday Girls - other  **********************\n",
      "Mashup loudness (before normalization): -15.283035824454474 LUFS\n",
      "Mashup normalized to -14.0 LUFS\n"
     ]
    },
    {
     "name": "stderr",
     "output_type": "stream",
     "text": [
      "/home/leami/myenv/lib/python3.12/site-packages/pyloudnorm/normalize.py:62: UserWarning: Possible clipped samples in output.\n",
      "  warnings.warn(\"Possible clipped samples in output.\")\n"
     ]
    },
    {
     "name": "stdout",
     "output_type": "stream",
     "text": [
      "Le fichier a été sauvegardé dans : Mashups/Wann - Happy Birthday_Los Steaks - Sunday Girls.mp3\n",
      "Song 1: Wann - Happy Birthday\n",
      "Song 2: Mia Doi Todd - I gave you my home\n",
      " ********************** Adjusting the song Mia Doi Todd - I gave you my home - bass  **********************\n",
      "Concatenating for segment 'verse'\n",
      " ********************** Adjusting the song Mia Doi Todd - I gave you my home - drums  **********************\n",
      "Concatenating for segment 'verse'\n",
      " ********************** Adjusting the song Mia Doi Todd - I gave you my home - other  **********************\n",
      "Concatenating for segment 'verse'\n",
      "Mashup loudness (before normalization): -18.979082680977296 LUFS\n",
      "Mashup normalized to -14.0 LUFS\n"
     ]
    },
    {
     "name": "stderr",
     "output_type": "stream",
     "text": [
      "/home/leami/myenv/lib/python3.12/site-packages/pyloudnorm/normalize.py:62: UserWarning: Possible clipped samples in output.\n",
      "  warnings.warn(\"Possible clipped samples in output.\")\n"
     ]
    },
    {
     "name": "stdout",
     "output_type": "stream",
     "text": [
      "Le fichier a été sauvegardé dans : Mashups/Wann - Happy Birthday_Mia Doi Todd - I gave you my home.mp3\n",
      "Song 1: Wann - Happy Birthday\n",
      "Song 2: Orange Peels - Grey Holiday\n",
      " ********************** Adjusting the song Orange Peels - Grey Holiday - bass  **********************\n",
      "Concatenating for segment 'verse'\n",
      " ********************** Adjusting the song Orange Peels - Grey Holiday - drums  **********************\n",
      "Concatenating for segment 'verse'\n",
      " ********************** Adjusting the song Orange Peels - Grey Holiday - other  **********************\n",
      "Concatenating for segment 'verse'\n",
      "Mashup loudness (before normalization): -18.426846627218065 LUFS\n",
      "Mashup normalized to -14.0 LUFS\n"
     ]
    },
    {
     "name": "stderr",
     "output_type": "stream",
     "text": [
      "/home/leami/myenv/lib/python3.12/site-packages/pyloudnorm/normalize.py:62: UserWarning: Possible clipped samples in output.\n",
      "  warnings.warn(\"Possible clipped samples in output.\")\n"
     ]
    },
    {
     "name": "stdout",
     "output_type": "stream",
     "text": [
      "Le fichier a été sauvegardé dans : Mashups/Wann - Happy Birthday_Orange Peels - Grey Holiday.mp3\n",
      "Song 1: Wann - Happy Birthday\n",
      "Song 2: Poland - Lying Machine\n",
      " ********************** Adjusting the song Poland - Lying Machine - bass  **********************\n",
      "Concatenating for segment 'inst'\n",
      "Concatenating for segment 'verse'\n",
      " ********************** Adjusting the song Poland - Lying Machine - drums  **********************\n",
      "Concatenating for segment 'inst'\n",
      "Concatenating for segment 'verse'\n",
      " ********************** Adjusting the song Poland - Lying Machine - other  **********************\n",
      "Concatenating for segment 'inst'\n",
      "Concatenating for segment 'verse'\n",
      "Mashup loudness (before normalization): -17.165451334173202 LUFS\n",
      "Mashup normalized to -14.0 LUFS\n"
     ]
    },
    {
     "name": "stderr",
     "output_type": "stream",
     "text": [
      "/home/leami/myenv/lib/python3.12/site-packages/pyloudnorm/normalize.py:62: UserWarning: Possible clipped samples in output.\n",
      "  warnings.warn(\"Possible clipped samples in output.\")\n"
     ]
    },
    {
     "name": "stdout",
     "output_type": "stream",
     "text": [
      "Le fichier a été sauvegardé dans : Mashups/Wann - Happy Birthday_Poland - Lying Machine.mp3\n",
      "Song 1: Wann - Happy Birthday\n",
      "Song 2: Shearer - Itch\n",
      " ********************** Adjusting the song Shearer - Itch - bass  **********************\n",
      "Error fitting segment 'verse' to 56 beats: float division by zero\n",
      "Error fitting segment: verse at 0.0, Error: float division by zero\n",
      " ********************** Adjusting the song Shearer - Itch - drums  **********************\n",
      "Error fitting segment 'verse' to 56 beats: float division by zero\n",
      "Error fitting segment: verse at 0.0, Error: float division by zero\n",
      " ********************** Adjusting the song Shearer - Itch - other  **********************\n",
      "Error fitting segment 'verse' to 56 beats: float division by zero\n",
      "Error fitting segment: verse at 0.0, Error: float division by zero\n",
      "Mashup loudness (before normalization): -19.33977138878239 LUFS\n",
      "Mashup normalized to -14.0 LUFS\n"
     ]
    },
    {
     "name": "stderr",
     "output_type": "stream",
     "text": [
      "/home/leami/myenv/lib/python3.12/site-packages/pyloudnorm/normalize.py:62: UserWarning: Possible clipped samples in output.\n",
      "  warnings.warn(\"Possible clipped samples in output.\")\n"
     ]
    },
    {
     "name": "stdout",
     "output_type": "stream",
     "text": [
      "Le fichier a été sauvegardé dans : Mashups/Wann - Happy Birthday_Shearer - Itch.mp3\n",
      "Song 1: Wann - Happy Birthday\n",
      "Song 2: Short Hand - Certain Strangers\n",
      " ********************** Adjusting the song Short Hand - Certain Strangers - bass  **********************\n",
      " ********************** Adjusting the song Short Hand - Certain Strangers - drums  **********************\n",
      " ********************** Adjusting the song Short Hand - Certain Strangers - other  **********************\n",
      "Mashup loudness (before normalization): -17.895046678226077 LUFS\n",
      "Mashup normalized to -14.0 LUFS\n"
     ]
    },
    {
     "name": "stderr",
     "output_type": "stream",
     "text": [
      "/home/leami/myenv/lib/python3.12/site-packages/pyloudnorm/normalize.py:62: UserWarning: Possible clipped samples in output.\n",
      "  warnings.warn(\"Possible clipped samples in output.\")\n"
     ]
    },
    {
     "name": "stdout",
     "output_type": "stream",
     "text": [
      "Le fichier a été sauvegardé dans : Mashups/Wann - Happy Birthday_Short Hand - Certain Strangers.mp3\n",
      "Song 1: Wann - Happy Birthday\n",
      "Song 2: The Cute Lepers - Young Hearts\n",
      " ********************** Adjusting the song The Cute Lepers - Young Hearts - bass  **********************\n",
      "Error fitting segment 'intro' to 32 beats: float division by zero\n",
      "Error fitting segment: intro at 0.0, Error: float division by zero\n",
      " ********************** Adjusting the song The Cute Lepers - Young Hearts - drums  **********************\n",
      "Error fitting segment 'intro' to 32 beats: float division by zero\n",
      "Error fitting segment: intro at 0.0, Error: float division by zero\n",
      " ********************** Adjusting the song The Cute Lepers - Young Hearts - other  **********************\n",
      "Error fitting segment 'intro' to 32 beats: float division by zero\n",
      "Error fitting segment: intro at 0.0, Error: float division by zero\n",
      "Mashup loudness (before normalization): -16.882220130972623 LUFS\n",
      "Mashup normalized to -14.0 LUFS\n"
     ]
    },
    {
     "name": "stderr",
     "output_type": "stream",
     "text": [
      "/home/leami/myenv/lib/python3.12/site-packages/pyloudnorm/normalize.py:62: UserWarning: Possible clipped samples in output.\n",
      "  warnings.warn(\"Possible clipped samples in output.\")\n"
     ]
    },
    {
     "name": "stdout",
     "output_type": "stream",
     "text": [
      "Le fichier a été sauvegardé dans : Mashups/Wann - Happy Birthday_The Cute Lepers - Young Hearts.mp3\n",
      "Song 1: Wann - Happy Birthday\n",
      "Song 2: The Embarrassment - Patio Set\n",
      " ********************** Adjusting the song The Embarrassment - Patio Set - bass  **********************\n",
      " ********************** Adjusting the song The Embarrassment - Patio Set - drums  **********************\n",
      " ********************** Adjusting the song The Embarrassment - Patio Set - other  **********************\n",
      "Mashup loudness (before normalization): -21.69019709996901 LUFS\n",
      "Mashup normalized to -14.0 LUFS\n"
     ]
    },
    {
     "name": "stderr",
     "output_type": "stream",
     "text": [
      "/home/leami/myenv/lib/python3.12/site-packages/pyloudnorm/normalize.py:62: UserWarning: Possible clipped samples in output.\n",
      "  warnings.warn(\"Possible clipped samples in output.\")\n"
     ]
    },
    {
     "name": "stdout",
     "output_type": "stream",
     "text": [
      "Le fichier a été sauvegardé dans : Mashups/Wann - Happy Birthday_The Embarrassment - Patio Set.mp3\n",
      "Song 1: Wann - Happy Birthday\n",
      "Song 2: The J Arthur Keenes Band - The Boring World of Niels Bohr\n",
      " ********************** Adjusting the song The J Arthur Keenes Band - The Boring World of Niels Bohr - bass  **********************\n",
      "Error fitting segment 'intro' to 32 beats: float division by zero\n",
      "Error fitting segment: intro at 0.0, Error: float division by zero\n",
      "Concatenating for segment 'inst'\n",
      "Concatenating for segment 'inst'\n",
      "Concatenating for segment 'inst'\n",
      " ********************** Adjusting the song The J Arthur Keenes Band - The Boring World of Niels Bohr - drums  **********************\n",
      "Error fitting segment 'intro' to 32 beats: float division by zero\n",
      "Error fitting segment: intro at 0.0, Error: float division by zero\n",
      "Concatenating for segment 'inst'\n",
      "Concatenating for segment 'inst'\n",
      "Concatenating for segment 'inst'\n",
      " ********************** Adjusting the song The J Arthur Keenes Band - The Boring World of Niels Bohr - other  **********************\n",
      "Error fitting segment 'intro' to 32 beats: float division by zero\n",
      "Error fitting segment: intro at 0.0, Error: float division by zero\n",
      "Concatenating for segment 'inst'\n",
      "Concatenating for segment 'inst'\n",
      "Concatenating for segment 'inst'\n",
      "Mashup loudness (before normalization): -17.645809206008064 LUFS\n",
      "Mashup normalized to -14.0 LUFS\n"
     ]
    },
    {
     "name": "stderr",
     "output_type": "stream",
     "text": [
      "/home/leami/myenv/lib/python3.12/site-packages/pyloudnorm/normalize.py:62: UserWarning: Possible clipped samples in output.\n",
      "  warnings.warn(\"Possible clipped samples in output.\")\n"
     ]
    },
    {
     "name": "stdout",
     "output_type": "stream",
     "text": [
      "Le fichier a été sauvegardé dans : Mashups/Wann - Happy Birthday_The J Arthur Keenes Band - The Boring World of Niels Bohr.mp3\n",
      "Song 1: Wann - Happy Birthday\n",
      "Song 2: The Oranges Band - Ride the Nuclear Wave\n",
      " ********************** Adjusting the song The Oranges Band - Ride the Nuclear Wave - bass  **********************\n",
      "Error fitting segment 'intro' to 32 beats: float division by zero\n",
      "Error fitting segment: intro at 0.0, Error: float division by zero\n",
      "Concatenating for segment 'verse'\n",
      " ********************** Adjusting the song The Oranges Band - Ride the Nuclear Wave - drums  **********************\n",
      "Error fitting segment 'intro' to 32 beats: float division by zero\n",
      "Error fitting segment: intro at 0.0, Error: float division by zero\n",
      "Concatenating for segment 'verse'\n",
      " ********************** Adjusting the song The Oranges Band - Ride the Nuclear Wave - other  **********************\n",
      "Error fitting segment 'intro' to 32 beats: float division by zero\n",
      "Error fitting segment: intro at 0.0, Error: float division by zero\n",
      "Concatenating for segment 'verse'\n",
      "Mashup loudness (before normalization): -17.73982230497485 LUFS\n",
      "Mashup normalized to -14.0 LUFS\n"
     ]
    },
    {
     "name": "stderr",
     "output_type": "stream",
     "text": [
      "/home/leami/myenv/lib/python3.12/site-packages/pyloudnorm/normalize.py:62: UserWarning: Possible clipped samples in output.\n",
      "  warnings.warn(\"Possible clipped samples in output.\")\n"
     ]
    },
    {
     "name": "stdout",
     "output_type": "stream",
     "text": [
      "Le fichier a été sauvegardé dans : Mashups/Wann - Happy Birthday_The Oranges Band - Ride the Nuclear Wave.mp3\n",
      "Song 1: Wann - Happy Birthday\n",
      "Song 2: ZOELEELA - Jewel\n",
      " ********************** Adjusting the song ZOELEELA - Jewel - bass  **********************\n",
      "Concatenating for segment 'inst'\n",
      "Concatenating for segment 'inst'\n",
      "Concatenating for segment 'inst'\n",
      " ********************** Adjusting the song ZOELEELA - Jewel - drums  **********************\n",
      "Concatenating for segment 'inst'\n",
      "Concatenating for segment 'inst'\n",
      "Concatenating for segment 'inst'\n",
      " ********************** Adjusting the song ZOELEELA - Jewel - other  **********************\n",
      "Concatenating for segment 'inst'\n",
      "Concatenating for segment 'inst'\n",
      "Concatenating for segment 'inst'\n",
      "Mashup loudness (before normalization): -18.751409794884875 LUFS\n",
      "Mashup normalized to -14.0 LUFS\n"
     ]
    },
    {
     "name": "stderr",
     "output_type": "stream",
     "text": [
      "/home/leami/myenv/lib/python3.12/site-packages/pyloudnorm/normalize.py:62: UserWarning: Possible clipped samples in output.\n",
      "  warnings.warn(\"Possible clipped samples in output.\")\n"
     ]
    },
    {
     "name": "stdout",
     "output_type": "stream",
     "text": [
      "Le fichier a été sauvegardé dans : Mashups/Wann - Happy Birthday_ZOELEELA - Jewel.mp3\n",
      "Song 1: ZOELEELA - Jewel\n",
      "Song 2: Bam Bam - Hi-Q\n",
      " ********************** Adjusting the song Bam Bam - Hi-Q - bass  **********************\n",
      " ********************** Adjusting the song Bam Bam - Hi-Q - drums  **********************\n",
      " ********************** Adjusting the song Bam Bam - Hi-Q - other  **********************\n",
      "Mashup loudness (before normalization): -16.738363289420604 LUFS\n",
      "Mashup normalized to -14.0 LUFS\n"
     ]
    },
    {
     "name": "stderr",
     "output_type": "stream",
     "text": [
      "/home/leami/myenv/lib/python3.12/site-packages/pyloudnorm/normalize.py:62: UserWarning: Possible clipped samples in output.\n",
      "  warnings.warn(\"Possible clipped samples in output.\")\n"
     ]
    },
    {
     "name": "stdout",
     "output_type": "stream",
     "text": [
      "Le fichier a été sauvegardé dans : Mashups/ZOELEELA - Jewel_Bam Bam - Hi-Q.mp3\n",
      "Song 1: ZOELEELA - Jewel\n",
      "Song 2: Benji Cossa - New Flowers (Fast 4-track Version)\n",
      " ********************** Adjusting the song Benji Cossa - New Flowers (Fast 4-track Version) - bass  **********************\n",
      "Error fitting segment 'verse' to 32 beats: float division by zero\n",
      "Error fitting segment: verse at 0.0, Error: float division by zero\n",
      " ********************** Adjusting the song Benji Cossa - New Flowers (Fast 4-track Version) - drums  **********************\n",
      "Error fitting segment 'verse' to 32 beats: float division by zero\n",
      "Error fitting segment: verse at 0.0, Error: float division by zero\n",
      " ********************** Adjusting the song Benji Cossa - New Flowers (Fast 4-track Version) - other  **********************\n",
      "Error fitting segment 'verse' to 32 beats: float division by zero\n",
      "Error fitting segment: verse at 0.0, Error: float division by zero\n",
      "Mashup loudness (before normalization): -15.752302116041394 LUFS\n",
      "Mashup normalized to -14.0 LUFS\n"
     ]
    },
    {
     "name": "stderr",
     "output_type": "stream",
     "text": [
      "/home/leami/myenv/lib/python3.12/site-packages/pyloudnorm/normalize.py:62: UserWarning: Possible clipped samples in output.\n",
      "  warnings.warn(\"Possible clipped samples in output.\")\n"
     ]
    },
    {
     "name": "stdout",
     "output_type": "stream",
     "text": [
      "Le fichier a été sauvegardé dans : Mashups/ZOELEELA - Jewel_Benji Cossa - New Flowers (Fast 4-track Version).mp3\n",
      "Song 1: ZOELEELA - Jewel\n",
      "Song 2: Bessie Smith - My Sweetie Went Away\n",
      " ********************** Adjusting the song Bessie Smith - My Sweetie Went Away - bass  **********************\n",
      "Concatenating for segment 'chorus'\n",
      "Concatenating for segment 'verse'\n",
      "Concatenating for segment 'chorus'\n",
      " ********************** Adjusting the song Bessie Smith - My Sweetie Went Away - drums  **********************\n",
      "Concatenating for segment 'chorus'\n",
      "Concatenating for segment 'verse'\n",
      "Concatenating for segment 'chorus'\n",
      " ********************** Adjusting the song Bessie Smith - My Sweetie Went Away - other  **********************\n",
      "Concatenating for segment 'chorus'\n",
      "Concatenating for segment 'verse'\n",
      "Concatenating for segment 'chorus'\n",
      "Mashup loudness (before normalization): -19.878454059808167 LUFS\n",
      "Mashup normalized to -14.0 LUFS\n"
     ]
    },
    {
     "name": "stderr",
     "output_type": "stream",
     "text": [
      "/home/leami/myenv/lib/python3.12/site-packages/pyloudnorm/normalize.py:62: UserWarning: Possible clipped samples in output.\n",
      "  warnings.warn(\"Possible clipped samples in output.\")\n"
     ]
    },
    {
     "name": "stdout",
     "output_type": "stream",
     "text": [
      "Le fichier a été sauvegardé dans : Mashups/ZOELEELA - Jewel_Bessie Smith - My Sweetie Went Away.mp3\n",
      "Song 1: ZOELEELA - Jewel\n",
      "Song 2: David Rovics - We Just Want The World\n",
      " ********************** Adjusting the song David Rovics - We Just Want The World - bass  **********************\n",
      " ********************** Adjusting the song David Rovics - We Just Want The World - drums  **********************\n",
      " ********************** Adjusting the song David Rovics - We Just Want The World - other  **********************\n",
      "Mashup loudness (before normalization): -19.351189298039667 LUFS\n",
      "Mashup normalized to -14.0 LUFS\n"
     ]
    },
    {
     "name": "stderr",
     "output_type": "stream",
     "text": [
      "/home/leami/myenv/lib/python3.12/site-packages/pyloudnorm/normalize.py:62: UserWarning: Possible clipped samples in output.\n",
      "  warnings.warn(\"Possible clipped samples in output.\")\n"
     ]
    },
    {
     "name": "stdout",
     "output_type": "stream",
     "text": [
      "Le fichier a été sauvegardé dans : Mashups/ZOELEELA - Jewel_David Rovics - We Just Want The World.mp3\n",
      "Song 1: ZOELEELA - Jewel\n",
      "Song 2: deef - Ein sonniger Tag mit dir\n",
      " ********************** Adjusting the song deef - Ein sonniger Tag mit dir - bass  **********************\n",
      "Concatenating for segment 'inst'\n",
      " ********************** Adjusting the song deef - Ein sonniger Tag mit dir - drums  **********************\n",
      "Concatenating for segment 'inst'\n",
      " ********************** Adjusting the song deef - Ein sonniger Tag mit dir - other  **********************\n",
      "Concatenating for segment 'inst'\n",
      "Mashup loudness (before normalization): -18.828972022835174 LUFS\n",
      "Mashup normalized to -14.0 LUFS\n"
     ]
    },
    {
     "name": "stderr",
     "output_type": "stream",
     "text": [
      "/home/leami/myenv/lib/python3.12/site-packages/pyloudnorm/normalize.py:62: UserWarning: Possible clipped samples in output.\n",
      "  warnings.warn(\"Possible clipped samples in output.\")\n"
     ]
    },
    {
     "name": "stdout",
     "output_type": "stream",
     "text": [
      "Le fichier a été sauvegardé dans : Mashups/ZOELEELA - Jewel_deef - Ein sonniger Tag mit dir.mp3\n",
      "Song 1: ZOELEELA - Jewel\n",
      "Song 2: Dragon Or Emperor - Part of Me Says\n",
      " ********************** Adjusting the song Dragon Or Emperor - Part of Me Says - bass  **********************\n",
      " ********************** Adjusting the song Dragon Or Emperor - Part of Me Says - drums  **********************\n",
      " ********************** Adjusting the song Dragon Or Emperor - Part of Me Says - other  **********************\n",
      "Mashup loudness (before normalization): -15.081759334841985 LUFS\n",
      "Mashup normalized to -14.0 LUFS\n"
     ]
    },
    {
     "name": "stderr",
     "output_type": "stream",
     "text": [
      "/home/leami/myenv/lib/python3.12/site-packages/pyloudnorm/normalize.py:62: UserWarning: Possible clipped samples in output.\n",
      "  warnings.warn(\"Possible clipped samples in output.\")\n"
     ]
    },
    {
     "name": "stdout",
     "output_type": "stream",
     "text": [
      "Le fichier a été sauvegardé dans : Mashups/ZOELEELA - Jewel_Dragon Or Emperor - Part of Me Says.mp3\n",
      "Song 1: ZOELEELA - Jewel\n",
      "Song 2: Grand Mal - Children of Light\n",
      " ********************** Adjusting the song Grand Mal - Children of Light - bass  **********************\n",
      " ********************** Adjusting the song Grand Mal - Children of Light - drums  **********************\n",
      " ********************** Adjusting the song Grand Mal - Children of Light - other  **********************\n",
      "Mashup loudness (before normalization): -18.359203663786605 LUFS\n",
      "Mashup normalized to -14.0 LUFS\n"
     ]
    },
    {
     "name": "stderr",
     "output_type": "stream",
     "text": [
      "/home/leami/myenv/lib/python3.12/site-packages/pyloudnorm/normalize.py:62: UserWarning: Possible clipped samples in output.\n",
      "  warnings.warn(\"Possible clipped samples in output.\")\n"
     ]
    },
    {
     "name": "stdout",
     "output_type": "stream",
     "text": [
      "Le fichier a été sauvegardé dans : Mashups/ZOELEELA - Jewel_Grand Mal - Children of Light.mp3\n",
      "Song 1: ZOELEELA - Jewel\n",
      "Song 2: Home Blitz - Secret Wave\n",
      " ********************** Adjusting the song Home Blitz - Secret Wave - bass  **********************\n",
      " ********************** Adjusting the song Home Blitz - Secret Wave - drums  **********************\n",
      " ********************** Adjusting the song Home Blitz - Secret Wave - other  **********************\n",
      "Mashup loudness (before normalization): -16.42734014816373 LUFS\n",
      "Mashup normalized to -14.0 LUFS\n"
     ]
    },
    {
     "name": "stderr",
     "output_type": "stream",
     "text": [
      "/home/leami/myenv/lib/python3.12/site-packages/pyloudnorm/normalize.py:62: UserWarning: Possible clipped samples in output.\n",
      "  warnings.warn(\"Possible clipped samples in output.\")\n"
     ]
    },
    {
     "name": "stdout",
     "output_type": "stream",
     "text": [
      "Le fichier a été sauvegardé dans : Mashups/ZOELEELA - Jewel_Home Blitz - Secret Wave.mp3\n",
      "Song 1: ZOELEELA - Jewel\n",
      "Song 2: Josh Woodward - Cien Volando\n",
      " ********************** Adjusting the song Josh Woodward - Cien Volando - bass  **********************\n",
      " ********************** Adjusting the song Josh Woodward - Cien Volando - drums  **********************\n",
      " ********************** Adjusting the song Josh Woodward - Cien Volando - other  **********************\n",
      "Mashup loudness (before normalization): -18.44410950986359 LUFS\n",
      "Mashup normalized to -14.0 LUFS\n"
     ]
    },
    {
     "name": "stderr",
     "output_type": "stream",
     "text": [
      "/home/leami/myenv/lib/python3.12/site-packages/pyloudnorm/normalize.py:62: UserWarning: Possible clipped samples in output.\n",
      "  warnings.warn(\"Possible clipped samples in output.\")\n"
     ]
    },
    {
     "name": "stdout",
     "output_type": "stream",
     "text": [
      "Le fichier a été sauvegardé dans : Mashups/ZOELEELA - Jewel_Josh Woodward - Cien Volando.mp3\n",
      "Song 1: ZOELEELA - Jewel\n",
      "Song 2: Los Steaks - Sunday Girls\n",
      " ********************** Adjusting the song Los Steaks - Sunday Girls - bass  **********************\n",
      " ********************** Adjusting the song Los Steaks - Sunday Girls - drums  **********************\n",
      " ********************** Adjusting the song Los Steaks - Sunday Girls - other  **********************\n",
      "Mashup loudness (before normalization): -14.062693525103006 LUFS\n",
      "Mashup normalized to -14.0 LUFS\n"
     ]
    },
    {
     "name": "stderr",
     "output_type": "stream",
     "text": [
      "/home/leami/myenv/lib/python3.12/site-packages/pyloudnorm/normalize.py:62: UserWarning: Possible clipped samples in output.\n",
      "  warnings.warn(\"Possible clipped samples in output.\")\n"
     ]
    },
    {
     "name": "stdout",
     "output_type": "stream",
     "text": [
      "Le fichier a été sauvegardé dans : Mashups/ZOELEELA - Jewel_Los Steaks - Sunday Girls.mp3\n",
      "Song 1: ZOELEELA - Jewel\n",
      "Song 2: Mia Doi Todd - I gave you my home\n",
      " ********************** Adjusting the song Mia Doi Todd - I gave you my home - bass  **********************\n",
      " ********************** Adjusting the song Mia Doi Todd - I gave you my home - drums  **********************\n",
      " ********************** Adjusting the song Mia Doi Todd - I gave you my home - other  **********************\n",
      "Mashup loudness (before normalization): -19.972005582495672 LUFS\n",
      "Mashup normalized to -14.0 LUFS\n"
     ]
    },
    {
     "name": "stderr",
     "output_type": "stream",
     "text": [
      "/home/leami/myenv/lib/python3.12/site-packages/pyloudnorm/normalize.py:62: UserWarning: Possible clipped samples in output.\n",
      "  warnings.warn(\"Possible clipped samples in output.\")\n"
     ]
    },
    {
     "name": "stdout",
     "output_type": "stream",
     "text": [
      "Le fichier a été sauvegardé dans : Mashups/ZOELEELA - Jewel_Mia Doi Todd - I gave you my home.mp3\n",
      "Song 1: ZOELEELA - Jewel\n",
      "Song 2: Orange Peels - Grey Holiday\n",
      " ********************** Adjusting the song Orange Peels - Grey Holiday - bass  **********************\n",
      " ********************** Adjusting the song Orange Peels - Grey Holiday - drums  **********************\n",
      " ********************** Adjusting the song Orange Peels - Grey Holiday - other  **********************\n",
      "Mashup loudness (before normalization): -18.879732948388877 LUFS\n",
      "Mashup normalized to -14.0 LUFS\n"
     ]
    },
    {
     "name": "stderr",
     "output_type": "stream",
     "text": [
      "/home/leami/myenv/lib/python3.12/site-packages/pyloudnorm/normalize.py:62: UserWarning: Possible clipped samples in output.\n",
      "  warnings.warn(\"Possible clipped samples in output.\")\n"
     ]
    },
    {
     "name": "stdout",
     "output_type": "stream",
     "text": [
      "Le fichier a été sauvegardé dans : Mashups/ZOELEELA - Jewel_Orange Peels - Grey Holiday.mp3\n",
      "Song 1: ZOELEELA - Jewel\n",
      "Song 2: Poland - Lying Machine\n",
      " ********************** Adjusting the song Poland - Lying Machine - bass  **********************\n",
      " ********************** Adjusting the song Poland - Lying Machine - drums  **********************\n",
      " ********************** Adjusting the song Poland - Lying Machine - other  **********************\n",
      "Mashup loudness (before normalization): -17.57638146599715 LUFS\n",
      "Mashup normalized to -14.0 LUFS\n"
     ]
    },
    {
     "name": "stderr",
     "output_type": "stream",
     "text": [
      "/home/leami/myenv/lib/python3.12/site-packages/pyloudnorm/normalize.py:62: UserWarning: Possible clipped samples in output.\n",
      "  warnings.warn(\"Possible clipped samples in output.\")\n"
     ]
    },
    {
     "name": "stdout",
     "output_type": "stream",
     "text": [
      "Le fichier a été sauvegardé dans : Mashups/ZOELEELA - Jewel_Poland - Lying Machine.mp3\n",
      "Song 1: ZOELEELA - Jewel\n",
      "Song 2: Shearer - Itch\n",
      " ********************** Adjusting the song Shearer - Itch - bass  **********************\n",
      "Error fitting segment 'verse' to 32 beats: float division by zero\n",
      "Error fitting segment: verse at 0.0, Error: float division by zero\n",
      " ********************** Adjusting the song Shearer - Itch - drums  **********************\n",
      "Error fitting segment 'verse' to 32 beats: float division by zero\n",
      "Error fitting segment: verse at 0.0, Error: float division by zero\n",
      " ********************** Adjusting the song Shearer - Itch - other  **********************\n",
      "Error fitting segment 'verse' to 32 beats: float division by zero\n",
      "Error fitting segment: verse at 0.0, Error: float division by zero\n",
      "Mashup loudness (before normalization): -17.37857880076065 LUFS\n",
      "Mashup normalized to -14.0 LUFS\n"
     ]
    },
    {
     "name": "stderr",
     "output_type": "stream",
     "text": [
      "/home/leami/myenv/lib/python3.12/site-packages/pyloudnorm/normalize.py:62: UserWarning: Possible clipped samples in output.\n",
      "  warnings.warn(\"Possible clipped samples in output.\")\n"
     ]
    },
    {
     "name": "stdout",
     "output_type": "stream",
     "text": [
      "Le fichier a été sauvegardé dans : Mashups/ZOELEELA - Jewel_Shearer - Itch.mp3\n",
      "Song 1: ZOELEELA - Jewel\n",
      "Song 2: Short Hand - Certain Strangers\n",
      " ********************** Adjusting the song Short Hand - Certain Strangers - bass  **********************\n",
      " ********************** Adjusting the song Short Hand - Certain Strangers - drums  **********************\n",
      " ********************** Adjusting the song Short Hand - Certain Strangers - other  **********************\n",
      "Mashup loudness (before normalization): -16.4015245053281 LUFS\n",
      "Mashup normalized to -14.0 LUFS\n"
     ]
    },
    {
     "name": "stderr",
     "output_type": "stream",
     "text": [
      "/home/leami/myenv/lib/python3.12/site-packages/pyloudnorm/normalize.py:62: UserWarning: Possible clipped samples in output.\n",
      "  warnings.warn(\"Possible clipped samples in output.\")\n"
     ]
    },
    {
     "name": "stdout",
     "output_type": "stream",
     "text": [
      "Le fichier a été sauvegardé dans : Mashups/ZOELEELA - Jewel_Short Hand - Certain Strangers.mp3\n",
      "Song 1: ZOELEELA - Jewel\n",
      "Song 2: The Cute Lepers - Young Hearts\n",
      " ********************** Adjusting the song The Cute Lepers - Young Hearts - bass  **********************\n",
      " ********************** Adjusting the song The Cute Lepers - Young Hearts - drums  **********************\n",
      " ********************** Adjusting the song The Cute Lepers - Young Hearts - other  **********************\n",
      "Mashup loudness (before normalization): -16.02206206688016 LUFS\n",
      "Mashup normalized to -14.0 LUFS\n"
     ]
    },
    {
     "name": "stderr",
     "output_type": "stream",
     "text": [
      "/home/leami/myenv/lib/python3.12/site-packages/pyloudnorm/normalize.py:62: UserWarning: Possible clipped samples in output.\n",
      "  warnings.warn(\"Possible clipped samples in output.\")\n"
     ]
    },
    {
     "name": "stdout",
     "output_type": "stream",
     "text": [
      "Le fichier a été sauvegardé dans : Mashups/ZOELEELA - Jewel_The Cute Lepers - Young Hearts.mp3\n",
      "Song 1: ZOELEELA - Jewel\n",
      "Song 2: The Embarrassment - Patio Set\n",
      " ********************** Adjusting the song The Embarrassment - Patio Set - bass  **********************\n",
      " ********************** Adjusting the song The Embarrassment - Patio Set - drums  **********************\n",
      " ********************** Adjusting the song The Embarrassment - Patio Set - other  **********************\n",
      "Mashup loudness (before normalization): -19.651861627708417 LUFS\n",
      "Mashup normalized to -14.0 LUFS\n"
     ]
    },
    {
     "name": "stderr",
     "output_type": "stream",
     "text": [
      "/home/leami/myenv/lib/python3.12/site-packages/pyloudnorm/normalize.py:62: UserWarning: Possible clipped samples in output.\n",
      "  warnings.warn(\"Possible clipped samples in output.\")\n"
     ]
    },
    {
     "name": "stdout",
     "output_type": "stream",
     "text": [
      "Le fichier a été sauvegardé dans : Mashups/ZOELEELA - Jewel_The Embarrassment - Patio Set.mp3\n",
      "Song 1: ZOELEELA - Jewel\n",
      "Song 2: The J Arthur Keenes Band - The Boring World of Niels Bohr\n",
      " ********************** Adjusting the song The J Arthur Keenes Band - The Boring World of Niels Bohr - bass  **********************\n",
      "Concatenating for segment 'inst'\n",
      " ********************** Adjusting the song The J Arthur Keenes Band - The Boring World of Niels Bohr - drums  **********************\n",
      "Concatenating for segment 'inst'\n",
      " ********************** Adjusting the song The J Arthur Keenes Band - The Boring World of Niels Bohr - other  **********************\n",
      "Concatenating for segment 'inst'\n",
      "Mashup loudness (before normalization): -15.072744518712057 LUFS\n",
      "Mashup normalized to -14.0 LUFS\n"
     ]
    },
    {
     "name": "stderr",
     "output_type": "stream",
     "text": [
      "/home/leami/myenv/lib/python3.12/site-packages/pyloudnorm/normalize.py:62: UserWarning: Possible clipped samples in output.\n",
      "  warnings.warn(\"Possible clipped samples in output.\")\n"
     ]
    },
    {
     "name": "stdout",
     "output_type": "stream",
     "text": [
      "Le fichier a été sauvegardé dans : Mashups/ZOELEELA - Jewel_The J Arthur Keenes Band - The Boring World of Niels Bohr.mp3\n",
      "Song 1: ZOELEELA - Jewel\n",
      "Song 2: The Oranges Band - Ride the Nuclear Wave\n",
      " ********************** Adjusting the song The Oranges Band - Ride the Nuclear Wave - bass  **********************\n",
      " ********************** Adjusting the song The Oranges Band - Ride the Nuclear Wave - drums  **********************\n",
      " ********************** Adjusting the song The Oranges Band - Ride the Nuclear Wave - other  **********************\n",
      "Mashup loudness (before normalization): -17.03770564737147 LUFS\n",
      "Mashup normalized to -14.0 LUFS\n"
     ]
    },
    {
     "name": "stderr",
     "output_type": "stream",
     "text": [
      "/home/leami/myenv/lib/python3.12/site-packages/pyloudnorm/normalize.py:62: UserWarning: Possible clipped samples in output.\n",
      "  warnings.warn(\"Possible clipped samples in output.\")\n"
     ]
    },
    {
     "name": "stdout",
     "output_type": "stream",
     "text": [
      "Le fichier a été sauvegardé dans : Mashups/ZOELEELA - Jewel_The Oranges Band - Ride the Nuclear Wave.mp3\n",
      "Song 1: ZOELEELA - Jewel\n",
      "Song 2: Wann - Happy Birthday\n",
      " ********************** Adjusting the song Wann - Happy Birthday - bass  **********************\n",
      " ********************** Adjusting the song Wann - Happy Birthday - drums  **********************\n",
      " ********************** Adjusting the song Wann - Happy Birthday - other  **********************\n",
      "Mashup loudness (before normalization): -18.484591494660382 LUFS\n",
      "Mashup normalized to -14.0 LUFS\n"
     ]
    },
    {
     "name": "stderr",
     "output_type": "stream",
     "text": [
      "/home/leami/myenv/lib/python3.12/site-packages/pyloudnorm/normalize.py:62: UserWarning: Possible clipped samples in output.\n",
      "  warnings.warn(\"Possible clipped samples in output.\")\n"
     ]
    },
    {
     "name": "stdout",
     "output_type": "stream",
     "text": [
      "Le fichier a été sauvegardé dans : Mashups/ZOELEELA - Jewel_Wann - Happy Birthday.mp3\n"
     ]
    }
   ],
   "source": [
    "import soundfile as sf\n",
    "import os\n",
    "\n",
    "# Update the path to the directory where you want to save the mashups\n",
    "mashups_dir = \"Mashups\"\n",
    "\n",
    "# Create the Mashups directory if it doesn't exist\n",
    "if not os.path.exists(mashups_dir):\n",
    "    os.makedirs(mashups_dir)\n",
    "\n",
    "# Mashup all musics with each other\n",
    "# Loop through each pair of songs to create mashups\n",
    "for i in range(len(musics)):\n",
    "    for j in range(len(musics)):\n",
    "        if i != j:\n",
    "            song_name_1 = musics[i]\n",
    "            song_name_2 = musics[j]\n",
    "            print(f\"Song 1: {song_name_1}\")\n",
    "            print(f\"Song 2: {song_name_2}\")\n",
    "            \n",
    "            # complete path to the output file\n",
    "            # We use the name of the first song and the second song to name the mashup\n",
    "            output_file = os.path.join(mashups_dir, f\"{song_name_1}_{song_name_2}.mp3\")\n",
    "            \n",
    "            # Check if the output file already exists\n",
    "            # If it does, skip the mashup creation for this pair of songs\n",
    "            if os.path.exists(output_file):\n",
    "                print(f\"The file {output_file} already exists. Skipping this mashup.\")\n",
    "                continue  \n",
    "\n",
    "            # If the output file doesn't exist, proceed with the mashup creation\n",
    "            tracks = []  # input of the mashup methods\n",
    "\n",
    "            # type attribute enables to choose a separated part of a song (from demucs source separation)\n",
    "            # it can be 'vocals', 'bass', 'drums' or 'other'\n",
    "            track_1 = Track.track_from_song(song_name_1, type='vocals')\n",
    "            track_2 = Track.track_from_song(song_name_2, type='bass')\n",
    "            track_3 = Track.track_from_song(song_name_2, type='drums')\n",
    "            track_4 = Track.track_from_song(song_name_2, type='other')\n",
    "\n",
    "            tracks = [track_1, track_2, track_3, track_4]\n",
    "            mashup_result = mashup_technic_fit_phase_repitch(tracks)\n",
    "\n",
    "            # Save the mashup result to a file\n",
    "            sf.write(output_file, mashup_result.audio, mashup_result.sr)\n",
    "            print(f\"The generated mashup has been saved to {output_file}.\")\n"
   ]
  }
 ],
 "metadata": {
  "colab": {
   "provenance": []
  },
  "kernelspec": {
   "display_name": "Python (myenv)",
   "language": "python",
   "name": "myenv"
  },
  "language_info": {
   "codemirror_mode": {
    "name": "ipython",
    "version": 3
   },
   "file_extension": ".py",
   "mimetype": "text/x-python",
   "name": "python",
   "nbconvert_exporter": "python",
   "pygments_lexer": "ipython3",
   "version": "3.12.3"
  }
 },
 "nbformat": 4,
 "nbformat_minor": 4
}
