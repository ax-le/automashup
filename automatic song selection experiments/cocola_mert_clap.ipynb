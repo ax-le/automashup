{
 "cells": [
  {
   "cell_type": "code",
   "execution_count": null,
   "metadata": {},
   "outputs": [
    {
     "name": "stdout",
     "output_type": "stream",
     "text": [
      "Index(['vocals', 'instrumental', 'score'], dtype='object')\n"
     ]
    }
   ],
   "source": [
    "import numpy as np\n",
    "import torch\n",
    "import matplotlib.pyplot as plt\n",
    "import pandas as pd\n",
    "from sklearn.metrics.pairwise import cosine_similarity\n",
    "\n",
    "# Load embeddings\n",
    "clap_embeddings = np.load(\"./audio_embeddings_clap.npy\", allow_pickle=True).item()\n",
    "mert_embeddings = np.load(\"./audio_embeddings_mert.npy\", allow_pickle=True).item()\n",
    "\n",
    "# Load Cocola scores from CSV\n",
    "cocola_scores_df = pd.read_csv(\"./cocola_scores.csv\")\n",
    "\n",
    "# Columns of the Cocola scores DataFrame\n",
    "cocola_columns = cocola_scores_df.columns\n",
    "print(cocola_columns)\n",
    "\n"
   ]
  },
  {
   "cell_type": "code",
   "execution_count": null,
   "metadata": {},
   "outputs": [
    {
     "name": "stdout",
     "output_type": "stream",
     "text": [
      "<class 'numpy.ndarray'>\n",
      "<class 'dict'>\n",
      "Nouvelle forme de la matrice d'embeddings : (42, 512)\n"
     ]
    }
   ],
   "source": [
    "embedding_matrix_clap = np.load(\"./audio_embeddings_clap.npy\", allow_pickle=True)\n",
    "print(type(embedding_matrix_clap))\n",
    "embedding_matrix_clap = embedding_matrix_clap.item()\n",
    "print(type(embedding_matrix_clap))\n",
    "file_names = list(embedding_matrix_clap.keys())\n",
    "\n",
    "\n",
    "# Retrieve the embedding vectors (dictionary values)\n",
    "embeddings_list_clap = list(embedding_matrix_clap.values())\n",
    "embedding_matrix_clap = np.vstack(embeddings_list_clap)  # Combine the vectors into a matrix\n",
    "print(f\"Nouvelle forme de la matrice d'embeddings : {embedding_matrix_clap.shape}\")"
   ]
  },
  {
   "cell_type": "code",
   "execution_count": null,
   "metadata": {},
   "outputs": [
    {
     "name": "stdout",
     "output_type": "stream",
     "text": [
      "<class 'numpy.ndarray'>\n",
      "<class 'dict'>\n",
      "Nouvelle forme de la matrice d'embeddings : (42, 768)\n"
     ]
    }
   ],
   "source": [
    "embedding_matrix_mert = np.load(\"./audio_embeddings_mert.npy\", allow_pickle=True)\n",
    "print(type(embedding_matrix_mert))\n",
    "embedding_matrix_mert = embedding_matrix_mert.item()\n",
    "print(type(embedding_matrix_mert))\n",
    "file_names = list(embedding_matrix_mert.keys())\n",
    "\n",
    "\n",
    "# Retrieve the embedding vectors (dictionary values)\n",
    "embeddings_list_mert = list(embedding_matrix_mert.values())\n",
    "embedding_matrix_mert = np.vstack(embeddings_list_mert)  # Combine the vectors into a matrix\n",
    "print(f\"Nouvelle forme de la matrice d'embeddings : {embedding_matrix_mert.shape}\")"
   ]
  },
  {
   "cell_type": "code",
   "execution_count": null,
   "metadata": {},
   "outputs": [
    {
     "name": "stdout",
     "output_type": "stream",
     "text": [
      "Forme de la matrice de similarité cosinus : (42, 42)\n",
      "[[1.0000002  0.34097084 0.83422333 0.5616863  0.65733886]\n",
      " [0.34097084 1.0000002  0.16409242 0.5731591  0.15953967]\n",
      " [0.83422333 0.16409242 0.99999994 0.4414206  0.6725746 ]\n",
      " [0.5616863  0.5731591  0.4414206  1.0000004  0.38131076]\n",
      " [0.65733886 0.15953967 0.6725746  0.38131076 0.9999998 ]]\n"
     ]
    }
   ],
   "source": [
    "# Compute cosine similarity for the CLAP embeddings\n",
    "cosine_sim_matrixc = cosine_similarity(embedding_matrix_clap)\n",
    "\n",
    "# Print the shape of the cosine similarity matrix and a preview of its content\n",
    "print(f\"Shape of cosine similarity matrix of CLAP embeddings: {cosine_sim_matrixc.shape}\")\n",
    "print(cosine_sim_matrixc[:5, :5])  # Display the first 5 rows and columns\n",
    "\n"
   ]
  },
  {
   "cell_type": "code",
   "execution_count": null,
   "metadata": {},
   "outputs": [
    {
     "name": "stdout",
     "output_type": "stream",
     "text": [
      "Forme de la matrice de similarité cosinus : (42, 42)\n",
      "[[ 0.99999994 -0.92627406  0.66491747 -0.76870966  0.03508142]\n",
      " [-0.92627406  1.         -0.7857152   0.83416104  0.14618175]\n",
      " [ 0.66491747 -0.7857152   1.0000001  -0.54862237 -0.5991662 ]\n",
      " [-0.76870966  0.83416104 -0.54862237  1.          0.02676624]\n",
      " [ 0.03508142  0.14618175 -0.5991662   0.02676624  0.9999999 ]]\n"
     ]
    }
   ],
   "source": [
    "# Compute cosine similarity for the CLAP embeddings\n",
    "cosine_sim_matrixm = cosine_similarity(embedding_matrix_mert)\n",
    "\n",
    "# Print the shape of the cosine similarity matrix and a preview of its content\n",
    "print(f\"Shape of cosine similarity matrix of MERT embeddings: {cosine_sim_matrixm.shape}\")\n",
    "print(cosine_sim_matrixm[:5, :5])  # Display the first 5 rows and columns"
   ]
  },
  {
   "cell_type": "code",
   "execution_count": null,
   "metadata": {},
   "outputs": [],
   "source": [
    "\n",
    "# Extraction of the similarity values for instrumentals (last 21 rows and columns)\n",
    "# CLAP separates vocals and instrumentals so we are searching for nearest instrumentals instead of nearest vocal/instrumental pairs\n",
    "vocals_similarity = cosine_sim_matrixc[21:42, 21:42]  # 21x21\n",
    "\n",
    "\n",
    "# Adding the similarity values to the DataFrame\n",
    "similarity_values = []\n",
    "for i in range(21):  # Corresponding to the instrumentals (21 last rows)\n",
    "    for j in range(21):  # Corresponding to the instrumentals (21 last columns)\n",
    "        # Append the similarity value to the list\n",
    "        similarity_values.append(vocals_similarity[i, j])\n",
    "\n",
    "# Adding the similarity values to the DataFrame\n",
    "cocola_scores_df[\"CLAP\"] = similarity_values\n",
    "\n",
    "\n"
   ]
  },
  {
   "cell_type": "code",
   "execution_count": 76,
   "metadata": {},
   "outputs": [
    {
     "name": "stdout",
     "output_type": "stream",
     "text": [
      "           vocals                                      instrumental  \\\n",
      "0  Bam Bam - Hi-Q                                    Bam Bam - Hi-Q   \n",
      "1  Bam Bam - Hi-Q  Benji Cossa - New Flowers (Fast 4-track Version)   \n",
      "2  Bam Bam - Hi-Q               Bessie Smith - My Sweetie Went Away   \n",
      "3  Bam Bam - Hi-Q             David Rovics - We Just Want The World   \n",
      "4  Bam Bam - Hi-Q                   deef - Ein sonniger Tag mit dir   \n",
      "\n",
      "       score      CLAP  \n",
      "0  45.754675  1.000000  \n",
      "1  46.145325  0.255522  \n",
      "2  44.335644  0.630813  \n",
      "3  46.341496  0.289742  \n",
      "4  43.764599  0.459481  \n"
     ]
    }
   ],
   "source": [
    "print(cocola_scores_df.head())"
   ]
  },
  {
   "cell_type": "code",
   "execution_count": 77,
   "metadata": {},
   "outputs": [
    {
     "name": "stdout",
     "output_type": "stream",
     "text": [
      "vocals          0\n",
      "instrumental    0\n",
      "score           0\n",
      "CLAP            0\n",
      "dtype: int64\n"
     ]
    }
   ],
   "source": [
    "#null values\n",
    "print(cocola_scores_df.isnull().sum())"
   ]
  },
  {
   "cell_type": "code",
   "execution_count": null,
   "metadata": {},
   "outputs": [
    {
     "name": "stdout",
     "output_type": "stream",
     "text": [
      "Corrélation entre les scores et les valeurs de similarité : 0.05109174349230319\n",
      "Corrélation de Spearman entre les scores et les valeurs de similarité : 0.07905827255516565\n",
      "Corrélation de Kendall entre les scores et les valeurs de similarité : 0.05312077256961182\n"
     ]
    }
   ],
   "source": [
    "# Normalization and centering of score values\n",
    "cocola_scores_df[\"normalized_score\"] = (cocola_scores_df[\"score\"] - cocola_scores_df[\"score\"].mean()) / cocola_scores_df[\"score\"].std()\n",
    "cocola_scores_df[\"normalized_CLAP\"] = (cocola_scores_df[\"CLAP\"] - cocola_scores_df[\"CLAP\"].mean()) / cocola_scores_df[\"CLAP\"].std()\n",
    "\n",
    "# Compute the Pearson correlation between the scores and similarity values\n",
    "correlation = cocola_scores_df[\"normalized_score\"].corr(cocola_scores_df[\"normalized_CLAP\"])\n",
    "print(f\"Pearson correlation between the Cocola scores and CLAP similarity values: {correlation}\")\n",
    "# Compute the Spearman correlation between the scores and similarity values\n",
    "correlation_spearman = cocola_scores_df[\"normalized_score\"].corr(cocola_scores_df[\"normalized_CLAP\"], method=\"spearman\")\n",
    "print(f\"Spearman correlation between the Cocola scores and CLAP similarity values: {correlation_spearman}\")\n",
    "# Compute the Kendall correlation between the scores and similarity values\n",
    "correlation_kendall = cocola_scores_df[\"normalized_score\"].corr(cocola_scores_df[\"normalized_CLAP\"], method=\"kendall\")\n",
    "print(f\"Kendall correlation between the Cocola scores and CLAP similarity values: {correlation_kendall}\")"
   ]
  },
  {
   "cell_type": "code",
   "execution_count": null,
   "metadata": {},
   "outputs": [],
   "source": [
    "# Same process for MERT embeddings except that we are looking for the nearest vocal/instrumental pairs\n",
    "# Extraction of the similarity values for vocals (first 21 rows) and instrumentals (last 21 columns)\n",
    "vocals_similaritym = cosine_sim_matrixm[:21, 21:42]  # 21x21\n",
    "\n",
    "mert_values = []\n",
    "for i in range(21):  # Corresponding to the vocals (first 21 rows)\n",
    "    for j in range(21):  # Corresponding to the instrumentals (last 21 columns)\n",
    "        mert_values.append(vocals_similaritym[i, j])\n",
    "\n",
    "# Adding the similarity values to the DataFrame\n",
    "cocola_scores_df[\"MERT\"] = mert_values\n",
    "# Normalization and centering of cosine similarity values\n",
    "cocola_scores_df[\"normalized_MERT\"] = (cocola_scores_df[\"MERT\"] - cocola_scores_df[\"MERT\"].mean()) / cocola_scores_df[\"MERT\"].std()"
   ]
  },
  {
   "cell_type": "code",
   "execution_count": null,
   "metadata": {},
   "outputs": [
    {
     "name": "stdout",
     "output_type": "stream",
     "text": [
      "Corrélation entre les scores et les valeurs de similarité : -0.018302057090385595\n",
      "Corrélation de Spearman entre les scores et les valeurs de similarité : -0.016549836717903946\n",
      "Corrélation de Kendall entre les scores et les valeurs de similarité : -0.010327767470624612\n"
     ]
    }
   ],
   "source": [
    "# Compute the Pearson correlation between the scores and similarity values\n",
    "correlation = cocola_scores_df[\"normalized_score\"].corr(cocola_scores_df[\"normalized_MERT\"])\n",
    "print(f\"Pearson correlation between the Cocola scores and MERT similarity values: {correlation}\")\n",
    "\n",
    "# Compute the Spearman correlation between the scores and similarity values\n",
    "spearman_correlation = cocola_scores_df[\"normalized_score\"].corr(cocola_scores_df[\"normalized_MERT\"], method=\"spearman\")\n",
    "print(f\"Spearman correlation between the Cocola scores and MERT similarity values: {spearman_correlation}\")\n",
    "\n",
    "# Compute the Kendall correlation between the scores and similarity values\n",
    "kendall_correlation = cocola_scores_df[\"normalized_score\"].corr(cocola_scores_df[\"normalized_MERT\"], method=\"kendall\")\n",
    "print(f\"Kendall correlation between the Cocola scores and MERT similarity values : {kendall_correlation}\")"
   ]
  },
  {
   "cell_type": "code",
   "execution_count": null,
   "metadata": {},
   "outputs": [
    {
     "name": "stdout",
     "output_type": "stream",
     "text": [
      "Coefficient de régression : [0.0049813]\n",
      "Ordonnée à l'origine : 0.09516064020165937\n",
      "R² (coefficient de détermination) : 0.002610366414126264\n"
     ]
    }
   ],
   "source": [
    "from sklearn.linear_model import LinearRegression\n",
    "import numpy as np\n",
    "\n",
    "# Definition of the features and target variable\n",
    "X = cocola_scores_df[\"score\"].values.reshape(-1, 1)  # Reshape to 2D array\n",
    "y = cocola_scores_df[\"CLAP\"].values\n",
    "\n",
    "# Create and fit the linear regression model for CLAP\n",
    "model = LinearRegression()\n",
    "model.fit(X, y)\n",
    "\n",
    "# Print results\n",
    "print(\"CLAP Linear Regression Results:\")\n",
    "print(f\"Regression coefficient: {model.coef_}\")\n",
    "print(f\"Intercept: {model.intercept_}\")\n",
    "print(f\"R² : {model.score(X, y)}\")\n",
    "\n"
   ]
  },
  {
   "cell_type": "code",
   "execution_count": null,
   "metadata": {},
   "outputs": [
    {
     "name": "stdout",
     "output_type": "stream",
     "text": [
      "Coefficient de régression : [-0.01047648]\n",
      "Ordonnée à l'origine : -0.0036104229672720978\n",
      "R² (coefficient de détermination) : 0.0003349653416386822\n"
     ]
    }
   ],
   "source": [
    "from sklearn.linear_model import LinearRegression\n",
    "import numpy as np\n",
    "\n",
    "# Definition of the features and target variable\n",
    "X = cocola_scores_df[\"normalized_score\"].values.reshape(-1, 1)  # Reshape to 2D array\n",
    "\n",
    "# Create and fit the linear regression model for MERT\n",
    "model = LinearRegression()\n",
    "model.fit(X, y)\n",
    "\n",
    "# Print results\n",
    "print(\"MERT Linear Regression Results:\")\n",
    "print(f\"Regression coefficient: {model.coef_}\")\n",
    "print(f\"Intercept: {model.intercept_}\")\n",
    "print(f\"R² : {model.score(X, y)}\")\n",
    "\n"
   ]
  },
  {
   "cell_type": "code",
   "execution_count": null,
   "metadata": {},
   "outputs": [
    {
     "name": "stdout",
     "output_type": "stream",
     "text": [
      "                                 vocals  \\\n",
      "45  Bessie Smith - My Sweetie Went Away   \n",
      "56  Bessie Smith - My Sweetie Went Away   \n",
      "51  Bessie Smith - My Sweetie Went Away   \n",
      "43  Bessie Smith - My Sweetie Went Away   \n",
      "61  Bessie Smith - My Sweetie Went Away   \n",
      "52  Bessie Smith - My Sweetie Went Away   \n",
      "50  Bessie Smith - My Sweetie Went Away   \n",
      "53  Bessie Smith - My Sweetie Went Away   \n",
      "42  Bessie Smith - My Sweetie Went Away   \n",
      "54  Bessie Smith - My Sweetie Went Away   \n",
      "\n",
      "                                        instrumental      score      CLAP  \\\n",
      "45             David Rovics - We Just Want The World  58.303272  0.133987   \n",
      "56                    Short Hand - Certain Strangers  57.926910  0.470327   \n",
      "51                         Los Steaks - Sunday Girls  57.922951  0.218267   \n",
      "43  Benji Cossa - New Flowers (Fast 4-track Version)  57.745975  0.219688   \n",
      "61                             Wann - Happy Birthday  57.739521  0.238412   \n",
      "52                 Mia Doi Todd - I gave you my home  57.255163  0.666510   \n",
      "50                      Josh Woodward - Cien Volando  57.019594  0.736175   \n",
      "53                       Orange Peels - Grey Holiday  56.975786 -0.047664   \n",
      "42                                    Bam Bam - Hi-Q  56.972532  0.630813   \n",
      "54                            Poland - Lying Machine  56.819183  0.676378   \n",
      "\n",
      "    normalized_score  normalized_CLAP      MERT  normalized_MERT  \n",
      "45          2.383568        -0.728159  0.293283         0.518663  \n",
      "56          2.259610         0.408043 -0.420806        -0.728827  \n",
      "51          2.258306        -0.443450 -0.714084        -1.241173  \n",
      "43          2.200017        -0.438648 -0.537621        -0.932899  \n",
      "61          2.197892        -0.375395  0.628150         1.103664  \n",
      "52          2.038364         1.070777  0.577036         1.014370  \n",
      "50          1.960777         1.306114 -0.577259        -1.002144  \n",
      "53          1.946349        -1.341800 -0.855690        -1.488554  \n",
      "42          1.945277         0.950187  0.852813         1.496143  \n",
      "54          1.894770         1.104111 -0.806422        -1.402485  \n"
     ]
    }
   ],
   "source": [
    "# Print the top 10 most similar pairs according to Cocola scores\n",
    "top10 = cocola_scores_df.sort_values(by=\"score\", ascending=False).head(10)\n",
    "print(top10)"
   ]
  },
  {
   "cell_type": "code",
   "execution_count": null,
   "metadata": {},
   "outputs": [],
   "source": [
    "#Save the DataFrame with the new columns to a CSV file\n",
    "cocola_scores_df.to_csv(\"mesures_mashups.csv\", index=False)"
   ]
  }
 ],
 "metadata": {
  "kernelspec": {
   "display_name": "base",
   "language": "python",
   "name": "python3"
  },
  "language_info": {
   "codemirror_mode": {
    "name": "ipython",
    "version": 3
   },
   "file_extension": ".py",
   "mimetype": "text/x-python",
   "name": "python",
   "nbconvert_exporter": "python",
   "pygments_lexer": "ipython3",
   "version": "3.12.7"
  }
 },
 "nbformat": 4,
 "nbformat_minor": 2
}
